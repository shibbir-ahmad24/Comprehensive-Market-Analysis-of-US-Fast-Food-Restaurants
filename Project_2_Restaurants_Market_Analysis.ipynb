{
  "cells": [
    {
      "cell_type": "markdown",
      "source": [
        "**Course:** CSIT553_03SP24 EXPLORATORY DATA ANALYSIS & VISUALIZATION\n",
        "\n",
        "**Student:** Shibbir Ahmed Arif\n",
        "\n",
        "**Project Group:** 08"
      ],
      "metadata": {
        "id": "MXF6-qorDe3W"
      }
    },
    {
      "cell_type": "markdown",
      "source": [
        "# **Comprehensive Market Analysis of USA Fast Food Restaurants**"
      ],
      "metadata": {
        "id": "LRe2xyIUDv_I"
      }
    },
    {
      "cell_type": "code",
      "source": [
        "# Load the Drive helper and mount\n",
        "from google.colab import drive\n",
        "drive.mount('/content/drive')"
      ],
      "metadata": {
        "id": "CvQM636RDhI_",
        "colab": {
          "base_uri": "https://localhost:8080/"
        },
        "outputId": "cb1d15f7-2f68-4e3b-cc8c-3f8795b45363"
      },
      "execution_count": null,
      "outputs": [
        {
          "output_type": "stream",
          "name": "stdout",
          "text": [
            "Mounted at /content/drive\n"
          ]
        }
      ]
    },
    {
      "cell_type": "markdown",
      "metadata": {
        "id": "iy_-xX9eD93C"
      },
      "source": [
        "# **Data Description**\n",
        "\n"
      ]
    },
    {
      "cell_type": "markdown",
      "metadata": {
        "id": "r8INEgm_rovW"
      },
      "source": [
        "**Fast Food Restaurants Across America**"
      ]
    },
    {
      "cell_type": "markdown",
      "metadata": {
        "id": "qbfFBwmaVEL6"
      },
      "source": [
        "This is a dataset of 10,000 fast food restaurants provided by Datafiniti's Business Database. The dataset includes the restaurant's address, city, latitude and longitude coordinates, name, and more. Data is collected from 2014 to 2019.\n",
        "\n",
        "**Dataset Source:** https://data.world/datafiniti/fast-food-restaurants-across-america"
      ]
    },
    {
      "cell_type": "markdown",
      "source": [
        "# **Objective**"
      ],
      "metadata": {
        "id": "j229F3VZq7X6"
      }
    },
    {
      "cell_type": "markdown",
      "source": [
        "In this project, I chose the fast food industry for analysis, mainly focusing on the distribution of American fast food restaurants in various states/ provinces, and studied the openness of the market, analyzed the opportunity for new stores to get benefits, and provided some possible opening locations for new fast food restaurants to be open. I can consider this dataset to be representative of broader market and draw my conclusions."
      ],
      "metadata": {
        "id": "3FMgQw4NrAue"
      }
    },
    {
      "cell_type": "markdown",
      "metadata": {
        "id": "BwzkxSHfEHM6"
      },
      "source": [
        "# **Steps**\n",
        "\n",
        "\n",
        "1.   Data Collection\n",
        "2.   Import Necessary Libraries\n",
        "3.   Data Load\n",
        "4.   Data Exploration\n",
        "5.   Data Cleaning\n",
        "6.   Data Analysis\n",
        "7.   Map Visualization\n",
        "8.   Aggregation Visualization\n",
        "9.   Interactive Visualization\n",
        "10.  Conclusion\n",
        "\n"
      ]
    },
    {
      "cell_type": "markdown",
      "source": [
        "**Import Necessary Libraries**"
      ],
      "metadata": {
        "id": "RhIGSMOCn6Ld"
      }
    },
    {
      "cell_type": "code",
      "source": [
        "pip install folium"
      ],
      "metadata": {
        "id": "Vd9AR_Jl0rhU",
        "colab": {
          "base_uri": "https://localhost:8080/"
        },
        "outputId": "175eedf5-0c61-488c-950a-e006e49a01a4"
      },
      "execution_count": null,
      "outputs": [
        {
          "output_type": "stream",
          "name": "stdout",
          "text": [
            "Requirement already satisfied: folium in /usr/local/lib/python3.10/dist-packages (0.14.0)\n",
            "Requirement already satisfied: branca>=0.6.0 in /usr/local/lib/python3.10/dist-packages (from folium) (0.7.1)\n",
            "Requirement already satisfied: jinja2>=2.9 in /usr/local/lib/python3.10/dist-packages (from folium) (3.1.3)\n",
            "Requirement already satisfied: numpy in /usr/local/lib/python3.10/dist-packages (from folium) (1.25.2)\n",
            "Requirement already satisfied: requests in /usr/local/lib/python3.10/dist-packages (from folium) (2.31.0)\n",
            "Requirement already satisfied: MarkupSafe>=2.0 in /usr/local/lib/python3.10/dist-packages (from jinja2>=2.9->folium) (2.1.5)\n",
            "Requirement already satisfied: charset-normalizer<4,>=2 in /usr/local/lib/python3.10/dist-packages (from requests->folium) (3.3.2)\n",
            "Requirement already satisfied: idna<4,>=2.5 in /usr/local/lib/python3.10/dist-packages (from requests->folium) (3.7)\n",
            "Requirement already satisfied: urllib3<3,>=1.21.1 in /usr/local/lib/python3.10/dist-packages (from requests->folium) (2.0.7)\n",
            "Requirement already satisfied: certifi>=2017.4.17 in /usr/local/lib/python3.10/dist-packages (from requests->folium) (2024.2.2)\n"
          ]
        }
      ]
    },
    {
      "cell_type": "code",
      "execution_count": null,
      "metadata": {
        "id": "f-Lk_4hM0EVe"
      },
      "outputs": [],
      "source": [
        "import numpy as np\n",
        "import pandas as pd\n",
        "pd.options.display.max_rows = 10\n",
        "import matplotlib.pyplot as plt\n",
        "import seaborn as sns\n",
        "import folium\n",
        "import re\n",
        "from folium.plugins import FastMarkerCluster\n",
        "import plotly.express as px\n",
        "import warnings\n",
        "warnings.simplefilter(action='ignore', category=FutureWarning)"
      ]
    },
    {
      "cell_type": "markdown",
      "metadata": {
        "id": "XCeGWPNiMePA"
      },
      "source": [
        "# **Load The Data**"
      ]
    },
    {
      "cell_type": "code",
      "execution_count": null,
      "metadata": {
        "id": "c2F544Rr0Ujh",
        "colab": {
          "base_uri": "https://localhost:8080/",
          "height": 400
        },
        "outputId": "53396816-57b8-4087-854c-5bd2720f395c"
      },
      "outputs": [
        {
          "output_type": "execute_result",
          "data": {
            "text/plain": [
              "                     id             dateAdded           dateUpdated  \\\n",
              "0  AWrSh_KgsVYjT2BJAzaH  2019-05-19T23:58:05Z  2019-05-19T23:58:05Z   \n",
              "1  AWEKlA-LIxWefVJwxG9B  2018-01-18T18:30:23Z  2019-05-19T23:45:05Z   \n",
              "2  AWrSfAcYsVYjT2BJAzPt  2019-05-19T23:45:04Z  2019-05-19T23:45:04Z   \n",
              "3  AWrSa3NAQTFama1Xpkbz  2019-05-19T23:26:58Z  2019-05-19T23:26:58Z   \n",
              "4  AWrSaVGzZ4Yw-wtdgcaB  2019-05-19T23:24:38Z  2019-05-19T23:24:38Z   \n",
              "\n",
              "                 address                                         categories  \\\n",
              "0       2555 11th Avenue  Fast Food Restaurants,Hamburgers and Hot Dogs,...   \n",
              "1  2513 Highway 6 And 50  Restaurant,Mexican Restaurants,Fast Food Resta...   \n",
              "2    1125 Patterson Road  Sandwich Shops,Fast Food Restaurants,Restauran...   \n",
              "3    3455 N Salida Court  Fast Food Restaurants,Mexican Restaurants,Rest...   \n",
              "4   5225 E Colfax Avenue  Fast Food Restaurants,Mexican Restaurants,Rest...   \n",
              "\n",
              "               primaryCategories            city country  \\\n",
              "0  Accommodation & Food Services         Greeley      US   \n",
              "1  Accommodation & Food Services  Grand Junction      US   \n",
              "2  Accommodation & Food Services  Grand Junction      US   \n",
              "3  Accommodation & Food Services          Aurora      US   \n",
              "4  Accommodation & Food Services          Denver      US   \n",
              "\n",
              "                                                keys  latitude  longitude  \\\n",
              "0             us/co/greeley/255511thavenue/554191587  40.39629 -104.69699   \n",
              "1   us/co/grandjunction/2513highway6and50/1550891556  39.08135 -108.58689   \n",
              "2  us/co/grandjunction/1125pattersonroad/-2137447852  39.09148 -108.55411   \n",
              "3           us/co/aurora/3455nsalidacourt/1143321601  39.76369 -104.77671   \n",
              "4          us/co/denver/5225ecolfaxavenue/-864103396  39.74044 -104.92636   \n",
              "\n",
              "                     name postalCode province  \\\n",
              "0              Carl's Jr.      80631       CO   \n",
              "1                Del Taco      81505       CO   \n",
              "2              Which Wich      81506       CO   \n",
              "3  Chipotle Mexican Grill      80011       CO   \n",
              "4               Taco Bell      80220       CO   \n",
              "\n",
              "                                          sourceURLs  \\\n",
              "0  https://www.yellowpages.com/greeley-co/mip/car...   \n",
              "1  http://www.citysearch.com/profile/772076870/gr...   \n",
              "2  https://www.yellowpages.com/grand-junction-co/...   \n",
              "3  https://www.yellowpages.com/aurora-co/mip/chip...   \n",
              "4  https://www.yellowpages.com/denver-co/mip/taco...   \n",
              "\n",
              "                                            websites  \n",
              "0  https://www.carlsjr.com/?utm_source=Yextandutm...  \n",
              "1                             http://www.deltaco.com  \n",
              "2                           http://www.whichwich.com  \n",
              "3                            http://www.chipotle.com  \n",
              "4  https://locations.tacobell.com/co/denver/5225-...  "
            ],
            "text/html": [
              "\n",
              "  <div id=\"df-0308290d-1859-490c-a978-8b192304e1b0\" class=\"colab-df-container\">\n",
              "    <div>\n",
              "<style scoped>\n",
              "    .dataframe tbody tr th:only-of-type {\n",
              "        vertical-align: middle;\n",
              "    }\n",
              "\n",
              "    .dataframe tbody tr th {\n",
              "        vertical-align: top;\n",
              "    }\n",
              "\n",
              "    .dataframe thead th {\n",
              "        text-align: right;\n",
              "    }\n",
              "</style>\n",
              "<table border=\"1\" class=\"dataframe\">\n",
              "  <thead>\n",
              "    <tr style=\"text-align: right;\">\n",
              "      <th></th>\n",
              "      <th>id</th>\n",
              "      <th>dateAdded</th>\n",
              "      <th>dateUpdated</th>\n",
              "      <th>address</th>\n",
              "      <th>categories</th>\n",
              "      <th>primaryCategories</th>\n",
              "      <th>city</th>\n",
              "      <th>country</th>\n",
              "      <th>keys</th>\n",
              "      <th>latitude</th>\n",
              "      <th>longitude</th>\n",
              "      <th>name</th>\n",
              "      <th>postalCode</th>\n",
              "      <th>province</th>\n",
              "      <th>sourceURLs</th>\n",
              "      <th>websites</th>\n",
              "    </tr>\n",
              "  </thead>\n",
              "  <tbody>\n",
              "    <tr>\n",
              "      <th>0</th>\n",
              "      <td>AWrSh_KgsVYjT2BJAzaH</td>\n",
              "      <td>2019-05-19T23:58:05Z</td>\n",
              "      <td>2019-05-19T23:58:05Z</td>\n",
              "      <td>2555 11th Avenue</td>\n",
              "      <td>Fast Food Restaurants,Hamburgers and Hot Dogs,...</td>\n",
              "      <td>Accommodation &amp; Food Services</td>\n",
              "      <td>Greeley</td>\n",
              "      <td>US</td>\n",
              "      <td>us/co/greeley/255511thavenue/554191587</td>\n",
              "      <td>40.39629</td>\n",
              "      <td>-104.69699</td>\n",
              "      <td>Carl's Jr.</td>\n",
              "      <td>80631</td>\n",
              "      <td>CO</td>\n",
              "      <td>https://www.yellowpages.com/greeley-co/mip/car...</td>\n",
              "      <td>https://www.carlsjr.com/?utm_source=Yextandutm...</td>\n",
              "    </tr>\n",
              "    <tr>\n",
              "      <th>1</th>\n",
              "      <td>AWEKlA-LIxWefVJwxG9B</td>\n",
              "      <td>2018-01-18T18:30:23Z</td>\n",
              "      <td>2019-05-19T23:45:05Z</td>\n",
              "      <td>2513 Highway 6 And 50</td>\n",
              "      <td>Restaurant,Mexican Restaurants,Fast Food Resta...</td>\n",
              "      <td>Accommodation &amp; Food Services</td>\n",
              "      <td>Grand Junction</td>\n",
              "      <td>US</td>\n",
              "      <td>us/co/grandjunction/2513highway6and50/1550891556</td>\n",
              "      <td>39.08135</td>\n",
              "      <td>-108.58689</td>\n",
              "      <td>Del Taco</td>\n",
              "      <td>81505</td>\n",
              "      <td>CO</td>\n",
              "      <td>http://www.citysearch.com/profile/772076870/gr...</td>\n",
              "      <td>http://www.deltaco.com</td>\n",
              "    </tr>\n",
              "    <tr>\n",
              "      <th>2</th>\n",
              "      <td>AWrSfAcYsVYjT2BJAzPt</td>\n",
              "      <td>2019-05-19T23:45:04Z</td>\n",
              "      <td>2019-05-19T23:45:04Z</td>\n",
              "      <td>1125 Patterson Road</td>\n",
              "      <td>Sandwich Shops,Fast Food Restaurants,Restauran...</td>\n",
              "      <td>Accommodation &amp; Food Services</td>\n",
              "      <td>Grand Junction</td>\n",
              "      <td>US</td>\n",
              "      <td>us/co/grandjunction/1125pattersonroad/-2137447852</td>\n",
              "      <td>39.09148</td>\n",
              "      <td>-108.55411</td>\n",
              "      <td>Which Wich</td>\n",
              "      <td>81506</td>\n",
              "      <td>CO</td>\n",
              "      <td>https://www.yellowpages.com/grand-junction-co/...</td>\n",
              "      <td>http://www.whichwich.com</td>\n",
              "    </tr>\n",
              "    <tr>\n",
              "      <th>3</th>\n",
              "      <td>AWrSa3NAQTFama1Xpkbz</td>\n",
              "      <td>2019-05-19T23:26:58Z</td>\n",
              "      <td>2019-05-19T23:26:58Z</td>\n",
              "      <td>3455 N Salida Court</td>\n",
              "      <td>Fast Food Restaurants,Mexican Restaurants,Rest...</td>\n",
              "      <td>Accommodation &amp; Food Services</td>\n",
              "      <td>Aurora</td>\n",
              "      <td>US</td>\n",
              "      <td>us/co/aurora/3455nsalidacourt/1143321601</td>\n",
              "      <td>39.76369</td>\n",
              "      <td>-104.77671</td>\n",
              "      <td>Chipotle Mexican Grill</td>\n",
              "      <td>80011</td>\n",
              "      <td>CO</td>\n",
              "      <td>https://www.yellowpages.com/aurora-co/mip/chip...</td>\n",
              "      <td>http://www.chipotle.com</td>\n",
              "    </tr>\n",
              "    <tr>\n",
              "      <th>4</th>\n",
              "      <td>AWrSaVGzZ4Yw-wtdgcaB</td>\n",
              "      <td>2019-05-19T23:24:38Z</td>\n",
              "      <td>2019-05-19T23:24:38Z</td>\n",
              "      <td>5225 E Colfax Avenue</td>\n",
              "      <td>Fast Food Restaurants,Mexican Restaurants,Rest...</td>\n",
              "      <td>Accommodation &amp; Food Services</td>\n",
              "      <td>Denver</td>\n",
              "      <td>US</td>\n",
              "      <td>us/co/denver/5225ecolfaxavenue/-864103396</td>\n",
              "      <td>39.74044</td>\n",
              "      <td>-104.92636</td>\n",
              "      <td>Taco Bell</td>\n",
              "      <td>80220</td>\n",
              "      <td>CO</td>\n",
              "      <td>https://www.yellowpages.com/denver-co/mip/taco...</td>\n",
              "      <td>https://locations.tacobell.com/co/denver/5225-...</td>\n",
              "    </tr>\n",
              "  </tbody>\n",
              "</table>\n",
              "</div>\n",
              "    <div class=\"colab-df-buttons\">\n",
              "\n",
              "  <div class=\"colab-df-container\">\n",
              "    <button class=\"colab-df-convert\" onclick=\"convertToInteractive('df-0308290d-1859-490c-a978-8b192304e1b0')\"\n",
              "            title=\"Convert this dataframe to an interactive table.\"\n",
              "            style=\"display:none;\">\n",
              "\n",
              "  <svg xmlns=\"http://www.w3.org/2000/svg\" height=\"24px\" viewBox=\"0 -960 960 960\">\n",
              "    <path d=\"M120-120v-720h720v720H120Zm60-500h600v-160H180v160Zm220 220h160v-160H400v160Zm0 220h160v-160H400v160ZM180-400h160v-160H180v160Zm440 0h160v-160H620v160ZM180-180h160v-160H180v160Zm440 0h160v-160H620v160Z\"/>\n",
              "  </svg>\n",
              "    </button>\n",
              "\n",
              "  <style>\n",
              "    .colab-df-container {\n",
              "      display:flex;\n",
              "      gap: 12px;\n",
              "    }\n",
              "\n",
              "    .colab-df-convert {\n",
              "      background-color: #E8F0FE;\n",
              "      border: none;\n",
              "      border-radius: 50%;\n",
              "      cursor: pointer;\n",
              "      display: none;\n",
              "      fill: #1967D2;\n",
              "      height: 32px;\n",
              "      padding: 0 0 0 0;\n",
              "      width: 32px;\n",
              "    }\n",
              "\n",
              "    .colab-df-convert:hover {\n",
              "      background-color: #E2EBFA;\n",
              "      box-shadow: 0px 1px 2px rgba(60, 64, 67, 0.3), 0px 1px 3px 1px rgba(60, 64, 67, 0.15);\n",
              "      fill: #174EA6;\n",
              "    }\n",
              "\n",
              "    .colab-df-buttons div {\n",
              "      margin-bottom: 4px;\n",
              "    }\n",
              "\n",
              "    [theme=dark] .colab-df-convert {\n",
              "      background-color: #3B4455;\n",
              "      fill: #D2E3FC;\n",
              "    }\n",
              "\n",
              "    [theme=dark] .colab-df-convert:hover {\n",
              "      background-color: #434B5C;\n",
              "      box-shadow: 0px 1px 3px 1px rgba(0, 0, 0, 0.15);\n",
              "      filter: drop-shadow(0px 1px 2px rgba(0, 0, 0, 0.3));\n",
              "      fill: #FFFFFF;\n",
              "    }\n",
              "  </style>\n",
              "\n",
              "    <script>\n",
              "      const buttonEl =\n",
              "        document.querySelector('#df-0308290d-1859-490c-a978-8b192304e1b0 button.colab-df-convert');\n",
              "      buttonEl.style.display =\n",
              "        google.colab.kernel.accessAllowed ? 'block' : 'none';\n",
              "\n",
              "      async function convertToInteractive(key) {\n",
              "        const element = document.querySelector('#df-0308290d-1859-490c-a978-8b192304e1b0');\n",
              "        const dataTable =\n",
              "          await google.colab.kernel.invokeFunction('convertToInteractive',\n",
              "                                                    [key], {});\n",
              "        if (!dataTable) return;\n",
              "\n",
              "        const docLinkHtml = 'Like what you see? Visit the ' +\n",
              "          '<a target=\"_blank\" href=https://colab.research.google.com/notebooks/data_table.ipynb>data table notebook</a>'\n",
              "          + ' to learn more about interactive tables.';\n",
              "        element.innerHTML = '';\n",
              "        dataTable['output_type'] = 'display_data';\n",
              "        await google.colab.output.renderOutput(dataTable, element);\n",
              "        const docLink = document.createElement('div');\n",
              "        docLink.innerHTML = docLinkHtml;\n",
              "        element.appendChild(docLink);\n",
              "      }\n",
              "    </script>\n",
              "  </div>\n",
              "\n",
              "\n",
              "<div id=\"df-ae737ca0-7781-4ea8-b05d-f6eec78061c0\">\n",
              "  <button class=\"colab-df-quickchart\" onclick=\"quickchart('df-ae737ca0-7781-4ea8-b05d-f6eec78061c0')\"\n",
              "            title=\"Suggest charts\"\n",
              "            style=\"display:none;\">\n",
              "\n",
              "<svg xmlns=\"http://www.w3.org/2000/svg\" height=\"24px\"viewBox=\"0 0 24 24\"\n",
              "     width=\"24px\">\n",
              "    <g>\n",
              "        <path d=\"M19 3H5c-1.1 0-2 .9-2 2v14c0 1.1.9 2 2 2h14c1.1 0 2-.9 2-2V5c0-1.1-.9-2-2-2zM9 17H7v-7h2v7zm4 0h-2V7h2v10zm4 0h-2v-4h2v4z\"/>\n",
              "    </g>\n",
              "</svg>\n",
              "  </button>\n",
              "\n",
              "<style>\n",
              "  .colab-df-quickchart {\n",
              "      --bg-color: #E8F0FE;\n",
              "      --fill-color: #1967D2;\n",
              "      --hover-bg-color: #E2EBFA;\n",
              "      --hover-fill-color: #174EA6;\n",
              "      --disabled-fill-color: #AAA;\n",
              "      --disabled-bg-color: #DDD;\n",
              "  }\n",
              "\n",
              "  [theme=dark] .colab-df-quickchart {\n",
              "      --bg-color: #3B4455;\n",
              "      --fill-color: #D2E3FC;\n",
              "      --hover-bg-color: #434B5C;\n",
              "      --hover-fill-color: #FFFFFF;\n",
              "      --disabled-bg-color: #3B4455;\n",
              "      --disabled-fill-color: #666;\n",
              "  }\n",
              "\n",
              "  .colab-df-quickchart {\n",
              "    background-color: var(--bg-color);\n",
              "    border: none;\n",
              "    border-radius: 50%;\n",
              "    cursor: pointer;\n",
              "    display: none;\n",
              "    fill: var(--fill-color);\n",
              "    height: 32px;\n",
              "    padding: 0;\n",
              "    width: 32px;\n",
              "  }\n",
              "\n",
              "  .colab-df-quickchart:hover {\n",
              "    background-color: var(--hover-bg-color);\n",
              "    box-shadow: 0 1px 2px rgba(60, 64, 67, 0.3), 0 1px 3px 1px rgba(60, 64, 67, 0.15);\n",
              "    fill: var(--button-hover-fill-color);\n",
              "  }\n",
              "\n",
              "  .colab-df-quickchart-complete:disabled,\n",
              "  .colab-df-quickchart-complete:disabled:hover {\n",
              "    background-color: var(--disabled-bg-color);\n",
              "    fill: var(--disabled-fill-color);\n",
              "    box-shadow: none;\n",
              "  }\n",
              "\n",
              "  .colab-df-spinner {\n",
              "    border: 2px solid var(--fill-color);\n",
              "    border-color: transparent;\n",
              "    border-bottom-color: var(--fill-color);\n",
              "    animation:\n",
              "      spin 1s steps(1) infinite;\n",
              "  }\n",
              "\n",
              "  @keyframes spin {\n",
              "    0% {\n",
              "      border-color: transparent;\n",
              "      border-bottom-color: var(--fill-color);\n",
              "      border-left-color: var(--fill-color);\n",
              "    }\n",
              "    20% {\n",
              "      border-color: transparent;\n",
              "      border-left-color: var(--fill-color);\n",
              "      border-top-color: var(--fill-color);\n",
              "    }\n",
              "    30% {\n",
              "      border-color: transparent;\n",
              "      border-left-color: var(--fill-color);\n",
              "      border-top-color: var(--fill-color);\n",
              "      border-right-color: var(--fill-color);\n",
              "    }\n",
              "    40% {\n",
              "      border-color: transparent;\n",
              "      border-right-color: var(--fill-color);\n",
              "      border-top-color: var(--fill-color);\n",
              "    }\n",
              "    60% {\n",
              "      border-color: transparent;\n",
              "      border-right-color: var(--fill-color);\n",
              "    }\n",
              "    80% {\n",
              "      border-color: transparent;\n",
              "      border-right-color: var(--fill-color);\n",
              "      border-bottom-color: var(--fill-color);\n",
              "    }\n",
              "    90% {\n",
              "      border-color: transparent;\n",
              "      border-bottom-color: var(--fill-color);\n",
              "    }\n",
              "  }\n",
              "</style>\n",
              "\n",
              "  <script>\n",
              "    async function quickchart(key) {\n",
              "      const quickchartButtonEl =\n",
              "        document.querySelector('#' + key + ' button');\n",
              "      quickchartButtonEl.disabled = true;  // To prevent multiple clicks.\n",
              "      quickchartButtonEl.classList.add('colab-df-spinner');\n",
              "      try {\n",
              "        const charts = await google.colab.kernel.invokeFunction(\n",
              "            'suggestCharts', [key], {});\n",
              "      } catch (error) {\n",
              "        console.error('Error during call to suggestCharts:', error);\n",
              "      }\n",
              "      quickchartButtonEl.classList.remove('colab-df-spinner');\n",
              "      quickchartButtonEl.classList.add('colab-df-quickchart-complete');\n",
              "    }\n",
              "    (() => {\n",
              "      let quickchartButtonEl =\n",
              "        document.querySelector('#df-ae737ca0-7781-4ea8-b05d-f6eec78061c0 button');\n",
              "      quickchartButtonEl.style.display =\n",
              "        google.colab.kernel.accessAllowed ? 'block' : 'none';\n",
              "    })();\n",
              "  </script>\n",
              "</div>\n",
              "\n",
              "    </div>\n",
              "  </div>\n"
            ],
            "application/vnd.google.colaboratory.intrinsic+json": {
              "type": "dataframe",
              "variable_name": "df",
              "summary": "{\n  \"name\": \"df\",\n  \"rows\": 10000,\n  \"fields\": [\n    {\n      \"column\": \"id\",\n      \"properties\": {\n        \"dtype\": \"string\",\n        \"num_unique_values\": 10000,\n        \"samples\": [\n          \"AVwduhuTkufWRAb58sX5\",\n          \"AVwctN-0ByjofQCxhSXa\",\n          \"AVweGqNh_7pvs4fzAEg7\"\n        ],\n        \"semantic_type\": \"\",\n        \"description\": \"\"\n      }\n    },\n    {\n      \"column\": \"dateAdded\",\n      \"properties\": {\n        \"dtype\": \"object\",\n        \"num_unique_values\": 9455,\n        \"samples\": [\n          \"2016-05-28T23:07:16Z\",\n          \"2019-04-18T21:06:07Z\",\n          \"2017-07-03T19:22:39Z\"\n        ],\n        \"semantic_type\": \"\",\n        \"description\": \"\"\n      }\n    },\n    {\n      \"column\": \"dateUpdated\",\n      \"properties\": {\n        \"dtype\": \"object\",\n        \"num_unique_values\": 9327,\n        \"samples\": [\n          \"2019-03-05T02:53:56Z\",\n          \"2019-05-11T13:20:14Z\",\n          \"2018-12-23T06:37:57Z\"\n        ],\n        \"semantic_type\": \"\",\n        \"description\": \"\"\n      }\n    },\n    {\n      \"column\": \"address\",\n      \"properties\": {\n        \"dtype\": \"string\",\n        \"num_unique_values\": 9954,\n        \"samples\": [\n          \"2025 Carter Hill Rd\",\n          \"6361 Clark Rd\",\n          \"2502 Willamette St\"\n        ],\n        \"semantic_type\": \"\",\n        \"description\": \"\"\n      }\n    },\n    {\n      \"column\": \"categories\",\n      \"properties\": {\n        \"dtype\": \"string\",\n        \"num_unique_values\": 5670,\n        \"samples\": [\n          \"Coffee Shops,Caterers,Take-out,American,Lacto,Organic,Fast food,Ovo,Non-veg,Fusion,Restaurants\",\n          \"Restaurant,Burger Joint,American Restaurants,Fast Food Restaurant,Fast Food Restaurants,Hamburgers and Hot Dogs,Restaurants\",\n          \"Carry-out food,Ice cream parlors,American restaurants,Ice Cream Store,Fast Food Restaurants,Restaurants,Ice Cream Shop,Dessert Shop,Ice Cream & Frozen Desserts,Hamburgers & Hot Dogs,Restaurant,Dessert Restaurants,Ice cream and frozen desserts-retail\"\n        ],\n        \"semantic_type\": \"\",\n        \"description\": \"\"\n      }\n    },\n    {\n      \"column\": \"primaryCategories\",\n      \"properties\": {\n        \"dtype\": \"category\",\n        \"num_unique_values\": 1,\n        \"samples\": [\n          \"Accommodation & Food Services\"\n        ],\n        \"semantic_type\": \"\",\n        \"description\": \"\"\n      }\n    },\n    {\n      \"column\": \"city\",\n      \"properties\": {\n        \"dtype\": \"category\",\n        \"num_unique_values\": 2810,\n        \"samples\": [\n          \"Saint Clair Shores\"\n        ],\n        \"semantic_type\": \"\",\n        \"description\": \"\"\n      }\n    },\n    {\n      \"column\": \"country\",\n      \"properties\": {\n        \"dtype\": \"category\",\n        \"num_unique_values\": 1,\n        \"samples\": [\n          \"US\"\n        ],\n        \"semantic_type\": \"\",\n        \"description\": \"\"\n      }\n    },\n    {\n      \"column\": \"keys\",\n      \"properties\": {\n        \"dtype\": \"string\",\n        \"num_unique_values\": 10000,\n        \"samples\": [\n          \"us/nc/grover/218smainst/-994199254\"\n        ],\n        \"semantic_type\": \"\",\n        \"description\": \"\"\n      }\n    },\n    {\n      \"column\": \"latitude\",\n      \"properties\": {\n        \"dtype\": \"number\",\n        \"std\": 5.566994793954457,\n        \"min\": 19.63956,\n        \"max\": 64.85688,\n        \"num_unique_values\": 9870,\n        \"samples\": [\n          38.413\n        ],\n        \"semantic_type\": \"\",\n        \"description\": \"\"\n      }\n    },\n    {\n      \"column\": \"longitude\",\n      \"properties\": {\n        \"dtype\": \"number\",\n        \"std\": 16.421424442094757,\n        \"min\": -159.46431,\n        \"max\": -71.08218,\n        \"num_unique_values\": 9886,\n        \"samples\": [\n          -97.1738\n        ],\n        \"semantic_type\": \"\",\n        \"description\": \"\"\n      }\n    },\n    {\n      \"column\": \"name\",\n      \"properties\": {\n        \"dtype\": \"category\",\n        \"num_unique_values\": 1545,\n        \"samples\": [\n          \"Panino's Italian Restaurant\"\n        ],\n        \"semantic_type\": \"\",\n        \"description\": \"\"\n      }\n    },\n    {\n      \"column\": \"postalCode\",\n      \"properties\": {\n        \"dtype\": \"string\",\n        \"num_unique_values\": 5310,\n        \"samples\": [\n          \"62832\"\n        ],\n        \"semantic_type\": \"\",\n        \"description\": \"\"\n      }\n    },\n    {\n      \"column\": \"province\",\n      \"properties\": {\n        \"dtype\": \"category\",\n        \"num_unique_values\": 47,\n        \"samples\": [\n          \"WV\"\n        ],\n        \"semantic_type\": \"\",\n        \"description\": \"\"\n      }\n    },\n    {\n      \"column\": \"sourceURLs\",\n      \"properties\": {\n        \"dtype\": \"string\",\n        \"num_unique_values\": 10000,\n        \"samples\": [\n          \"http://www.citysearch.com/profile/37979961/grover_nc/carolina_crossing_restaurant.html,http://www.yellowpages.com/grover-nc/mip/carolina-crossing-restaurant-451138911\"\n        ],\n        \"semantic_type\": \"\",\n        \"description\": \"\"\n      }\n    },\n    {\n      \"column\": \"websites\",\n      \"properties\": {\n        \"dtype\": \"string\",\n        \"num_unique_values\": 6215,\n        \"samples\": [\n          \"https://locations.chipotle.com/la/harahan/1208-s-clearview-pkwy,https://locations.chipotle.com/la/harahan/1208-s-clearview-pkwy?utm_source=extendednetworkandutm_medium=yextandutm_campaign=yext_listings\"\n        ],\n        \"semantic_type\": \"\",\n        \"description\": \"\"\n      }\n    }\n  ]\n}"
            }
          },
          "metadata": {},
          "execution_count": 31
        }
      ],
      "source": [
        "df = pd.read_csv(\"/content/drive/MyDrive/Dataset/Datafiniti_Fast_Food_Restaurants_Jun19.csv\")\n",
        "df.head()"
      ]
    },
    {
      "cell_type": "markdown",
      "metadata": {
        "id": "scy7C9PaM4wD"
      },
      "source": [
        "# **Data Exploration**"
      ]
    },
    {
      "cell_type": "code",
      "execution_count": null,
      "metadata": {
        "id": "WRWd5oni13fo",
        "colab": {
          "base_uri": "https://localhost:8080/"
        },
        "outputId": "031bdee1-8549-42ca-a86c-b47cb15fab7d"
      },
      "outputs": [
        {
          "output_type": "execute_result",
          "data": {
            "text/plain": [
              "(10000, 16)"
            ]
          },
          "metadata": {},
          "execution_count": 5
        }
      ],
      "source": [
        "df.shape"
      ]
    },
    {
      "cell_type": "code",
      "execution_count": null,
      "metadata": {
        "id": "ynVq31gY53kE",
        "colab": {
          "base_uri": "https://localhost:8080/"
        },
        "outputId": "637e6ef7-685a-4e75-fe33-e9da5a5a3f14"
      },
      "outputs": [
        {
          "output_type": "execute_result",
          "data": {
            "text/plain": [
              "Index(['id', 'dateAdded', 'dateUpdated', 'address', 'categories',\n",
              "       'primaryCategories', 'city', 'country', 'keys', 'latitude', 'longitude',\n",
              "       'name', 'postalCode', 'province', 'sourceURLs', 'websites'],\n",
              "      dtype='object')"
            ]
          },
          "metadata": {},
          "execution_count": 6
        }
      ],
      "source": [
        "df.columns"
      ]
    },
    {
      "cell_type": "code",
      "execution_count": null,
      "metadata": {
        "id": "Y2Ue7Ezf2iTc",
        "colab": {
          "base_uri": "https://localhost:8080/"
        },
        "outputId": "410f537e-34f7-43fb-8140-7e6ccd060eaa"
      },
      "outputs": [
        {
          "output_type": "stream",
          "name": "stdout",
          "text": [
            "<class 'pandas.core.frame.DataFrame'>\n",
            "RangeIndex: 10000 entries, 0 to 9999\n",
            "Data columns (total 16 columns):\n",
            " #   Column             Non-Null Count  Dtype  \n",
            "---  ------             --------------  -----  \n",
            " 0   id                 10000 non-null  object \n",
            " 1   dateAdded          10000 non-null  object \n",
            " 2   dateUpdated        10000 non-null  object \n",
            " 3   address            10000 non-null  object \n",
            " 4   categories         10000 non-null  object \n",
            " 5   primaryCategories  10000 non-null  object \n",
            " 6   city               10000 non-null  object \n",
            " 7   country            10000 non-null  object \n",
            " 8   keys               10000 non-null  object \n",
            " 9   latitude           10000 non-null  float64\n",
            " 10  longitude          10000 non-null  float64\n",
            " 11  name               10000 non-null  object \n",
            " 12  postalCode         10000 non-null  object \n",
            " 13  province           10000 non-null  object \n",
            " 14  sourceURLs         10000 non-null  object \n",
            " 15  websites           9918 non-null   object \n",
            "dtypes: float64(2), object(14)\n",
            "memory usage: 1.2+ MB\n"
          ]
        }
      ],
      "source": [
        "df.info()"
      ]
    },
    {
      "cell_type": "markdown",
      "metadata": {
        "id": "C_5iz2RoCE4P"
      },
      "source": [
        "**Checking Missing Values**"
      ]
    },
    {
      "cell_type": "code",
      "execution_count": null,
      "metadata": {
        "id": "6c6w6cu957d4",
        "colab": {
          "base_uri": "https://localhost:8080/"
        },
        "outputId": "5af30452-a85c-49ea-80ee-2526d83265f1"
      },
      "outputs": [
        {
          "output_type": "execute_result",
          "data": {
            "text/plain": [
              "id              0\n",
              "dateAdded       0\n",
              "dateUpdated     0\n",
              "address         0\n",
              "categories      0\n",
              "               ..\n",
              "name            0\n",
              "postalCode      0\n",
              "province        0\n",
              "sourceURLs      0\n",
              "websites       82\n",
              "Length: 16, dtype: int64"
            ]
          },
          "metadata": {},
          "execution_count": 8
        }
      ],
      "source": [
        "df.isnull().sum()"
      ]
    },
    {
      "cell_type": "markdown",
      "metadata": {
        "id": "qJ-Ub7JV7jjR"
      },
      "source": [
        "As we can see that there are some missing values in the dataset\n",
        "\n"
      ]
    },
    {
      "cell_type": "markdown",
      "metadata": {
        "id": "XR31xWUkCLat"
      },
      "source": [
        "**Checking Duplicate Values**"
      ]
    },
    {
      "cell_type": "code",
      "execution_count": null,
      "metadata": {
        "id": "xzJ1fEUC57qR",
        "colab": {
          "base_uri": "https://localhost:8080/"
        },
        "outputId": "38020fac-24e4-43ae-b2b9-57f27d86a79a"
      },
      "outputs": [
        {
          "output_type": "execute_result",
          "data": {
            "text/plain": [
              "False"
            ]
          },
          "metadata": {},
          "execution_count": 9
        }
      ],
      "source": [
        "df.duplicated().any()"
      ]
    },
    {
      "cell_type": "markdown",
      "metadata": {
        "id": "P3Ky9dnA7ETq"
      },
      "source": [
        "As we can see the output is False, meaning there is no duplicate data in the dataset"
      ]
    },
    {
      "cell_type": "markdown",
      "metadata": {
        "id": "HJGcAEaRQAH1"
      },
      "source": [
        "# **Data Cleaning**"
      ]
    },
    {
      "cell_type": "markdown",
      "source": [
        "**Remove Unnecessary Columns**"
      ],
      "metadata": {
        "id": "EzcFmbYStRyd"
      }
    },
    {
      "cell_type": "code",
      "source": [
        "df.drop(columns=['id', 'dateAdded', 'dateUpdated','categories', 'primaryCategories', 'keys', 'sourceURLs', 'websites'], inplace=True)"
      ],
      "metadata": {
        "id": "IEKUaVi7taba"
      },
      "execution_count": null,
      "outputs": []
    },
    {
      "cell_type": "code",
      "source": [
        "# shape of dataset\n",
        "print(\"Dimension after dropping columns:\")\n",
        "print(df.shape)\n",
        "\n",
        "df.head()"
      ],
      "metadata": {
        "id": "1ZskhH61AvSp",
        "colab": {
          "base_uri": "https://localhost:8080/",
          "height": 241
        },
        "outputId": "5f655a46-617f-4811-852e-2f2ee2e4574a"
      },
      "execution_count": null,
      "outputs": [
        {
          "output_type": "stream",
          "name": "stdout",
          "text": [
            "Dimension after dropping columns:\n",
            "(10000, 8)\n"
          ]
        },
        {
          "output_type": "execute_result",
          "data": {
            "text/plain": [
              "                 address            city country  latitude  longitude  \\\n",
              "0       2555 11th Avenue         Greeley      US  40.39629 -104.69699   \n",
              "1  2513 Highway 6 And 50  Grand Junction      US  39.08135 -108.58689   \n",
              "2    1125 Patterson Road  Grand Junction      US  39.09148 -108.55411   \n",
              "3    3455 N Salida Court          Aurora      US  39.76369 -104.77671   \n",
              "4   5225 E Colfax Avenue          Denver      US  39.74044 -104.92636   \n",
              "\n",
              "                     name postalCode province  \n",
              "0              Carl's Jr.      80631       CO  \n",
              "1                Del Taco      81505       CO  \n",
              "2              Which Wich      81506       CO  \n",
              "3  Chipotle Mexican Grill      80011       CO  \n",
              "4               Taco Bell      80220       CO  "
            ],
            "text/html": [
              "\n",
              "  <div id=\"df-343a0f47-93bd-4c76-8c89-4a862e7b6a90\" class=\"colab-df-container\">\n",
              "    <div>\n",
              "<style scoped>\n",
              "    .dataframe tbody tr th:only-of-type {\n",
              "        vertical-align: middle;\n",
              "    }\n",
              "\n",
              "    .dataframe tbody tr th {\n",
              "        vertical-align: top;\n",
              "    }\n",
              "\n",
              "    .dataframe thead th {\n",
              "        text-align: right;\n",
              "    }\n",
              "</style>\n",
              "<table border=\"1\" class=\"dataframe\">\n",
              "  <thead>\n",
              "    <tr style=\"text-align: right;\">\n",
              "      <th></th>\n",
              "      <th>address</th>\n",
              "      <th>city</th>\n",
              "      <th>country</th>\n",
              "      <th>latitude</th>\n",
              "      <th>longitude</th>\n",
              "      <th>name</th>\n",
              "      <th>postalCode</th>\n",
              "      <th>province</th>\n",
              "    </tr>\n",
              "  </thead>\n",
              "  <tbody>\n",
              "    <tr>\n",
              "      <th>0</th>\n",
              "      <td>2555 11th Avenue</td>\n",
              "      <td>Greeley</td>\n",
              "      <td>US</td>\n",
              "      <td>40.39629</td>\n",
              "      <td>-104.69699</td>\n",
              "      <td>Carl's Jr.</td>\n",
              "      <td>80631</td>\n",
              "      <td>CO</td>\n",
              "    </tr>\n",
              "    <tr>\n",
              "      <th>1</th>\n",
              "      <td>2513 Highway 6 And 50</td>\n",
              "      <td>Grand Junction</td>\n",
              "      <td>US</td>\n",
              "      <td>39.08135</td>\n",
              "      <td>-108.58689</td>\n",
              "      <td>Del Taco</td>\n",
              "      <td>81505</td>\n",
              "      <td>CO</td>\n",
              "    </tr>\n",
              "    <tr>\n",
              "      <th>2</th>\n",
              "      <td>1125 Patterson Road</td>\n",
              "      <td>Grand Junction</td>\n",
              "      <td>US</td>\n",
              "      <td>39.09148</td>\n",
              "      <td>-108.55411</td>\n",
              "      <td>Which Wich</td>\n",
              "      <td>81506</td>\n",
              "      <td>CO</td>\n",
              "    </tr>\n",
              "    <tr>\n",
              "      <th>3</th>\n",
              "      <td>3455 N Salida Court</td>\n",
              "      <td>Aurora</td>\n",
              "      <td>US</td>\n",
              "      <td>39.76369</td>\n",
              "      <td>-104.77671</td>\n",
              "      <td>Chipotle Mexican Grill</td>\n",
              "      <td>80011</td>\n",
              "      <td>CO</td>\n",
              "    </tr>\n",
              "    <tr>\n",
              "      <th>4</th>\n",
              "      <td>5225 E Colfax Avenue</td>\n",
              "      <td>Denver</td>\n",
              "      <td>US</td>\n",
              "      <td>39.74044</td>\n",
              "      <td>-104.92636</td>\n",
              "      <td>Taco Bell</td>\n",
              "      <td>80220</td>\n",
              "      <td>CO</td>\n",
              "    </tr>\n",
              "  </tbody>\n",
              "</table>\n",
              "</div>\n",
              "    <div class=\"colab-df-buttons\">\n",
              "\n",
              "  <div class=\"colab-df-container\">\n",
              "    <button class=\"colab-df-convert\" onclick=\"convertToInteractive('df-343a0f47-93bd-4c76-8c89-4a862e7b6a90')\"\n",
              "            title=\"Convert this dataframe to an interactive table.\"\n",
              "            style=\"display:none;\">\n",
              "\n",
              "  <svg xmlns=\"http://www.w3.org/2000/svg\" height=\"24px\" viewBox=\"0 -960 960 960\">\n",
              "    <path d=\"M120-120v-720h720v720H120Zm60-500h600v-160H180v160Zm220 220h160v-160H400v160Zm0 220h160v-160H400v160ZM180-400h160v-160H180v160Zm440 0h160v-160H620v160ZM180-180h160v-160H180v160Zm440 0h160v-160H620v160Z\"/>\n",
              "  </svg>\n",
              "    </button>\n",
              "\n",
              "  <style>\n",
              "    .colab-df-container {\n",
              "      display:flex;\n",
              "      gap: 12px;\n",
              "    }\n",
              "\n",
              "    .colab-df-convert {\n",
              "      background-color: #E8F0FE;\n",
              "      border: none;\n",
              "      border-radius: 50%;\n",
              "      cursor: pointer;\n",
              "      display: none;\n",
              "      fill: #1967D2;\n",
              "      height: 32px;\n",
              "      padding: 0 0 0 0;\n",
              "      width: 32px;\n",
              "    }\n",
              "\n",
              "    .colab-df-convert:hover {\n",
              "      background-color: #E2EBFA;\n",
              "      box-shadow: 0px 1px 2px rgba(60, 64, 67, 0.3), 0px 1px 3px 1px rgba(60, 64, 67, 0.15);\n",
              "      fill: #174EA6;\n",
              "    }\n",
              "\n",
              "    .colab-df-buttons div {\n",
              "      margin-bottom: 4px;\n",
              "    }\n",
              "\n",
              "    [theme=dark] .colab-df-convert {\n",
              "      background-color: #3B4455;\n",
              "      fill: #D2E3FC;\n",
              "    }\n",
              "\n",
              "    [theme=dark] .colab-df-convert:hover {\n",
              "      background-color: #434B5C;\n",
              "      box-shadow: 0px 1px 3px 1px rgba(0, 0, 0, 0.15);\n",
              "      filter: drop-shadow(0px 1px 2px rgba(0, 0, 0, 0.3));\n",
              "      fill: #FFFFFF;\n",
              "    }\n",
              "  </style>\n",
              "\n",
              "    <script>\n",
              "      const buttonEl =\n",
              "        document.querySelector('#df-343a0f47-93bd-4c76-8c89-4a862e7b6a90 button.colab-df-convert');\n",
              "      buttonEl.style.display =\n",
              "        google.colab.kernel.accessAllowed ? 'block' : 'none';\n",
              "\n",
              "      async function convertToInteractive(key) {\n",
              "        const element = document.querySelector('#df-343a0f47-93bd-4c76-8c89-4a862e7b6a90');\n",
              "        const dataTable =\n",
              "          await google.colab.kernel.invokeFunction('convertToInteractive',\n",
              "                                                    [key], {});\n",
              "        if (!dataTable) return;\n",
              "\n",
              "        const docLinkHtml = 'Like what you see? Visit the ' +\n",
              "          '<a target=\"_blank\" href=https://colab.research.google.com/notebooks/data_table.ipynb>data table notebook</a>'\n",
              "          + ' to learn more about interactive tables.';\n",
              "        element.innerHTML = '';\n",
              "        dataTable['output_type'] = 'display_data';\n",
              "        await google.colab.output.renderOutput(dataTable, element);\n",
              "        const docLink = document.createElement('div');\n",
              "        docLink.innerHTML = docLinkHtml;\n",
              "        element.appendChild(docLink);\n",
              "      }\n",
              "    </script>\n",
              "  </div>\n",
              "\n",
              "\n",
              "<div id=\"df-1c59060c-b2b6-4524-842a-e93b1b2486a7\">\n",
              "  <button class=\"colab-df-quickchart\" onclick=\"quickchart('df-1c59060c-b2b6-4524-842a-e93b1b2486a7')\"\n",
              "            title=\"Suggest charts\"\n",
              "            style=\"display:none;\">\n",
              "\n",
              "<svg xmlns=\"http://www.w3.org/2000/svg\" height=\"24px\"viewBox=\"0 0 24 24\"\n",
              "     width=\"24px\">\n",
              "    <g>\n",
              "        <path d=\"M19 3H5c-1.1 0-2 .9-2 2v14c0 1.1.9 2 2 2h14c1.1 0 2-.9 2-2V5c0-1.1-.9-2-2-2zM9 17H7v-7h2v7zm4 0h-2V7h2v10zm4 0h-2v-4h2v4z\"/>\n",
              "    </g>\n",
              "</svg>\n",
              "  </button>\n",
              "\n",
              "<style>\n",
              "  .colab-df-quickchart {\n",
              "      --bg-color: #E8F0FE;\n",
              "      --fill-color: #1967D2;\n",
              "      --hover-bg-color: #E2EBFA;\n",
              "      --hover-fill-color: #174EA6;\n",
              "      --disabled-fill-color: #AAA;\n",
              "      --disabled-bg-color: #DDD;\n",
              "  }\n",
              "\n",
              "  [theme=dark] .colab-df-quickchart {\n",
              "      --bg-color: #3B4455;\n",
              "      --fill-color: #D2E3FC;\n",
              "      --hover-bg-color: #434B5C;\n",
              "      --hover-fill-color: #FFFFFF;\n",
              "      --disabled-bg-color: #3B4455;\n",
              "      --disabled-fill-color: #666;\n",
              "  }\n",
              "\n",
              "  .colab-df-quickchart {\n",
              "    background-color: var(--bg-color);\n",
              "    border: none;\n",
              "    border-radius: 50%;\n",
              "    cursor: pointer;\n",
              "    display: none;\n",
              "    fill: var(--fill-color);\n",
              "    height: 32px;\n",
              "    padding: 0;\n",
              "    width: 32px;\n",
              "  }\n",
              "\n",
              "  .colab-df-quickchart:hover {\n",
              "    background-color: var(--hover-bg-color);\n",
              "    box-shadow: 0 1px 2px rgba(60, 64, 67, 0.3), 0 1px 3px 1px rgba(60, 64, 67, 0.15);\n",
              "    fill: var(--button-hover-fill-color);\n",
              "  }\n",
              "\n",
              "  .colab-df-quickchart-complete:disabled,\n",
              "  .colab-df-quickchart-complete:disabled:hover {\n",
              "    background-color: var(--disabled-bg-color);\n",
              "    fill: var(--disabled-fill-color);\n",
              "    box-shadow: none;\n",
              "  }\n",
              "\n",
              "  .colab-df-spinner {\n",
              "    border: 2px solid var(--fill-color);\n",
              "    border-color: transparent;\n",
              "    border-bottom-color: var(--fill-color);\n",
              "    animation:\n",
              "      spin 1s steps(1) infinite;\n",
              "  }\n",
              "\n",
              "  @keyframes spin {\n",
              "    0% {\n",
              "      border-color: transparent;\n",
              "      border-bottom-color: var(--fill-color);\n",
              "      border-left-color: var(--fill-color);\n",
              "    }\n",
              "    20% {\n",
              "      border-color: transparent;\n",
              "      border-left-color: var(--fill-color);\n",
              "      border-top-color: var(--fill-color);\n",
              "    }\n",
              "    30% {\n",
              "      border-color: transparent;\n",
              "      border-left-color: var(--fill-color);\n",
              "      border-top-color: var(--fill-color);\n",
              "      border-right-color: var(--fill-color);\n",
              "    }\n",
              "    40% {\n",
              "      border-color: transparent;\n",
              "      border-right-color: var(--fill-color);\n",
              "      border-top-color: var(--fill-color);\n",
              "    }\n",
              "    60% {\n",
              "      border-color: transparent;\n",
              "      border-right-color: var(--fill-color);\n",
              "    }\n",
              "    80% {\n",
              "      border-color: transparent;\n",
              "      border-right-color: var(--fill-color);\n",
              "      border-bottom-color: var(--fill-color);\n",
              "    }\n",
              "    90% {\n",
              "      border-color: transparent;\n",
              "      border-bottom-color: var(--fill-color);\n",
              "    }\n",
              "  }\n",
              "</style>\n",
              "\n",
              "  <script>\n",
              "    async function quickchart(key) {\n",
              "      const quickchartButtonEl =\n",
              "        document.querySelector('#' + key + ' button');\n",
              "      quickchartButtonEl.disabled = true;  // To prevent multiple clicks.\n",
              "      quickchartButtonEl.classList.add('colab-df-spinner');\n",
              "      try {\n",
              "        const charts = await google.colab.kernel.invokeFunction(\n",
              "            'suggestCharts', [key], {});\n",
              "      } catch (error) {\n",
              "        console.error('Error during call to suggestCharts:', error);\n",
              "      }\n",
              "      quickchartButtonEl.classList.remove('colab-df-spinner');\n",
              "      quickchartButtonEl.classList.add('colab-df-quickchart-complete');\n",
              "    }\n",
              "    (() => {\n",
              "      let quickchartButtonEl =\n",
              "        document.querySelector('#df-1c59060c-b2b6-4524-842a-e93b1b2486a7 button');\n",
              "      quickchartButtonEl.style.display =\n",
              "        google.colab.kernel.accessAllowed ? 'block' : 'none';\n",
              "    })();\n",
              "  </script>\n",
              "</div>\n",
              "\n",
              "    </div>\n",
              "  </div>\n"
            ],
            "application/vnd.google.colaboratory.intrinsic+json": {
              "type": "dataframe",
              "variable_name": "df",
              "summary": "{\n  \"name\": \"df\",\n  \"rows\": 10000,\n  \"fields\": [\n    {\n      \"column\": \"address\",\n      \"properties\": {\n        \"dtype\": \"string\",\n        \"num_unique_values\": 9954,\n        \"samples\": [\n          \"2025 Carter Hill Rd\",\n          \"6361 Clark Rd\",\n          \"2502 Willamette St\"\n        ],\n        \"semantic_type\": \"\",\n        \"description\": \"\"\n      }\n    },\n    {\n      \"column\": \"city\",\n      \"properties\": {\n        \"dtype\": \"category\",\n        \"num_unique_values\": 2810,\n        \"samples\": [\n          \"Saint Clair Shores\",\n          \"Yates Center\",\n          \"Bryson City\"\n        ],\n        \"semantic_type\": \"\",\n        \"description\": \"\"\n      }\n    },\n    {\n      \"column\": \"country\",\n      \"properties\": {\n        \"dtype\": \"category\",\n        \"num_unique_values\": 1,\n        \"samples\": [\n          \"US\"\n        ],\n        \"semantic_type\": \"\",\n        \"description\": \"\"\n      }\n    },\n    {\n      \"column\": \"latitude\",\n      \"properties\": {\n        \"dtype\": \"number\",\n        \"std\": 5.566994793954457,\n        \"min\": 19.63956,\n        \"max\": 64.85688,\n        \"num_unique_values\": 9870,\n        \"samples\": [\n          38.413\n        ],\n        \"semantic_type\": \"\",\n        \"description\": \"\"\n      }\n    },\n    {\n      \"column\": \"longitude\",\n      \"properties\": {\n        \"dtype\": \"number\",\n        \"std\": 16.421424442094757,\n        \"min\": -159.46431,\n        \"max\": -71.08218,\n        \"num_unique_values\": 9886,\n        \"samples\": [\n          -97.1738\n        ],\n        \"semantic_type\": \"\",\n        \"description\": \"\"\n      }\n    },\n    {\n      \"column\": \"name\",\n      \"properties\": {\n        \"dtype\": \"category\",\n        \"num_unique_values\": 1545,\n        \"samples\": [\n          \"Panino's Italian Restaurant\"\n        ],\n        \"semantic_type\": \"\",\n        \"description\": \"\"\n      }\n    },\n    {\n      \"column\": \"postalCode\",\n      \"properties\": {\n        \"dtype\": \"string\",\n        \"num_unique_values\": 5310,\n        \"samples\": [\n          \"62832\"\n        ],\n        \"semantic_type\": \"\",\n        \"description\": \"\"\n      }\n    },\n    {\n      \"column\": \"province\",\n      \"properties\": {\n        \"dtype\": \"category\",\n        \"num_unique_values\": 47,\n        \"samples\": [\n          \"WV\"\n        ],\n        \"semantic_type\": \"\",\n        \"description\": \"\"\n      }\n    }\n  ]\n}"
            }
          },
          "metadata": {},
          "execution_count": 11
        }
      ]
    },
    {
      "cell_type": "markdown",
      "source": [
        "**Summary Statistics**"
      ],
      "metadata": {
        "id": "8fq_aQ_twZmB"
      }
    },
    {
      "cell_type": "code",
      "source": [
        "# Display summary statistics for numerical columns\n",
        "summary_stats_numeric = df.describe()\n",
        "print(\"Summary Statistics for Numerical Columns:\")\n",
        "print(summary_stats_numeric)\n",
        "\n",
        "# Display summary statistics for categorical columns\n",
        "summary_stats_categorical = df.describe(include='object')\n",
        "print(\"\\nSummary Statistics for Categorical Columns:\")\n",
        "print(summary_stats_categorical)"
      ],
      "metadata": {
        "id": "5_YOfqObvtpC",
        "colab": {
          "base_uri": "https://localhost:8080/"
        },
        "outputId": "ff7bf87d-1048-416a-edf9-efb631d20447"
      },
      "execution_count": null,
      "outputs": [
        {
          "output_type": "stream",
          "name": "stdout",
          "text": [
            "Summary Statistics for Numerical Columns:\n",
            "           latitude     longitude\n",
            "count  10000.000000  10000.000000\n",
            "mean      37.298215    -93.284547\n",
            "std        5.566995     16.421424\n",
            "min       19.639560   -159.464310\n",
            "25%       33.850652    -98.342758\n",
            "50%       37.490189    -86.677452\n",
            "75%       40.808905    -81.803061\n",
            "max       64.856880    -71.082180\n",
            "\n",
            "Summary Statistics for Categorical Columns:\n",
            "              address      city country        name postalCode province\n",
            "count           10000     10000   10000       10000      10000    10000\n",
            "unique           9954      2810       1        1545       5310       47\n",
            "top     2005 Kalia Rd  Columbus      US  McDonald's      37040       OH\n",
            "freq                4       105   10000         765         17      922\n"
          ]
        }
      ]
    },
    {
      "cell_type": "markdown",
      "source": [
        "In **Province** column, OH (Ohio) is the top value which shows occurrance 922 times.\n",
        "\n",
        "In **City** column, Columbus is the top value which shows occurance 105 times.\n",
        "\n",
        "In **Name** column, McDonald's is the top value which shows occurence 765 times."
      ],
      "metadata": {
        "id": "oKY_K37cwyvJ"
      }
    },
    {
      "cell_type": "markdown",
      "source": [
        "# **Data Analysis**"
      ],
      "metadata": {
        "id": "QJuugyioMVfa"
      }
    },
    {
      "cell_type": "markdown",
      "source": [
        "**How many fast food restauraunts are recorded?**"
      ],
      "metadata": {
        "id": "nRxzAtJJBqDx"
      }
    },
    {
      "cell_type": "code",
      "source": [
        "print(\"Number of unique restaurant:\", df['name'].nunique())"
      ],
      "metadata": {
        "id": "asSsXEozBlrH",
        "colab": {
          "base_uri": "https://localhost:8080/"
        },
        "outputId": "cd551941-18d3-476c-d56b-e0ecef4f874a"
      },
      "execution_count": null,
      "outputs": [
        {
          "output_type": "stream",
          "name": "stdout",
          "text": [
            "Number of unique restaurant: 1545\n"
          ]
        }
      ]
    },
    {
      "cell_type": "markdown",
      "source": [
        "**Which cities are crowded with fast food restaurants?**"
      ],
      "metadata": {
        "id": "b2GZKjabJCuc"
      }
    },
    {
      "cell_type": "code",
      "source": [
        "print(\"Number of unique cities:\", df['city'].nunique())\n",
        "nameplot = df['city'].value_counts()[:20].plot.bar(title='Top 20 Cities')\n",
        "nameplot.set_xlabel('city',size=20)\n",
        "nameplot.set_ylabel('count',size=20)"
      ],
      "metadata": {
        "id": "NeDP9eBcJBtq",
        "colab": {
          "base_uri": "https://localhost:8080/",
          "height": 616
        },
        "outputId": "438af11d-0560-4cf9-9172-1c6dd51eb299"
      },
      "execution_count": null,
      "outputs": [
        {
          "output_type": "stream",
          "name": "stdout",
          "text": [
            "Number of unique cities: 2810\n"
          ]
        },
        {
          "output_type": "execute_result",
          "data": {
            "text/plain": [
              "Text(0, 0.5, 'count')"
            ]
          },
          "metadata": {},
          "execution_count": 14
        },
        {
          "output_type": "display_data",
          "data": {
            "text/plain": [
              "<Figure size 640x480 with 1 Axes>"
            ],
            "image/png": "[encoded data removed]"
          },
          "metadata": {}
        }
      ]
    },
    {
      "cell_type": "markdown",
      "source": [
        "Let's run pandas data . describe() function to see the min, max, and mean of number of fast food restaurants in different cities"
      ],
      "metadata": {
        "id": "KPWsz_YhJa4y"
      }
    },
    {
      "cell_type": "code",
      "source": [
        "rest_count_by_city = df['city'].value_counts()\n",
        "rest_count_by_city.describe()"
      ],
      "metadata": {
        "id": "BqL1WenMJByt",
        "colab": {
          "base_uri": "https://localhost:8080/"
        },
        "outputId": "8817c063-b9c0-48e6-bf29-fc0f0a924782"
      },
      "execution_count": null,
      "outputs": [
        {
          "output_type": "execute_result",
          "data": {
            "text/plain": [
              "count    2810.000000\n",
              "mean        3.558719\n",
              "std         6.260422\n",
              "min         1.000000\n",
              "25%         1.000000\n",
              "50%         2.000000\n",
              "75%         3.000000\n",
              "max       105.000000\n",
              "Name: count, dtype: float64"
            ]
          },
          "metadata": {},
          "execution_count": 15
        }
      ]
    },
    {
      "cell_type": "markdown",
      "source": [
        "**Many cities has only 1-3 restaurants opened and the mean number of restaurants opened is 3.55**"
      ],
      "metadata": {
        "id": "M_q095FvJvhz"
      }
    },
    {
      "cell_type": "markdown",
      "source": [
        "**How many cities have opened less than 4 fast food restaurants?**"
      ],
      "metadata": {
        "id": "YcQrM0vvKJJq"
      }
    },
    {
      "cell_type": "code",
      "source": [
        "print(len(rest_count_by_city[rest_count_by_city < 4]), \"cities opened less than 4 fast food restaurants\")\n",
        "print(\"They are\", round(100*len(rest_count_by_city[rest_count_by_city < 4])/len(rest_count_by_city),2), \"%\"),\n",
        "print(\"of the total cities recorded in the dataset\")"
      ],
      "metadata": {
        "id": "EttkA1qJJB3B",
        "colab": {
          "base_uri": "https://localhost:8080/"
        },
        "outputId": "62be22d2-5574-44c9-ac1b-62aa39dd675b"
      },
      "execution_count": null,
      "outputs": [
        {
          "output_type": "stream",
          "name": "stdout",
          "text": [
            "2121 cities opened less than 4 fast food restaurants\n",
            "They are 75.48 %\n",
            "of the total cities recorded in the dataset\n"
          ]
        }
      ]
    },
    {
      "cell_type": "markdown",
      "source": [
        "**1. The analysis of market openness and opportunities**"
      ],
      "metadata": {
        "id": "nKpi3ImBy_1E"
      }
    },
    {
      "cell_type": "code",
      "source": [
        "# Group dataset by province and count the number of restaurants\n",
        "\n",
        "df1 = df.groupby('province').size().reset_index(name='restaurant_count')\n",
        "df1 = df1.sort_values(by='restaurant_count', ascending=False)\n",
        "df1"
      ],
      "metadata": {
        "id": "Hs13LpwEyIvs",
        "colab": {
          "base_uri": "https://localhost:8080/",
          "height": 424
        },
        "outputId": "e42e6875-0dc5-461d-82a3-24cc31f9bfe2"
      },
      "execution_count": null,
      "outputs": [
        {
          "output_type": "execute_result",
          "data": {
            "text/plain": [
              "   province  restaurant_count\n",
              "33       OH               922\n",
              "9        FL               739\n",
              "4        CA               727\n",
              "26       NC               663\n",
              "1        AL               635\n",
              "..      ...               ...\n",
              "27       ND                18\n",
              "7        DC                18\n",
              "29       NJ                 2\n",
              "19       MA                 2\n",
              "6        CT                 1\n",
              "\n",
              "[47 rows x 2 columns]"
            ],
            "text/html": [
              "\n",
              "  <div id=\"df-e93afd1b-4c43-4dbc-9418-5858af401209\" class=\"colab-df-container\">\n",
              "    <div>\n",
              "<style scoped>\n",
              "    .dataframe tbody tr th:only-of-type {\n",
              "        vertical-align: middle;\n",
              "    }\n",
              "\n",
              "    .dataframe tbody tr th {\n",
              "        vertical-align: top;\n",
              "    }\n",
              "\n",
              "    .dataframe thead th {\n",
              "        text-align: right;\n",
              "    }\n",
              "</style>\n",
              "<table border=\"1\" class=\"dataframe\">\n",
              "  <thead>\n",
              "    <tr style=\"text-align: right;\">\n",
              "      <th></th>\n",
              "      <th>province</th>\n",
              "      <th>restaurant_count</th>\n",
              "    </tr>\n",
              "  </thead>\n",
              "  <tbody>\n",
              "    <tr>\n",
              "      <th>33</th>\n",
              "      <td>OH</td>\n",
              "      <td>922</td>\n",
              "    </tr>\n",
              "    <tr>\n",
              "      <th>9</th>\n",
              "      <td>FL</td>\n",
              "      <td>739</td>\n",
              "    </tr>\n",
              "    <tr>\n",
              "      <th>4</th>\n",
              "      <td>CA</td>\n",
              "      <td>727</td>\n",
              "    </tr>\n",
              "    <tr>\n",
              "      <th>26</th>\n",
              "      <td>NC</td>\n",
              "      <td>663</td>\n",
              "    </tr>\n",
              "    <tr>\n",
              "      <th>1</th>\n",
              "      <td>AL</td>\n",
              "      <td>635</td>\n",
              "    </tr>\n",
              "    <tr>\n",
              "      <th>...</th>\n",
              "      <td>...</td>\n",
              "      <td>...</td>\n",
              "    </tr>\n",
              "    <tr>\n",
              "      <th>27</th>\n",
              "      <td>ND</td>\n",
              "      <td>18</td>\n",
              "    </tr>\n",
              "    <tr>\n",
              "      <th>7</th>\n",
              "      <td>DC</td>\n",
              "      <td>18</td>\n",
              "    </tr>\n",
              "    <tr>\n",
              "      <th>29</th>\n",
              "      <td>NJ</td>\n",
              "      <td>2</td>\n",
              "    </tr>\n",
              "    <tr>\n",
              "      <th>19</th>\n",
              "      <td>MA</td>\n",
              "      <td>2</td>\n",
              "    </tr>\n",
              "    <tr>\n",
              "      <th>6</th>\n",
              "      <td>CT</td>\n",
              "      <td>1</td>\n",
              "    </tr>\n",
              "  </tbody>\n",
              "</table>\n",
              "<p>47 rows × 2 columns</p>\n",
              "</div>\n",
              "    <div class=\"colab-df-buttons\">\n",
              "\n",
              "  <div class=\"colab-df-container\">\n",
              "    <button class=\"colab-df-convert\" onclick=\"convertToInteractive('df-e93afd1b-4c43-4dbc-9418-5858af401209')\"\n",
              "            title=\"Convert this dataframe to an interactive table.\"\n",
              "            style=\"display:none;\">\n",
              "\n",
              "  <svg xmlns=\"http://www.w3.org/2000/svg\" height=\"24px\" viewBox=\"0 -960 960 960\">\n",
              "    <path d=\"M120-120v-720h720v720H120Zm60-500h600v-160H180v160Zm220 220h160v-160H400v160Zm0 220h160v-160H400v160ZM180-400h160v-160H180v160Zm440 0h160v-160H620v160ZM180-180h160v-160H180v160Zm440 0h160v-160H620v160Z\"/>\n",
              "  </svg>\n",
              "    </button>\n",
              "\n",
              "  <style>\n",
              "    .colab-df-container {\n",
              "      display:flex;\n",
              "      gap: 12px;\n",
              "    }\n",
              "\n",
              "    .colab-df-convert {\n",
              "      background-color: #E8F0FE;\n",
              "      border: none;\n",
              "      border-radius: 50%;\n",
              "      cursor: pointer;\n",
              "      display: none;\n",
              "      fill: #1967D2;\n",
              "      height: 32px;\n",
              "      padding: 0 0 0 0;\n",
              "      width: 32px;\n",
              "    }\n",
              "\n",
              "    .colab-df-convert:hover {\n",
              "      background-color: #E2EBFA;\n",
              "      box-shadow: 0px 1px 2px rgba(60, 64, 67, 0.3), 0px 1px 3px 1px rgba(60, 64, 67, 0.15);\n",
              "      fill: #174EA6;\n",
              "    }\n",
              "\n",
              "    .colab-df-buttons div {\n",
              "      margin-bottom: 4px;\n",
              "    }\n",
              "\n",
              "    [theme=dark] .colab-df-convert {\n",
              "      background-color: #3B4455;\n",
              "      fill: #D2E3FC;\n",
              "    }\n",
              "\n",
              "    [theme=dark] .colab-df-convert:hover {\n",
              "      background-color: #434B5C;\n",
              "      box-shadow: 0px 1px 3px 1px rgba(0, 0, 0, 0.15);\n",
              "      filter: drop-shadow(0px 1px 2px rgba(0, 0, 0, 0.3));\n",
              "      fill: #FFFFFF;\n",
              "    }\n",
              "  </style>\n",
              "\n",
              "    <script>\n",
              "      const buttonEl =\n",
              "        document.querySelector('#df-e93afd1b-4c43-4dbc-9418-5858af401209 button.colab-df-convert');\n",
              "      buttonEl.style.display =\n",
              "        google.colab.kernel.accessAllowed ? 'block' : 'none';\n",
              "\n",
              "      async function convertToInteractive(key) {\n",
              "        const element = document.querySelector('#df-e93afd1b-4c43-4dbc-9418-5858af401209');\n",
              "        const dataTable =\n",
              "          await google.colab.kernel.invokeFunction('convertToInteractive',\n",
              "                                                    [key], {});\n",
              "        if (!dataTable) return;\n",
              "\n",
              "        const docLinkHtml = 'Like what you see? Visit the ' +\n",
              "          '<a target=\"_blank\" href=https://colab.research.google.com/notebooks/data_table.ipynb>data table notebook</a>'\n",
              "          + ' to learn more about interactive tables.';\n",
              "        element.innerHTML = '';\n",
              "        dataTable['output_type'] = 'display_data';\n",
              "        await google.colab.output.renderOutput(dataTable, element);\n",
              "        const docLink = document.createElement('div');\n",
              "        docLink.innerHTML = docLinkHtml;\n",
              "        element.appendChild(docLink);\n",
              "      }\n",
              "    </script>\n",
              "  </div>\n",
              "\n",
              "\n",
              "<div id=\"df-d3ae7027-5ce3-4286-8616-b44cf5c50e53\">\n",
              "  <button class=\"colab-df-quickchart\" onclick=\"quickchart('df-d3ae7027-5ce3-4286-8616-b44cf5c50e53')\"\n",
              "            title=\"Suggest charts\"\n",
              "            style=\"display:none;\">\n",
              "\n",
              "<svg xmlns=\"http://www.w3.org/2000/svg\" height=\"24px\"viewBox=\"0 0 24 24\"\n",
              "     width=\"24px\">\n",
              "    <g>\n",
              "        <path d=\"M19 3H5c-1.1 0-2 .9-2 2v14c0 1.1.9 2 2 2h14c1.1 0 2-.9 2-2V5c0-1.1-.9-2-2-2zM9 17H7v-7h2v7zm4 0h-2V7h2v10zm4 0h-2v-4h2v4z\"/>\n",
              "    </g>\n",
              "</svg>\n",
              "  </button>\n",
              "\n",
              "<style>\n",
              "  .colab-df-quickchart {\n",
              "      --bg-color: #E8F0FE;\n",
              "      --fill-color: #1967D2;\n",
              "      --hover-bg-color: #E2EBFA;\n",
              "      --hover-fill-color: #174EA6;\n",
              "      --disabled-fill-color: #AAA;\n",
              "      --disabled-bg-color: #DDD;\n",
              "  }\n",
              "\n",
              "  [theme=dark] .colab-df-quickchart {\n",
              "      --bg-color: #3B4455;\n",
              "      --fill-color: #D2E3FC;\n",
              "      --hover-bg-color: #434B5C;\n",
              "      --hover-fill-color: #FFFFFF;\n",
              "      --disabled-bg-color: #3B4455;\n",
              "      --disabled-fill-color: #666;\n",
              "  }\n",
              "\n",
              "  .colab-df-quickchart {\n",
              "    background-color: var(--bg-color);\n",
              "    border: none;\n",
              "    border-radius: 50%;\n",
              "    cursor: pointer;\n",
              "    display: none;\n",
              "    fill: var(--fill-color);\n",
              "    height: 32px;\n",
              "    padding: 0;\n",
              "    width: 32px;\n",
              "  }\n",
              "\n",
              "  .colab-df-quickchart:hover {\n",
              "    background-color: var(--hover-bg-color);\n",
              "    box-shadow: 0 1px 2px rgba(60, 64, 67, 0.3), 0 1px 3px 1px rgba(60, 64, 67, 0.15);\n",
              "    fill: var(--button-hover-fill-color);\n",
              "  }\n",
              "\n",
              "  .colab-df-quickchart-complete:disabled,\n",
              "  .colab-df-quickchart-complete:disabled:hover {\n",
              "    background-color: var(--disabled-bg-color);\n",
              "    fill: var(--disabled-fill-color);\n",
              "    box-shadow: none;\n",
              "  }\n",
              "\n",
              "  .colab-df-spinner {\n",
              "    border: 2px solid var(--fill-color);\n",
              "    border-color: transparent;\n",
              "    border-bottom-color: var(--fill-color);\n",
              "    animation:\n",
              "      spin 1s steps(1) infinite;\n",
              "  }\n",
              "\n",
              "  @keyframes spin {\n",
              "    0% {\n",
              "      border-color: transparent;\n",
              "      border-bottom-color: var(--fill-color);\n",
              "      border-left-color: var(--fill-color);\n",
              "    }\n",
              "    20% {\n",
              "      border-color: transparent;\n",
              "      border-left-color: var(--fill-color);\n",
              "      border-top-color: var(--fill-color);\n",
              "    }\n",
              "    30% {\n",
              "      border-color: transparent;\n",
              "      border-left-color: var(--fill-color);\n",
              "      border-top-color: var(--fill-color);\n",
              "      border-right-color: var(--fill-color);\n",
              "    }\n",
              "    40% {\n",
              "      border-color: transparent;\n",
              "      border-right-color: var(--fill-color);\n",
              "      border-top-color: var(--fill-color);\n",
              "    }\n",
              "    60% {\n",
              "      border-color: transparent;\n",
              "      border-right-color: var(--fill-color);\n",
              "    }\n",
              "    80% {\n",
              "      border-color: transparent;\n",
              "      border-right-color: var(--fill-color);\n",
              "      border-bottom-color: var(--fill-color);\n",
              "    }\n",
              "    90% {\n",
              "      border-color: transparent;\n",
              "      border-bottom-color: var(--fill-color);\n",
              "    }\n",
              "  }\n",
              "</style>\n",
              "\n",
              "  <script>\n",
              "    async function quickchart(key) {\n",
              "      const quickchartButtonEl =\n",
              "        document.querySelector('#' + key + ' button');\n",
              "      quickchartButtonEl.disabled = true;  // To prevent multiple clicks.\n",
              "      quickchartButtonEl.classList.add('colab-df-spinner');\n",
              "      try {\n",
              "        const charts = await google.colab.kernel.invokeFunction(\n",
              "            'suggestCharts', [key], {});\n",
              "      } catch (error) {\n",
              "        console.error('Error during call to suggestCharts:', error);\n",
              "      }\n",
              "      quickchartButtonEl.classList.remove('colab-df-spinner');\n",
              "      quickchartButtonEl.classList.add('colab-df-quickchart-complete');\n",
              "    }\n",
              "    (() => {\n",
              "      let quickchartButtonEl =\n",
              "        document.querySelector('#df-d3ae7027-5ce3-4286-8616-b44cf5c50e53 button');\n",
              "      quickchartButtonEl.style.display =\n",
              "        google.colab.kernel.accessAllowed ? 'block' : 'none';\n",
              "    })();\n",
              "  </script>\n",
              "</div>\n",
              "\n",
              "  <div id=\"id_856c9e36-2554-4055-bcb7-b6111e1471ea\">\n",
              "    <style>\n",
              "      .colab-df-generate {\n",
              "        background-color: #E8F0FE;\n",
              "        border: none;\n",
              "        border-radius: 50%;\n",
              "        cursor: pointer;\n",
              "        display: none;\n",
              "        fill: #1967D2;\n",
              "        height: 32px;\n",
              "        padding: 0 0 0 0;\n",
              "        width: 32px;\n",
              "      }\n",
              "\n",
              "      .colab-df-generate:hover {\n",
              "        background-color: #E2EBFA;\n",
              "        box-shadow: 0px 1px 2px rgba(60, 64, 67, 0.3), 0px 1px 3px 1px rgba(60, 64, 67, 0.15);\n",
              "        fill: #174EA6;\n",
              "      }\n",
              "\n",
              "      [theme=dark] .colab-df-generate {\n",
              "        background-color: #3B4455;\n",
              "        fill: #D2E3FC;\n",
              "      }\n",
              "\n",
              "      [theme=dark] .colab-df-generate:hover {\n",
              "        background-color: #434B5C;\n",
              "        box-shadow: 0px 1px 3px 1px rgba(0, 0, 0, 0.15);\n",
              "        filter: drop-shadow(0px 1px 2px rgba(0, 0, 0, 0.3));\n",
              "        fill: #FFFFFF;\n",
              "      }\n",
              "    </style>\n",
              "    <button class=\"colab-df-generate\" onclick=\"generateWithVariable('df1')\"\n",
              "            title=\"Generate code using this dataframe.\"\n",
              "            style=\"display:none;\">\n",
              "\n",
              "  <svg xmlns=\"http://www.w3.org/2000/svg\" height=\"24px\"viewBox=\"0 0 24 24\"\n",
              "       width=\"24px\">\n",
              "    <path d=\"M7,19H8.4L18.45,9,17,7.55,7,17.6ZM5,21V16.75L18.45,3.32a2,2,0,0,1,2.83,0l1.4,1.43a1.91,1.91,0,0,1,.58,1.4,1.91,1.91,0,0,1-.58,1.4L9.25,21ZM18.45,9,17,7.55Zm-12,3A5.31,5.31,0,0,0,4.9,8.1,5.31,5.31,0,0,0,1,6.5,5.31,5.31,0,0,0,4.9,4.9,5.31,5.31,0,0,0,6.5,1,5.31,5.31,0,0,0,8.1,4.9,5.31,5.31,0,0,0,12,6.5,5.46,5.46,0,0,0,6.5,12Z\"/>\n",
              "  </svg>\n",
              "    </button>\n",
              "    <script>\n",
              "      (() => {\n",
              "      const buttonEl =\n",
              "        document.querySelector('#id_856c9e36-2554-4055-bcb7-b6111e1471ea button.colab-df-generate');\n",
              "      buttonEl.style.display =\n",
              "        google.colab.kernel.accessAllowed ? 'block' : 'none';\n",
              "\n",
              "      buttonEl.onclick = () => {\n",
              "        google.colab.notebook.generateWithVariable('df1');\n",
              "      }\n",
              "      })();\n",
              "    </script>\n",
              "  </div>\n",
              "\n",
              "    </div>\n",
              "  </div>\n"
            ],
            "application/vnd.google.colaboratory.intrinsic+json": {
              "type": "dataframe",
              "variable_name": "df1",
              "summary": "{\n  \"name\": \"df1\",\n  \"rows\": 47,\n  \"fields\": [\n    {\n      \"column\": \"province\",\n      \"properties\": {\n        \"dtype\": \"string\",\n        \"num_unique_values\": 47,\n        \"samples\": [\n          \"IA\",\n          \"SD\",\n          \"WI\"\n        ],\n        \"semantic_type\": \"\",\n        \"description\": \"\"\n      }\n    },\n    {\n      \"column\": \"restaurant_count\",\n      \"properties\": {\n        \"dtype\": \"number\",\n        \"std\": 220,\n        \"min\": 1,\n        \"max\": 922,\n        \"num_unique_values\": 43,\n        \"samples\": [\n          27,\n          114,\n          112\n        ],\n        \"semantic_type\": \"\",\n        \"description\": \"\"\n      }\n    }\n  ]\n}"
            }
          },
          "metadata": {},
          "execution_count": 17
        }
      ]
    },
    {
      "cell_type": "code",
      "source": [
        "# Create the bar chart\n",
        "plt.figure(figsize=(15, 5))\n",
        "plt.bar(df1['province'], df1['restaurant_count'])\n",
        "plt.xticks(rotation=50)\n",
        "plt.xlabel('Province')\n",
        "plt.ylabel('Number of Restaurants')\n",
        "plt.title('Number of Restaurants per Province')\n",
        "plt.show()"
      ],
      "metadata": {
        "id": "x0LqMT_ryUOV",
        "colab": {
          "base_uri": "https://localhost:8080/",
          "height": 500
        },
        "outputId": "20778d60-4fc7-45bb-a2f5-165b63f3bbdb"
      },
      "execution_count": null,
      "outputs": [
        {
          "output_type": "display_data",
          "data": {
            "text/plain": [
              "<Figure size 1500x500 with 1 Axes>"
            ],
            "image/png": "[encoded data removed]"
          },
          "metadata": {}
        }
      ]
    },
    {
      "cell_type": "markdown",
      "source": [
        "# **Interactive Map Visualization 1**"
      ],
      "metadata": {
        "id": "YViSeI-wslTT"
      }
    },
    {
      "cell_type": "markdown",
      "source": [
        "**Finding out provinces with less than 100 and 50 restaurants**"
      ],
      "metadata": {
        "id": "-_-mZV_xo3yK"
      }
    },
    {
      "cell_type": "code",
      "source": [
        "states_less_100 = df1[df1['restaurant_count'] < 100]\n",
        "states_less_100"
      ],
      "metadata": {
        "id": "Io3ZXVtOzvqZ",
        "colab": {
          "base_uri": "https://localhost:8080/",
          "height": 424
        },
        "outputId": "9e9dcd39-fb03-4df6-803c-f2f46c03ca6b"
      },
      "execution_count": null,
      "outputs": [
        {
          "output_type": "execute_result",
          "data": {
            "text/plain": [
              "   province  restaurant_count\n",
              "24       MS                99\n",
              "31       NV                96\n",
              "16       KS                92\n",
              "11       HI                91\n",
              "22       MN                83\n",
              "..      ...               ...\n",
              "27       ND                18\n",
              "7        DC                18\n",
              "29       NJ                 2\n",
              "19       MA                 2\n",
              "6        CT                 1\n",
              "\n",
              "[19 rows x 2 columns]"
            ],
            "text/html": [
              "\n",
              "  <div id=\"df-07f5ef40-97a1-4b4c-a2b5-823191f57e94\" class=\"colab-df-container\">\n",
              "    <div>\n",
              "<style scoped>\n",
              "    .dataframe tbody tr th:only-of-type {\n",
              "        vertical-align: middle;\n",
              "    }\n",
              "\n",
              "    .dataframe tbody tr th {\n",
              "        vertical-align: top;\n",
              "    }\n",
              "\n",
              "    .dataframe thead th {\n",
              "        text-align: right;\n",
              "    }\n",
              "</style>\n",
              "<table border=\"1\" class=\"dataframe\">\n",
              "  <thead>\n",
              "    <tr style=\"text-align: right;\">\n",
              "      <th></th>\n",
              "      <th>province</th>\n",
              "      <th>restaurant_count</th>\n",
              "    </tr>\n",
              "  </thead>\n",
              "  <tbody>\n",
              "    <tr>\n",
              "      <th>24</th>\n",
              "      <td>MS</td>\n",
              "      <td>99</td>\n",
              "    </tr>\n",
              "    <tr>\n",
              "      <th>31</th>\n",
              "      <td>NV</td>\n",
              "      <td>96</td>\n",
              "    </tr>\n",
              "    <tr>\n",
              "      <th>16</th>\n",
              "      <td>KS</td>\n",
              "      <td>92</td>\n",
              "    </tr>\n",
              "    <tr>\n",
              "      <th>11</th>\n",
              "      <td>HI</td>\n",
              "      <td>91</td>\n",
              "    </tr>\n",
              "    <tr>\n",
              "      <th>22</th>\n",
              "      <td>MN</td>\n",
              "      <td>83</td>\n",
              "    </tr>\n",
              "    <tr>\n",
              "      <th>...</th>\n",
              "      <td>...</td>\n",
              "      <td>...</td>\n",
              "    </tr>\n",
              "    <tr>\n",
              "      <th>27</th>\n",
              "      <td>ND</td>\n",
              "      <td>18</td>\n",
              "    </tr>\n",
              "    <tr>\n",
              "      <th>7</th>\n",
              "      <td>DC</td>\n",
              "      <td>18</td>\n",
              "    </tr>\n",
              "    <tr>\n",
              "      <th>29</th>\n",
              "      <td>NJ</td>\n",
              "      <td>2</td>\n",
              "    </tr>\n",
              "    <tr>\n",
              "      <th>19</th>\n",
              "      <td>MA</td>\n",
              "      <td>2</td>\n",
              "    </tr>\n",
              "    <tr>\n",
              "      <th>6</th>\n",
              "      <td>CT</td>\n",
              "      <td>1</td>\n",
              "    </tr>\n",
              "  </tbody>\n",
              "</table>\n",
              "<p>19 rows × 2 columns</p>\n",
              "</div>\n",
              "    <div class=\"colab-df-buttons\">\n",
              "\n",
              "  <div class=\"colab-df-container\">\n",
              "    <button class=\"colab-df-convert\" onclick=\"convertToInteractive('df-07f5ef40-97a1-4b4c-a2b5-823191f57e94')\"\n",
              "            title=\"Convert this dataframe to an interactive table.\"\n",
              "            style=\"display:none;\">\n",
              "\n",
              "  <svg xmlns=\"http://www.w3.org/2000/svg\" height=\"24px\" viewBox=\"0 -960 960 960\">\n",
              "    <path d=\"M120-120v-720h720v720H120Zm60-500h600v-160H180v160Zm220 220h160v-160H400v160Zm0 220h160v-160H400v160ZM180-400h160v-160H180v160Zm440 0h160v-160H620v160ZM180-180h160v-160H180v160Zm440 0h160v-160H620v160Z\"/>\n",
              "  </svg>\n",
              "    </button>\n",
              "\n",
              "  <style>\n",
              "    .colab-df-container {\n",
              "      display:flex;\n",
              "      gap: 12px;\n",
              "    }\n",
              "\n",
              "    .colab-df-convert {\n",
              "      background-color: #E8F0FE;\n",
              "      border: none;\n",
              "      border-radius: 50%;\n",
              "      cursor: pointer;\n",
              "      display: none;\n",
              "      fill: #1967D2;\n",
              "      height: 32px;\n",
              "      padding: 0 0 0 0;\n",
              "      width: 32px;\n",
              "    }\n",
              "\n",
              "    .colab-df-convert:hover {\n",
              "      background-color: #E2EBFA;\n",
              "      box-shadow: 0px 1px 2px rgba(60, 64, 67, 0.3), 0px 1px 3px 1px rgba(60, 64, 67, 0.15);\n",
              "      fill: #174EA6;\n",
              "    }\n",
              "\n",
              "    .colab-df-buttons div {\n",
              "      margin-bottom: 4px;\n",
              "    }\n",
              "\n",
              "    [theme=dark] .colab-df-convert {\n",
              "      background-color: #3B4455;\n",
              "      fill: #D2E3FC;\n",
              "    }\n",
              "\n",
              "    [theme=dark] .colab-df-convert:hover {\n",
              "      background-color: #434B5C;\n",
              "      box-shadow: 0px 1px 3px 1px rgba(0, 0, 0, 0.15);\n",
              "      filter: drop-shadow(0px 1px 2px rgba(0, 0, 0, 0.3));\n",
              "      fill: #FFFFFF;\n",
              "    }\n",
              "  </style>\n",
              "\n",
              "    <script>\n",
              "      const buttonEl =\n",
              "        document.querySelector('#df-07f5ef40-97a1-4b4c-a2b5-823191f57e94 button.colab-df-convert');\n",
              "      buttonEl.style.display =\n",
              "        google.colab.kernel.accessAllowed ? 'block' : 'none';\n",
              "\n",
              "      async function convertToInteractive(key) {\n",
              "        const element = document.querySelector('#df-07f5ef40-97a1-4b4c-a2b5-823191f57e94');\n",
              "        const dataTable =\n",
              "          await google.colab.kernel.invokeFunction('convertToInteractive',\n",
              "                                                    [key], {});\n",
              "        if (!dataTable) return;\n",
              "\n",
              "        const docLinkHtml = 'Like what you see? Visit the ' +\n",
              "          '<a target=\"_blank\" href=https://colab.research.google.com/notebooks/data_table.ipynb>data table notebook</a>'\n",
              "          + ' to learn more about interactive tables.';\n",
              "        element.innerHTML = '';\n",
              "        dataTable['output_type'] = 'display_data';\n",
              "        await google.colab.output.renderOutput(dataTable, element);\n",
              "        const docLink = document.createElement('div');\n",
              "        docLink.innerHTML = docLinkHtml;\n",
              "        element.appendChild(docLink);\n",
              "      }\n",
              "    </script>\n",
              "  </div>\n",
              "\n",
              "\n",
              "<div id=\"df-8aeec26b-bf38-4fd5-bbfa-77cf9bbc623f\">\n",
              "  <button class=\"colab-df-quickchart\" onclick=\"quickchart('df-8aeec26b-bf38-4fd5-bbfa-77cf9bbc623f')\"\n",
              "            title=\"Suggest charts\"\n",
              "            style=\"display:none;\">\n",
              "\n",
              "<svg xmlns=\"http://www.w3.org/2000/svg\" height=\"24px\"viewBox=\"0 0 24 24\"\n",
              "     width=\"24px\">\n",
              "    <g>\n",
              "        <path d=\"M19 3H5c-1.1 0-2 .9-2 2v14c0 1.1.9 2 2 2h14c1.1 0 2-.9 2-2V5c0-1.1-.9-2-2-2zM9 17H7v-7h2v7zm4 0h-2V7h2v10zm4 0h-2v-4h2v4z\"/>\n",
              "    </g>\n",
              "</svg>\n",
              "  </button>\n",
              "\n",
              "<style>\n",
              "  .colab-df-quickchart {\n",
              "      --bg-color: #E8F0FE;\n",
              "      --fill-color: #1967D2;\n",
              "      --hover-bg-color: #E2EBFA;\n",
              "      --hover-fill-color: #174EA6;\n",
              "      --disabled-fill-color: #AAA;\n",
              "      --disabled-bg-color: #DDD;\n",
              "  }\n",
              "\n",
              "  [theme=dark] .colab-df-quickchart {\n",
              "      --bg-color: #3B4455;\n",
              "      --fill-color: #D2E3FC;\n",
              "      --hover-bg-color: #434B5C;\n",
              "      --hover-fill-color: #FFFFFF;\n",
              "      --disabled-bg-color: #3B4455;\n",
              "      --disabled-fill-color: #666;\n",
              "  }\n",
              "\n",
              "  .colab-df-quickchart {\n",
              "    background-color: var(--bg-color);\n",
              "    border: none;\n",
              "    border-radius: 50%;\n",
              "    cursor: pointer;\n",
              "    display: none;\n",
              "    fill: var(--fill-color);\n",
              "    height: 32px;\n",
              "    padding: 0;\n",
              "    width: 32px;\n",
              "  }\n",
              "\n",
              "  .colab-df-quickchart:hover {\n",
              "    background-color: var(--hover-bg-color);\n",
              "    box-shadow: 0 1px 2px rgba(60, 64, 67, 0.3), 0 1px 3px 1px rgba(60, 64, 67, 0.15);\n",
              "    fill: var(--button-hover-fill-color);\n",
              "  }\n",
              "\n",
              "  .colab-df-quickchart-complete:disabled,\n",
              "  .colab-df-quickchart-complete:disabled:hover {\n",
              "    background-color: var(--disabled-bg-color);\n",
              "    fill: var(--disabled-fill-color);\n",
              "    box-shadow: none;\n",
              "  }\n",
              "\n",
              "  .colab-df-spinner {\n",
              "    border: 2px solid var(--fill-color);\n",
              "    border-color: transparent;\n",
              "    border-bottom-color: var(--fill-color);\n",
              "    animation:\n",
              "      spin 1s steps(1) infinite;\n",
              "  }\n",
              "\n",
              "  @keyframes spin {\n",
              "    0% {\n",
              "      border-color: transparent;\n",
              "      border-bottom-color: var(--fill-color);\n",
              "      border-left-color: var(--fill-color);\n",
              "    }\n",
              "    20% {\n",
              "      border-color: transparent;\n",
              "      border-left-color: var(--fill-color);\n",
              "      border-top-color: var(--fill-color);\n",
              "    }\n",
              "    30% {\n",
              "      border-color: transparent;\n",
              "      border-left-color: var(--fill-color);\n",
              "      border-top-color: var(--fill-color);\n",
              "      border-right-color: var(--fill-color);\n",
              "    }\n",
              "    40% {\n",
              "      border-color: transparent;\n",
              "      border-right-color: var(--fill-color);\n",
              "      border-top-color: var(--fill-color);\n",
              "    }\n",
              "    60% {\n",
              "      border-color: transparent;\n",
              "      border-right-color: var(--fill-color);\n",
              "    }\n",
              "    80% {\n",
              "      border-color: transparent;\n",
              "      border-right-color: var(--fill-color);\n",
              "      border-bottom-color: var(--fill-color);\n",
              "    }\n",
              "    90% {\n",
              "      border-color: transparent;\n",
              "      border-bottom-color: var(--fill-color);\n",
              "    }\n",
              "  }\n",
              "</style>\n",
              "\n",
              "  <script>\n",
              "    async function quickchart(key) {\n",
              "      const quickchartButtonEl =\n",
              "        document.querySelector('#' + key + ' button');\n",
              "      quickchartButtonEl.disabled = true;  // To prevent multiple clicks.\n",
              "      quickchartButtonEl.classList.add('colab-df-spinner');\n",
              "      try {\n",
              "        const charts = await google.colab.kernel.invokeFunction(\n",
              "            'suggestCharts', [key], {});\n",
              "      } catch (error) {\n",
              "        console.error('Error during call to suggestCharts:', error);\n",
              "      }\n",
              "      quickchartButtonEl.classList.remove('colab-df-spinner');\n",
              "      quickchartButtonEl.classList.add('colab-df-quickchart-complete');\n",
              "    }\n",
              "    (() => {\n",
              "      let quickchartButtonEl =\n",
              "        document.querySelector('#df-8aeec26b-bf38-4fd5-bbfa-77cf9bbc623f button');\n",
              "      quickchartButtonEl.style.display =\n",
              "        google.colab.kernel.accessAllowed ? 'block' : 'none';\n",
              "    })();\n",
              "  </script>\n",
              "</div>\n",
              "\n",
              "  <div id=\"id_e1f944f5-8b35-4736-a946-5d2958f6b596\">\n",
              "    <style>\n",
              "      .colab-df-generate {\n",
              "        background-color: #E8F0FE;\n",
              "        border: none;\n",
              "        border-radius: 50%;\n",
              "        cursor: pointer;\n",
              "        display: none;\n",
              "        fill: #1967D2;\n",
              "        height: 32px;\n",
              "        padding: 0 0 0 0;\n",
              "        width: 32px;\n",
              "      }\n",
              "\n",
              "      .colab-df-generate:hover {\n",
              "        background-color: #E2EBFA;\n",
              "        box-shadow: 0px 1px 2px rgba(60, 64, 67, 0.3), 0px 1px 3px 1px rgba(60, 64, 67, 0.15);\n",
              "        fill: #174EA6;\n",
              "      }\n",
              "\n",
              "      [theme=dark] .colab-df-generate {\n",
              "        background-color: #3B4455;\n",
              "        fill: #D2E3FC;\n",
              "      }\n",
              "\n",
              "      [theme=dark] .colab-df-generate:hover {\n",
              "        background-color: #434B5C;\n",
              "        box-shadow: 0px 1px 3px 1px rgba(0, 0, 0, 0.15);\n",
              "        filter: drop-shadow(0px 1px 2px rgba(0, 0, 0, 0.3));\n",
              "        fill: #FFFFFF;\n",
              "      }\n",
              "    </style>\n",
              "    <button class=\"colab-df-generate\" onclick=\"generateWithVariable('states_less_100')\"\n",
              "            title=\"Generate code using this dataframe.\"\n",
              "            style=\"display:none;\">\n",
              "\n",
              "  <svg xmlns=\"http://www.w3.org/2000/svg\" height=\"24px\"viewBox=\"0 0 24 24\"\n",
              "       width=\"24px\">\n",
              "    <path d=\"M7,19H8.4L18.45,9,17,7.55,7,17.6ZM5,21V16.75L18.45,3.32a2,2,0,0,1,2.83,0l1.4,1.43a1.91,1.91,0,0,1,.58,1.4,1.91,1.91,0,0,1-.58,1.4L9.25,21ZM18.45,9,17,7.55Zm-12,3A5.31,5.31,0,0,0,4.9,8.1,5.31,5.31,0,0,0,1,6.5,5.31,5.31,0,0,0,4.9,4.9,5.31,5.31,0,0,0,6.5,1,5.31,5.31,0,0,0,8.1,4.9,5.31,5.31,0,0,0,12,6.5,5.46,5.46,0,0,0,6.5,12Z\"/>\n",
              "  </svg>\n",
              "    </button>\n",
              "    <script>\n",
              "      (() => {\n",
              "      const buttonEl =\n",
              "        document.querySelector('#id_e1f944f5-8b35-4736-a946-5d2958f6b596 button.colab-df-generate');\n",
              "      buttonEl.style.display =\n",
              "        google.colab.kernel.accessAllowed ? 'block' : 'none';\n",
              "\n",
              "      buttonEl.onclick = () => {\n",
              "        google.colab.notebook.generateWithVariable('states_less_100');\n",
              "      }\n",
              "      })();\n",
              "    </script>\n",
              "  </div>\n",
              "\n",
              "    </div>\n",
              "  </div>\n"
            ],
            "application/vnd.google.colaboratory.intrinsic+json": {
              "type": "dataframe",
              "variable_name": "states_less_100",
              "summary": "{\n  \"name\": \"states_less_100\",\n  \"rows\": 19,\n  \"fields\": [\n    {\n      \"column\": \"province\",\n      \"properties\": {\n        \"dtype\": \"string\",\n        \"num_unique_values\": 19,\n        \"samples\": [\n          \"MS\",\n          \"UT\",\n          \"SD\"\n        ],\n        \"semantic_type\": \"\",\n        \"description\": \"\"\n      }\n    },\n    {\n      \"column\": \"restaurant_count\",\n      \"properties\": {\n        \"dtype\": \"number\",\n        \"std\": 35,\n        \"min\": 1,\n        \"max\": 99,\n        \"num_unique_values\": 16,\n        \"samples\": [\n          99,\n          96,\n          74\n        ],\n        \"semantic_type\": \"\",\n        \"description\": \"\"\n      }\n    }\n  ]\n}"
            }
          },
          "metadata": {},
          "execution_count": 19
        }
      ]
    },
    {
      "cell_type": "code",
      "source": [
        "states_less_50 = df1[df1['restaurant_count'] < 50]\n",
        "states_less_50"
      ],
      "metadata": {
        "id": "EtL8kAcUtiVT",
        "colab": {
          "base_uri": "https://localhost:8080/",
          "height": 332
        },
        "outputId": "82c2c61d-d132-4b75-a94f-0cce0d370fe5"
      },
      "execution_count": null,
      "outputs": [
        {
          "output_type": "execute_result",
          "data": {
            "text/plain": [
              "   province  restaurant_count\n",
              "25       MT                33\n",
              "38       SD                27\n",
              "8        DE                25\n",
              "46       WY                20\n",
              "27       ND                18\n",
              "7        DC                18\n",
              "29       NJ                 2\n",
              "19       MA                 2\n",
              "6        CT                 1"
            ],
            "text/html": [
              "\n",
              "  <div id=\"df-d542639f-a67c-442a-9bcf-91e4bd187033\" class=\"colab-df-container\">\n",
              "    <div>\n",
              "<style scoped>\n",
              "    .dataframe tbody tr th:only-of-type {\n",
              "        vertical-align: middle;\n",
              "    }\n",
              "\n",
              "    .dataframe tbody tr th {\n",
              "        vertical-align: top;\n",
              "    }\n",
              "\n",
              "    .dataframe thead th {\n",
              "        text-align: right;\n",
              "    }\n",
              "</style>\n",
              "<table border=\"1\" class=\"dataframe\">\n",
              "  <thead>\n",
              "    <tr style=\"text-align: right;\">\n",
              "      <th></th>\n",
              "      <th>province</th>\n",
              "      <th>restaurant_count</th>\n",
              "    </tr>\n",
              "  </thead>\n",
              "  <tbody>\n",
              "    <tr>\n",
              "      <th>25</th>\n",
              "      <td>MT</td>\n",
              "      <td>33</td>\n",
              "    </tr>\n",
              "    <tr>\n",
              "      <th>38</th>\n",
              "      <td>SD</td>\n",
              "      <td>27</td>\n",
              "    </tr>\n",
              "    <tr>\n",
              "      <th>8</th>\n",
              "      <td>DE</td>\n",
              "      <td>25</td>\n",
              "    </tr>\n",
              "    <tr>\n",
              "      <th>46</th>\n",
              "      <td>WY</td>\n",
              "      <td>20</td>\n",
              "    </tr>\n",
              "    <tr>\n",
              "      <th>27</th>\n",
              "      <td>ND</td>\n",
              "      <td>18</td>\n",
              "    </tr>\n",
              "    <tr>\n",
              "      <th>7</th>\n",
              "      <td>DC</td>\n",
              "      <td>18</td>\n",
              "    </tr>\n",
              "    <tr>\n",
              "      <th>29</th>\n",
              "      <td>NJ</td>\n",
              "      <td>2</td>\n",
              "    </tr>\n",
              "    <tr>\n",
              "      <th>19</th>\n",
              "      <td>MA</td>\n",
              "      <td>2</td>\n",
              "    </tr>\n",
              "    <tr>\n",
              "      <th>6</th>\n",
              "      <td>CT</td>\n",
              "      <td>1</td>\n",
              "    </tr>\n",
              "  </tbody>\n",
              "</table>\n",
              "</div>\n",
              "    <div class=\"colab-df-buttons\">\n",
              "\n",
              "  <div class=\"colab-df-container\">\n",
              "    <button class=\"colab-df-convert\" onclick=\"convertToInteractive('df-d542639f-a67c-442a-9bcf-91e4bd187033')\"\n",
              "            title=\"Convert this dataframe to an interactive table.\"\n",
              "            style=\"display:none;\">\n",
              "\n",
              "  <svg xmlns=\"http://www.w3.org/2000/svg\" height=\"24px\" viewBox=\"0 -960 960 960\">\n",
              "    <path d=\"M120-120v-720h720v720H120Zm60-500h600v-160H180v160Zm220 220h160v-160H400v160Zm0 220h160v-160H400v160ZM180-400h160v-160H180v160Zm440 0h160v-160H620v160ZM180-180h160v-160H180v160Zm440 0h160v-160H620v160Z\"/>\n",
              "  </svg>\n",
              "    </button>\n",
              "\n",
              "  <style>\n",
              "    .colab-df-container {\n",
              "      display:flex;\n",
              "      gap: 12px;\n",
              "    }\n",
              "\n",
              "    .colab-df-convert {\n",
              "      background-color: #E8F0FE;\n",
              "      border: none;\n",
              "      border-radius: 50%;\n",
              "      cursor: pointer;\n",
              "      display: none;\n",
              "      fill: #1967D2;\n",
              "      height: 32px;\n",
              "      padding: 0 0 0 0;\n",
              "      width: 32px;\n",
              "    }\n",
              "\n",
              "    .colab-df-convert:hover {\n",
              "      background-color: #E2EBFA;\n",
              "      box-shadow: 0px 1px 2px rgba(60, 64, 67, 0.3), 0px 1px 3px 1px rgba(60, 64, 67, 0.15);\n",
              "      fill: #174EA6;\n",
              "    }\n",
              "\n",
              "    .colab-df-buttons div {\n",
              "      margin-bottom: 4px;\n",
              "    }\n",
              "\n",
              "    [theme=dark] .colab-df-convert {\n",
              "      background-color: #3B4455;\n",
              "      fill: #D2E3FC;\n",
              "    }\n",
              "\n",
              "    [theme=dark] .colab-df-convert:hover {\n",
              "      background-color: #434B5C;\n",
              "      box-shadow: 0px 1px 3px 1px rgba(0, 0, 0, 0.15);\n",
              "      filter: drop-shadow(0px 1px 2px rgba(0, 0, 0, 0.3));\n",
              "      fill: #FFFFFF;\n",
              "    }\n",
              "  </style>\n",
              "\n",
              "    <script>\n",
              "      const buttonEl =\n",
              "        document.querySelector('#df-d542639f-a67c-442a-9bcf-91e4bd187033 button.colab-df-convert');\n",
              "      buttonEl.style.display =\n",
              "        google.colab.kernel.accessAllowed ? 'block' : 'none';\n",
              "\n",
              "      async function convertToInteractive(key) {\n",
              "        const element = document.querySelector('#df-d542639f-a67c-442a-9bcf-91e4bd187033');\n",
              "        const dataTable =\n",
              "          await google.colab.kernel.invokeFunction('convertToInteractive',\n",
              "                                                    [key], {});\n",
              "        if (!dataTable) return;\n",
              "\n",
              "        const docLinkHtml = 'Like what you see? Visit the ' +\n",
              "          '<a target=\"_blank\" href=https://colab.research.google.com/notebooks/data_table.ipynb>data table notebook</a>'\n",
              "          + ' to learn more about interactive tables.';\n",
              "        element.innerHTML = '';\n",
              "        dataTable['output_type'] = 'display_data';\n",
              "        await google.colab.output.renderOutput(dataTable, element);\n",
              "        const docLink = document.createElement('div');\n",
              "        docLink.innerHTML = docLinkHtml;\n",
              "        element.appendChild(docLink);\n",
              "      }\n",
              "    </script>\n",
              "  </div>\n",
              "\n",
              "\n",
              "<div id=\"df-d505ac75-7d94-46af-86b0-01bea145144d\">\n",
              "  <button class=\"colab-df-quickchart\" onclick=\"quickchart('df-d505ac75-7d94-46af-86b0-01bea145144d')\"\n",
              "            title=\"Suggest charts\"\n",
              "            style=\"display:none;\">\n",
              "\n",
              "<svg xmlns=\"http://www.w3.org/2000/svg\" height=\"24px\"viewBox=\"0 0 24 24\"\n",
              "     width=\"24px\">\n",
              "    <g>\n",
              "        <path d=\"M19 3H5c-1.1 0-2 .9-2 2v14c0 1.1.9 2 2 2h14c1.1 0 2-.9 2-2V5c0-1.1-.9-2-2-2zM9 17H7v-7h2v7zm4 0h-2V7h2v10zm4 0h-2v-4h2v4z\"/>\n",
              "    </g>\n",
              "</svg>\n",
              "  </button>\n",
              "\n",
              "<style>\n",
              "  .colab-df-quickchart {\n",
              "      --bg-color: #E8F0FE;\n",
              "      --fill-color: #1967D2;\n",
              "      --hover-bg-color: #E2EBFA;\n",
              "      --hover-fill-color: #174EA6;\n",
              "      --disabled-fill-color: #AAA;\n",
              "      --disabled-bg-color: #DDD;\n",
              "  }\n",
              "\n",
              "  [theme=dark] .colab-df-quickchart {\n",
              "      --bg-color: #3B4455;\n",
              "      --fill-color: #D2E3FC;\n",
              "      --hover-bg-color: #434B5C;\n",
              "      --hover-fill-color: #FFFFFF;\n",
              "      --disabled-bg-color: #3B4455;\n",
              "      --disabled-fill-color: #666;\n",
              "  }\n",
              "\n",
              "  .colab-df-quickchart {\n",
              "    background-color: var(--bg-color);\n",
              "    border: none;\n",
              "    border-radius: 50%;\n",
              "    cursor: pointer;\n",
              "    display: none;\n",
              "    fill: var(--fill-color);\n",
              "    height: 32px;\n",
              "    padding: 0;\n",
              "    width: 32px;\n",
              "  }\n",
              "\n",
              "  .colab-df-quickchart:hover {\n",
              "    background-color: var(--hover-bg-color);\n",
              "    box-shadow: 0 1px 2px rgba(60, 64, 67, 0.3), 0 1px 3px 1px rgba(60, 64, 67, 0.15);\n",
              "    fill: var(--button-hover-fill-color);\n",
              "  }\n",
              "\n",
              "  .colab-df-quickchart-complete:disabled,\n",
              "  .colab-df-quickchart-complete:disabled:hover {\n",
              "    background-color: var(--disabled-bg-color);\n",
              "    fill: var(--disabled-fill-color);\n",
              "    box-shadow: none;\n",
              "  }\n",
              "\n",
              "  .colab-df-spinner {\n",
              "    border: 2px solid var(--fill-color);\n",
              "    border-color: transparent;\n",
              "    border-bottom-color: var(--fill-color);\n",
              "    animation:\n",
              "      spin 1s steps(1) infinite;\n",
              "  }\n",
              "\n",
              "  @keyframes spin {\n",
              "    0% {\n",
              "      border-color: transparent;\n",
              "      border-bottom-color: var(--fill-color);\n",
              "      border-left-color: var(--fill-color);\n",
              "    }\n",
              "    20% {\n",
              "      border-color: transparent;\n",
              "      border-left-color: var(--fill-color);\n",
              "      border-top-color: var(--fill-color);\n",
              "    }\n",
              "    30% {\n",
              "      border-color: transparent;\n",
              "      border-left-color: var(--fill-color);\n",
              "      border-top-color: var(--fill-color);\n",
              "      border-right-color: var(--fill-color);\n",
              "    }\n",
              "    40% {\n",
              "      border-color: transparent;\n",
              "      border-right-color: var(--fill-color);\n",
              "      border-top-color: var(--fill-color);\n",
              "    }\n",
              "    60% {\n",
              "      border-color: transparent;\n",
              "      border-right-color: var(--fill-color);\n",
              "    }\n",
              "    80% {\n",
              "      border-color: transparent;\n",
              "      border-right-color: var(--fill-color);\n",
              "      border-bottom-color: var(--fill-color);\n",
              "    }\n",
              "    90% {\n",
              "      border-color: transparent;\n",
              "      border-bottom-color: var(--fill-color);\n",
              "    }\n",
              "  }\n",
              "</style>\n",
              "\n",
              "  <script>\n",
              "    async function quickchart(key) {\n",
              "      const quickchartButtonEl =\n",
              "        document.querySelector('#' + key + ' button');\n",
              "      quickchartButtonEl.disabled = true;  // To prevent multiple clicks.\n",
              "      quickchartButtonEl.classList.add('colab-df-spinner');\n",
              "      try {\n",
              "        const charts = await google.colab.kernel.invokeFunction(\n",
              "            'suggestCharts', [key], {});\n",
              "      } catch (error) {\n",
              "        console.error('Error during call to suggestCharts:', error);\n",
              "      }\n",
              "      quickchartButtonEl.classList.remove('colab-df-spinner');\n",
              "      quickchartButtonEl.classList.add('colab-df-quickchart-complete');\n",
              "    }\n",
              "    (() => {\n",
              "      let quickchartButtonEl =\n",
              "        document.querySelector('#df-d505ac75-7d94-46af-86b0-01bea145144d button');\n",
              "      quickchartButtonEl.style.display =\n",
              "        google.colab.kernel.accessAllowed ? 'block' : 'none';\n",
              "    })();\n",
              "  </script>\n",
              "</div>\n",
              "\n",
              "  <div id=\"id_52379ea2-3996-41fd-bdaa-26beb458917d\">\n",
              "    <style>\n",
              "      .colab-df-generate {\n",
              "        background-color: #E8F0FE;\n",
              "        border: none;\n",
              "        border-radius: 50%;\n",
              "        cursor: pointer;\n",
              "        display: none;\n",
              "        fill: #1967D2;\n",
              "        height: 32px;\n",
              "        padding: 0 0 0 0;\n",
              "        width: 32px;\n",
              "      }\n",
              "\n",
              "      .colab-df-generate:hover {\n",
              "        background-color: #E2EBFA;\n",
              "        box-shadow: 0px 1px 2px rgba(60, 64, 67, 0.3), 0px 1px 3px 1px rgba(60, 64, 67, 0.15);\n",
              "        fill: #174EA6;\n",
              "      }\n",
              "\n",
              "      [theme=dark] .colab-df-generate {\n",
              "        background-color: #3B4455;\n",
              "        fill: #D2E3FC;\n",
              "      }\n",
              "\n",
              "      [theme=dark] .colab-df-generate:hover {\n",
              "        background-color: #434B5C;\n",
              "        box-shadow: 0px 1px 3px 1px rgba(0, 0, 0, 0.15);\n",
              "        filter: drop-shadow(0px 1px 2px rgba(0, 0, 0, 0.3));\n",
              "        fill: #FFFFFF;\n",
              "      }\n",
              "    </style>\n",
              "    <button class=\"colab-df-generate\" onclick=\"generateWithVariable('states_less_50')\"\n",
              "            title=\"Generate code using this dataframe.\"\n",
              "            style=\"display:none;\">\n",
              "\n",
              "  <svg xmlns=\"http://www.w3.org/2000/svg\" height=\"24px\"viewBox=\"0 0 24 24\"\n",
              "       width=\"24px\">\n",
              "    <path d=\"M7,19H8.4L18.45,9,17,7.55,7,17.6ZM5,21V16.75L18.45,3.32a2,2,0,0,1,2.83,0l1.4,1.43a1.91,1.91,0,0,1,.58,1.4,1.91,1.91,0,0,1-.58,1.4L9.25,21ZM18.45,9,17,7.55Zm-12,3A5.31,5.31,0,0,0,4.9,8.1,5.31,5.31,0,0,0,1,6.5,5.31,5.31,0,0,0,4.9,4.9,5.31,5.31,0,0,0,6.5,1,5.31,5.31,0,0,0,8.1,4.9,5.31,5.31,0,0,0,12,6.5,5.46,5.46,0,0,0,6.5,12Z\"/>\n",
              "  </svg>\n",
              "    </button>\n",
              "    <script>\n",
              "      (() => {\n",
              "      const buttonEl =\n",
              "        document.querySelector('#id_52379ea2-3996-41fd-bdaa-26beb458917d button.colab-df-generate');\n",
              "      buttonEl.style.display =\n",
              "        google.colab.kernel.accessAllowed ? 'block' : 'none';\n",
              "\n",
              "      buttonEl.onclick = () => {\n",
              "        google.colab.notebook.generateWithVariable('states_less_50');\n",
              "      }\n",
              "      })();\n",
              "    </script>\n",
              "  </div>\n",
              "\n",
              "    </div>\n",
              "  </div>\n"
            ],
            "application/vnd.google.colaboratory.intrinsic+json": {
              "type": "dataframe",
              "variable_name": "states_less_50",
              "summary": "{\n  \"name\": \"states_less_50\",\n  \"rows\": 9,\n  \"fields\": [\n    {\n      \"column\": \"province\",\n      \"properties\": {\n        \"dtype\": \"string\",\n        \"num_unique_values\": 9,\n        \"samples\": [\n          \"MA\",\n          \"SD\",\n          \"DC\"\n        ],\n        \"semantic_type\": \"\",\n        \"description\": \"\"\n      }\n    },\n    {\n      \"column\": \"restaurant_count\",\n      \"properties\": {\n        \"dtype\": \"number\",\n        \"std\": 11,\n        \"min\": 1,\n        \"max\": 33,\n        \"num_unique_values\": 7,\n        \"samples\": [\n          33,\n          27,\n          2\n        ],\n        \"semantic_type\": \"\",\n        \"description\": \"\"\n      }\n    }\n  ]\n}"
            }
          },
          "metadata": {},
          "execution_count": 20
        }
      ]
    },
    {
      "cell_type": "code",
      "source": [
        "# Merge the two datasets\n",
        "merged_df = pd.concat([states_less_50, states_less_100]).drop_duplicates()\n",
        "\n",
        "# Plot the choropleth map\n",
        "fig = px.choropleth(merged_df,\n",
        "                     locations='province',\n",
        "                     locationmode='USA-states',\n",
        "                     scope='usa',\n",
        "                     color='restaurant_count',\n",
        "                     hover_name='province',\n",
        "                     color_continuous_scale=px.colors.sequential.Plasma,\n",
        "                     range_color=(0, 100),\n",
        "                     title='Provinces with Less Than 50 or 100 Restaurants',\n",
        "                     labels={'restaurant_count': 'Restaurant Count'}\n",
        "                    )\n",
        "\n",
        "# Add slider for filtering less than 50 and less than 100 restaurants\n",
        "fig.update_layout(\n",
        "    sliders=[\n",
        "        {\n",
        "            'steps': [\n",
        "                {'method': 'update', 'label': 'Less Than 50', 'args': [{'visible': [True]}, {'title': 'Provinces with Less Than 50 Restaurants'}]},\n",
        "                {'method': 'update', 'label': 'Less Than 100', 'args': [{'visible': [True]}, {'title': 'Provinces with Less Than 100 Restaurants'}]}\n",
        "            ]\n",
        "        }\n",
        "    ]\n",
        ")\n",
        "\n",
        "# Add click event to update map with selected province\n",
        "fig.update_traces(marker_line_width=0.5, selector=dict(type='choropleth'))\n",
        "fig.update_layout(clickmode='event+select')\n",
        "\n",
        "fig.show()"
      ],
      "metadata": {
        "id": "rg3pqWBRtR0U",
        "colab": {
          "base_uri": "https://localhost:8080/",
          "height": 542
        },
        "outputId": "486336bd-914b-4678-e2ac-932f7fc0ca08"
      },
      "execution_count": null,
      "outputs": [
        {
          "output_type": "display_data",
          "data": {
            "text/html": [
              "<html>\n",
              "<head><meta charset=\"utf-8\" /></head>\n",
              "<body>\n",
              "    <div>            <script src=\"https://cdnjs.cloudflare.com/ajax/libs/mathjax/2.7.5/MathJax.js?config=TeX-AMS-MML_SVG\"></script><script type=\"text/javascript\">if (window.MathJax && window.MathJax.Hub && window.MathJax.Hub.Config) {window.MathJax.Hub.Config({SVG: {font: \"STIX-Web\"}});}</script>                <script type=\"text/javascript\">window.PlotlyConfig = {MathJaxConfig: 'local'};</script>\n",
              "        <script charset=\"utf-8\" src=\"https://cdn.plot.ly/plotly-2.24.1.min.js\"></script>                <div id=\"c0daa2c6-fc7f-47d4-b3ef-a9f9b46c858e\" class=\"plotly-graph-div\" style=\"height:525px; width:100%;\"></div>            <script type=\"text/javascript\">                                    window.PLOTLYENV=window.PLOTLYENV || {};                                    if (document.getElementById(\"c0daa2c6-fc7f-47d4-b3ef-a9f9b46c858e\")) {                    Plotly.newPlot(                        \"c0daa2c6-fc7f-47d4-b3ef-a9f9b46c858e\",                        [{\"coloraxis\":\"coloraxis\",\"geo\":\"geo\",\"hovertemplate\":\"\\u003cb\\u003e%{hovertext}\\u003c\\u002fb\\u003e\\u003cbr\\u003e\\u003cbr\\u003eprovince=%{location}\\u003cbr\\u003eRestaurant Count=%{z}\\u003cextra\\u003e\\u003c\\u002fextra\\u003e\",\"hovertext\":[\"MT\",\"SD\",\"DE\",\"WY\",\"ND\",\"DC\",\"NJ\",\"MA\",\"CT\",\"MS\",\"NV\",\"KS\",\"HI\",\"MN\",\"UT\",\"NE\",\"NM\",\"ID\",\"AK\"],\"locationmode\":\"USA-states\",\"locations\":[\"MT\",\"SD\",\"DE\",\"WY\",\"ND\",\"DC\",\"NJ\",\"MA\",\"CT\",\"MS\",\"NV\",\"KS\",\"HI\",\"MN\",\"UT\",\"NE\",\"NM\",\"ID\",\"AK\"],\"name\":\"\",\"z\":[33,27,25,20,18,18,2,2,1,99,96,92,91,83,74,74,69,65,64],\"type\":\"choropleth\",\"marker\":{\"line\":{\"width\":0.5}}}],                        {\"template\":{\"data\":{\"histogram2dcontour\":[{\"type\":\"histogram2dcontour\",\"colorbar\":{\"outlinewidth\":0,\"ticks\":\"\"},\"colorscale\":[[0.0,\"#0d0887\"],[0.1111111111111111,\"#46039f\"],[0.2222222222222222,\"#7201a8\"],[0.3333333333333333,\"#9c179e\"],[0.4444444444444444,\"#bd3786\"],[0.5555555555555556,\"#d8576b\"],[0.6666666666666666,\"#ed7953\"],[0.7777777777777778,\"#fb9f3a\"],[0.8888888888888888,\"#fdca26\"],[1.0,\"#f0f921\"]]}],\"choropleth\":[{\"type\":\"choropleth\",\"colorbar\":{\"outlinewidth\":0,\"ticks\":\"\"}}],\"histogram2d\":[{\"type\":\"histogram2d\",\"colorbar\":{\"outlinewidth\":0,\"ticks\":\"\"},\"colorscale\":[[0.0,\"#0d0887\"],[0.1111111111111111,\"#46039f\"],[0.2222222222222222,\"#7201a8\"],[0.3333333333333333,\"#9c179e\"],[0.4444444444444444,\"#bd3786\"],[0.5555555555555556,\"#d8576b\"],[0.6666666666666666,\"#ed7953\"],[0.7777777777777778,\"#fb9f3a\"],[0.8888888888888888,\"#fdca26\"],[1.0,\"#f0f921\"]]}],\"heatmap\":[{\"type\":\"heatmap\",\"colorbar\":{\"outlinewidth\":0,\"ticks\":\"\"},\"colorscale\":[[0.0,\"#0d0887\"],[0.1111111111111111,\"#46039f\"],[0.2222222222222222,\"#7201a8\"],[0.3333333333333333,\"#9c179e\"],[0.4444444444444444,\"#bd3786\"],[0.5555555555555556,\"#d8576b\"],[0.6666666666666666,\"#ed7953\"],[0.7777777777777778,\"#fb9f3a\"],[0.8888888888888888,\"#fdca26\"],[1.0,\"#f0f921\"]]}],\"heatmapgl\":[{\"type\":\"heatmapgl\",\"colorbar\":{\"outlinewidth\":0,\"ticks\":\"\"},\"colorscale\":[[0.0,\"#0d0887\"],[0.1111111111111111,\"#46039f\"],[0.2222222222222222,\"#7201a8\"],[0.3333333333333333,\"#9c179e\"],[0.4444444444444444,\"#bd3786\"],[0.5555555555555556,\"#d8576b\"],[0.6666666666666666,\"#ed7953\"],[0.7777777777777778,\"#fb9f3a\"],[0.8888888888888888,\"#fdca26\"],[1.0,\"#f0f921\"]]}],\"contourcarpet\":[{\"type\":\"contourcarpet\",\"colorbar\":{\"outlinewidth\":0,\"ticks\":\"\"}}],\"contour\":[{\"type\":\"contour\",\"colorbar\":{\"outlinewidth\":0,\"ticks\":\"\"},\"colorscale\":[[0.0,\"#0d0887\"],[0.1111111111111111,\"#46039f\"],[0.2222222222222222,\"#7201a8\"],[0.3333333333333333,\"#9c179e\"],[0.4444444444444444,\"#bd3786\"],[0.5555555555555556,\"#d8576b\"],[0.6666666666666666,\"#ed7953\"],[0.7777777777777778,\"#fb9f3a\"],[0.8888888888888888,\"#fdca26\"],[1.0,\"#f0f921\"]]}],\"surface\":[{\"type\":\"surface\",\"colorbar\":{\"outlinewidth\":0,\"ticks\":\"\"},\"colorscale\":[[0.0,\"#0d0887\"],[0.1111111111111111,\"#46039f\"],[0.2222222222222222,\"#7201a8\"],[0.3333333333333333,\"#9c179e\"],[0.4444444444444444,\"#bd3786\"],[0.5555555555555556,\"#d8576b\"],[0.6666666666666666,\"#ed7953\"],[0.7777777777777778,\"#fb9f3a\"],[0.8888888888888888,\"#fdca26\"],[1.0,\"#f0f921\"]]}],\"mesh3d\":[{\"type\":\"mesh3d\",\"colorbar\":{\"outlinewidth\":0,\"ticks\":\"\"}}],\"scatter\":[{\"fillpattern\":{\"fillmode\":\"overlay\",\"size\":10,\"solidity\":0.2},\"type\":\"scatter\"}],\"parcoords\":[{\"type\":\"parcoords\",\"line\":{\"colorbar\":{\"outlinewidth\":0,\"ticks\":\"\"}}}],\"scatterpolargl\":[{\"type\":\"scatterpolargl\",\"marker\":{\"colorbar\":{\"outlinewidth\":0,\"ticks\":\"\"}}}],\"bar\":[{\"error_x\":{\"color\":\"#2a3f5f\"},\"error_y\":{\"color\":\"#2a3f5f\"},\"marker\":{\"line\":{\"color\":\"#E5ECF6\",\"width\":0.5},\"pattern\":{\"fillmode\":\"overlay\",\"size\":10,\"solidity\":0.2}},\"type\":\"bar\"}],\"scattergeo\":[{\"type\":\"scattergeo\",\"marker\":{\"colorbar\":{\"outlinewidth\":0,\"ticks\":\"\"}}}],\"scatterpolar\":[{\"type\":\"scatterpolar\",\"marker\":{\"colorbar\":{\"outlinewidth\":0,\"ticks\":\"\"}}}],\"histogram\":[{\"marker\":{\"pattern\":{\"fillmode\":\"overlay\",\"size\":10,\"solidity\":0.2}},\"type\":\"histogram\"}],\"scattergl\":[{\"type\":\"scattergl\",\"marker\":{\"colorbar\":{\"outlinewidth\":0,\"ticks\":\"\"}}}],\"scatter3d\":[{\"type\":\"scatter3d\",\"line\":{\"colorbar\":{\"outlinewidth\":0,\"ticks\":\"\"}},\"marker\":{\"colorbar\":{\"outlinewidth\":0,\"ticks\":\"\"}}}],\"scattermapbox\":[{\"type\":\"scattermapbox\",\"marker\":{\"colorbar\":{\"outlinewidth\":0,\"ticks\":\"\"}}}],\"scatterternary\":[{\"type\":\"scatterternary\",\"marker\":{\"colorbar\":{\"outlinewidth\":0,\"ticks\":\"\"}}}],\"scattercarpet\":[{\"type\":\"scattercarpet\",\"marker\":{\"colorbar\":{\"outlinewidth\":0,\"ticks\":\"\"}}}],\"carpet\":[{\"aaxis\":{\"endlinecolor\":\"#2a3f5f\",\"gridcolor\":\"white\",\"linecolor\":\"white\",\"minorgridcolor\":\"white\",\"startlinecolor\":\"#2a3f5f\"},\"baxis\":{\"endlinecolor\":\"#2a3f5f\",\"gridcolor\":\"white\",\"linecolor\":\"white\",\"minorgridcolor\":\"white\",\"startlinecolor\":\"#2a3f5f\"},\"type\":\"carpet\"}],\"table\":[{\"cells\":{\"fill\":{\"color\":\"#EBF0F8\"},\"line\":{\"color\":\"white\"}},\"header\":{\"fill\":{\"color\":\"#C8D4E3\"},\"line\":{\"color\":\"white\"}},\"type\":\"table\"}],\"barpolar\":[{\"marker\":{\"line\":{\"color\":\"#E5ECF6\",\"width\":0.5},\"pattern\":{\"fillmode\":\"overlay\",\"size\":10,\"solidity\":0.2}},\"type\":\"barpolar\"}],\"pie\":[{\"automargin\":true,\"type\":\"pie\"}]},\"layout\":{\"autotypenumbers\":\"strict\",\"colorway\":[\"#636efa\",\"#EF553B\",\"#00cc96\",\"#ab63fa\",\"#FFA15A\",\"#19d3f3\",\"#FF6692\",\"#B6E880\",\"#FF97FF\",\"#FECB52\"],\"font\":{\"color\":\"#2a3f5f\"},\"hovermode\":\"closest\",\"hoverlabel\":{\"align\":\"left\"},\"paper_bgcolor\":\"white\",\"plot_bgcolor\":\"#E5ECF6\",\"polar\":{\"bgcolor\":\"#E5ECF6\",\"angularaxis\":{\"gridcolor\":\"white\",\"linecolor\":\"white\",\"ticks\":\"\"},\"radialaxis\":{\"gridcolor\":\"white\",\"linecolor\":\"white\",\"ticks\":\"\"}},\"ternary\":{\"bgcolor\":\"#E5ECF6\",\"aaxis\":{\"gridcolor\":\"white\",\"linecolor\":\"white\",\"ticks\":\"\"},\"baxis\":{\"gridcolor\":\"white\",\"linecolor\":\"white\",\"ticks\":\"\"},\"caxis\":{\"gridcolor\":\"white\",\"linecolor\":\"white\",\"ticks\":\"\"}},\"coloraxis\":{\"colorbar\":{\"outlinewidth\":0,\"ticks\":\"\"}},\"colorscale\":{\"sequential\":[[0.0,\"#0d0887\"],[0.1111111111111111,\"#46039f\"],[0.2222222222222222,\"#7201a8\"],[0.3333333333333333,\"#9c179e\"],[0.4444444444444444,\"#bd3786\"],[0.5555555555555556,\"#d8576b\"],[0.6666666666666666,\"#ed7953\"],[0.7777777777777778,\"#fb9f3a\"],[0.8888888888888888,\"#fdca26\"],[1.0,\"#f0f921\"]],\"sequentialminus\":[[0.0,\"#0d0887\"],[0.1111111111111111,\"#46039f\"],[0.2222222222222222,\"#7201a8\"],[0.3333333333333333,\"#9c179e\"],[0.4444444444444444,\"#bd3786\"],[0.5555555555555556,\"#d8576b\"],[0.6666666666666666,\"#ed7953\"],[0.7777777777777778,\"#fb9f3a\"],[0.8888888888888888,\"#fdca26\"],[1.0,\"#f0f921\"]],\"diverging\":[[0,\"#8e0152\"],[0.1,\"#c51b7d\"],[0.2,\"#de77ae\"],[0.3,\"#f1b6da\"],[0.4,\"#fde0ef\"],[0.5,\"#f7f7f7\"],[0.6,\"#e6f5d0\"],[0.7,\"#b8e186\"],[0.8,\"#7fbc41\"],[0.9,\"#4d9221\"],[1,\"#276419\"]]},\"xaxis\":{\"gridcolor\":\"white\",\"linecolor\":\"white\",\"ticks\":\"\",\"title\":{\"standoff\":15},\"zerolinecolor\":\"white\",\"automargin\":true,\"zerolinewidth\":2},\"yaxis\":{\"gridcolor\":\"white\",\"linecolor\":\"white\",\"ticks\":\"\",\"title\":{\"standoff\":15},\"zerolinecolor\":\"white\",\"automargin\":true,\"zerolinewidth\":2},\"scene\":{\"xaxis\":{\"backgroundcolor\":\"#E5ECF6\",\"gridcolor\":\"white\",\"linecolor\":\"white\",\"showbackground\":true,\"ticks\":\"\",\"zerolinecolor\":\"white\",\"gridwidth\":2},\"yaxis\":{\"backgroundcolor\":\"#E5ECF6\",\"gridcolor\":\"white\",\"linecolor\":\"white\",\"showbackground\":true,\"ticks\":\"\",\"zerolinecolor\":\"white\",\"gridwidth\":2},\"zaxis\":{\"backgroundcolor\":\"#E5ECF6\",\"gridcolor\":\"white\",\"linecolor\":\"white\",\"showbackground\":true,\"ticks\":\"\",\"zerolinecolor\":\"white\",\"gridwidth\":2}},\"shapedefaults\":{\"line\":{\"color\":\"#2a3f5f\"}},\"annotationdefaults\":{\"arrowcolor\":\"#2a3f5f\",\"arrowhead\":0,\"arrowwidth\":1},\"geo\":{\"bgcolor\":\"white\",\"landcolor\":\"#E5ECF6\",\"subunitcolor\":\"white\",\"showland\":true,\"showlakes\":true,\"lakecolor\":\"white\"},\"title\":{\"x\":0.05},\"mapbox\":{\"style\":\"light\"}}},\"geo\":{\"domain\":{\"x\":[0.0,1.0],\"y\":[0.0,1.0]},\"center\":{},\"scope\":\"usa\"},\"coloraxis\":{\"colorbar\":{\"title\":{\"text\":\"Restaurant Count\"}},\"colorscale\":[[0.0,\"#0d0887\"],[0.1111111111111111,\"#46039f\"],[0.2222222222222222,\"#7201a8\"],[0.3333333333333333,\"#9c179e\"],[0.4444444444444444,\"#bd3786\"],[0.5555555555555556,\"#d8576b\"],[0.6666666666666666,\"#ed7953\"],[0.7777777777777778,\"#fb9f3a\"],[0.8888888888888888,\"#fdca26\"],[1.0,\"#f0f921\"]],\"cmin\":0,\"cmax\":100},\"legend\":{\"tracegroupgap\":0},\"title\":{\"text\":\"Provinces with Less Than 50 or 100 Restaurants\"},\"sliders\":[{\"steps\":[{\"args\":[{\"visible\":[true]},{\"title\":\"Provinces with Less Than 50 Restaurants\"}],\"label\":\"Less Than 50\",\"method\":\"update\"},{\"args\":[{\"visible\":[true]},{\"title\":\"Provinces with Less Than 100 Restaurants\"}],\"label\":\"Less Than 100\",\"method\":\"update\"}]}],\"clickmode\":\"event+select\"},                        {\"responsive\": true}                    ).then(function(){\n",
              "                            \n",
              "var gd = document.getElementById('c0daa2c6-fc7f-47d4-b3ef-a9f9b46c858e');\n",
              "var x = new MutationObserver(function (mutations, observer) {{\n",
              "        var display = window.getComputedStyle(gd).display;\n",
              "        if (!display || display === 'none') {{\n",
              "            console.log([gd, 'removed!']);\n",
              "            Plotly.purge(gd);\n",
              "            observer.disconnect();\n",
              "        }}\n",
              "}});\n",
              "\n",
              "// Listen for the removal of the full notebook cells\n",
              "var notebookContainer = gd.closest('#notebook-container');\n",
              "if (notebookContainer) {{\n",
              "    x.observe(notebookContainer, {childList: true});\n",
              "}}\n",
              "\n",
              "// Listen for the clearing of the current output cell\n",
              "var outputEl = gd.closest('.output');\n",
              "if (outputEl) {{\n",
              "    x.observe(outputEl, {childList: true});\n",
              "}}\n",
              "\n",
              "                        })                };                            </script>        </div>\n",
              "</body>\n",
              "</html>"
            ]
          },
          "metadata": {}
        }
      ]
    },
    {
      "cell_type": "markdown",
      "source": [
        "**Observation:**\n",
        "Select the above areas where the amount of stores is less than 50 or 100 for the development of new fast food stores, having a large relatively unopened market and being given more opportunities, reducing competition with strong competitors in bustling areas."
      ],
      "metadata": {
        "id": "zW0BlKXaz8QL"
      }
    },
    {
      "cell_type": "markdown",
      "source": [
        "**Now, I will break up over 50 odd states into key regions to learn Brand strenghs at regional level. First lets take a closer look at dataset by plotting them on Map**"
      ],
      "metadata": {
        "id": "NXDakS0ZF8np"
      }
    },
    {
      "cell_type": "markdown",
      "source": [
        "**2. Overview of Fast Food Restaurant Landscape**\n",
        "\n",
        "**Lets obtain presence of restaurants at Regional level**"
      ],
      "metadata": {
        "id": "7meCMgsRIbvC"
      }
    },
    {
      "cell_type": "markdown",
      "source": [
        "# **Interactive Map Visualization 2**"
      ],
      "metadata": {
        "id": "lHzJ2kcnSF0W"
      }
    },
    {
      "cell_type": "code",
      "source": [
        "lats = df['latitude'].tolist()\n",
        "lons = df['longitude'].tolist()\n",
        "locations = list(zip(lats, lons))\n",
        "\n",
        "map1 = folium.Map(location=[37.0902, -95.7129], zoom_start=5)\n",
        "FastMarkerCluster(data=locations).add_to(map1)\n",
        "map1"
      ],
      "metadata": {
        "id": "64ZLHLlv0Gbc",
        "colab": {
          "base_uri": "https://localhost:8080/",
          "height": 762
        },
        "outputId": "7ec91aec-2a9b-4f2d-8753-9b3e55f73b6a"
      },
      "execution_count": null,
      "outputs": [
        {
          "output_type": "execute_result",
          "data": {
            "text/plain": [
              "<folium.folium.Map at 0x7cc7f5f571c0>"
            ],
            "text/html": [
              "<div style=\"width:100%;\"><div style=\"position:relative;width:100%;height:0;padding-bottom:60%;\"><span style=\"color:#565656\">Make this Notebook Trusted to load map: File -> Trust Notebook</span><iframe srcdoc=\"&lt;!DOCTYPE html&gt;\n",
              "&lt;html&gt;\n",
              "&lt;head&gt;\n",
              "    \n",
              "    &lt;meta http-equiv=&quot;content-type&quot; content=&quot;text/html; charset=UTF-8&quot; /&gt;\n",
              "    \n",
              "        &lt;script&gt;\n",
              "            L_NO_TOUCH = false;\n",
              "            L_DISABLE_3D = false;\n",
              "        &lt;/script&gt;\n",
              "    \n",
              "    &lt;style&gt;html, body {width: 100%;height: 100%;margin: 0;padding: 0;}&lt;/style&gt;\n",
              "    &lt;style&gt;#map {position:absolute;top:0;bottom:0;right:0;left:0;}&lt;/style&gt;\n",
              "    &lt;script src=&quot;https://cdn.jsdelivr.net/npm/leaflet@1.9.3/dist/leaflet.js&quot;&gt;&lt;/script&gt;\n",
              "    &lt;script src=&quot;https://code.jquery.com/jquery-1.12.4.min.js&quot;&gt;&lt;/script&gt;\n",
              "    &lt;script src=&quot;https://cdn.jsdelivr.net/npm/bootstrap@5.2.2/dist/js/bootstrap.bundle.min.js&quot;&gt;&lt;/script&gt;\n",
              "    &lt;script src=&quot;https://cdnjs.cloudflare.com/ajax/libs/Leaflet.awesome-markers/2.0.2/leaflet.awesome-markers.js&quot;&gt;&lt;/script&gt;\n",
              "    &lt;link rel=&quot;stylesheet&quot; href=&quot;https://cdn.jsdelivr.net/npm/leaflet@1.9.3/dist/leaflet.css&quot;/&gt;\n",
              "    &lt;link rel=&quot;stylesheet&quot; href=&quot;https://cdn.jsdelivr.net/npm/bootstrap@5.2.2/dist/css/bootstrap.min.css&quot;/&gt;\n",
              "    &lt;link rel=&quot;stylesheet&quot; href=&quot;https://netdna.bootstrapcdn.com/bootstrap/3.0.0/css/bootstrap.min.css&quot;/&gt;\n",
              "    &lt;link rel=&quot;stylesheet&quot; href=&quot;https://cdn.jsdelivr.net/npm/@fortawesome/fontawesome-free@6.2.0/css/all.min.css&quot;/&gt;\n",
              "    &lt;link rel=&quot;stylesheet&quot; href=&quot;https://cdnjs.cloudflare.com/ajax/libs/Leaflet.awesome-markers/2.0.2/leaflet.awesome-markers.css&quot;/&gt;\n",
              "    &lt;link rel=&quot;stylesheet&quot; href=&quot;https://cdn.jsdelivr.net/gh/python-visualization/folium/folium/templates/leaflet.awesome.rotate.min.css&quot;/&gt;\n",
              "    \n",
              "            &lt;meta name=&quot;viewport&quot; content=&quot;width=device-width,\n",
              "                initial-scale=1.0, maximum-scale=1.0, user-scalable=no&quot; /&gt;\n",
              "            &lt;style&gt;\n",
              "                #map_5d30b176456bff02ae226c8a56021120 {\n",
              "                    position: relative;\n",
              "                    width: 100.0%;\n",
              "                    height: 100.0%;\n",
              "                    left: 0.0%;\n",
              "                    top: 0.0%;\n",
              "                }\n",
              "                .leaflet-container { font-size: 1rem; }\n",
              "            &lt;/style&gt;\n",
              "        \n",
              "    &lt;script src=&quot;https://cdnjs.cloudflare.com/ajax/libs/leaflet.markercluster/1.1.0/leaflet.markercluster.js&quot;&gt;&lt;/script&gt;\n",
              "    &lt;link rel=&quot;stylesheet&quot; href=&quot;https://cdnjs.cloudflare.com/ajax/libs/leaflet.markercluster/1.1.0/MarkerCluster.css&quot;/&gt;\n",
              "    &lt;link rel=&quot;stylesheet&quot; href=&quot;https://cdnjs.cloudflare.com/ajax/libs/leaflet.markercluster/1.1.0/MarkerCluster.Default.css&quot;/&gt;\n",
              "&lt;/head&gt;\n",
              "&lt;body&gt;\n",
              "    \n",
              "    \n",
              "            &lt;div class=&quot;folium-map&quot; id=&quot;map_5d30b176456bff02ae226c8a56021120&quot; &gt;&lt;/div&gt;\n",
              "        \n",
              "&lt;/body&gt;\n",
              "&lt;script&gt;\n",
              "    \n",
              "    \n",
              "            var map_5d30b176456bff02ae226c8a56021120 = L.map(\n",
              "                &quot;map_5d30b176456bff02ae226c8a56021120&quot;,\n",
              "                {\n",
              "                    center: [37.0902, -95.7129],\n",
              "                    crs: L.CRS.EPSG3857,\n",
              "                    zoom: 5,\n",
              "                    zoomControl: true,\n",
              "                    preferCanvas: false,\n",
              "                }\n",
              "            );\n",
              "\n",
              "            \n",
              "\n",
              "        \n",
              "    \n",
              "            var tile_layer_dab68016155004ac1e3fe4847dd5420c = L.tileLayer(\n",
              "                &quot;https://{s}.tile.openstreetmap.org/{z}/{x}/{y}.png&quot;,\n",
              "                {&quot;attribution&quot;: &quot;Data by \\u0026copy; \\u003ca target=\\&quot;_blank\\&quot; href=\\&quot;http://openstreetmap.org\\&quot;\\u003eOpenStreetMap\\u003c/a\\u003e, under \\u003ca target=\\&quot;_blank\\&quot; href=\\&quot;http://www.openstreetmap.org/copyright\\&quot;\\u003eODbL\\u003c/a\\u003e.&quot;, &quot;detectRetina&quot;: false, &quot;maxNativeZoom&quot;: 18, &quot;maxZoom&quot;: 18, &quot;minZoom&quot;: 0, &quot;noWrap&quot;: false, &quot;opacity&quot;: 1, &quot;subdomains&quot;: &quot;abc&quot;, &quot;tms&quot;: false}\n",
              "            ).addTo(map_5d30b176456bff02ae226c8a56021120);\n",
              "        \n",
              "    \n",
              "            var fast_marker_cluster_d90388a016010e967ff61081b9a6bc9b = (function(){\n",
              "                \n",
              "                var callback = function (row) {\n",
              "                    var icon = L.AwesomeMarkers.icon();\n",
              "                    var marker = L.marker(new L.LatLng(row[0], row[1]));\n",
              "                    marker.setIcon(icon);\n",
              "                    return marker;\n",
              "                };\n",
              "\n",
              "                var data = [[40.39629, -104.69699], [39.08135, -108.58689], [39.09148, -108.55411], [39.76369, -104.77671], [39.74044, -104.92636], [39.73967, -105.00467], [39.7417, -104.98829], [36.085369, -94.155319], [39.70534, -104.86633], [39.749107, -104.99459], [38.87469, -104.8257], [38.94581, -104.79873], [38.80491, -104.81956], [38.93604, -104.79854], [34.772621, -92.400605], [36.2597, -93.1265], [57.791026, -152.40676], [55.3484, -131.67413], [57.80987, -152.36508], [64.756076, -147.35411], [55.3445, -131.6533], [60.561, -151.22925], [64.8373, -147.7606], [61.2076, -149.8035], [43.800839, -123.039401], [41.03715, -73.77877], [45.3222, -118.0848], [41.233837, -96.04496], [33.56184, -86.52249], [32.88285, -85.40805], [33.38099, -88.02008], [31.30987, -86.49962], [34.44567, -86.75545], [34.57064, -86.44759], [31.28001, -86.25011], [33.95433, -86.46733], [34.33266, -86.50455], [33.70698, -87.82406], [34.65901, -86.48167], [33.96641, -87.91083], [31.85179, -86.64201], [30.49509, -88.33755], [33.64677, -86.8234], [33.65271, -86.8105], [32.6243, -88.20632], [32.62111, -88.1965], [25.9509, -81.7228], [34.07124, -86.77643], [34.2277, -87.62024], [33.53055, -86.71381], [31.89056, -85.14549], [32.4116, -88.50533], [32.60197, -88.18293], [34.267956, -85.86197], [34.15898, -85.70809], [34.16017, -85.6682], [33.11864, -85.45195], [32.49789, -87.84711], [32.950325, -87.11924], [30.6758, -88.1419], [33.1565, -87.5163], [34.564526, -86.972877], [31.106, -87.47561], [33.12734, -88.14985], [33.60968, -86.96368], [33.60972, -86.28005], [33.95857, -86.46367], [33.78078, -85.89649], [30.68421, -88.22378], [30.76164, -88.07332], [33.3848, -86.73919], [33.15574, -86.74734], [34.46644, -85.70053], [34.49215, -85.84452], [34.4957, -85.84983], [31.78473, -85.96336], [33.45073, -86.97938], [33.75616, -87.06325], [33.85424, -87.28822], [33.84866, -87.28365], [34.76119, -86.59108], [34.713165, -86.65868], [34.74619, -86.67575], [32.42211, -85.03987], [32.49808, -85.04433], [32.44588, -84.92876], [32.46804, -84.96781], [64.8466, -147.7005], [33.505974, -86.89299], [33.51169, -86.78845], [33.41926, -86.80079], [33.45069, -86.72996], [33.23687, -86.81286], [33.25046, -86.81478], [33.14812, -86.74937], [34.34134, -86.30938], [34.58542, -86.98081], [34.57165, -87.01462], [34.55496, -86.99725], [34.62039, -87.05281], [34.57586, -86.97611], [34.56185, -87.00769], [34.56784, -87.01125], [31.33653, -85.85576], [34.81771, -87.68111], [31.18926, -85.40099], [31.21224, -85.36109], [31.21805, -85.35983], [33.21097, -87.55278], [33.17378, -87.52549], [33.18941, -87.52625], [32.57246, -85.49903], [34.7881, -86.96264], [34.80086, -86.9526], [33.61477, -85.80492], [33.61567, -85.82607], [34.17945, -86.84606], [34.15977, -86.84812], [34.15758, -86.83748], [34.20643, -86.86648], [34.19863, -86.80401], [34.18417, -86.84848], [34.15759, -86.83473], [33.610855, -86.687775], [33.69535, -86.68257], [33.54722, -86.59819], [33.60603, -86.68913], [33.5328, -86.6857], [33.56268, -86.72863], [33.50771, -86.80475], [33.48011, -86.77455], [33.439, -86.78873], [33.60767, -86.80459], [33.47015, -86.88269], [33.505974, -86.89299], [33.51331, -86.89783], [33.505974, -86.89299], [33.32988, -87.00037], [33.45292, -86.92278], [33.4648, -86.81963], [33.39403, -86.97014], [33.53439, -86.70704], [33.51717, -86.80715], [30.59977, -87.89833], [30.65503, -87.90273], [33.99707, -86.09424], [33.99989, -85.94225], [33.98514, -86.00436], [34.02239, -86.04354], [33.91784, -86.02192], [34.00841, -85.99391], [33.80691, -85.76127], [32.60692, -85.48642], [34.76369, -86.59461], [34.73679, -86.62714], [34.66134, -86.54042], [34.74754, -86.59498], [34.69281, -86.5696], [34.743492, -86.67781], [34.67589, -86.5415], [34.74458, -86.67318], [34.73549, -86.63676], [34.66429, -86.75312], [34.69772, -86.60791], [34.73907, -86.57662], [34.72041, -86.59055], [34.71197, -86.61021], [39.7019, -84.1234], [39.8265, -86.0105], [32.32548, -86.32813], [32.36049, -86.1653], [30.68957, -88.17268], [30.68177, -88.22597], [30.6487, -88.15908], [30.63964, -88.13914], [30.59223, -88.17015], [30.67092, -88.13297], [37.6386, -120.9367], [33.42977, -86.70878], [33.42794, -86.70769], [33.42237, -86.69893], [33.51327, -86.80574], [33.49907, -86.79597], [34.7556, -92.2614], [33.6383, -112.3591], [33.97157, -93.82483], [41.4205, -87.2392], [41.9307, -87.6876], [33.93823, -87.84115], [29.6179, -82.3836], [33.81765, -86.80712], [34.28972, -92.39836], [34.2208, -118.4719], [35.67839, -90.54888], [33.4854, -112.3655], [34.0498, -84.2869], [42.6121, -82.9726], [39.7459, -84.4101], [41.591, -87.3374], [41.6932, -86.1873], [39.0948, -84.5454], [39.7013, -86.082], [41.868, -87.8829], [30.1784, -84.3756], [29.6858, -82.3397], [32.1784, -110.9182], [34.90503, -91.1979], [41.5372, -87.461], [20.8879, -156.5008], [39.6766, -89.7046], [40.1278, -88.2749], [35.22098, -93.16306], [33.13505, -91.96268], [34.0883, -118.3088], [36.12925, -92.13006], [34.7543, -92.4044], [32.3088, -110.8469], [35.14919, -90.04758], [33.36558, -93.4851], [34.4484, -93.07936], [35.45033, -93.46147], [35.46017, -94.35731], [41.6768, -87.681], [34.83044, -92.18308], [40.0914, -75.2593], [34.881985, -92.13043], [30.4598, -84.225], [26.1553, -81.6891], [33.23627, -92.66566], [27.9631, -82.5054], [34.74404, -92.27566], [34.78954, -92.21519], [36.16773, -94.11205], [36.17447, -94.14027], [34.19298, -92.06145], [36.05859, -94.16417], [36.13308, -94.14768], [33.8993, -117.5631], [32.2879, -110.9788], [42.8793, -85.7557], [35.80472, -90.67811], [35.81659, -90.67015], [41.4671, -87.0394], [34.4803, -82.6475], [41.5232, -88.1196], [42.0455, -87.8851], [34.75209, -92.32265], [34.7111, -92.40663], [34.75252, -92.37497], [34.76077, -92.38021], [35.35544, -93.12365], [28.1294, -80.6299], [29.1968, -82.1514], [33.46667, -94.04323], [40.0775, -104.6487], [35.06969, -92.46013], [34.308807, -94.340256], [34.5542, -90.65532], [34.067, -117.2617], [36.07314, -90.95494], [34.8037, -86.9519], [39.02284, -77.14688], [38.95171, -76.96881], [39.8926, -84.1809], [38.80626, -77.05471], [41.5511, -87.2369], [41.588, -87.462], [42.2597, -89.0541], [41.8511, -87.779], [47.25103, -122.29538], [47.19938, -121.97502], [47.20153, -121.98932], [47.25103, -122.29538], [47.15782, -122.29609], [27.3197, -80.3928], [38.84817, -77.1249], [38.8434, -77.112], [38.89981, -77.02303], [38.91792, -77.22138], [38.89635, -77.12625], [39.36273, -77.16395], [28.546, -81.711], [38.9118, -78.1879], [39.6305, -84.2124], [40.4529, -86.9176], [40.5833, -86.6808], [38.77326, -77.13509], [38.98424, -76.94935], [38.89687, -77.12586], [38.94556, -76.97829], [38.9344, -76.95186], [38.99845, -77.00393], [38.7987, -77.32031], [39.19261, -76.68276], [39.003895, -77.30829], [38.82824, -77.4382], [38.814873, -77.12099], [38.70169, -77.22071], [38.90606, -77.2196], [38.840054, -77.01721], [38.88415, -77.02434], [38.88415, -77.02434], [38.90001, -77.02243], [32.2771, -81.2304], [38.85524, -77.04991], [26.3169, -80.1262], [26.707, -80.0911], [37.2951, -120.4518], [33.9451, -118.2115], [35.2224, -89.7363], [38.7402, -90.6338], [29.2092, -82.0666], [28.0846, -80.6228], [37.2538, -121.8312], [37.3158, -121.7936], [35.97209, -112.12643], [35.321247, -112.9548], [33.03097, -111.3871], [35.04122, -110.69827], [41.6867, -86.0585], [33.38933, -111.61484], [38.6357, -90.2401], [31.98826, -110.29411], [34.9547, -85.2537], [33.5108, -82.0368], [32.20735, -110.87456], [32.13438, -110.97733], [28.0697, -82.4765], [32.98579, -111.5236], [33.38387, -111.74014], [40.7926, -124.1789], [32.18563, -110.96846], [32.20591, -110.84147], [32.25841, -110.79842], [32.1918, -110.8428], [34.1397, -117.9793], [38.424, -121.4152], [36.3418, -119.2789], [38.1305, -121.2735], [33.66662, -112.12093], [39.3204, -77.8514], [33.45197, -112.20403], [32.20655, -110.90758], [32.25029, -110.82494], [42.6707, -82.9752], [42.7254, -92.4775], [40.586, -86.6799], [33.46623, -112.20472], [33.39327, -112.13296], [33.49432, -112.22028], [33.61121, -112.18454], [41.7268, -87.7415], [35.0842, -85.1983], [31.1359, -81.5726], [29.6591, -82.4072], [28.3653, -80.6999], [27.8808, -82.8293], [27.837, -82.7867], [27.4526, -80.3499], [40.3651, -105.5413], [33.34816, -111.9819], [33.34952, -111.96258], [40.802, -124.1665], [32.97788, -111.52369], [38.0055, -121.7557], [33.30584, -111.98953], [33.4758, -117.1271], [33.8433, -84.3276], [61.5712, -149.3838], [40.0556, -84.2404], [32.20715, -110.8567], [32.26927, -110.97755], [41.6909, -86.0034], [41.6801, -86.1806], [41.9835, -86.1233], [39.3514, -84.364], [42.3175, -89.0584], [41.8925, -87.9617], [41.7961, -88.1242], [40.1167, -88.2176], [39.9541, -75.1685], [33.43441, -112.55611], [26.1239, -81.76], [26.6982, -80.1113], [38.8958, -104.7483], [33.32619, -111.68721], [37.1038, -121.0153], [33.41465, -111.59745], [33.3938, -111.68931], [37.2413, -121.9047], [31.55389, -110.30154], [33.26244, -111.75561], [33.35921, -111.46936], [33.5657, -112.06463], [33.42104, -112.22302], [33.30473, -111.99509], [33.33115, -111.98147], [33.32025, -111.6862], [33.65509, -112.13346], [33.49481, -112.12793], [32.93951, -111.75586], [34.8058, -86.5198], [39.0322, -76.9121], [42.6598, -83.2463], [41.7038, -93.621], [42.4853, -96.3579], [39.7333, -84.1591], [34.601933, -112.32638], [41.6646, -86.0592], [35.32279, -114.03095], [33.34856, -111.95962], [33.42795, -111.94099], [33.43989, -111.92597], [33.58175, -112.23672], [33.71117, -112.20255], [40.1801, -75.131], [33.39237, -111.84065], [29.1693, -82.1625], [35.16116, -114.57465], [27.7136, -82.3936], [26.5799, -81.9912], [38.8469, -104.7217], [37.3235, -121.9545], [33.62542, -111.94382], [33.50237, -111.9293], [33.534878, -112.32674], [38.6643, -121.272], [33.71117, -112.20255], [40.76579, -95.38519], [34.5211, -117.3227], [42.67841, -91.91185], [33.3901, -111.8577], [33.4077, -111.7732], [33.9516, -84.5802], [43.41988, -93.53664], [41.614883, -93.83493], [41.6873, -93.07621], [40.175, -75.1287], [26.2571, -80.1013], [27.9384, -82.2532], [27.8015, -82.679], [27.8393, -82.6977], [26.6512, -80.1109], [30.3184, -81.7307], [27.2719, -80.3176], [27.4188, -80.3813], [41.40544, -92.91674], [40.40032, -91.38791], [37.3194, -120.4692], [42.80243, -92.26427], [41.65844, -93.50074], [43.40694, -95.12616], [41.29596, -92.65236], [41.60481, -93.73664], [41.54852, -93.64542], [34.9623, -89.9755], [41.5975, -93.74951], [35.1058, -114.5974], [30.3185, -87.4249], [42.02738, -91.61915], [38.7215, -77.1245], [42.04943, -93.62076], [43.4854, -83.9756], [41.55537, -90.51805], [41.57455, -90.50172], [39.3517, -94.7655], [39.6999, -86.2416], [39.6015, -86.1064], [39.5205, -85.7517], [42.2398, -87.9876], [41.8929, -87.6316], [41.8389, -87.6468], [41.68008, -91.56543], [41.67965, -91.59078], [39.9697, -75.2985], [42.01055, -92.9117], [39.6969, -76.0541], [41.84542, -90.18809], [30.8722, -83.2902], [41.45103, -91.03145], [41.45399, -91.02683], [25.9005, -80.1775], [25.8092, -80.3274], [27.7133, -82.3777], [41.53174, -93.59614], [41.63982, -93.69687], [27.4131, -80.3966], [26.6676, -81.9393], [38.3326, -104.7451], [41.04905, -92.41165], [33.841, -117.8889], [42.0173, -91.63379], [41.224, -95.83768], [38.7895, -121.2809], [41.57499, -90.51492], [41.55702, -90.54749], [34.7421, -92.2761], [41.53812, -90.55053], [42.48886, -92.33726], [42.4604, -92.32998], [42.46367, -92.32516], [41.61828, -90.78274], [38.8506, -76.9221], [39.7767, -84.0654], [40.0437, -84.212], [38.7815, -95.1785], [48.17582, -117.06271], [41.7063, -85.9717], [39.1696, -84.4983], [38.8623, -83.8883], [43.43777, -112.11566], [20.8778, -156.6793], [38.815, -90.8762], [40.1586, -88.2763], [40.0273, -88.573], [30.555157, -97.691696], [29.52078, -95.07678], [27.017, -82.0549], [26.352, -80.156], [43.67328, -111.91358], [32.8011, -117.2333], [33.6923, -117.8265], [43.48869, -116.40537], [44.06948, -116.92273], [47.81687, -116.87516], [44.07102, -116.9227], [43.60721, -116.19405], [43.14158, -115.66251], [34.0639, -118.2875], [33.8058, -118.3541], [43.66429, -116.41314], [43.60045, -116.19396], [47.70197, -117.41037], [47.75508, -116.79199], [34.7505, -86.7562], [46.73402, -117.01067], [43.83341, -111.77794], [41.2339, -96.1043], [42.55771, -113.79313], [47.6291, -117.36711], [38.9705, -94.769], [38.2913, -85.5101], [41.702, -86.2376], [47.4927, -117.56935], [47.70872, -117.43466], [41.4571, -87.0338], [41.5374, -87.4399], [39.3095, -84.2752], [39.1283, -84.5206], [43.59464, -116.51867], [43.62426, -116.35429], [41.6544, -87.4408], [34.5489, -82.6726], [21.2849, -157.8357], [46.41999, -117.05827], [46.4264, -117.05637], [46.42117, -117.0703], [43.54851, -116.57287], [43.59464, -116.51867], [31.9984, -81.2566], [42.89474, -112.45099], [27.9382, -82.2869], [43.59037, -116.2894], [26.8516, -80.0587], [28.8351, -82.3315], [47.694916, -116.78839], [47.71279, -116.79498], [47.67307, -116.76792], [47.67368, -116.77944], [39.7344, -121.8352], [33.33657, -111.75707], [33.34041, -111.84195], [33.30528, -111.89655], [37.9461, -122.0535], [34.1548, -118.7956], [34.5963, -120.1396], [38.6112, -121.3836], [38.582, -121.4159], [35.17505, -111.66371], [35.19223, -111.62691], [34.852, -117.0824], [33.5239, -112.1521], [30.527, -87.275], [33.63842, -112.21697], [33.6262, -112.18691], [42.16897, -87.92199], [38.8543, -76.909], [38.8808, -77.3014], [41.60158, -87.8343], [42.01236, -89.33224], [42.3903, -83.0075], [39.6768, -84.2415], [39.8291, -84.0241], [37.5586, -97.2744], [36.263722, -85.95615], [36.030356, -86.790368], [36.18776, -86.6156], [35.445822, -89.785957], [41.86095, -89.49603], [39.0929, -84.2638], [39.4397, -84.3445], [39.2592, -84.6016], [39.25197, -88.15636], [38.92977, -90.19207], [41.4769, -90.5053], [41.17932, -88.29654], [38.7858, -90.4956], [42.1674, -87.9216], [38.15507, -88.91075], [41.83783, -87.644], [41.5497, -87.1396], [42.139, -87.9276], [42.0392, -87.9411], [40.317, -75.3098], [39.1539, -77.2042], [32.6287, -83.6134], [31.0413, -83.0736], [41.352192, -88.84123], [42.04706, -87.67916], [42.05554, -87.74895], [42.04106, -87.72501], [42.05887, -87.74766], [38.68358, -90.01286], [39.9289, -105.1384], [37.3154, -79.95927], [36.74421, -76.58441], [37.315765, -79.26176], [36.8618, -76.21], [37.2984, -120.482], [41.55119, -87.27176], [40.8001, -124.1751], [37.03808, -76.39705], [36.77605, -76.22967], [37.247162, -80.032217], [41.62055, -87.52521], [36.90975, -76.07822], [33.6702, -117.6619], [40.97264, -90.38772], [37.2299, -80.4163], [37.783, -122.2725], [39.13673, -88.56517], [38.5403, -121.7388], [38.86302, -90.07837], [38.91833, -90.16209], [35.297, -94.386], [35.3461, -94.3375], [38.51671, -89.95676], [38.59335, -90.2441], [43.0336, -83.655], [42.7901, -83.7428], [43.039, -85.6639], [42.02406, -87.89427], [42.3249, -83.3315], [41.83981, -88.010704], [38.3337, -85.4637], [38.9728, -84.3918], [40.66526, -89.58128], [40.698544, -89.61479], [41.5486, -90.5057], [42.1115, -87.97905], [41.9479, -88.0334], [42.1, -87.7993], [42.11136, -87.9783], [39.4302, -77.4209], [38.60622, -90.23899], [38.72572, -90.12335], [29.1007, -82.0126], [26.1544, -81.7199], [41.55803, -87.79448], [25.7838, -80.1325], [38.5877, -89.98534], [26.5367, -80.0906], [38.31354, -88.95907], [40.4354, -104.9866], [37.3196, -120.4776], [37.1113, -121.0151], [47.20104, -122.29573], [46.2348, -119.2219], [46.594758, -120.604745], [47.378959, -122.247103], [47.519635, -122.26467], [48.10689, -123.39949], [46.6043, -120.4959], [42.337906, -88.27639], [46.28842, -119.946627], [46.60603, -120.4886], [47.52373, -120.46977], [47.55217, -122.27784], [47.71576, -117.432583], [47.613244, -122.035389], [47.481376, -122.217127], [47.671191, -122.111297], [47.518053, -122.631769], [47.371091, -122.20269], [48.1116, -123.4151], [32.5463, -117.0318], [46.226255, -119.213414], [45.6156, -122.5043], [47.16693, -122.50985], [47.31318, -122.3076], [48.9432, -122.45083], [45.6211, -122.5044], [48.8473, -122.5924], [46.35359, -124.05399], [47.65703, -117.348083], [38.78927, -89.97956], [37.3075, -121.9004], [41.119, -87.87952], [42.22657, -88.29484], [41.60093, -87.60583], [41.71994, -87.7406], [38.9255, -121.0558], [38.51665, -89.95607], [42.093, -88.33711], [47.67538, -122.1275], [46.9339, -122.5911], [48.557569, -117.923798], [47.82174, -122.32585], [45.668984, -122.663512], [47.652, -117.4079], [47.57688, -122.17], [47.289366, -122.316044], [48.1061, -123.3979], [47.17897, -122.5514], [48.45088, -122.33526], [47.66915, -117.2822], [47.04796, -122.83218], [46.7413, -117.1717], [48.21454, -119.72726], [34.162, -117.3343], [42.23827, -87.94197], [42.34141, -87.89509], [41.61542, -87.86111], [32.6685, -114.4424], [41.62026, -87.8444], [42.02492, -88.14362], [34.7351, -86.7203], [40.47933, -88.99434], [40.478294, -88.98932], [43.3529, -83.8705], [39.84007, -88.94604], [47.659073, -117.41523], [42.6284, -82.9863], [37.72295, -89.21635], [40.12962, -87.60376], [39.3627, -94.5844], [41.5406, -86.8979], [38.2337, -85.6328], [41.5291, -87.4717], [41.4678, -87.0587], [39.3086, -84.315], [42.05887, -87.74766], [38.7675, -90.7837], [40.14215, -88.25134], [44.799125, -91.466141], [39.8458, -88.942], [40.09537, -88.24552], [42.24341, -88.97913], [35.2415, -85.8459], [39.81677, -89.64415], [38.52014, -111.88126], [40.562, -111.93213], [40.74098, -111.952], [43.9724, -90.5019], [42.51046, -89.05187], [36.49049, -79.74021], [36.69614, -79.87544], [27.9029, -82.7449], [40.55204, -112.29781], [27.7215, -82.7396], [30.2451, -81.5997], [40.73618, -111.88802], [40.89413, -111.89234], [37.3209, -120.4846], [40.62323, -111.85844], [41.15123, -111.93647], [40.63738, -111.88828], [40.76829, -111.88847], [41.11621, -104.80211], [40.06033, -111.66806], [41.24492, -112.01938], [40.76655, -111.90437], [41.08781, -112.06501], [33.6228, -117.6979], [33.8938, -117.945], [36.76254, -80.73396], [36.74027, -76.56952], [37.12279, -113.53292], [40.50796, -111.97792], [39.1383, -121.5875], [40.65349, -111.98226], [40.70216, -111.93825], [38.56328, -109.54984], [40.43317, -111.89546], [34.6579, -93.0601], [34.2327, -95.6207], [35.6231, -95.9599], [40.6204, -111.89499], [40.62212, -111.91371], [30.4617, -87.3008], [40.52689, -111.88033], [41.18538, -111.98692], [43.0335, -83.633], [42.3291, -83.0405], [40.29675, -111.70003], [40.30538, -111.69811], [38.9944, -94.4745], [40.49941, -111.41342], [39.1643, -84.699], [37.68055, -113.07458], [40.4183, -86.8264], [40.60936, -111.85335], [40.65299, -111.94216], [37.9912, -87.5387], [20.8857, -156.683], [38.75924, -78.62928], [39.03525, -78.27069], [36.94067, -82.48323], [36.75927, -76.00595], [37.60412, -77.59158], [39.476597, -118.801691], [37.307034, -79.947266], [37.25594, -79.95424], [38.86988, -77.44594], [27.0019, -82.1254], [37.65262, -77.39973], [37.25321, -77.39554], [37.135284, -80.41878], [37.22986, -80.41625], [37.2325, -80.43288], [38.9116, -78.19048], [38.91016, -78.18428], [37.25249, -77.38417], [37.25275, -77.3952], [28.8363, -82.3423], [39.11572, -77.54087], [37.04455, -76.39038], [37.04295, -76.38455], [37.04852, -76.39072], [38.46924, -77.41189], [37.3833, -120.6133], [37.40226, -77.66964], [37.40255, -77.67469], [33.1951, -117.3811], [37.41758, -77.6392], [36.83771, -76.3075], [36.74421, -76.58441], [36.81954, -76.38286], [36.81176, -76.36258], [38.64344, -77.29556], [38.43496, -78.84691], [37.27225, -76.70704], [37.27238, -76.75461], [38.74168, -77.05678], [38.6775, -121.7755], [38.6358, -121.503], [36.2133, -119.3486], [36.2976, -119.1556], [36.3252, -119.2766], [37.3136, -79.95202], [37.22758, -79.97962], [37.25172, -79.9606], [37.644, -122.4036], [36.77643, -76.2309], [36.77687, -76.22392], [36.71596, -76.23732], [34.4641, -92.9695], [37.35095, -79.18454], [33.901, -84.5417], [36.86409, -76.13156], [36.8865, -76.30207], [36.93213, -76.20279], [41.9417, -83.4052], [32.28839, -110.97674], [32.22121, -110.83964], [42.8215, -82.4875], [39.9617, -84.1859], [39.7923, -84.0247], [41.6734, -86.8934], [41.6275, -85.909], [39.5633, -84.2653], [39.336, -84.3462], [38.9154, -84.633], [39.0966, -84.2649], [39.7259, -89.6138], [39.8028, -89.6604], [38.7683, -90.3667], [39.8765, -88.955], [41.2891, -88.2445], [31.777999, -82.348747], [40.0974, -88.1903], [33.45098, -112.13563], [33.31971, -111.97511], [33.53753, -112.13481], [41.28311, -86.04747], [40.26426, -85.81862], [40.4226, -85.64999], [39.52996, -86.80148], [26.2705, -81.7383], [39.76427, -86.32526], [39.76223, -86.32732], [39.91091, -86.13369], [39.76235, -86.35739], [39.76365, -86.38891], [39.76368, -86.39015], [40.02344, -86.90354], [27.236, -82.4978], [30.4497, -86.6263], [39.81165, -85.77053], [34.0535, -84.7038], [33.856511, -84.601451], [32.880482, -83.764715], [33.63291, -84.358006], [38.68859, -87.50599], [33.56615148, -84.41263726], [38.39198, -86.93886], [41.55064, -87.16077], [41.55063, -87.18099], [41.54995, -87.17739], [41.55064, -87.17633], [39.85736, -86.38974], [41.62854, -84.99875], [39.76348, -86.38282], [39.78052, -86.17215], [39.67803, -86.36991], [39.71739, -86.35662], [39.71625, -86.35759], [39.67554, -86.3693], [39.68692, -85.92448], [39.77012, -86.15412], [41.51963, -87.47145], [41.49026, -87.47406], [39.053276, -84.66302], [40.47638, -86.10717], [39.70359, -86.06758], [39.63786, -86.12871], [39.63619, -86.12759], [41.61805, -86.73386], [41.61451, -87.05198], [41.61675, -87.04676], [37.3406, -121.9064], [39.9638, -86.13077], [40.48754, -85.62221], [40.04601, -85.99661], [34.69, -118.0962], [33.7792, -118.263], [41.58928, -85.84562], [41.56646, -85.81632], [41.55995, -85.7956], [38.31372, -85.7629], [38.13469, -85.57919], [39.97196, -86.00197], [38.946, -119.9638], [39.95668, -86.02121], [41.42076, -87.23836], [41.4343, -87.36399], [41.42794, -87.33714], [36.3129, -119.7813], [41.25571, -85.85278], [43.59379, -116.21334], [43.5866, -116.5747], [40.41779, -86.83548], [40.42372, -86.90719], [40.42321, -86.90643], [40.42403, -86.90756], [40.444023, -86.92366], [39.91229, -86.06636], [41.47024, -87.34202], [41.55052, -87.40944], [38.28894, -85.72826], [40.845038, -96.682201], [41.2408, -95.9943], [40.728371, -99.081756], [41.012446, -95.907977], [41.70331, -85.91539], [41.70939, -85.97247], [41.543652, -96.131402], [40.44537, -86.12404], [40.737307, -96.603695], [40.50626, -86.11233], [34.4761, -114.3378], [39.62984, -86.12302], [39.58596, -86.10066], [39.63069, -86.15709], [39.61014, -86.15925], [39.014069, -94.722021], [37.663455, -97.226824], [39.0099, -94.7746], [37.9211, -95.40831], [38.58101, -95.268018], [38.990636, -95.233298], [41.53734, -87.47676], [41.55128, -87.43305], [39.427197, -87.41982], [39.20005, -85.94661], [39.21091, -85.87885], [39.65311, -86.13904], [39.22346, -85.90555], [38.31536, -85.80535], [41.70428, -86.89495], [41.68289, -86.89354], [41.66765, -85.73119], [41.59282, -85.85534], [41.6415, -85.92851], [41.70616, -85.9716], [41.67616, -86.00259], [41.66274, -86.12605], [41.66132, -86.18439], [43.6673, -83.9505], [41.9326, -86.5706], [41.47384, -87.31679], [41.47038, -87.30893], [41.47038, -87.30876], [42.2175, -83.1935], [42.0948, -83.2363], [40.11084, -85.65314], [42.4909, -90.7008], [41.5401, -93.6254], [39.4573, -95.7487], [39.16804, -86.53369], [39.92643, -86.10159], [39.77332, -86.15205], [39.66491, -86.19839], [38.9344, -94.639], [38.8543, -94.8035], [39.77409, -86.01748], [39.77965, -86.24877], [41.14075, -84.84875], [41.45944, -84.55032], [39.1572, -84.4576], [39.3794, -84.222], [47.53011, -121.87341], [39.1891, -75.5395], [39.4417, -77.3976], [41.617, -86.7324], [39.939161, -86.235277], [39.836252, -86.379635], [39.802459, -85.769701], [39.655284, -86.158944], [39.913311, -86.206072], [41.428769, -87.363943], [41.4607, -87.0362], [39.3126, -85.964], [40.09756, -85.65252], [34.1743, -85.2075], [26.9836, -82.1001], [29.0587, -82.4545], [29.1276, -82.0372], [26.06, -80.2072], [27.4946, -82.6013], [28.4472, -81.4021], [25.8308, -80.2668], [25.8495, -80.2415], [25.6283, -80.341], [27.9834, -82.7303], [27.9603, -82.5057], [27.9172, -82.8002], [28.440348, -82.637516], [26.9338, -80.0918], [25.714286, -80.417249], [27.9802, -82.485], [27.94868, -82.79628], [28.9871, -82.3513], [28.7235, -82.5525], [38.2857, -104.5732], [27.9549, -82.7873], [27.8801, -82.7868], [27.4625, -82.5788], [27.19683, -80.21834], [39.5115, -119.8028], [47.93088, -122.10094], [21.9782, -159.367], [21.2737, -157.8238], [32.8108, -115.5704], [39.7617, -121.8211], [36.984, -121.5572], [47.58347, -122.23272], [21.96665, -159.35655], [21.325972, -157.880116], [33.8332, -118.1856], [34.0398, -118.1444], [47.12268, -122.49396], [48.45319, -122.33681], [47.295, -122.51562], [47.30496, -122.57875], [47.38466, -122.62669], [35.0286, -90.0257], [47.100864, -122.58349], [47.05684, -122.76871], [47.05906, -122.76695], [47.53456, -122.61289], [47.51302, -122.63092], [47.99877, -122.2006], [48.07757, -122.18825], [47.91309, -122.21282], [47.98133, -122.2017], [48.0999, -122.17955], [48.08386, -122.17344], [47.63356, -122.13763], [38.9511, -77.3344], [48.41838, -122.33834], [42.3433, -85.1537], [47.17998, -122.54724], [47.18713, -122.51732], [42.5464, -83.214], [42.6523, -83.2467], [42.4596, -92.3576], [47.14124, -119.27919], [46.99974, -120.54836], [46.989147, -120.54832], [46.99946, -120.54194], [39.7219, -84.1227], [47.66158, -122.6857], [47.64489, -122.6983], [39.6372, -84.1097], [46.72527, -122.97422], [42.93569, -85.695202], [39.3674, -94.3743], [42.997335, -84.155057], [42.24965, -83.65798], [38.4575, -85.2994], [47.65678, -122.69434], [41.5893, -85.8368], [47.65512, -122.3811], [41.6588, -85.9476], [41.5898, -85.8462], [19.6987, -155.0609], [40.489, -88.9185], [46.73525, -117.172935], [46.72763, -117.17005], [46.2325, -119.08033], [46.25893, -119.31001], [46.03297, -118.37978], [42.297, -87.9561], [41.623, -87.6285], [47.48103, -122.21765], [47.48699, -122.19556], [41.8638, -87.8725], [47.82144, -122.30257], [47.8294, -122.27376], [47.43892, -120.32351], [47.40569, -120.28517], [40.2378, -75.2413], [47.66987, -117.28292], [44.9745, -93.227], [38.917, -75.4427], [38.721, -75.5892], [32.8623, -83.6132], [47.316338, -122.27006], [47.29532, -122.24052], [47.316338, -122.27006], [47.31722, -122.22145], [47.2962, -122.24303], [45.571194, -93.580111], [47.62297, -122.1318], [47.66274, -122.31335], [47.63049, -122.15449], [47.15629, -122.30388], [47.60066, -122.3345], [47.41087, -122.22736], [46.17792, -119.18705], [46.2113, -119.20747], [46.2112, -119.15941], [46.20755, -119.11691], [27.9795, -82.8272], [47.04578, -122.89674], [47.04614, -122.91983], [47.04661, -122.93447], [46.57752, -120.49132], [47.92579, -122.2235], [47.61844, -122.34785], [47.61408, -122.34539], [47.61933, -122.32116], [37.0456, -122.0282], [47.56045, -122.38712], [34.3609, -119.0604], [33.7081, -117.8858], [37.2542, -121.8974], [37.5411, -122.0266], [47.64235, -117.42442], [47.71648, -117.41192], [39.1379, -121.608], [47.60235, -117.36832], [47.60184, -117.37079], [47.6441, -117.40937], [47.65954, -117.42078], [47.66478, -117.42717], [47.65187, -117.40772], [36.3117, -119.7812], [45.67873, -122.66837], [45.65725, -122.58352], [37.7422, -122.4052], [33.4952, -112.0285], [33.43685, -111.71294], [33.41509, -111.77142], [43.80854, -88.67547], [42.8881, -85.8371], [44.48701, -87.96053], [42.4624, -83.3696], [42.5315, -83.165], [44.26554, -88.46169], [44.17334, -88.49446], [38.8831, -94.7586], [41.7468, -111.8338], [40.1016, -85.7134], [39.164, -86.4935], [41.7064, -86.6191], [41.5939, -85.8579], [39.0279, -84.4514], [39.0725, -84.3438], [39.2871, -84.4625], [43.56223, -89.46908], [39.7787, -86.3001], [39.6048, -86.1961], [39.7727, -86.1523], [42.96951, -87.91003], [20.7524, -156.4487], [21.2692, -157.8128], [45.88979, -89.7025], [38.538, -91.0018], [42.5669, -87.9566], [44.61204, -88.76266], [44.7814, -88.58117], [40.1131, -88.2791], [33.0012, -85.0293], [34.7871, -84.7726], [43.57581, -89.77784], [46.70695, -92.04756], [46.69433, -92.10465], [27.7383, -82.7494], [27.8098, -82.6995], [24.5718, -81.7569], [27.5221, -80.3963], [40.3744, -104.6911], [40.8754, -124.0836], [43.78267, -88.48001], [44.93802, -91.39493], [43.03245, -88.10879], [37.7037, -121.818], [38.0103, -122.2713], [44.39621, -89.84034], [44.03952, -88.54398], [34.1045, -117.9093], [37.7813, -122.4642], [43.74711, -87.94924], [43.74289, -87.72768], [43.72841, -87.73237], [43.01506, -89.4814], [42.67874, -89.05236], [34.105, -117.2594], [34.0198, -117.6898], [39.1307, -123.2047], [37.97501, -120.63544], [32.620491, -116.962026], [34.015648, -118.129974], [37.3164, -121.7928], [37.68364, -121.04876], [39.1796, -77.2674], [38.6157, -76.9228], [39.1372, -77.7056], [42.99215, -88.04759], [43.4096, -86.3183], [43.2347, -86.2008], [42.3033, -85.1991], [38.17989, -81.33696], [38.22376, -80.53527], [39.8218, -84.2881], [39.61841, -78.2416], [39.69997, -78.1861], [41.7095, -85.9724], [37.20133, -80.3989], [39.1424, -84.3911], [39.2195, -84.5186], [39.2212, -84.5179], [41.6048, -87.1718], [40.05813, -80.60448], [40.0032, -86.1243], [39.8396, -86.0456], [40.0315, -86.501], [39.905, -86.0593], [39.7224, -86.1121], [41.3559, -88.84], [37.67368, -82.27893], [39.9006, -88.9545], [38.54403, -106.93161], [41.894, -87.6176], [37.24691, -80.03231], [39.34044, -81.51455], [39.32416, -81.55037], [40.0316, -75.1048], [32.5934, -83.6278], [34.2634, -85.1883], [28.9723, -80.8962], [30.1797, -82.6717], [39.02959, -82.02608], [25.809, -80.2323], [25.8767, -80.3309], [25.877, -80.3341], [27.8089, -82.7932], [27.8389, -82.7034], [26.612, -81.8138], [38.7193, -104.6997], [32.5768, -117.0933], [39.66555, -80.85818], [38.44427, -82.37795], [37.3228, -121.9943], [38.20213, -81.50588], [38.36759, -81.66713], [38.351, -81.63494], [34.0925, -118.2805], [38.35804, -81.71965], [38.33622, -82.03549], [38.32838, -81.59857], [33.9377, -118.0424], [35.3951, -118.9681], [38.32895, -81.7149], [36.5447, -119.4046], [37.8103, -121.2166], [38.1293, -121.2819], [38.38481, -81.80731], [38.31312, -81.567], [38.50652, -82.29695], [38.40951, -82.42844], [38.41301, -82.36174], [35.1408, -89.7982], [35.0696, -89.8647], [35.1607, -90.1843], [34.2048, -92.0065], [38.41631, -82.25686], [35.425, -94.3706], [32.6699, -114.4945], [39.47922, -80.12275], [33.7234, -84.763], [61.5765, -149.4033], [61.5814, -149.4291], [39.26525, -80.28771], [37.79732, -81.18417], [46.5455, -87.4156], [42.2722, -84.9828], [42.3274, -85.265], [39.46263, -77.98893], [42.6826, -83.1502], [39.3719, -77.41099], [42.4993, -83.3037], [40.10455, -80.70096], [39.62948, -79.95877], [39.28901, -80.24358], [39.3438, -80.22363], [39.63216, -79.95372], [41.3167, -87.026], [41.7215, -85.8175], [38.3529, -81.6381], [40.5849, -86.6787], [39.4163, -86.4112], [39.8581, -86.3919], [34.5213, -82.5031], [37.0771, -88.6882], [40.1664, -87.6301], [39.2327, -81.54269], [38.5523, -90.4077], [41.5276, -88.0694], [39.47598, -80.1514], [42.3492, -87.8796], [41.9376, -88.0004], [43.02649, -108.38021], [41.55, -87.1764], [40.2265, -75.235], [41.26415, -110.95777], [33.5133, -82.0539], [34.7967, -84.9629], [26.0949, -80.2519], [28.0669, -82.5054], [28.0433, -82.7383], [27.8932, -82.3204], [30.2941, -81.3925], [30.3424, -81.6802], [40.584, -105.0561], [39.6999, -105.3296], [41.32354, -105.59188], [39.534, -119.8675], [40.8042, -124.1688], [33.3605, -86.9991], [34.7524, -87.6674], [32.381964, -86.172251], [34.74652, -86.6831], [32.4591, -86.4508], [32.460779, -86.416339], [33.60703, -85.83286], [31.263056, -85.439591], [33.2585, -87.5149], [31.190976, -85.388208], [44.80346, -106.95618], [33.9502, -86.4703], [33.5956, -86.2841], [33.2375, -87.5754], [34.07465, -86.77986], [30.629807, -87.9105], [34.741314, -86.677871], [32.84323, -85.17989], [32.92068, -85.95305], [33.20308, -87.56817], [33.4703, -86.7717], [31.1886, -85.4027], [33.1981, -87.5365], [32.8053, -117.1164], [33.4371, -117.6221], [43.84882, -104.1972], [37.3058, -121.9318], [37.2361, -121.802], [43.460735, -110.76627], [34.075, -117.8817], [34.0529, -118.2952], [33.9042, -118.1436], [41.52037, -109.46483], [35.354, -119.3328], [35.3806, -119.0231], [38.5824, -121.5044], [44.7498, -108.76455], [34.976, -92.0267], [35.03726, -110.69778], [34.0549, -117.1756], [42.82784, -106.35488], [34.8635, -111.8017], [33.436, -111.8232], [33.9089, -84.3541], [33.3793, -86.801], [33.1769, -87.4701], [33.2305, -87.5359], [34.8302, -87.6279], [38.6219, -76.9018], [30.2469, -87.773], [30.276866, -87.5565], [35.2574, -112.19136], [33.19411, -87.52775], [33.23654, -87.56593], [30.5228, -87.8851], [30.68773, -88.21657], [34.358, -86.5057], [33.312935, -85.484277], [34.810618, -87.665468], [34.71449, -87.7038], [33.9988, -86.0054], [33.42792, -86.709681], [42.3242, -85.5188], [42.2623, -84.4229], [31.9116, -85.1489], [33.51869, -86.2203], [33.64006, -112.22501], [33.4452, -112.06685], [42.4894, -90.6648], [42.513, -90.6653], [41.6405, -93.6986], [42.4475, -96.3489], [39.0151, -95.6771], [39.8278, -84.0257], [33.200986, -87.577052], [41.7125, -86.9074], [39.1008, -84.5066], [39.0046, -84.6207], [39.2205, -84.5174], [41.5777, -87.4621], [39.7611, -86.1597], [39.6137, -86.0766], [39.75, -86.2158], [39.9279, -86.0654], [44.02971, -103.27009], [33.395487, -110.773294], [19.7237, -155.0849], [41.3695, -88.8365], [39.9944, -75.7538], [39.9574, -75.2576], [40.1644, -75.481], [42.50673, -96.41708], [34.2681, -85.2117], [31.2052, -82.3355], [26.1496, -80.3248], [26.1888, -80.208], [27.0076, -82.132], [43.50046, -96.70832], [43.59952, -96.57243], [25.4866, -80.4595], [28.2911, -82.7116], [27.77, -82.7693], [30.1403, -81.6331], [28.1825, -81.8243], [44.65722, -103.85734], [44.39125, -103.49572], [39.8024, -105.1074], [39.8857, -104.9947], [42.87128, -97.39725], [42.78637, -96.92102], [42.78655, -96.91824], [43.68875, -98.01171], [33.479981, -111.997839], [44.88937, -97.10954], [37.5076, -120.8756], [37.2359, -121.8318], [37.5343, -121.9667], [37.7183, -122.182], [34.0795, -118.1111], [35.65976, -105.96851], [35.195614, -106.65914], [35.10573, -106.72551], [35.18455, -106.66327], [38.5946, -121.4147], [31.84044, -106.57289], [35.149, -89.7959], [35.743, -90.5672], [31.8831, -106.58329], [31.99751, -106.58069], [34.0897, -117.5935], [34.0703, -86.7762], [34.2595, -84.4625], [33.5943, -86.2833], [33.5958, -86.6931], [33.3991, -86.8054], [32.94424, -103.35012], [35.0649, -106.19081], [35.15619, -107.86722], [43.4164, -84.074], [34.20073, -103.31878], [42.1405, -83.2181], [42.3544, -83.3315], [36.3253, -86.70077], [36.32308, -86.7007], [36.022, -86.57583], [42.4359, -96.3692], [35.08713, -106.57859], [34.81378, -106.75248], [39.7096, -84.2097], [39.6769, -84.2216], [39.106, -94.5327], [32.77734, -108.27325], [41.715, -111.8371], [40.1108, -85.6533], [38.3887, -86.941], [35.7956, -106.0122], [36.01761, -106.06448], [39.2867, -84.4607], [32.31513, -106.74396], [21.2824, -157.8367], [61.1959, -149.7777], [38.5089, -90.3232], [38.5169, -89.9518], [38.4445, -90.373], [39.9218, -75.1878], [40.0123, -75.1355], [36.73128, -108.19224], [32.72607, -103.14393], [31.7797, -81.3832], [32.9253, -83.7343], [34.2533, -85.1736], [31.7684, -84.4485], [35.01471, -85.703], [27.6387, -80.5212], [36.16653, -86.51374], [36.16595, -86.51514], [35.54163, -89.2464], [36.31977, -87.37143], [36.05911, -88.11564], [36.52045, -86.03547], [36.39823, -86.16515], [28.4814, -81.3303], [25.7326, -80.3668], [25.7465, -80.2218], [25.9339, -80.122], [25.8601, -80.3278], [35.055077, -89.67673], [28.0321, -82.0565], [35.04866, -89.68736], [35.04569, -89.6867], [35.04606, -89.68708], [35.95793, -86.8113], [26.4392, -80.0751], [26.3586, -80.0854], [26.7069, -80.1085], [26.3691, -80.1894], [30.3302, -81.5482], [35.45971, -86.0565], [26.4597, -81.7718], [35.14116, -89.79617], [35.16854, -89.79454], [35.20581, -89.84108], [36.24901, -86.71989], [39.1676, -123.2109], [37.3889, -120.7377], [35.088345, -89.80526], [35.09635, -89.80188], [35.09356, -89.80764], [38.4311, -122.7443], [36.30392, -86.69167], [35.70091, -85.74025], [33.862, -117.837], [32.9783, -115.542], [37.3664, -121.8488], [37.4098, -121.9452], [35.85617, -86.4297], [35.8475, -86.3625], [37.3264, -121.9119], [37.2483, -121.8032], [36.04074, -86.77124], [36.036167, -86.78946], [35.9618, -86.8017], [36.03064, -86.79036], [37.8501, -122.2708], [37.8897, -121.6207], [34.0811, -118.0903], [36.35072, -82.22265], [33.8309, -118.0287], [46.27401, -119.2763], [46.87481, -117.36515], [35.67087, -88.85308], [38.8002, -121.2691], [36.25613, -86.71506], [38.5433, -121.7422], [38.6355, -121.506], [38.4961, -121.4845], [36.06488, -86.63071], [36.04673, -86.67693], [37.6618, -122.4386], [35.12716, -85.2478], [35.1354, -90.005], [34.8852, -92.1098], [36.54877, -82.51936], [34.0592, -86.7773], [36.16081, -82.83314], [41.55162, -87.43395], [34.0621, -84.0765], [33.9489, -86.4708], [33.2891, -86.7888], [61.1978, -149.8712], [61.5828, -149.4616], [36.32632, -86.59467], [36.33139, -86.62229], [43.6624, -84.2472], [45.1192, -87.6142], [36.20174, -83.33359], [42.7403, -84.6302], [36.20578, -83.32487], [42.2275, -85.5896], [43.2946, -86.2027], [35.93024, -86.90152], [41.7482, -83.6251], [35.91292, -86.8186], [42.476, -83.0803], [42.2837, -83.3639], [42.3098, -83.3489], [35.74075, -86.94176], [42.4885, -90.739], [41.1438, -95.9119], [41.6617, -93.6965], [39.8915, -84.1938], [37.7223, -97.3648], [38.9432, -94.8153], [38.5708, -94.8572], [41.0737, -85.2754], [38.1946, -85.8041], [35.0644614, -85.3100803], [41.5865, -87.4615], [40.142986, -88.251917], [39.3194, -84.3141], [39.2931, -84.5217], [41.2888, -87.2967], [39.9121, -86.1353], [39.6329, -86.1244], [39.9566, -86.1163], [34.6312, -82.5993], [28.539591, -81.474373], [38.7827, -90.5328], [36.38109, -86.46321], [42.282, -87.8797], [42.4293, -87.8264], [41.9371, -88.0768], [41.7886, -87.7032], [27.76237, -98.23323], [29.38255, -98.61337], [33.39245, -97.72986], [39.0468, -77.1037], [30.13561, -96.2559], [39.3777, -77.4168], [30.02808, -94.59623], [30.04512, -94.88775], [33.0432, -85.0286], [31.54343, -96.83127], [39.793766, -86.144733], [32.86398, -96.65062], [32.9333, -96.68217], [32.85724, -96.64467], [31.42089, -94.80544], [29.9048, -96.91043], [29.0256, -82.1582], [29.28968, -94.78946], [26.2101, -80.253], [25.986, -80.2063], [25.9816, -80.2769], [26.1866, -80.1844], [29.99837, -95.1769], [26.29332, -97.99222], [27.4307, -82.5754], [32.52232, -96.66432], [26.421545, -99.00248], [30.11478, -94.6455], [25.6438, -80.334], [25.6866, -80.3803], [25.5747, -80.369], [27.9957, -82.4427], [45.508795, -122.579076], [32.83232, -96.61277], [32.76391, -96.58204], [26.708, -80.229], [28.0463, -81.7525], [46.236225, -112.11936], [40.1779, -122.2351], [39.1516, -123.1994], [40.8041, -124.151], [32.72699, -97.8258], [32.73289, -97.78682], [38.716477, -75.076603], [29.55486, -95.39116], [29.87754, -97.94521], [33.117, -117.0972], [32.561, -117.0628], [33.10106, -96.80588], [33.7598, -117.9729], [31.33577, -94.71771], [36.7232, -121.656], [37.3253, -121.8146], [37.3519, -121.9997], [37.3301, -121.8113], [37.2952, -121.9316], [29.68866, -98.1277], [37.8017, -122.265], [39.1429, -121.6272], [30.63309, -96.32877], [38.4748, -121.4478], [38.524, -121.498], [38.641, -121.4994], [38.6564, -121.5228], [38.5911, -121.5494], [38.1153, -121.3937], [37.7394, -121.4366], [37.5114, -122.2651], [35.1616, -89.7961], [35.0203, -89.9542], [35.1494, -89.9203], [29.64992, -95.16685], [29.7812, -94.97721], [29.39496, -94.93486], [28.032149, -81.73266], [33.3937, -111.6892], [30.20638, -95.46265], [32.8211, -86.6142], [33.4389, -86.7889], [33.1742, -87.4499], [34.7858, -87.5268], [31.52533, -97.13177], [33.88511, -98.48957], [32.51575, -94.7393], [42.3062, -84.021], [43.155, -86.205], [42.2635, -85.1981], [31.11042, -97.74774], [42.9291, -83.0501], [42.6363, -82.857], [42.2826, -83.3643], [27.61045, -99.47233], [27.57483, -99.47289], [32.03608, -102.1228], [38.6903, -87.5019], [39.6774, -84.2404], [27.70921, -97.36312], [32.75882, -97.11512], [39.2663, -93.9613], [42.576, -114.4597], [40.2757, -85.6711], [40.0874, -85.6782], [41.6208, -86.7003], [41.6499, -86.8941], [40.4805, -85.5537], [40.8986, -85.5121], [41.1179, -85.102], [26.17314, -98.00703], [39.1343, -84.501], [39.5029, -84.3519], [39.5086, -84.7506], [39.3519, -84.462], [38.6609, -121.3559], [41.6169, -87.0452], [41.5512, -87.3557], [39.6467, -86.8283], [39.9264, -86.0903], [40.047, -86.4928], [39.6649, -86.1984], [37.9348, -87.8838], [39.4814, -88.3645], [20.884, -156.4539], [21.4425, -157.7449], [38.5904, -90.3054], [38.6025, -90.242], [42.3236, -88.1637], [29.70698, -95.40232], [34.01735, -81.41042], [34.7689, -83.03878], [33.16851, -87.51518], [41.4881, -87.4708], [41.9092, -87.7488], [41.6026, -87.7533], [41.7868, -87.6843], [34.30786, -82.66324], [33.99904, -79.20596], [33.90364, -81.55945], [32.7634, -89.1407], [34.43711, -79.37052], [34.41852, -79.3698], [33.69771, -80.2252], [34.73517, -80.79024], [39.8831, -75.5423], [34.12447, -81.23554], [34.10026, -81.17973], [34.12594, -81.22261], [39.4347, -77.5171], [33.87594, -78.61536], [30.7902, -81.6545], [33.0491, -85.028], [34.36708, -80.06965], [33.57581, -79.02547], [31.6089, -84.2091], [33.4695, -82.054], [33.92866, -81.07758], [33.9621, -80.94142], [34.00328, -81.10461], [33.9828, -81.10049], [30.5402, -84.2263], [32.997437, -80.03864], [32.99945, -80.03972], [34.47997, -82.64858], [34.53486, -82.63162], [34.69169, -82.83616], [34.69128, -82.83904], [34.68432, -82.8376], [34.68901, -82.81223], [34.82233, -82.58775], [34.82849, -82.6107], [33.51356, -80.86044], [34.94422, -82.24973], [35.024166, -81.02805], [33.84114, -78.64628], [27.4371, -81.3115], [33.94282, -80.3681], [28.5463, -81.2026], [32.85827, -79.79655], [32.86611, -79.78517], [32.7908, -79.87722], [26.6463, -80.2079], [25.9034, -80.1589], [32.21807, -80.70301], [34.20354, -82.19574], [34.01804, -80.99451], [34.12992, -80.87747], [33.99184, -81.0563], [28.0639, -82.4135], [34.86015, -82.40471], [34.86662, -82.35731], [34.7995, -82.42417], [34.86764, -82.34737], [33.61322, -78.98205], [33.7104, -78.863], [32.8596, -79.97996], [32.90471, -79.92002], [28.8538, -82.3882], [27.9983, -81.6891], [28.0634, -81.7668], [32.99612, -80.21911], [32.96809, -80.22493], [33.02098, -80.17702], [33.53304, -81.7239], [33.51953, -81.71804], [37.2837, -107.877], [34.068, -80.9543], [34.0229, -80.95301], [39.8062, -104.931], [34.96919, -81.93285], [34.96774, -81.92912], [39.1415, -123.2064], [32.79339, -79.94908], [32.86725, -80.01542], [32.907135, -80.05512], [32.86725, -80.01542], [34.16641, -79.82838], [34.15681, -79.76814], [34.19118, -79.79596], [34.19247, -79.76843], [34.47567, -82.64987], [34.48166, -82.66256], [36.08332, -115.03157], [36.19517, -115.03022], [36.24008, -115.06539], [36.8391, -119.8033], [36.24005, -115.06162], [36.24717, -115.20801], [36.2082, -115.10931], [36.18809, -115.11546], [39.54742, -119.75217], [39.50853, -119.80497], [42.56951, -114.46101], [33.7256, -117.9898], [39.51374, -119.78888], [39.50593, -119.79719], [39.53069, -119.81422], [33.7733, -117.8845], [33.8869, -117.8628], [36.15855, -115.26313], [37.6088, -120.9384], [37.6457, -121.0298], [36.09883, -115.29574], [36.5817, -121.829], [32.775, -115.5526], [36.1772, -116.0039], [37.299, -121.8235], [36.12964, -115.11166], [33.8833, -118.3262], [36.80925, -114.06394], [35.3515, -119.1032], [39.54504, -119.77423], [35.2681, -118.915], [38.37, -121.9606], [35.14447, -114.57706], [38.5476, -121.391], [38.92664, -119.98495], [36.19522, -115.24257], [38.1167, -121.3025], [37.7873, -122.4102], [36.3548, -92.3551], [35.8639, -90.6437], [36.12038, -115.17133], [36.15914, -115.14227], [36.14355, -115.23302], [34.1072, -117.5708], [34.0292, -117.5937], [39.13074, -119.76946], [41.24765, -96.02307], [33.5237, -86.7251], [41.21329, -96.62282], [40.89979, -98.33938], [41.26242, -96.09147], [40.43761, -99.37502], [42.2649, -84.4252], [44.6912, -85.6574], [42.8204, -82.5043], [41.13728, -102.97674], [40.39438, -95.83891], [41.00291, -95.90844], [41.43859, -97.3261], [41.1408, -95.9754], [41.8783, -103.67572], [41.1767, -96.06636], [38.8015, -97.6135], [39.8445, -84.1981], [39.8472, -84.1133], [39.7593, -84.2534], [39.8184, -84.2842], [39.7598, -84.1214], [40.82582, -97.59646], [37.6932, -97.2976], [40.70009, -99.08483], [40.72179, -99.0843], [39.0031, -94.1289], [39.0141, -94.1282], [39.0536, -94.6768], [42.02452, -97.42552], [42.893, -112.4517], [43.6335, -116.3535], [41.1336, -100.78485], [41.7058, -86.6212], [41.0567, -85.2244], [38.158, -85.6606], [38.0655, -85.6977], [39.1874, -84.2601], [38.6777, -84.344], [39.0786, -84.4806], [39.011, -84.6459], [40.91926, -98.35283], [41.564, -87.5084], [41.5492, -87.4051], [39.7523, -86.2509], [39.6659, -86.098], [39.8029, -86.1705], [37.978, -87.4733], [20.8875, -156.4526], [20.7501, -156.4552], [42.3182, -88.9804], [42.2631, -89.0255], [38.8231, -91.1389], [39.1042, -90.3155], [41.8055, -89.9491], [42.5663, -87.9284], [41.8856, -87.6434], [41.4711, -87.3359], [28.54, -81.1508], [27.2221, -80.8276], [32.5821, -83.6949], [34.2724, -85.2382], [33.4676, -82.0789], [30.4763, -84.2981], [26.0988, -80.1369], [47.93706, -97.06647], [30.3882, -86.4255], [46.2636, -96.60218], [48.24296, -101.29645], [25.7649, -80.2412], [25.8219, -80.1267], [27.8577, -82.326], [28.4734, -82.6169], [28.1277, -82.37], [46.8286, -100.8761], [46.79447, -100.78646], [30.1769, -81.7439], [30.0051, -81.6892], [47.88549, -97.06757], [47.90588, -97.04415], [27.3104, -80.4092], [28.0498, -81.9266], [27.9748, -81.9711], [27.8938, -81.5574], [26.6191, -81.9405], [26.6999, -81.8509], [44.57811, -73.50816], [44.49782, -73.49548], [42.68175, -73.73169], [38.7402, -104.7861], [38.8259, -104.7569], [42.76672, -73.47187], [40.71204, -73.3642], [36.6264, -78.5545], [40.72176, -73.24843], [40.76157, -73.2613], [40.76783, -73.26148], [39.6512, -105.0261], [40.74262, -73.61572], [40.83273, -73.36304], [40.77101, -73.83608], [40.76847, -73.83349], [37.044556, -76.348293], [40.5631, -122.3395], [43.03138, -77.43847], [43.14899, -78.69624], [33.7591, -118.0802], [42.74273, -73.64671], [33.1313, -117.0659], [43.31007, -73.64442], [43.01965, -76.66886], [40.70547, -73.7948], [43.018974, -87.96817], [33.7602, -117.9208], [42.08895, -76.80728], [42.10667, -79.22294], [37.3071, -121.9001], [37.3994, -121.8483], [41.03147, -73.77171], [33.9469, -118.0009], [41.96404, -73.9912], [34.7045, -118.1746], [33.8964, -118.2523], [43.48361, -75.33466], [43.97669, -75.94296], [33.9312, -118.1849], [43.07999, -75.31417], [38.2789, -122.0355], [38.3651, -121.9647], [38.9406, -121.0937], [38.4551, -121.3712], [43.00471, -76.14267], [43.05486, -76.07353], [38.8072, -121.2049], [38.6345, -121.3287], [43.09898, -76.14561], [37.9927, -121.7835], [34.754, -92.407], [42.66084, -73.7674], [40.67461, -73.97501], [32.1573, -110.966], [33.6212, -111.8922], [34.2403, -111.3185], [34.2495, -111.3228], [34.0753, -86.78], [43.03925, -77.716934], [42.337944, -75.97614], [40.02682, -83.16116], [40.03168, -83.1417], [42.6824, -84.5156], [40.02729, -81.56755], [39.97008, -81.53937], [40.02729, -81.56755], [40.00189, -81.57718], [40.50775, -81.4511], [40.49292, -81.47458], [40.49264, -81.4726], [40.47889, -81.44952], [39.33117, -82.12055], [39.33205, -82.09007], [39.33688, -82.07124], [41.39765, -82.10498], [41.35033, -82.06728], [39.68835, -84.2184], [42.4936, -82.9381], [39.72692, -84.05781], [39.35394, -84.46081], [39.3531, -84.3611], [39.31993, -84.42285], [42.6192, -83.2797], [40.07606, -80.91687], [39.87836, -83.04474], [39.87938, -83.04369], [42.3981, -83.3525], [39.87946, -83.06665], [41.83604, -80.82456], [41.2928, -96.1237], [41.8578, -80.81001], [40.0739, -83.138], [39.98863, -83.03884], [40.10463, -83.16278], [40.055798, -83.07162], [40.1093, -83.11463], [40.07343, -83.12262], [43.3877, -95.1262], [37.0882, -97.0408], [39.6304, -84.1964], [41.39392, -81.64411], [40.84755, -81.94749], [41.7532, -111.8349], [40.79836, -81.48956], [43.5568, -116.5724], [40.85555, -81.42753], [40.80002, -81.50942], [40.74852, -81.51683], [43.5924, -116.2432], [38.739, -82.97259], [40.0697, -85.8541], [40.7543, -86.355], [41.6115, -86.7211], [41.0385, -85.1362], [39.52668, -84.38988], [41.6631, -86.142], [41.4704, -87.3371], [40.03067, -82.43804], [36.087829, -87.101413], [36.6218, -87.318382], [35.92944, -86.89496], [36.5341, -82.3895], [35.091, -89.9072], [35.095409, -89.859251], [40.87932, -81.44002], [40.86126, -81.42232], [40.87999, -81.43806], [39.0714, -84.3053], [39.0666, -84.7024], [39.4494, -84.1865], [41.5376, -87.4777], [39.8306, -86.0369], [39.644, -86.3315], [39.605, -86.1083], [39.9396, -86.2355], [39.8115, -85.7708], [39.8562, -86.3919], [39.7601, -86.5159], [31.4724, -83.5036], [39.36164, -82.97681], [39.35729, -82.97641], [19.6944, -155.0664], [40.59521, -83.12898], [40.57942, -83.07171], [41.21082, -80.74026], [41.26225, -80.74122], [41.26586, -80.78342], [41.42006, -82.07746], [41.4714, -82.17261], [41.05325, -83.60865], [42.3603, -88.032], [42.386, -87.9595], [39.98074, -82.01905], [39.9408, -81.88648], [39.38033, -84.54962], [39.4171, -84.58685], [36.533104, -86.029671], [35.730614, -84.389206], [36.531, -87.356], [41.6027, -87.7987], [39.4474, -75.7322], [41.1639, -81.86148], [39.0847, -77.0768], [39.70358, -86.06773], [41.40587, -82.66249], [41.39472, -82.65123], [39.4397, -77.438], [41.477, -82.68034], [32.0436, -81.0086], [32.8488, -83.6723], [34.9792, -85.2765], [31.7262, -84.1721], [33.5232, -81.7199], [29.1868, -82.1207], [41.40896, -81.69288], [28.1462, -80.6723], [26.0912, -80.2507], [27.4517, -82.4721], [27.4704, -81.4424], [29.1969, -81.0575], [28.5902, -81.3656], [39.73294, -82.61969], [39.90656, -82.77704], [25.8086, -80.2654], [28.3409, -82.187], [27.8293, -82.6474], [28.069, -82.5069], [40.72943, -84.07143], [28.019, -82.7587], [26.5712, -80.1145], [39.77052, -84.05405], [26.7063, -80.229], [39.92287, -83.77512], [26.5349, -80.0913], [26.5124, -80.0588], [26.3678, -80.1987], [26.4692, -80.0702], [39.82001, -84.02763], [41.77452, -111.83467], [39.63455, -84.21553], [41.68313, -112.14054], [39.65112, -84.10948], [40.76565, -111.84478], [39.65327, -84.15628], [38.2587, -104.6073], [41.69363, -83.6448], [41.66403, -83.56877], [41.70714, -83.58675], [41.6977, -83.63937], [41.68375, -83.62273], [39.9995, -105.2551], [40.87386, -82.29598], [40.7589, -82.55398], [41.09951, -80.76439], [41.15378, -81.360565], [39.5958, -104.8868], [41.10131, -80.65031], [40.98747, -80.61342], [39.972, -104.7579], [39.604, -119.8369], [39.9677, -82.87532], [33.7362, -117.8236], [41.11078, -81.56932], [40.98287, -81.49487], [41.08328, -81.51823], [32.6037, -117.0793], [32.7893, -117.1685], [32.7551, -117.0968], [41.13604, -81.63914], [41.13105, -81.61412], [41.13449, -81.63998], [40.83931, -81.38986], [40.85557, -81.42753], [40.79684, -81.42092], [40.83437, -81.42355], [40.90261, -81.09047], [40.8552, -81.43275], [40.85533, -81.43014], [40.79426, -81.44794], [40.79695, -81.42504], [37.5206, -120.8809], [37.7681, -120.8444], [40.85916, -84.59434], [39.94491, -83.2632], [39.5272, -76.35336], [37.3029, -121.8599], [37.3703, -121.8428], [37.3487, -121.8651], [37.2989, -122.032], [34.093, -118.0269], [33.9483, -118.0894], [33.6854, -117.9546], [40.64484, -75.34653], [35.3838, -119.1067], [35.3185, -119.0561], [38.4663, -121.4923], [38.4743, -121.4364], [38.8952, -121.0784], [36.0791, -119.0188], [38.1359, -121.2737], [37.5595, -122.0101], [37.6888, -122.4715], [34.9622, -89.8291], [34.9632, -90.0179], [36.007, -93.1908], [34.9786, -92.031], [34.1356, -117.2545], [33.6049, -114.6058], [32.1762, -110.968], [32.2869, -110.9623], [33.6111, -86.6876], [33.2061, -87.5697], [34.7102, -86.5902], [34.6764, -86.7539], [58.3636, -134.5751], [38.9319, -76.902], [43.0335, -83.6396], [42.2988, -84.0242], [43.4055, -85.8013], [42.9316, -85.36], [42.6519, -84.5291], [42.4441, -83.6508], [42.523, -82.9875], [42.4953, -83.5367], [41.1401, -95.9678], [41.318, -96.0667], [42.5093, -96.417], [39.0154, -95.6521], [39.8156, -84.1301], [39.8162, -84.1986], [39.8688, -84.294], [39.8449, -84.4248], [39.6533, -84.1563], [39.7497, -84.2528], [39.6618, -84.1084], [38.972, -95.3027], [37.7029, -97.3353], [39.0873, -94.6254], [43.6067, -116.6043], [43.6086, -116.1927], [43.6677, -116.2773], [43.6189, -116.2626], [43.5949, -116.1931], [43.5819, -116.2143], [40.0673, -85.6527], [41.3603, -86.3116], [39.4637, -87.4573], [41.1221, -85.1351], [38.2154, -85.5396], [38.2413, -85.5778], [38.2331, -85.6411], [37.9808, -86.1633], [41.6188, -86.1768], [41.658, -86.2124], [41.6747, -86.0028], [38.9905, -84.6371], [39.1305, -84.6075], [39.0213, -84.2083], [39.5639, -84.2891], [39.1461, -84.4288], [39.2041, -84.3704], [39.3531, -84.3617], [41.4307, -87.3639], [41.5945, -87.3375], [41.5391, -87.5098], [41.4971, -87.471], [39.9984, -86.1305], [39.4849, -88.3304], [31.4484, -83.5344], [20.8741, -156.6785], [21.2774, -157.7046], [42.268, -88.8527], [41.6178, -90.7816], [42.4105, -87.8555], [42.1871, -88.1023], [42.0494, -88.0446], [40.0091, -75.1514], [39.0207, -77.0139], [39.1808, -77.2702], [38.9658, -77.0019], [39.1449, -77.2156], [39.3895, -77.4095], [39.1826, -77.2379], [32.0487, -81.1662], [32.0476, -81.065], [32.0531, -81.1068], [32.049, -81.1646], [27.2432, -80.8357], [32.8438, -83.6304], [34.3137, -83.7964], [35.3889, -85.3772], [30.9037, -84.5809], [33.1011, -82.0228], [30.7531, -83.2726], [34.7609, -84.9948], [37.582933, -85.736916], [38.06794, -84.91873], [30.4544, -84.2778], [30.4647, -84.2834], [30.4488, -84.3105], [28.3462, -81.6288], [29.6602, -82.4205], [27.6393, -80.446], [40.2537, -103.8032], [38.291732, -85.509789], [37.75803, -87.143], [29.1126, -82.023], [29.1661, -82.1632], [29.0571, -82.279], [37.201389, -85.935347], [28.3959, -80.7555], [28.1382, -80.5948], [26.111, -80.252], [26.3181, -80.1297], [27.3373, -82.4584], [27.4993, -81.4885], [28.9958, -81.3032], [29.3331, -81.1286], [30.7235, -86.5684], [28.1456, -81.4491], [28.5318, -81.3977], [25.9255, -80.1663], [26.2562, -80.2503], [27.8936, -82.3236], [27.9967, -82.4386], [27.7129, -82.3367], [28.054, -82.4371], [28.0925, -82.7729], [27.9388, -82.5062], [28.2943, -82.7083], [27.9608, -82.7754], [27.9635, -82.4739], [27.9162, -82.8189], [27.924, -82.315], [27.9318, -82.3261], [27.79, -82.6388], [28.537, -82.4074], [28.0115, -82.3941], [26.6856, -80.2009], [26.3502, -80.1561], [26.3699, -80.2063], [26.6185, -80.1184], [26.6186, -80.1109], [26.4392, -80.0828], [26.5294, -80.0592], [30.6442, -81.4587], [27.4175, -80.3843], [27.4147, -80.3938], [28.0079, -81.7308], [28.3129, -81.6646], [27.9002, -81.5987], [27.96, -81.6229], [40.96519, -80.14551], [26.4663, -81.832], [26.332, -81.753], [38.3101, -104.6342], [38.4555, -107.8655], [40.7043, -104.9995], [41.055545, -83.591056], [38.9375, -104.6101], [40.41024, -79.57254], [41.94147, -78.37597], [45.66873, -122.66435], [45.52834, -122.68064], [45.52267, -122.6543], [37.3177, -120.4725], [40.24655, -75.68939], [40.12874, -75.43389], [38.284, -122.2746], [40.12788, -75.40431], [41.05649, -80.58822], [36.7587, -119.7901], [38.4431, -122.6859], [41.63119, -80.15523], [34.2215, -119.0704], [34.2814, -118.7931], [40.14427, -75.11587], [41.26358, -80.74139], [41.21784, -80.7398], [41.10468, -80.64922], [37.6392, -121.0001], [36.7127, -121.6544], [36.704, -121.6534], [32.7716, -115.5507], [39.7242, -121.8437], [39.7515, -121.8544], [40.43557, -80.06555], [37.2624, -121.8778], [37.226, -121.7751], [41.03506, -75.30284], [37.3228, -121.98], [37.9658, -122.3451], [37.9621, -121.9866], [40.37769, -76.30946], [37.9337, -122.3353], [33.7785, -118.3102], [34.6893, -118.0952], [33.7901, -118.1889], [40.3828, -75.27769], [34.4357, -119.8097], [40.27703, -76.8238], [38.7279, -120.8079], [38.9124, -120.0033], [37.6771, -122.4676], [40.87055, -79.9297], [40.862095, -79.90272], [37.8907, -122.5161], [35.0966, -89.8591], [36.5092, -94.2804], [34.0692, -117.262], [33.9424, -117.2434], [40.00966, -75.59433], [41.05416, -76.23431], [31.3112, -86.4676], [31.8531, -86.6413], [32.4062, -86.2143], [39.99425, -76.84104], [34.2535, -84.0893], [34.3764, -84.9149], [39.90678, -79.74023], [32.6001, -85.4817], [30.6663, -87.8532], [30.6842, -88.2251], [40.23707, -76.9665], [32.355, -86.2646], [32.3844, -86.2065], [33.3797, -86.7993], [33.6096, -86.7973], [35.23741, -96.67124], [33.2061, -87.5042], [34.7481, -86.7817], [34.7475, -86.595], [40.46807, -78.4148], [34.6787, -86.7482], [40.52164, -78.39785], [35.655104, -97.471489], [36.13874, -97.05145], [38.8798, -77.1123], [34.6238, -98.4256], [41.9237, -85.5252], [42.295, -83.8787], [42.2518, -83.6292], [43.0719, -85.6888], [42.5669, -84.8295], [42.7413, -84.7333], [42.9918, -84.5469], [42.2177, -85.5898], [40.49207, -80.06235], [39.97496, -76.6802], [42.1795, -86.2612], [42.0828, -86.4371], [40.38859, -75.93277], [40.37501, -75.92731], [42.4654, -82.9383], [42.4952, -83.5351], [43.0009, -82.4392], [40.28119, -76.88081], [42.2157, -83.1816], [41.2901, -96.0806], [41.2915, -96.1828], [41.6481, -93.6967], [45.93771, -118.38713], [42.43492, -123.1707], [44.05926, -122.98985], [39.7767, -84.0649], [44.9665, -124.01723], [45.223637, -123.19376], [39.7031, -84.1252], [39.767, -84.0567], [46.02315, -123.91137], [37.6915, -97.4439], [37.666, -97.245], [44.96819, -122.98338], [45.0111, -122.99663], [44.98961, -123.02649], [44.40371, -122.69126], [38.8715, -94.835], [41.12313, -100.76456], [45.30249, -122.76345], [45.39512, -122.75152], [42.36943, -122.9132], [42.34189, -122.87047], [42.34337, -122.8767], [42.34426, -122.8811], [43.5577, -116.5736], [43.6018, -116.5983], [43.9839, -124.10086], [41.4527, -85.2734], [45.19664, -123.20889], [45.144615, -122.858345], [37.9907, -85.7103], [40.279, -86.4954], [41.5925, -85.8558], [43.35798, -124.21237], [45.99216, -123.92045], [46.13792, -122.93364], [46.37067, -124.05316], [39.2607, -84.7956], [46.16234, -123.89713], [39.1532, -84.658], [39.2448, -84.5946], [45.66594, -118.80258], [45.4479, -122.59979], [38.9289, -84.5453], [39.2352, -84.377], [45.70936, -121.51171], [45.59924, -121.14234], [41.6827, -87.5086], [41.4702, -87.3165], [44.07985, -123.06836], [44.04777, -123.09867], [44.03898, -123.07046], [44.05456, -123.08931], [39.7618, -86.4959], [39.7637, -86.3495], [39.7636, -86.3806], [39.9109, -86.2562], [39.8547, -86.394], [39.6145, -86.1591], [40.0016, -86.1261], [39.6661, -86.0945], [39.9123, -86.221], [39.7938, -86.1447], [45.5205, -122.66039], [42.31468, -122.96823], [42.42255, -123.34322], [44.0552, -121.30282], [44.88976, -123.03443], [45.51129, -122.6742], [43.22646, -123.34994], [43.22563, -123.34874], [44.58517, -123.25623], [44.590412, -123.27217], [44.62428, -123.10846], [44.62484, -123.0914], [44.63699, -123.10669], [44.62343, -123.11442], [42.42633, -122.84995], [36.23181, -96.56786], [35.56631, -97.28199], [35.46366, -97.38904], [35.49345, -97.47711], [34.011337, -95.51388], [33.89587, -94.81171], [35.95909, -95.39573], [36.01783, -95.80201], [36.06126, -95.9698], [36.05707, -95.81591], [35.28993, -95.5822], [35.50234, -98.97334], [41.5256, -90.5051], [35.39567, -97.596], [38.7613, -90.4591], [38.5246, -90.4727], [38.3537, -90.1511], [36.13758, -96.09688], [36.13943, -96.10291], [35.52646, -98.69638], [36.90383, -94.8771], [36.30393, -95.31943], [34.63817, -99.32367], [42.1729, -88.4281], [42.439589, -83.316227], [35.21073, -97.472984], [35.22078, -97.42351], [36.0895, -96.01263], [34.62322, -98.43322], [41.94176, -84.97134], [41.6627, -87.6605], [35.6691, -97.51338], [36.31624, -95.62571], [36.29157, -95.83418], [36.73095, -97.06767], [34.92732, -95.74325], [34.92732, -95.74328], [35.49297, -97.53514], [35.60955, -97.46436], [36.75058, -95.93848], [35.37387, -96.91216], [35.74163, -95.34051], [32.8781, -83.7643], [35.0397, -85.6855], [34.9976, -85.2437], [31.5755, -84.1495], [34.8221, -84.9438], [26.9871, -82.1044], [44.817415, -93.045545], [44.9921, -93.1054], [30.4409, -84.3168], [29.6885, -82.4415], [30.1886, -85.65], [44.7455, -93.2782], [45.568036, -94.141307], [26.1937, -80.2192], [27.4331, -82.5759], [27.2965, -82.4526], [27.4191, -82.5757], [27.229, -82.4949], [28.9385, -81.9441], [28.5916, -81.3646], [28.611, -81.4283], [32.31465, -90.87883], [32.34949, -90.86301], [33.85523, -89.29592], [37.27571, -93.11599], [25.867, -80.2997], [34.14097, -87.98401], [40.5745, -85.675], [39.9954, -85.9278], [39.7735, -86.0176], [42.46865, -92.32124], [40.627492, -91.333887], [41.660042, -91.533344], [41.2965, -91.6934], [30.67699, -88.1484], [41.669374, -91.568134], [30.91031, -88.59773], [30.9248, -88.59534], [34.24831, -88.71628], [34.62744, -89.96925], [26.6736, -80.2035], [26.3343, -80.2023], [30.37983, -89.09319], [32.33707, -90.06682], [32.86499, -90.39369], [32.51704, -90.11195], [33.50662, -90.19247], [33.52835, -90.22188], [32.34587, -90.32587], [32.37169, -90.018], [30.37241, -88.53416], [30.37824, -88.52726], [33.40003, -91.03094], [25.832697, -80.20798], [28.068913, -82.44926], [25.9287, -80.187], [28.339433, -81.409692], [34.91913, -88.51157], [28.0903, -81.9734], [26.17036, -80.09979], [32.3037, -90.89094], [35.10565, -89.85831], [34.96289, -89.79575], [27.2102, -80.794], [31.69782, -89.14641], [26.6795, -81.8984], [31.31995, -89.38814], [35.91314, -79.055], [35.50035, -82.9881], [35.78419, -78.72121], [32.36241, -88.72865], [35.9543, -78.99476], [35.59981, -80.81342], [35.91581, -81.53448], [34.98007, -79.23576], [35.64644, -80.48495], [35.27454, -81.52805], [35.50655, -78.32202], [36.21739, -81.65494], [35.91077, -79.06648], [35.88057, -79.06622], [36.2049, -81.66778], [35.70486, -82.0353], [35.44416, -80.99305], [35.59547, -80.87565], [35.7239, -78.65013], [36.49312, -80.5981], [35.37905, -81.38905], [35.79754, -78.57791], [39.0778, -108.552], [35.69706, -81.25563], [36.24229, -75.8792], [35.75319, -81.65464], [35.74055, -77.96487], [35.56721, -78.16396], [35.03476, -83.82005], [35.91179, -79.05991], [35.43733, -80.8648], [34.71024, -77.23421], [38.8454, -104.7018], [36.12834, -77.79702], [35.77131, -77.94063], [34.89734, -76.90875], [35.70213, -81.30843], [35.5066, -80.60957], [35.7811, -78.64851], [35.10565, -77.07878], [35.66243, -81.97695], [35.49722, -79.19908], [36.26348, -80.36244], [35.2093, -81.16373], [35.85798, -80.0728], [35.78081, -78.11858], [35.58616, -80.87332], [35.12387, -80.70765], [35.6981, -78.58784], [35.70072, -79.78849], [35.01965, -80.57761], [36.20232, -81.66262], [34.85858, -82.26498], [34.354355, -89.49692], [35.44368, -80.8788], [35.100433, -77.102875], [35.08235, -77.03308], [35.80329, -80.87532], [35.695812, -79.79133], [35.79875, -78.55937], [35.30559, -82.4512], [35.47633, -81.23636], [35.4581, -79.14524], [35.85872, -78.71199], [35.91061, -79.06151], [35.79132, -78.75146], [35.81091, -81.43093], [35.01597, -80.57155], [35.71603, -81.31286], [35.91179, -79.05991], [35.6245, -82.18098], [35.79108, -80.85978], [35.02197, -80.57867], [35.19886, -80.84098], [34.23622, -88.7029], [38.28796, -90.39905], [31.575787, -91.31257], [40.33439, -94.87437], [38.06473, -91.39508], [37.11688, -92.10372], [37.15973, -93.31171], [32.84273, -85.180648], [61.224123, -149.733715], [38.916903, -75.442538], [61.5752, -149.4024], [38.59275, -90.50527], [37.94592, -91.77909], [33.608273, -85.78649], [38.98593, -90.98019], [39.10092, -94.57937], [21.281084, -157.82661], [31.3515, -85.3445], [36.86351, -89.58269], [36.8584, -89.58314], [39.928, -105.0177], [39.5711, -104.9879], [37.17897, -94.32357], [64.8268, -147.7137], [21.299847, -157.84387], [36.73638, -91.86639], [37.67131, -92.65194], [28.87513, -82.09619], [27.903734, -81.548805], [27.43351, -80.32602], [32.32565, -86.32875], [61.192, -149.8682], [39.04651, -94.44711], [61.15926, -149.95401], [32.381702, -86.182493], [21.34877, -157.87595], [21.317905, -157.85207], [31.2595, -85.4357], [34.3128, -86.90028], [39.52219, -107.775936], [33.38159, -111.59966], [39.81129, -105.14076], [61.203697, -149.74467], [61.1809, -149.8299], [19.7207, -155.084], [34.55792, -86.99968], [21.981619, -159.36826], [61.1953, -149.9088], [34.57159, -87.01458], [33.5809, -86.2764], [20.88494, -156.46394], [21.288677, -157.80063], [33.98586, -85.5534], [21.417356, -157.80193], [40.538458, -105.075118], [61.21122282, -149.7324163], [61.5785, -149.4072], [31.77753, -85.93629], [57.788015, -152.405162], [32.45388, -85.00613], [61.57597, -149.408107], [61.21157, -149.87608], [32.8175, -85.1987], [33.39429, -86.970968], [57.781967, -152.50017], [61.1416, -149.8469], [39.0777, -108.5584], [61.1273, -146.3446], [38.81412, -94.51072], [39.5381, -119.7346], [37.81914, -92.14248], [38.80999, -90.86218], [38.800102, -90.72016], [38.14429, -90.55333], [38.21257, -90.40705], [38.2141, -90.40129], [39.23976, -94.43926], [39.24443, -94.44952], [39.24337, -94.45361], [38.68829, -93.25122], [38.44494, -90.37574], [38.41387, -90.38497], [38.7446, -90.63517], [37.78927, -90.42799], [39.00117, -94.27279], [39.02609, -94.24503], [38.9434, -94.36052], [36.77795, -90.42309], [36.62424, -93.21681], [36.6444, -93.22365], [37.30243, -89.58326], [39.758366, -94.78245], [39.79241, -94.81067], [38.4081, -122.8403], [38.94756, -92.30041], [46.871387, -113.88084], [36.9121, -121.7585], [46.59063, -111.9883], [45.64388, -109.26019], [36.5759, -119.6308], [36.8357, -119.8795], [44.52226, -111.32813], [46.59158, -112.01517], [47.05766, -109.43852], [48.36474, -114.14781], [48.2013, -114.31535], [35.338573, -80.20407], [33.2064, -117.2892], [34.2794, -118.8742], [33.8177, -118.0618], [37.480625, -122.227238], [38.11507, -121.30254], [37.2499, -121.8567], [39.72945, -121.84167], [37.9295, -122.0166], [33.6799, -117.9086], [33.6609, -117.8747], [34.72788, -76.77276], [34.72615, -76.76688], [39.7185, -121.7971], [39.77289, -104.94524], [37.4334, -122.1291], [35.50224, -82.5247], [35.44854, -82.53123], [35.34682, -82.43092], [37.6695, -121.8587], [37.7645, -122.2427], [21.972651, -159.378127], [20.890852, -156.467144], [29.400708, -95.036146], [37.105783, -76.493846], [40.738755, -73.613032], [36.049338, -80.32867], [33.86015, -118.046643], [27.939762, -82.322338], [36.640565, -93.257962], [40.267466, -81.868878], [40.554672, -84.409482], [29.522994, -96.06841], [29.713718, -95.315511], [32.358757, -86.282712], [37.48319, -82.519095], [36.798914, -76.173884], [40.787975, -82.986442], [33.609571, -112.238208], [27.936879, -81.974711], [37.933951, -75.36462], [35.660535, -80.461834], [36.053599, -80.258788], [44.093744, -123.095449], [40.856721, -81.427489], [33.919518, -84.256104], [29.785455, -95.822547], [38.567405, -86.464941], [37.269224, -79.929478], [41.706874, -83.603003], [47.46658, -122.334439], [32.602782, -117.065173], [36.81539, -76.164967], [32.186684, -90.260772], [32.269287, -90.261161], [36.070539, -86.686302], [32.33296, -89.15143], [36.1386, -86.8822], [33.53248, -89.26368], [35.945645, -86.828258], [32.33213, -90.26551], [36.206307, -86.767955], [30.4496, -88.842], [32.471151, -90.136072], [31.311893, -89.311286], [41.2618, -95.89806], [41.5507, -87.2749], [39.878662, -86.27097], [37.98298, -87.47327], [38.2974, -76.5185], [39.516652, -85.74446], [39.96155, -86.11645], [41.408954, -92.952016], [39.88586, -86.209743], [38.31611, -85.89674], [39.953982, -86.040028], [39.823592, -86.270377], [39.6652, -86.1261], [38.306211, -85.841795], [39.8642, -86.3936], [41.470737, -87.31083], [39.582676, -76.989579], [41.592223, -87.461849], [41.588619, -87.462724], [41.63876, -87.509099], [45.516562, -122.679885], [45.63514, -122.67067], [37.227097, -79.998343], [47.6584, -117.4162], [40.849179, -111.929196], [38.0288, -78.4408], [45.3690719, -122.8414308], [45.51685, -122.679053], [36.798243, -76.175093], [44.902, -123.0393], [45.617311, -121.21116], [44.613755, -121.135552], [37.37585, -77.51065], [45.499517, -122.80602], [46.1611, -123.899], [45.4474, -122.79084], [45.33372, -122.59081], [35.221528, -101.831193], [47.835333, -122.211247], [45.509704, -122.433076], [43.81703, -91.23933], [47.66134, -122.32605], [45.9924, -123.9276], [36.670784, -76.94581502], [37.302914, -79.93218], [44.045553, -122.983185], [34.75203, -95.04854], [41.175513, -112.007978], [36.69084, -80.881981], [44.9483, -122.9918], [48.5349, -117.9051], [36.74803, -76.53561], [36.71405, -76.2806], [45.519561, -122.682528], [37.37104, -76.77664], [36.7188, -76.2393], [44.56714, -123.26032], [47.23099, -123.12565], [45.520454, -123.071824], [47.82132, -122.28841], [45.5351, -122.6536], [36.678722, -76.921234], [32.59981, -85.48116], [27.44804, -80.32495], [30.38022, -87.68241], [39.14718, -84.42872], [40.00827, -75.28918], [32.62354, -85.44692], [41.6514, -81.38039], [35.07196, -78.9527], [27.96131, -82.72881], [41.14827, -81.50734], [35.68381, -80.48272], [26.935867, -80.13551], [39.994877, -85.9326], [61.14373, -149.89478], [34.23478, -77.94891], [35.768864, -78.64114], [28.195248, -82.392654], [28.19449, -82.35379], [39.956696, -86.11604], [28.15094, -82.75691], [59.64767, -151.53294], [32.60737, -85.48137], [32.459319, -86.406254], [34.69263, -82.84225], [34.742643, -86.677094], [30.2538, -92.0385], [48.23951, -114.33033], [38.211368, -91.170352], [30.1976, -92.06865], [47.490452, -111.32792], [32.087414, -96.4714], [25.779681, -80.256199], [31.424645, -85.617681], [33.934958, -117.273195], [40.747123, -73.591481], [32.527724, -93.700773], [41.892944, -80.804257], [30.5325, -92.0785], [26.493682, -81.789639], [40.782089, -124.180318], [46.547013, -87.431425], [45.520235, -122.39881], [38.411244, -82.524006], [46.220483, -119.224768], [36.161352, -96.018311], [28.546841, -82.399447], [30.371456, -88.541065], [38.74941, -90.280638], [38.944907, -94.882673], [42.10567, -80.07747], [34.742375, -92.276845], [37.836821, -94.32973], [32.843074, -79.854872], [29.482375, -98.357928], [33.686219, -84.310152], [42.1172, -88.0333], [39.75799, -86.14001], [41.6344, -85.0445], [39.912109, -86.06783], [39.654598, -86.157915], [41.464167, -87.470393], [41.470422, -87.302115], [41.50969, -87.51845], [40.04893, -85.651912], [39.692319, -79.100152], [38.86962, -76.84876], [40.287855, -80.115048], [43.955935, -86.411213], [42.988423, -84.543179], [32.59393, -83.63982], [42.60764, -72.55734], [41.50916, -72.80824], [45.04867, -93.14705], [64.82639, -147.71358], [34.15223, -118.34638], [42.62601, -83.13107], [43.024161, -82.455773], [37.36163, -121.83445], [43.190354, -112.341854], [35.37523, -119.00217], [40.50419, -74.64383], [42.249739, -83.655519], [44.992063, -93.147776], [34.159884, -118.343105], [34.5805, -92.57398], [33.22936, -92.66578], [36.617796, -121.840907], [42.77448, -71.08218], [38.23833, -122.03971], [35.76527, -91.64064], [35.28252, -93.10928], [30.60217, -87.89836], [33.39218, -110.76616], [34.657, -92.40978], [34.02201, -86.02105], [36.05383, -90.50463], [30.6018, -87.89745], [26.53676, -80.09046], [21.2773, -157.7859], [43.64903, -116.43364], [29.060403, -82.4545], [26.1374, -80.1561], [28.3462, -81.4204], [27.93443, -81.97345], [28.00011, -81.78466], [27.96041, -82.72768], [25.78397, -80.13238], [28.4948, -82.59621], [30.28555, -81.39171], [20.87569, -156.67921], [28.1974, -81.2942], [25.749332, -80.25434], [26.691296, -80.073827], [25.769121, -80.351069], [34.43649, -85.74069], [37.81555, -94.70482], [28.302, -81.459], [46.4199, -117.0579], [39.009799, -95.688154], [34.181532, -92.006481], [28.88795, -82.58388], [34.60978, -92.31965], [33.75923, -87.06588], [37.817677, -96.874497], [26.4394, -80.072], [37.008065, -94.736377], [26.34856, -80.08607], [27.855625, -82.32614], [27.99636829, -82.5664726], [30.8028, -88.1003], [34.01847, -86.072733], [27.27, -82.51232], [33.51484, -86.81232], [26.13638, -80.15436], [27.05551, -82.41107], [32.8194, -83.6969], [33.466232, -111.922231], [33.27684, -86.85263], [32.4399, -85.79083], [34.574452, -92.987594], [33.5113, -86.7884], [33.581756, -112.236749], [32.419648, -86.26951], [32.382915, -86.187648], [34.7281, -114.3146], [33.267975, -86.353877], [34.68326, -86.73657], [33.5005, -86.7962], [33.593462, -86.282374], [33.59349, -85.8793], [33.4977, -86.8058], [33.917781, -117.940351], [30.512641, -97.624398], [46.385146, -116.981824], [38.774237, -121.269814], [33.375216, -79.285708], [35.538472, -98.67528], [37.054933, -94.503595], [29.165902, -95.422387], [38.743031, -121.170646], [43.765821, -103.602638], [46.375354, -120.315415], [41.261963, -82.616236], [36.687883, -85.133693], [26.151213, -80.256848], [39.019615, -96.821199], [42.526507, -83.165201], [39.5456, -82.4329], [47.2175, -122.46849], [39.7698, -82.1031], [47.66931982, -122.3762461], [43.0389, -87.9408], [36.915, -80.3117], [41.3501, -81.5274], [44.92268, -89.61354], [41.085129, -81.441523], [47.6947, -117.365], [46.1857, -122.9056], [39.9238, -82.9956], [43.403934, -88.180778], [39.065021, -84.295389], [47.544716, -122.38723], [41.6922, -83.57], [47.7414, -117.412], [47.296453, -122.216927], [47.688728, -117.394885], [35.769727, -95.359272], [46.739933, -117.17292], [40.098418, -82.424455], [38.596176, -82.494036], [41.3724, -81.8272], [47.654, -118.1507], [44.94962, -122.99277], [36.3295, -94.1253], [31.298268, -85.77794], [45.67954, -122.66732], [46.720396, -92.095208], [39.879233, -83.04309], [38.631424, -90.265505], [35.46537, -93.47957], [38.79607, -104.75697], [35.288651, -93.133741], [40.422064, -105.075234], [64.85688, -147.68959], [36.0266, -86.79228], [35.93395, -89.91007], [35.0057, -92.80131], [39.68344, -75.747751], [39.7156, -75.6296], [39.602185, -75.749821], [35.222509, -94.280866], [36.078823, -94.206115], [33.923736, -116.948689], [47.595482, -120.661519], [32.938577, -80.040244], [35.151352, -78.983423], [40.40627, -105.07266], [36.05702, -78.929765], [31.349272, -89.336425], [39.250337, -81.54492], [38.446407, -90.219449], [33.410763, -86.761848], [37.056986, -76.328172], [36.491503, -79.738413], [36.962797, -122.043374], [39.704169, -84.140496], [43.186168, -76.233563], [28.333724, -81.529604], [32.906439, -80.020748], [47.709601, -122.319217], [33.661214, -114.241873], [33.608992, -112.391089], [40.066257, -83.093486], [37.341457, -121.911514], [38.317594, -81.718274], [33.198115, -96.636364], [47.757558, -117.394927], [36.916576, -76.234019], [39.331169, -94.269636], [35.921657, -81.1865], [34.818658, -87.686819], [40.116766, -83.067555], [32.611131, -85.448292], [45.532701, -122.653584], [40.859162, -84.594373], [35.214356, -80.857508], [27.105584, -82.385284], [34.053538, -118.250897], [39.905737, -86.055696], [39.313272, -76.737514], [30.482381, -97.658015], [32.221864, -110.869383], [39.519464, -107.319406], [37.822059, -92.141259], [27.937197, -82.293576], [21.399702, -157.97355], [39.773536, -86.152399], [33.64949, -117.842704], [40.16776, -80.24494], [39.18673, -76.80038], [34.15721, -84.15395], [33.9576, -83.37566], [34.07617, -118.34539], [35.57432, -81.01414], [40.20781, -75.01126], [30.165765, -90.88191], [35.38022, -96.92979], [39.44876, -75.04223], [30.4735, -84.36292], [34.95255, -81.92998], [32.44863, -94.72315], [38.14909, -92.61933], [40.41371, -75.922121], [38.59559, -121.3656], [45.75405, -94.21585], [39.12786, -84.51939], [30.167539, -92.035915], [30.18973, -85.69805], [45.036782, -93.79294], [39.17697, -75.52984], [36.07025, -79.86681], [36.72393, -84.46736], [41.71382, -83.47909], [44.02164, -92.48247], [44.96311, -93.0399], [34.56444, -86.97336], [43.616, -84.21561], [37.97717, -121.26163], [39.930917, -104.905783], [36.12436, -115.135552], [33.655445, -80.779266], [33.730363, -116.230779], [32.459323, -86.39757], [40.586895, -122.388762], [42.778224, -96.187746], [34.005638, -81.199408], [33.457034, -94.088991], [33.804182, -79.009908], [34.025188, -118.252436], [36.400699, -87.077932], [32.492714, -86.405966], [29.2175, -81.051861], [35.17532, -106.57263], [35.08732, -106.58937], [31.76466, -106.32138], [31.89767, -106.4356], [32.78703, -108.2549], [35.249348, -106.681755], [35.99786, -106.06391], [32.33455, -106.78105], [35.14684, -106.556], [33.887874, -84.009468], [33.2581, -86.8132], [33.60702, -85.7871], [33.156876, -86.27041], [32.3554, -86.2132], [33.9872, -86.0044], [31.31804, -85.83032], [32.3092, -86.3504], [34.76028, -84.99756], [34.2182, -86.1582], [40.50496, -121.885666], [32.5764, -85.4983], [38.500854, -122.75021], [34.78738, -86.96062], [32.33146, -86.2998], [34.17173, -84.782396], [30.5611, -88.2066], [38.35666, -121.98724], [32.6221, -85.4096], [34.798093, -86.953066], [29.78952, -95.687924], [29.716364, -95.289445], [33.65277, -86.82151], [36.020726, -86.576884], [41.693484, -83.640281], [41.706776, -87.700392], [45.582385, -122.722979], [34.61984, -87.03676], [33.141507, -94.96881], [40.5795, -83.1269], [38.288553, -90.399032], [30.47728, -90.863807], [33.848428, -87.282668], [29.935842, -93.934278], [33.700345, -117.906643], [41.779455, -87.696188], [35.452104, -84.621313], [29.728123, -95.529704], [40.655915, -80.573707], [35.482372, -80.879152], [33.979322, -118.202441], [36.617847, -88.315159], [34.948446, -82.218985], [30.465483, -97.803176], [37.330648, -80.738735], [32.313661, -106.75096], [38.702375, -90.143812], [35.768275, -91.641302], [39.628817, -84.142132], [34.86468, -120.416225], [39.138102, -121.616848], [47.509857, -122.354518], [40.805166, -124.16689], [35.163412, -80.887597], [40.222824, -76.933904], [33.003609, -80.041196], [33.749583, -117.868807], [38.851325, -94.819175], [29.415491, -98.650491], [41.708913, -81.360743], [35.6669, -88.8292], [28.956674, -98.491542], [36.381367, -86.46243], [36.075567, -87.375835], [35.915111, -86.826055], [36.5344, -86.0308], [36.518658, -87.362799], [45.32084, -118.0826], [41.61882, -81.35838], [36.16472, -115.15612], [41.68339, -81.29508], [36.03001, -115.136], [29.85891, -90.10127], [36.10262, -115.17236], [41.66122, -81.35973], [36.19724, -115.25779], [39.84126, -84.13931], [40.73998, -81.88089], [43.2138, -123.3589], [41.1073, -80.6513], [36.03198, -115.00935], [36.26173, -115.18197], [36.239, -115.1503], [36.0402, -115.02985], [40.94994, -81.46666], [40.75958, -82.55967], [36.01322, -114.96009], [30.374781, -92.912101], [39.9547, -82.0739], [45.66562, -118.80244], [36.06416, -115.04089], [45.0052, -122.7822], [36.13727, -115.16558], [40.8602, -81.48299], [40.9229, -100.1663], [40.63913, -81.44207], [40.73261, -82.78624], [39.92618, -83.81624], [39.95123, -83.83005], [41.52517, -81.43888], [39.97244, -82.01162], [40.76004, -84.14665], [39.71737, -84.02924], [36.099953, -115.10464], [36.11585, -115.20725], [41.04034, -81.56764], [40.52724, -81.48978], [40.33105, -83.76208], [45.7096, -121.5317], [36.15897, -115.21035], [36.11337, -115.17263], [36.03985, -115.19221], [36.14385, -115.11927], [36.17437, -115.063], [36.14484, -115.11761], [36.17332, -115.11564], [36.17325, -115.06154], [36.06763, -115.03644], [36.05673, -115.04156], [36.26086, -115.13541], [35.3449, -96.9121], [39.52764, -119.82738], [36.01435, -115.11894], [36.10338, -115.13723], [36.21793, -115.21356], [36.1304, -115.06475], [36.11505, -115.26167], [38.95284, -119.94708], [36.22095, -115.27828], [36.1595, -115.23512], [36.14642, -115.29831], [36.20666, -115.30303], [36.15744, -115.24428], [45.52452, -122.81565], [41.26764, -95.98248], [36.811685, -76.750035], [35.274385, -82.704521], [45.5302, -122.6836], [29.39866, -98.387682], [40.892128, -83.871801], [32.210185, -95.82979], [28.09124, -81.973137], [30.085638, -98.419178], [33.140181, -117.190837], [42.427895, -122.849245], [38.593247, -89.990065], [36.14493, -115.207537], [32.507005, -114.783982], [30.649418, -97.01567], [34.002437, -81.017282], [33.603305, -83.85946], [32.411086, -88.505776], [29.772267, -94.983803], [36.830907, -76.339926], [45.449826, -122.576109], [37.049065, -88.563804], [46.533427, -93.706151], [40.97456, -91.53962], [39.767173, -86.163746], [33.5623, -86.5222], [39.239, -94.90096], [34.07267, -81.15851], [32.92807, -80.07407], [34.82587, -82.29965], [34.82712, -82.29887], [34.17527, -79.82885], [32.25706, -80.84915], [34.544037, -82.66897], [33.81861, -78.69267], [33.9052, -80.37572], [33.76943, -79.02114], [34.93676, -81.98272], [34.8502, -82.33638], [34.41472, -79.37228], [32.9891, -80.10053], [34.82066, -82.27853], [34.82097, -82.27993], [32.86326, -79.90367], [33.03673, -80.15297], [33.64543, -78.97443], [32.84015, -79.85941], [34.21457, -80.9792], [34.06913, -81.16404], [33.03546, -80.15727], [34.07026, -80.95198], [34.17232, -79.39972], [33.83311, -78.67304], [34.20298, -82.1972], [36.04076, -115.09974], [35.20255, -80.73536], [33.04159, -80.1358], [34.85326, -82.45256], [33.6925, -78.88363], [33.76024, -78.86004], [34.05929, -80.95095], [34.02874, -81.04189], [34.45817, -81.87848], [34.87348, -82.32996], [34.97066, -81.88723], [34.9152, -82.3905], [34.16579, -81.34949], [33.63644, -81.73805], [34.15968, -79.76619], [34.01099, -81.15379], [33.99138, -80.97818], [33.99862, -81.01515], [34.07609, -80.99816], [33.9387, -81.15081], [34.29638, -81.60841], [34.19012, -79.83002], [33.53623, -81.98908], [32.86341, -80.04991], [33.68658, -78.88911], [35.20792, -80.85998], [33.934353, -85.590775], [41.56165, -87.50975], [38.579244, -95.267802], [39.689, -77.7303], [30.79696, -88.07126], [34.213875, -86.156981], [39.760691, -86.226227], [41.420723, -87.239866], [37.375087, -121.918944], [41.153301, -81.358749], [35.119504, -80.87987], [45.38343, -122.760476], [29.953805, -93.987797], [39.956709, -82.920879], [34.678495, -86.748766], [28.687567, -81.393059], [41.692349, -87.622562], [39.682456, -75.744857], [44.879476, -91.930043], [42.469917, -89.057423], [33.756655, -78.9678], [35.464701, -80.594836], [39.612196, -84.159755], [37.759652, -122.187301], [35.869615, -78.582754], [42.449656, -83.126504], [34.060274, -84.593195], [39.904329, -122.198465], [25.499166, -80.413803], [38.788391, -89.978564], [39.997535, -83.007366], [41.548648, -83.707912], [43.060653, -87.957415], [35.8459, -86.4273], [33.5628, -101.84573], [33.681472, -84.395979], [35.8966, -86.8765], [36.0567, -96.0031], [29.600364, -98.277203], [35.6753, -88.7802], [41.168, -104.8292], [37.9333, -75.37766], [40.554176, -112.297574], [42.68055, -88.05026], [47.64659, -117.39], [64.83703, -147.80067], [31.727957, -94.611], [40.26133, -76.88132], [36.59007, -87.29147], [45.8483, -122.8312], [36.520596, -86.037341], [42.315458, -122.859661], [44.518584, -122.901523], [36.0074, -84.0173], [35.1185, -89.93959], [45.4979, -122.4212], [44.1012, -123.1298], [45.307193, -122.946879], [42.195, -121.7572], [45.50459, -122.41394], [39.83062, -82.93296], [42.422257, -122.85147], [44.585, -123.2572], [45.52292, -122.69021], [43.2131, -123.3197], [34.720098, -86.58256], [33.93374, -85.61049], [39.82173, -86.28274], [34.6486, -86.0336], [39.03779, -87.14568], [32.419568, -86.231002], [34.27284, -85.87529], [39.701587, -86.081975], [41.589598, -93.806935], [41.58013, -87.48054], [31.19081, -85.39794], [34.75125, -86.75422], [33.997422, -86.004009], [39.787295, -86.063844], [41.482243, -87.052549], [33.1673, -86.7767], [31.71, -87.776644], [39.4943, -86.065], [34.55881, -86.96915], [34.53764, -86.912384], [41.494677, -87.045347], [41.554588, -87.336606], [40.973684, -81.781561], [33.803001, -117.226527], [42.269321, -88.856037], [33.714439, -117.954926], [38.890315, -76.852838], [40.734157, -82.791663], [33.866509, -84.467023], [41.005094, -92.425845], [47.132913, -119.274667], [38.072142, -78.900812], [35.296234, -119.02636], [42.172202, -83.767688], [44.464536, -87.949904], [26.327201, -81.806204], [41.65883, -85.947639], [27.964127, -81.625072], [38.78246, -90.381437], [40.90169, -80.851405], [27.917044, -82.80707], [33.889731, -117.764591], [36.391312, -86.436967], [45.516533, -122.752991], [37.753116, -122.418776], [43.26857, -82.530649], [41.47002, -87.34126], [39.96156, -86.11845], [30.48206, -90.95461], [36.9882, -85.639], [30.676907, -88.134711], [30.4798, -90.1084], [37.737, -84.3276], [21.90384, -159.46431], [38.006281, -84.209187], [29.828254, -95.37956], [35.8781, -97.3982], [43.47072, -87.9419], [46.97672, -120.5424], [38.406577, -78.618767], [37.24232, -81.239992], [36.82004, -76.0671], [37.2571, -79.9574], [36.864347, -76.406066], [34.017748, -86.078283], [42.020166, -94.376937], [39.501767, -86.068378], [41.52663, -81.437629], [37.33437, -79.242851], [37.508109, -120.877225], [45.163478, -89.148967], [35.92252, -84.092689], [47.667493, -117.103254], [27.938487, -82.483048], [42.024316, -91.622113], [43.060584, -87.995718], [39.44827, -76.815207], [34.017467, -84.491257], [27.244953, -80.271162], [38.423078, -82.420409], [32.60904, -117.08132], [43.977152, -75.932863], [38.593041, -90.586397], [32.60385, -96.824094], [39.556076, -119.754722], [38.840501, -121.313917], [37.31418, -121.792902], [39.195325, -84.236954], [34.819372, -82.268161], [33.901447, -118.366083], [40.646614, -74.019518], [45.683603, -122.604047], [27.431526, -82.426551], [34.035695, -84.051879], [45.379243, -122.759636], [40.145695, -82.706092], [34.116436, -80.883628], [34.112675, -80.892205], [39.439992, -94.228228], [25.691251, -80.313915], [44.985617, -93.571667], [38.805326, -76.985619], [29.56796, -98.579587], [39.84546, -84.425907], [38.284128, -122.459615], [34.048173, -118.44321], [40.803901, -81.510054], [40.250911, -111.664842], [40.09424, -83.087652], [41.417946, -82.151719], [34.001441, -117.733194], [38.4841, -77.968219], [33.020516, -96.914999], [38.729089, -77.793133], [36.031306, -80.261158], [34.529344, -82.696236], [41.022277, -81.525884], [44.025079, -116.983463], [36.196463, -115.258213], [47.978622, -122.208189], [36.06501, -80.312372], [34.282975, -81.593964], [35.55294, -82.850463], [38.198898, -95.738243], [26.181251, -97.720403], [33.85569, -83.994766], [61.14016, -149.870107], [39.86324, -105.051904], [60.4891, -151.0518], [36.491613, -87.276317], [35.035052, -80.96921], [36.57883, -87.40994], [41.46221, -81.64337], [36.862977, -94.376797], [37.977284, -87.629144], [39.9279, -83.117], [39.485432, -86.064191], [29.937679, -95.398042], [39.758888, -86.11313], [34.1743, -86.6037], [29.935354, -95.581642], [32.820123, -80.065345], [42.012186, -87.721407], [41.435691, -81.51809], [27.257357, -80.199321], [33.923799, -84.172342], [39.138527, -76.606518], [32.842046, -97.213925], [31.214356, -85.360947], [40.760936, -73.917442], [35.750065, -78.877293], [37.222954, -95.711548], [40.720814, -73.761147], [41.825425, -87.797005], [33.33397, -86.99389], [38.8318, -82.1575], [44.0514, -123.1408], [44.89996, -123.03939], [41.3048, -84.3636], [39.83955, -83.07978], [39.633682, -84.220963], [44.4159, -118.953], [45.4587, -122.7889], [41.0802, -81.5054], [45.697, -111.061128], [38.1588598, -92.60525203], [45.524522, -122.806151], [45.8093676, -108.4722355], [39.346, -82.9738], [45.38255, -122.58247], [39.7325, -82.6191], [41.224301, -81.441366], [44.04497, -123.08019], [40.11124004, -82.9459992], [39.8865, -82.9995], [38.45777, -75.0517], [35.395318, -97.596341], [39.275977, -81.597439], [41.3568, -83.6499], [41.1539, -81.35668], [40.19834, -100.63884], [39.909738, -76.702416], [41.693309, -83.645637], [45.1964, -123.2082], [31.20065, -82.329085], [36.147816, -95.948685], [39.6846, -83.9358], [41.386173, -81.441055], [45.4862, -122.7484], [40.978333, -81.493225], [36.0604, -95.8163], [43.3595, -124.3063], [45.74197, -107.61152], [44.02381, -116.93854], [45.605429, -121.200003], [44.0689, -123.1418], [36.57543, -87.40794], [37.58185, -77.49819], [36.87869, -76.42358], [39.14353, -77.71374], [37.2724, -76.7546], [47.966993, -122.210502], [47.329685, -119.54536], [45.640232, -122.620385], [36.5883, -87.2936], [37.396771, -79.908201], [37.25229, -77.38282], [37.2341, -80.41868], [36.8633, -76.40378], [47.66477, -117.42641], [47.380945, -122.249976], [37.349612, -79.231141], [36.53674, -87.3671], [36.880543, -76.42416], [37.0927, -81.7821], [36.8516, -76.0249], [36.886497, -76.306711], [47.4528, -120.3345], [45.910634, -122.740636], [37.2305, -80.4152], [48.435453, -122.332147], [37.34301, -79.19085], [46.5714, -120.4879], [46.28052, -119.27464], [47.661373, -122.33238], [47.32053, -122.22926], [47.66141, -122.29209], [47.887921, -122.283199], [37.5608, -77.4741], [47.2973, -122.3825], [47.513188, -122.355124], [47.849392, -122.247311], [36.74674, -76.584], [36.72842, -76.29974], [48.436106, -122.343648], [34.12153, -117.39742], [29.7701, -95.601567], [41.630801, -83.567107], [33.160846, -111.562717], [39.870811, -77.029324], [42.475889, -82.903256], [39.823368, -76.992926], [38.379459, -84.308568], [34.259457, -84.071717], [35.095506, -106.67279], [40.974056, -90.391104], [33.585498, -79.051773], [35.609037, -97.466788], [42.7336, -90.4398], [43.320222, -90.37493], [38.293184, -112.652339], [41.945836, -87.747406], [43.3869, -123.3399], [36.078549, -80.386687], [45.07157, -83.444941], [36.86696, -76.233709], [37.271426, -80.036909], [45.8412, -119.2927], [38.549061, -122.807339], [44.95833, -89.62646], [40.480204, -78.017155], [26.5371, -80.09058], [36.017135, -106.063921], [42.104208, -88.291629], [42.959628, -87.879028], [30.19682, -92.07314], [40.694854, -112.090987], [42.094998, -88.006649], [36.8235, -76.4155], [37.30032, -78.39318], [40.62349335, -111.9787716], [40.52652, -111.872273], [37.05358, -93.3024], [36.091055, -94.153473], [36.087477, -80.286509], [37.340266, -121.843131], [39.24626, -94.58164], [28.497869, -81.309459], [39.36284, -78.043186], [41.380759, -81.782945], [34.792749, -82.41727], [33.873137, -79.760657], [33.959955, -86.037446], [39.675253, -84.243606], [34.055273, -80.947669], [32.684675, -97.3189], [36.072679, -79.492812], [39.395614, -80.29733], [28.628517, -81.363231], [38.983914, -76.537232], [37.339202, -121.84206], [34.695977, -118.170665], [47.436746, -120.324186], [26.204783, -80.147162], [39.579315, -105.1378], [39.927802, -82.831716], [43.406922, -124.228679], [44.981688, -124.007326], [39.489517, -86.064802], [34.025969, -117.119358], [41.186699, -87.850815], [43.707481, -121.474803], [33.870892, -98.534224], [33.59549, -86.122032], [37.413778, -77.648296], [33.551661, -112.261045], [41.140634, -95.975079], [41.14515553, -96.16184113], [31.098281, -88.238111], [44.97469, -92.75687], [41.017806, -80.354529], [43.662904, -116.687152], [26.138785, -81.732323], [36.598167, -87.286076], [41.87471, -84.033871], [40.070686, -75.319365], [41.424934, -74.428274], [31.06083, -97.815876], [32.312255, -90.218858], [31.827367, -106.445052], [40.059873, -82.970603], [26.201438, -98.324338], [36.060401, -79.910589], [36.050792, -78.90448], [32.954998, -96.817819], [38.105175, -85.868867], [47.601819, -117.370353], [38.653107, -121.12343], [45.227689, -123.175374], [27.490378, -99.459411], [35.189069, -84.866026], [37.860581, -81.989441], [29.636217, -95.396156], [33.409775, -84.568586], [36.943708, -76.309812], [28.540099, -82.406258], [35.105241, -98.591478], [29.700533, -95.232208], [36.7459, -76.5828], [37.054127, -76.34739], [47.675938, -122.12577], [34.561493, -86.97061], [26.441542, -80.07008], [34.0512, -84.0902], [36.170346, -115.144035], [33.577908, -101.903404], [39.18763, -119.75756], [36.169544, -86.679504], [39.63801, -86.128876], [33.29795, -111.898674], [34.155106, -79.74339], [21.276192, -157.8237], [37.175858, -104.508], [39.209618, -94.64323], [38.599583, -121.42715], [27.98124, -82.28723], [26.637764, -82.017944], [61.180978, -149.832147], [28.050556, -81.92772], [29.02495, -82.15455], [26.651, -80.0897], [33.395554, -86.8059], [21.2939, -157.8282], [25.6843, -80.4541], [32.419228, -87.01083], [47.424847, -120.31183], [26.670333, -81.93438], [36.063248, -79.80852], [45.319862, -118.080734], [40.856335, -81.434654], [44.93757, -123.06405], [36.11432, -115.11964], [26.27083, -81.78807], [30.295671, -87.683334], [34.490417, -87.73023], [33.88149, -84.50632], [40.48884, -79.872055], [34.66369, -99.33424], [35.526196, -98.70456], [35.563039, -77.063384], [39.830505, -84.198022], [39.761283, -75.521778], [36.049835, -83.999441], [35.694744, -81.22656], [41.320141, -81.347954], [40.678026, -99.083857], [39.637309, -78.845366], [30.353828, -97.732794], [28.032989, -82.055219], [36.14013, -85.266266], [32.864568, -90.395381], [38.325985, -85.765825], [37.124105, -76.51163], [37.283042, -80.050292], [33.945419, -118.213392], [43.023113, -83.732028], [41.310394, -122.31691], [39.878212, -83.05514], [61.571632, -149.38394], [37.23121, -80.422806], [36.808033, -119.84687], [27.954806, -82.299468], [37.817231, -92.142455], [30.2379, -97.752], [33.011861, -85.091131], [34.290546, -83.831832], [45.825496, -120.806975], [39.638677, -104.895501], [45.095214, -83.456577], [37.793072, -80.445954], [36.572902, -82.192634], [27.894468, -82.679002], [32.002928, -102.13684], [33.172568, -94.970828], [39.439262, -84.333067], [33.526553, -81.847677], [36.947548, -81.057419], [33.184441, -86.245469], [47.142637, -123.094114], [30.39235, -81.68221], [39.089316, -108.602237], [45.178002, -89.657753], [45.7824, -108.5061], [35.05854, -106.58204], [32.40715, -91.18889], [35.186974, -84.87085], [33.549374, -84.41506], [37.160275, -93.31271], [35.1646, -79.471695], [41.724625, -86.25065], [31.340273, -94.717674], [32.504097, -80.2976], [38.364292, -81.69314], [35.891273, -80.07175], [47.000656, -120.5357], [40.79591, -81.52464], [40.8487, -81.43429], [40.66913, -80.31591], [36.067947, -86.63201], [27.812632, -82.75414], [38.782856, -90.49184], [40.835423, -81.389015], [38.968983, -92.74202], [44.778248, -117.83588], [35.185513, -84.87536], [33.58396, -88.6589], [41.134155, -104.81189], [40.864983, -82.29441], [36.59452, -87.28792], [38.535767, -90.496475], [33.559242, -83.47677], [38.484203, -90.75459], [41.5883, -87.44059], [38.53519, -89.73407], [26.669971, -81.93686], [33.108864, -96.80291], [41.792404, -87.86934], [41.26663, -96.23512], [44.095737, -123.12839], [40.032345, -111.73465], [39.299564, -81.54794], [37.64652, -95.47568], [33.917736, -78.019135], [27.41411, -80.39297], [47.01308, -124.162415], [39.103104, -87.427], [42.92785, -123.27957], [32.971413, -96.88969], [39.357376, -84.268394], [38.419632, -82.50525], [36.509724, -87.277275], [39.249577, -94.57569], [47.912945, -122.088715], [40.86971, -73.828255], [40.250713, -111.6626], [38.504646, -90.663895], [37.71276, -85.831856], [37.170746, -94.84449], [35.920288, -79.97746], [42.532993, -83.113106], [26.61388, -81.80719], [41.56008, -90.624084], [27.470488, -82.700516], [31.446022, -100.47823], [30.705564, -86.12283], [25.733042, -80.303024], [33.761814, -97.13262], [39.45927, -77.96837], [32.592896, -97.15009], [32.411823, -104.22918], [41.813244, -86.24792], [35.30258, -99.640274], [34.08575, -84.5307], [35.86858, -80.07275], [35.3746, -80.724594], [38.41888, -82.5078], [30.0895, -95.64193], [36.765232, -108.15124], [40.4833, -86.10738], [40.769913, -81.38577], [25.824045, -80.24141], [28.221605, -82.73396], [27.859201, -82.63854], [43.407425, -84.66696], [28.28226, -82.715965], [36.432728, -82.30929], [30.158026, -92.05048], [38.397663, -85.37164], [35.96232, -80.00938], [46.601994, -122.90838], [32.6491, -97.34876], [36.55216, -76.19421], [30.397602, -89.02695], [29.91534, -94.01793], [40.770683, -81.38599], [27.841791, -82.76256], [36.323917, -86.70119], [35.91547, -75.60292], [33.641502, -84.44274], [41.53834, -90.57589], [38.039364, -84.50698], [30.80996, -97.61285], [33.273785, -86.85135], [33.908623, -78.07509], [38.44405, -81.83125], [38.43053, -78.90889], [38.687897, -80.69434], [47.357983, -122.11462], [48.467457, -119.471886], [46.714287, -117.18234], [44.505703, -89.567406], [43.53603, -89.45065], [44.612026, -88.76316], [44.552845, -90.59012], [44.453667, -89.526344], [33.989414, -81.030365], [34.805866, -82.230576], [34.00643, -81.772514], [30.074184, -95.514725], [33.660446, -96.59966], [33.66327, -95.46412], [33.021034, -96.73395], [30.271963, -96.0418], [33.435986, -94.080574], [29.401531, -98.55754], [32.9868, -96.84188], [31.0618, -98.18138], [32.840263, -97.13331], [27.758112, -97.41326], [32.38108, -94.86923], [29.442017, -98.66617], [30.111612, -97.351234], [36.48284, -82.50033], [36.555714, -82.59707], [35.359257, -86.21493], [36.007607, -88.40499], [39.983517, -76.74063], [40.347927, -79.94849], [41.981865, -76.54318], [41.776657, -77.07113], [40.10281, -75.02895], [41.37309, -75.7021], [40.589993, -79.75069], [44.64375, -123.1134], [45.36905, -122.841644], [36.062557, -95.95767], [36.100716, -96.02831], [35.492897, -97.1738], [35.376938, -97.52996], [34.189373, -97.14332], [40.86208, -73.89212], [42.56785, -77.71714], [40.693176, -73.39626], [42.100643, -76.23766], [41.101616, -72.35856], [41.030895, -81.9087], [39.26947, -84.37195], [41.372326, -81.87], [41.029022, -81.50983], [41.418205, -82.20077], [41.269165, -82.60983], [41.31393, -82.9907], [41.173584, -83.652435], [41.16353, -81.47815], [40.695145, -82.513626], [41.31402, -81.514366], [39.03684, -94.343864], [38.901897, -94.53268], [39.025936, -94.24627], [37.7862, -90.41998], [35.08104, -80.65778], [34.765316, -77.40944], [36.008663, -79.83665], [34.147743, -77.892586], [35.052223, -78.864174], [35.090363, -78.98283], [34.055473, -78.88861], [36.1172, -80.66022], [35.546696, -77.033], [46.893326, -114.03958], [36.94483, -84.095566], [37.843414, -83.85829], [38.34264, -82.94221], [32.545197, -93.51533], [38.361668, -98.78556], [38.91292, -94.7941], [37.74567, -97.244835], [38.50013, -94.938446], [41.72136, -83.57078], [42.261784, -84.42815], [44.733517, -85.60255], [42.24474, -85.67739], [42.316063, -83.10645], [44.245663, -86.31856], [44.4503, -95.760895], [44.159702, -94.01495], [43.972057, -92.07156], [44.818684, -93.04311], [39.494072, -76.89277], [38.494514, -76.77167], [39.588852, -76.06766], [38.89131, -76.93912], [38.35538, -75.600746], [39.10645, -90.31679], [41.74357, -87.61455], [40.174744, -87.63052], [41.750786, -87.74125], [38.617455, -89.3732], [39.307625, -87.989876], [41.179955, -87.87502], [41.65871, -88.12126], [42.447823, -96.34945], [42.83663, -90.70914], [42.512974, -90.66564], [41.600628, -93.738106], [41.097343, -85.09454], [41.020733, -85.1691], [39.222874, -85.90267], [38.04895, -87.30608], [38.173714, -85.7678], [38.13985, -85.68774], [39.91049, -86.26018], [41.703312, -87.525246], [28.7982, -81.27295], [30.412394, -84.30083], [26.808418, -80.09446], [28.365377, -81.3667], [26.165762, -80.171135], [26.565464, -81.87219], [26.546762, -81.8019], [26.136728, -80.14024], [33.725708, -84.940254], [31.467005, -83.52568], [34.05845, -84.38096], [32.029964, -81.114105], [32.468414, -83.740234], [34.723915, -85.28003], [33.54255, -82.13683], [34.120255, -84.74415], [32.55675, -83.88466], [34.78577, -87.524], [42.24427, -87.946], [34.120304, -86.395905], [41.860184, -88.00627], [38.751373, -93.55771], [39.522972, -107.77413], [39.626923, -106.07105], [34.73527, -86.628235], [33.615673, -85.82758], [27.785423, -82.728645], [37.125681, -76.391055], [40.667209, -73.78979], [61.126984, -146.34961], [33.297745, -87.59888], [40.359823, -83.754692], [41.261048, -82.612224], [43.08938, -88.145325], [34.363647, -89.532936], [33.696658, -117.885884], [35.250626, -91.70718], [39.758158, -89.646596], [35.134238, -80.938964], [33.552148, -112.063906], [27.621319, -97.22324], [35.29225, -93.730671], [35.97993, -86.565216], [45.402065, -122.28253], [40.04141, -75.36288], [40.624992, -103.225655], [39.741754, -121.838546], [33.585556, -92.86611], [21.290771, -157.844081], [33.502738, -86.918827], [37.6482, -118.97032], [47.314842, -122.30341], [34.742764, -87.667534], [38.425186, -82.411991], [41.735205, -87.689415], [36.076345, -78.910313], [34.57464, -111.88315], [38.91056, -122.61231], [30.803375, -88.07203], [32.43537, -97.77169], [33.401151, -91.315059], [33.610134, -112.22124], [37.97519, -122.54412], [32.439857, -87.03287], [27.196766, -80.22034], [37.37395, -122.05699], [33.931065, -118.18182], [33.822292, -118.18485], [34.028343, -117.80997], [40.20289, -93.11745], [38.57795, -121.548935], [37.60987, -120.939], [34.51816, -117.31607], [34.107384, -117.63369], [38.78955, -121.22396], [38.129875, -121.283356], [34.128914, -117.891655], [38.00476, -121.8005], [37.57579, -106.132416], [39.741615, -105.49782], [38.79444, -104.80149], [39.089684, -108.60465], [39.914013, -105.06719], [40.30525, -105.08541], [32.11578, -110.8589], [32.221825, -110.86958], [37.16026, -93.31425], [37.48997, -90.30577], [33.168915, -87.52554], [34.668243, -86.01022], [31.4485, -85.637505], [61.1373, -149.84077], [34.757484, -92.44534], [36.3686, -94.22188], [40.765133, -111.84544], [35.857433, -86.427444], [45.496456, -122.40843], [38.76018, -90.65314], [36.06269, -115.24272], [46.891712, -96.80022], [38.884007, -94.670586], [41.526016, -87.470894], [41.949684, -88.03211], [38.78418, -90.50032], [33.846237, -84.25476], [39.07371, -94.37823], [33.636784, -117.590645], [37.932858, -122.329445], [36.717873, -121.66727], [34.19518, -118.60616], [35.354153, -118.94938], [38.28351, -122.274605], [41.626884, -81.43141], [41.085667, -81.51683], [36.06103, -95.9208], [39.073254, -84.36157], [39.768314, -86.15664], [30.268288, -81.51502], [38.78311, -90.53267], [39.09829, -94.41107], [38.9506, -92.32732], [41.64233, -81.46243], [33.515846, -84.363507], [39.981582, -82.828889], [40.969645, -81.354169], [26.67371, -80.114716], [35.551917, -82.850427], [37.292871, -89.566251], [45.643472, -118.818444], [41.44265, -86.002366], [39.11225, -93.21358], [38.94178, -94.35952], [38.96373, -92.32865], [37.3438, -92.92791], [32.831992, -97.217603], [35.92892, -89.87046], [38.7712, -90.49274], [38.61282, -90.21851], [38.59125, -90.27391], [39.10126, -94.41483], [26.722072, -80.111148], [33.475436, -81.992938], [41.596453, -87.268107], [40.691722, -73.982874], [41.354227, -83.652582], [31.261954, -92.450388], [34.35171, -89.91584], [38.9391, -92.74454], [39.33503, -91.18105], [40.581316, -83.095369], [38.54114, -92.11903], [44.370832, -98.21379], [39.43925, -92.43243], [37.12778, -93.45904], [38.52316, -90.35427], [38.86638, -91.94393], [38.69557, -90.42934], [37.56399, -90.28917], [37.5577, -90.29283], [38.90921, -92.32992], [38.93995, -92.77463], [43.292925, -77.919237], [38.41371, -90.58051], [38.50724, -90.63117], [37.3171, -89.55455], [37.36254, -89.63453], [39.03516, -94.58272], [39.245117, -94.57467], [39.14437, -94.56545], [39.14639, -94.55368], [39.1457, -94.55834], [37.19404, -93.26177], [37.18265, -93.30682], [37.18123, -93.24434], [37.21164, -93.34964], [38.5619, -90.40701], [38.93754, -92.36001], [38.96381, -92.37556], [38.79591, -90.57669], [38.50783, -90.32396], [38.340126, -92.573616], [38.65054, -90.33842], [25.84877, -80.120449], [38.64966, -90.3002], [38.50788, -90.32307], [44.048291, -123.168409], [32.268755, -86.357433], [41.360942, -83.137084], [35.790843, -78.827102], [41.568235, -83.656438], [41.112401, -88.414501], [41.053863, -83.61449], [41.576306, -85.815357], [30.532735, -97.787182], [32.421062, -96.841133], [30.003198, -90.164173], [34.919503, -81.995223], [40.948402, -81.464583], [39.058012, -84.626722], [30.440074, -90.081271], [40.513782, -107.561926], [36.071218, -115.076012], [28.496029, -81.39746], [41.342844, -82.069411], [43.234559, -123.373651], [27.91688, -82.774558], [35.196779, -101.817165], [35.88263, -84.15743], [29.672323, -95.27817], [40.673035, -73.589454], [35.245033, -81.665713], [43.007757, -78.948719], [39.319606, -84.498786], [41.407751, -82.592885], [26.136619, -80.120568], [33.888011, -117.520585], [41.416263, -82.207792], [32.452081, -99.771632], [32.863846, -96.89651], [38.303581, -76.520645], [33.640075, -112.028935], [45.050327, -93.249157], [35.082668, -85.264052], [36.515187, -121.435341], [36.066472, -79.426874], [34.068933, -117.927465], [38.349539, -122.709102], [39.099408, -94.604055], [26.553724, -81.872372], [38.273773, -122.034737], [38.596347, -90.27063], [33.661813, -94.1187], [46.860419, -96.818956], [33.801629, -84.042114], [39.632083, -86.119721], [32.909722, -96.804942], [38.77637, -77.265361], [34.983598, -78.963851], [47.627361, -117.372273], [41.226148, -80.452222], [41.023992, -81.610587], [44.017299, -90.503438], [41.67678, -87.680994], [41.504584, -74.059935], [37.977652, -87.456228], [30.246949, -89.761184], [29.719682, -95.41886], [37.990392, -84.520159], [41.423078, -81.761787], [39.930674, -105.133825], [33.524401, -112.116043], [28.961692, -81.967845], [37.130888, -121.636521], [36.777234, -76.225469], [30.717874, -95.57204], [42.615774, -83.032671], [33.971098, -117.461739], [35.755798, -81.335695], [29.706693, -95.124159], [29.35154, -98.430473], [32.676161, -97.19849], [35.736964, -78.798482], [32.315276, -90.878181], [36.784494, -76.000803], [47.89057, -122.258008], [39.980706, -82.827374], [36.218446, -81.684083], [33.407675, -111.95017], [37.54811, -77.453159], [35.829269, -78.769692], [32.590384, -96.67966], [41.415547, -81.924881], [41.461362, -81.852972], [44.859848, -92.625574], [44.980248, -93.234559], [37.775918, -122.40312], [47.61627, -122.196479], [39.754681, -104.990255], [32.785614, -79.936005], [37.653717, -77.615752], [38.403698, -122.824455], [36.159117, -115.138005], [25.778077, -80.133313], [61.165314, -149.867431], [45.299831, -93.796572], [38.939729, -76.933737], [26.00762, -80.330734], [41.633044, -87.072823], [33.089066, -86.86944], [30.692181, -91.470381], [45.84972, -95.38663], [26.572094, -80.114962], [37.241414, -81.250243], [28.826768, -81.917444], [28.23717, -82.67048], [32.767025, -115.556406], [41.891501, -87.805139], [37.984503, -84.460753], [40.685887, -73.793842], [41.649266, -83.521584], [40.694565, -73.984205], [41.363122, -81.685393], [35.38917, -80.622814], [31.759679, -106.487595], [36.781596, -76.189176], [34.734538, -82.029333], [41.139701, -81.440083], [32.843589, -79.85409], [30.438245, -90.45435], [35.760632, -78.740406], [30.391944, -88.653501], [36.322639, -119.673317], [33.450029, -86.984813], [33.799723, -112.06643], [35.859886, -84.225649], [36.195133, -115.129943], [37.64062, -121.00003], [30.752085, -85.551473], [32.692293, -114.624909], [31.432015, -97.728561], [36.790116, -119.790841], [33.839526, -83.906458], [31.97978, -110.30802], [38.763237, -121.255315], [40.930348, -72.679469], [26.266875, -98.219643], [37.337427, -121.888289], [46.599095, -120.562283], [28.817871, -81.887176], [33.686466, -117.971938], [35.082376, -80.877214], [35.123482, -78.749956], [38.879491, -77.111063], [42.65334, -83.576162], [30.001681, -95.251049], [37.311876, -89.552878], [36.991085, -79.898124], [39.125176, -82.989056], [35.233326, -97.442129], [39.919412, -82.782694], [41.492595, -82.020154], [42.006793, -88.145108], [40.832848, -84.938309], [42.331237, -83.429708], [31.094037, -97.806439], [42.961373, -74.185666], [34.663748, -86.035629], [41.45179, -91.02921], [38.86683, -98.855136], [42.662987, -84.197861], [37.086867, -76.475443], [37.119521, -76.459147], [39.380087, -76.537117], [39.76359, -86.37963], [40.418248, -86.8264], [40.763136, -86.331776], [41.546035, -87.793463], [36.624161, -87.431909], [39.341671, -84.084074], [38.7963, -90.666111], [41.086222, -82.400959], [27.953815, -82.723679], [31.849263, -86.64003], [30.472713, -91.110659], [33.1142, -95.596219], [27.858742, -82.203474], [41.065499, -81.568684], [36.196746, -81.1527], [33.82612, -117.837793], [29.776459, -95.291995], [41.404541, -82.656408], [40.143953, -82.989366], [29.703806, -95.604211], [41.120142, -81.475098], [32.390466, -94.864761], [30.599395, -85.351133], [41.629403, -93.697867], [41.579917, -87.559198], [35.335585, -99.594553], [32.606714, -117.08297], [42.51894, -83.224097], [39.435858, -76.314162], [33.181893, -117.331652], [39.371597, -76.542521], [34.238502, -118.555059], [37.325628, -121.812564], [26.608829, -81.973583], [41.083341, -81.579521], [34.691433, -82.835197], [35.396604, -80.60835], [41.373504, -81.900901], [26.261945, -80.249334], [41.802217, -87.589721], [30.050925, -95.186593], [46.05765, -118.345681], [40.82435, -73.892], [39.535843, -105.014959], [29.784469, -95.791143], [30.212747, -95.753694], [30.053214, -95.433965], [33.691138, -117.989273], [28.018259, -81.631772], [41.675206, -83.706362], [39.957485, -83.042103], [44.061284, -121.302072], [43.202949, -77.561238], [29.39755, -98.557592], [39.64202, -104.987333], [39.819596, -88.881159], [26.155428, -80.257705], [29.221246, -81.007681], [38.213106, -90.404111], [34.741191, -77.365087], [29.228303, -81.031528], [29.816052, -95.056998], [35.212087, -81.165155], [26.100697, -80.134503], [44.733924, -85.616942], [40.546334, -80.0164], [33.395059, -84.588735], [33.455456, -86.7355], [42.123537, -87.936546], [40.153783, -76.819666], [33.872581, -118.374303], [28.056236, -82.626124], [36.066487, -80.318384], [45.447174, -122.791593], [35.662564, -78.497338], [36.046825, -95.848352], [34.157996, -118.4246], [39.127955, -84.519694], [46.21224, -119.225041], [39.759287, -121.856615], [29.801436, -95.752706], [34.081051, -84.65474], [29.970083, -95.691602], [36.089747, -79.890347], [46.810334, -100.731489], [39.791164, -88.272307], [35.22942, -80.865772], [41.931961, -87.743771], [39.562561, -84.254908], [41.590733, -87.480596], [40.709979, -73.615903], [39.319443, -77.851612], [37.057129, -88.582167], [36.76392, -83.70281], [37.70878, -85.87333], [38.40808, -82.71555], [33.566501, -84.53217], [35.434833, -97.42928], [42.777602, -83.238725], [32.359439, -86.165963], [32.326515, -86.267537], [42.198472, -83.21617], [32.884045, -105.960665], [43.110576, -75.218398], [41.960774, -87.787126], [40.56736, -76.699679], [39.713349, -105.132935], [26.669805, -81.938123], [40.082317, -84.633607], [26.230332, -98.324404], [41.085016, -81.466304], [32.459309, -86.397925], [36.027736, -83.927478], [21.37707, -158.025894], [36.160129, -115.333447], [36.988983, -86.42867], [42.384265, -87.961169], [41.949922, -88.12181], [26.54671, -81.805216], [40.037984, -76.508837], [41.232859, -80.471978], [44.296377, -88.312273], [28.01281, -82.459243], [41.850442, -87.781292], [25.70566, -80.28636], [35.258884, -81.120186], [36.553778, -87.396629], [29.64864, -95.649803], [34.853203, -82.398024], [36.041125, -86.780098], [32.802775, -117.011678], [21.335297, -157.868473], [34.121809, -117.48706], [41.569747, -93.804548], [46.862182, -96.863886], [47.87856, -122.21184], [38.867143, -77.368084], [33.650768, -117.742884], [35.758939, -78.741365], [37.689215, -122.465531], [27.008351, -82.132765], [27.558789, -99.447198], [40.261095, -103.772158], [31.755268, -106.275567], [38.051061, -103.713406], [40.89811, -72.411707], [36.054056, -83.988608], [47.807117, -122.327044], [27.754928, -97.422394], [33.859891, -117.928464], [47.159765, -122.504194], [42.914667, -74.162471], [27.945007, -82.482724], [35.147996, -80.924833], [36.091381, -80.286049], [28.912975, -81.293424], [33.602436, -86.638738], [37.977517, -87.461848], [40.390963, -80.55203], [44.95664, -89.626358], [35.692086, -78.582679], [36.069168, -83.927629], [38.437465, -82.017871], [36.837167, -76.30732], [44.261813, -88.409678], [35.348315, -97.498595], [46.890287, -114.038573], [40.589015, -111.938122], [28.552549, -81.478181], [38.952696, -76.877884], [39.391469, -119.767484], [39.951543, -83.829549], [26.205746, -80.147793], [33.859292, -118.089974], [42.756598, -87.7994], [34.363478, -84.037716], [30.057784, -94.08623], [38.909396, -92.331921], [40.728332, -111.968541], [21.290615, -157.837689], [35.071611, -78.961527], [43.118091, -87.916123], [40.001749, -83.113754], [37.351021, -122.01464], [47.168768, -122.167644], [32.951053, -96.77047], [33.885858, -84.247603], [33.897902, -118.224311], [39.955846, -82.878019], [35.192309, -101.798751], [39.554202, -89.297013], [37.231079, -80.415182], [33.8534, -84.6087], [34.0368, -84.3433], [42.5634, -113.7923], [43.648726, -116.28137], [39.081965, -84.883772], [44.399849, -122.715545], [32.69933, -96.275599], [33.7241, -85.8149], [33.446, -86.7903], [33.7998, -85.7612], [31.325609, -85.833753], [30.518876, -87.885627], [33.2061, -87.5456], [31.02121, -87.25201], [30.55448, -88.17119], [32.08991, -88.21991], [34.5896, -86.98868], [34.73553, -86.62671], [30.6402, -87.8663], [32.5969, -85.4875], [33.919847, -83.442552], [35.256151, -80.459473], [34.188015, -118.228765], [32.907573, -80.667455], [38.060669, -84.501126], [36.03411, -83.876562], [57.0601, -135.3493], [35.247931, -90.782062], [36.17552, -94.15884], [33.609649, -112.268303], [36.346422, -92.377359], [48.771291, -122.459959], [29.99638, -95.161887], [40.732399, -73.849331], [33.42433, -86.80498], [40.70231, -73.626281], [39.46494, -77.94753], [39.935699, -91.364413], [47.311113, -122.31909], [40.254494, -76.853769], [42.323182, -122.867998], [26.808024, -80.095416], [21.35637, -157.92708], [33.1692, -87.4978], [33.6503, -86.6351], [30.359046, -91.00649], [44.749044, -85.178657], [30.256213, -97.810013], [29.542862, -95.155829], [45.544117, -122.393348], [35.586307, -82.592503], [32.959088, -97.043042], [35.019015, -78.902796], [35.902707, -78.894383], [40.760877, -111.867938], [46.598618, -120.514351], [26.639978, -80.113184], [26.630527, -82.070116], [46.977587, -123.803964], [39.678809, -104.915097], [34.172487, -79.802385], [39.093942, -94.505862], [36.07479, -80.335734], [34.780056, -77.389991], [40.74862, -73.987008], [39.699184, -104.826814], [30.379886, -87.683906], [38.356673, -75.075492], [36.808756, -119.846351], [40.010716, -82.866547], [36.041559, -79.844776], [44.943551, -93.166498], [34.962817, -90.092417], [26.72006, -80.110179], [35.109683, -78.879622], [33.55893, -86.715771], [25.733179, -80.367137], [45.78121, -108.50673], [38.671247, -76.876992], [35.69449, -80.51539], [61.58177, -149.43418], [37.041801, -76.469659], [39.04684, -84.24551], [37.43339, -86.88521], [36.93223, -86.41588], [39.03241, -84.53715], [36.70002, -85.69357], [39.19357, -84.2397], [39.09611, -84.27813], [39.30703, -84.27803], [39.16907, -84.49689], [36.33522, -88.85395], [38.22026, -85.77736], [36.95864, -82.60445], [37.55766, -83.38846], [38.13809, -85.6736], [39.07713, -84.47892], [36.58192, -86.51578], [37.00208, -88.31873], [36.55349, -87.39622], [36.50396, -87.37], [36.665226, -87.425514], [38.95761, -84.16938], [38.19685, -85.83983], [38.004517, -85.68877], [37.97993, -85.69484], [38.17459, -85.71226], [38.19246, -84.27701], [39.14202, -84.39285], [40.968624, -76.000272], [40.761609, -73.923229], [35.020341, -89.954162], [32.813879, -83.659664], [38.553569, -76.05413], [36.132808, -79.793919], [35.028612, -78.926992], [29.379133, -94.97151], [39.783644, -84.188723], [27.521802, -82.572753], [41.570639, -84.13494], [61.221876, -149.734996], [39.519336, -80.320849], [44.944304, -93.093117], [46.606818, -112.017254], [35.907134, -81.532218], [34.780235, -77.394628], [36.97999, -82.583878], [39.464211, -80.124051], [45.993, -123.9287], [34.07, -81.162], [40.652167, -111.888057], [48.417081, -119.507554], [32.938133, -97.184191], [34.8334, -87.629888], [41.579636, -83.66382], [35.329212, -106.571086], [29.933162, -95.583563], [34.040614, -118.425582], [35.940302, -86.820976], [47.06557, -122.76546], [36.30302, -86.63699], [36.06016, -87.37527], [36.695469, -77.040301], [37.113063, -79.715475], [37.38395, -80.82112], [37.58998, -77.5326], [37.3244, -79.97496], [37.23473, -77.41987], [36.86992, -76.29289], [37.6139, -77.52078], [36.799985, -76.174313], [37.129393, -76.538191], [37.60007, -77.56403], [47.6569, -117.3148], [47.0416, -122.847], [47.65731, -117.31085], [48.71959, -122.50184], [47.160835, -122.484315], [48.4184, -122.3298], [48.09324, -122.188435], [47.4044, -120.2836], [40.0604, -82.9691], [40.0936, -82.8235], [40.836954, -81.324816], [41.15053, -81.86364], [41.692791, -83.567437], [39.229387, -83.611106], [39.1608, -84.4249], [41.66299, -83.61048], [36.69754, -97.06762], [29.846314, -95.384033], [39.958251, -82.694668], [40.0204, -76.65741], [35.70268, -81.296581], [36.080917, -79.510219], [45.964076, -112.510046], [33.27966, -86.81198], [33.108252, -83.253332], [39.795508, -86.044835], [40.300306, -83.067757], [38.283328, -85.829681], [34.980682, -81.968297], [38.425016, -121.481271], [38.60913, -77.358758], [42.312423, -122.8549], [43.182019, -89.000302], [33.846864, -118.013452], [29.814697, -90.814742], [28.130622, -82.366915], [40.720866, -89.280674], [27.463185, -82.578345], [41.136682, -81.791469], [39.340517, -76.59059], [43.059893, -88.065797], [35.34924, -97.502405], [40.459889, -78.595543], [38.581122, -121.504855], [46.727332, -117.169746], [35.39123, -80.624897], [28.352106, -80.608362], [33.924851, -118.396732], [35.867503, -78.622794], [40.743144, -73.92132], [45.539722, -122.612437], [41.872237, -87.627738], [40.049258, -82.916792], [34.916276, -95.746002], [40.82187, -81.933747], [47.121221, -122.43437], [35.319737, -81.880982], [40.583393, -77.36972], [29.899983, -90.146592], [30.675194, -88.131162], [32.998514, -80.038907], [39.726434, -104.847722], [40.146314, -82.922169], [39.448833, -77.979218], [41.462409, -81.802945], [36.360887, -86.49621], [30.36724, -95.483827], [35.321235, -78.635393], [35.643307, -80.481876], [34.718068, -82.257356], [33.712448, -117.98951], [35.549692, -77.383648], [40.95782, -76.6115], [39.856323, -86.241535], [32.460653, -86.393919], [33.233705, -111.686524], [47.098203, -122.292857], [27.461775, -82.5685], [41.357787, -83.136371], [34.750103, -92.407465], [47.357805, -122.114682], [34.536174, -86.908218], [35.228982, -80.925877], [27.792938, -82.333232], [33.577306, -101.947757], [41.38823, -81.82332], [28.603815, -81.548891], [47.653693, -117.423229], [29.413399, -95.243273], [37.387635, -120.737963], [36.299202, -78.58525], [41.426706, -81.893963], [41.968459, -87.713156], [46.288917, -96.116248], [33.991967, -81.056133], [38.232103, -104.661764], [33.380714, -111.806248], [39.400949, -76.47808], [34.22824, -118.500662], [37.323018, -121.952851], [41.365112, -81.685438], [33.997607, -118.460934], [31.113968, -99.33527], [37.597535, -122.070573], [47.667746, -122.376674], [33.393267, -111.977765], [33.831131, -118.084953], [45.383012, -122.7482], [42.248274, -88.608139], [39.915236, -82.880151], [38.55366, -91.006095], [40.077048, -85.677546], [34.729989, -82.388994], [34.050966, -118.256725], [25.684282, -80.366571], [36.340531, -82.375534], [38.500356, -82.652345], [30.220901, -85.869446], [40.623505, -111.86548], [44.356882, -89.113254], [44.065937, -123.074495], [34.703693, -118.145963], [29.556326, -95.392389], [43.010542, -88.010375], [38.209019, -86.864636], [39.021686, -84.58856], [35.974728, -78.924573], [27.928041, -82.787287], [44.056988, -123.09007], [35.234808, -80.738931], [45.365922, -122.847632], [44.26791, -121.19238], [44.6289, -123.0816], [44.294214, -121.17327], [45.6018, -121.1851], [45.496585, -122.566573], [45.5386, -122.5793], [43.38718, -123.34229], [45.500036, -122.917747], [45.576643, -122.661672], [45.5593, -122.6614], [44.04844, -123.14121], [44.0481, -123.1382], [45.4393, -122.7524], [45.5205, -122.6606], [43.2353, -123.3691], [44.0461, -123.0225], [44.930722, -123.306618], [45.415494, -122.631985], [42.2502, -121.7892], [43.23079, -123.37046], [39.572235, -104.987977], [41.329024, -80.725468], [38.212192, -90.392572], [34.930985, -86.572243], [41.891442, -91.674059], [35.170884, -80.74573], [40.062412, -77.496545], [41.421735, -88.270734], [32.235805, -110.95759], [34.159555, -85.71138], [39.969482, -86.1563], [36.933068, -76.204423], [35.045541, -78.878869], [45.00273, -93.23726], [39.712064, -86.371583], [39.76141, -86.157403], [41.5729, -87.4035], [41.672615, -86.89399], [44.112797, -103.272866], [36.489474, -79.738798], [30.397713, -89.030035], [29.961179, -95.547201], [39.677141, -104.866474], [43.398878, -83.91113], [28.374929, -80.741266], [33.986247, -81.072401], [26.463024, -81.779802], [30.266621, -87.689042], [33.495125, -112.028947], [36.205419, -83.323583], [32.504488, -94.577655], [25.656327, -80.405036], [33.779652, -84.606109], [31.073741, -92.432167], [39.94162, -82.982935], [34.932863, -81.98771], [38.233938, -77.504418], [39.952411, -83.116452], [33.940126, -117.261011], [40.055361, -82.482496], [41.571905, -84.134041], [40.85859, -84.596774], [19.69899, -155.061619], [40.279082, -75.387262], [42.816611, -83.257029], [42.507525, -83.175453], [41.895051, -87.864981], [25.689839, -80.312848], [35.457911, -79.142385], [29.656397, -95.513538], [42.099247, -76.047575], [39.348887, -82.99675], [32.395117, -95.269234], [36.583837, -79.426855], [42.259782, -85.567665], [26.706451, -80.109996], [38.983474, -90.970677], [37.397882, -122.075131], [35.714333, -84.018516], [36.351456, -119.297394], [38.740152, -82.96551], [40.24862, -111.647607], [33.233325, -86.810006], [42.301917, -89.638087], [38.736968, -82.993979], [32.5283, -92.08005], [32.77134, -92.40546], [32.41099, -93.79588], [32.55922, -93.71184], [29.80842, -91.5108], [31.149563, -89.4623], [30.48253, -90.45682], [29.92433, -90.02149], [29.94788, -90.21333], [30.17372, -92.06992], [30.49536, -92.43419], [31.367, -92.40711], [31.40654, -92.41118], [30.204508, -92.24859], [29.94083, -90.07468], [29.95323, -90.07261], [30.21457, -92.02214], [29.95577, -89.98436], [30.19863, -93.23198], [30.21956, -93.37583], [30.00652, -90.23672], [30.101799, -90.997025], [30.23141, -92.06306], [30.39701, -93.23183], [32.5376, -92.07857], [32.55079, -92.07779], [31.27852, -92.45235], [29.97945, -90.23408], [30.02025, -90.11283], [29.9667, -90.08819], [29.910807, -90.053116], [30.44427, -90.08417], [32.55912, -93.71251], [32.52995, -92.11502], [32.50378, -92.12777], [30.47812, -91.1604], [30.38539, -91.06326], [30.38366, -91.06603], [29.96093, -90.18428], [30.31137, -89.76871], [30.28507, -89.77796], [30.28971, -89.72382], [32.44756, -93.86578], [32.4316, -93.71381], [32.448, -93.86422], [32.44786, -93.86654], [32.45353, -93.74649], [32.55835, -93.78193], [32.54126, -93.64762], [32.4487, -93.86716], [34.918549, -81.886346], [35.593392, -89.258199], [37.249953, -121.863598], [32.421275, -85.693561], [36.586191, -79.422956], [25.858041, -80.27443], [33.350059, -86.866104], [33.957405, -86.04226], [30.398404, -87.682875], [35.492662, -97.369733], [33.472288, -86.819843], [37.116071, -79.28005], [33.886803, -84.473497], [28.004427, -81.723552], [37.721035, -87.123766], [33.974417, -118.282092], [28.53361, -82.40818], [27.9376, -82.2687], [28.59695, -81.223314], [29.892164, -81.316265], [33.783438, -89.834295], [47.662074, -117.153427], [37.807789, -122.415924], [32.903594, -96.050926], [34.830861, -87.626521], [38.84534, -104.70158], [39.26944, -103.7101], [37.98741, -103.55184], [38.29804, -104.60838], [40.42328, -104.71867], [39.749107, -104.99459], [39.74721, -105.05476], [38.87384, -104.8166], [38.886, -104.71755], [34.884653, -92.112551], [43.662235, -116.66344], [36.427636, -77.633986], [45.97157, -94.866082], [45.367652, -122.838988], [39.462716, -76.31498], [38.37957, -88.37697], [42.100509, -80.106735], [40.751598, -73.569099], [40.78503, -73.54647], [38.481018, -81.669309], [37.302582, -89.583433], [47.545654, -122.328391], [36.132979, -115.319464], [36.969102, -84.087582], [42.960316, -78.86975], [32.253407, -81.710285], [34.059409, -117.760327], [38.955764, -76.939915], [39.89213, -104.97782], [31.3156, -86.4637], [32.459682, -86.456438], [33.81151, -85.76081], [37.429248, -81.555879], [34.806931, -78.973829], [35.555559, -97.643854], [34.842504, -82.361031], [39.94595, -82.53639], [33.974403, -118.223286], [34.914018, -76.937127], [33.892174, -85.000773], [36.073131, -79.776029], [41.654297, -90.575452], [44.959442, -89.656873], [44.0477, -123.0983], [33.4662, -86.9084], [29.851936, -95.508702], [27.99711, -82.5709], [33.43578, -111.815287], [39.544392, -77.90871], [45.405038, -122.623103], [38.717384, -82.856997], [25.807867, -80.290626], [34.071771, -83.912816], [40.454726, -76.925668], [26.790986, -80.054711], [47.476954, -122.215937], [34.186904, -79.808624], [33.393847, -111.599851], [41.048958, -81.73006], [34.002741, -112.772649], [45.533099, -122.62637], [41.50222, -81.535929], [40.037793, -82.429048], [40.047869, -75.059425], [33.456364, -112.273621], [36.330923, -86.697517], [39.929643, -85.850639], [45.617345, -122.591275], [34.012584, -81.040026], [26.287321, -98.164583], [32.806037, -83.567834], [26.301965, -98.181436], [37.233602, -80.432252], [41.383139, -81.739438], [39.911846, -82.823535], [41.683805, -85.701112], [26.189534, -80.123036], [40.152515, -82.686574], [34.828387, -102.405981], [31.354892, -85.327907], [32.865349, -96.864043], [42.261596, -85.178621], [35.244064, -80.891993], [27.171115, -80.292702], [47.526203, -121.936878], [40.820323, -73.912963], [41.089512, -112.066887], [32.907693, -80.021842], [36.290717, -95.840655], [40.019649, -82.866786], [43.007114, -73.849784], [35.714836, -78.842788], [26.559155, -81.871189], [31.372028, -84.952281], [47.45266, -122.261402], [29.650066, -95.169651], [40.019154, -90.425983], [30.192027, -98.084026], [41.468062, -87.027582], [34.078407, -118.112872], [38.031505, -84.52051], [42.304503, -87.876257], [42.026508, -88.339471], [30.048633, -95.47285], [35.125486, -78.880019], [38.597073, -77.333009], [46.7392, -117.172853], [36.769649, -76.230672], [29.947797, -90.067956], [34.413237, -119.855291], [30.230787, -92.063116], [38.536745, -76.98441], [39.858076, -86.393408], [36.130688, -86.802258], [39.823442, -86.236869], [35.759957, -78.742352], [34.02748, -118.429292], [26.094834, -80.368894], [37.541871, -122.302013], [37.795923, -122.278181], [36.837937, -76.179748], [29.793859, -95.341965], [41.483479, -81.702325], [35.500171, -82.521266], [35.063139, -79.014946], [30.036124, -89.974762], [26.200247, -98.166002], [39.600175, -75.826483], [38.350043, -85.797117], [41.548495, -83.60068], [41.152853, -81.864511], [40.43154, -122.28863], [37.7007, -122.48435], [34.1908, -118.38828], [38.5837, -121.28527], [32.55759, -117.05825], [37.76022, -122.43486], [34.259674, -118.31234], [37.39545, -122.02938], [34.18976, -118.32032], [37.70047, -121.8843], [36.96915, -122.03792], [37.56524, -122.32223], [37.79119, -122.40399], [38.09904, -122.57131], [33.99473, -117.93118], [33.65076, -117.83831], [33.789463, -118.31016], [38.13903, -121.28871], [33.68556, -117.85697], [39.338, -82.951], [41.5208, -81.5362], [44.35423, -106.697465], [35.61002, -115.3922], [38.2313, -84.5357], [38.7491, -82.9918], [39.9485, -82.0009], [38.6283, -83.7925], [40.7955, -81.6926], [39.9315, -80.7526], [39.9289, -80.7511], [40.0714, -80.7516], [41.8775, -80.7556], [41.7417, -80.7701], [40.5809, -83.0787], [40.0121, -81.5852], [40.3934, -80.593], [39.9512, -83.83], [39.9644, -83.7858], [39.9655, -83.7848], [39.9515, -83.8295], [41.6128, -83.7041], [40.6442, -73.7043], [43.0076, -78.9505], [44.2937, -73.9953], [40.7787, -73.5639], [40.8045, -72.8522], [40.7261, -73.238], [40.765, -73.0911], [43.977, -75.9346], [42.9671, -76.8471], [44.6959, -75.4911], [34.3386, -78.7076], [36.3822, -81.4877], [35.8352, -77.0658], [34.9276, -77.7717], [41.7796, -99.1257], [46.8026, -100.7881], [46.8516, -96.8628], [40.6711, -95.8591], [40.4368, -99.3818], [35.3096, -83.1843], [35.3096, -83.1843], [35.2485, -82.2042], [35.4633, -83.3124], [35.4656, -79.154], [34.0651, -106.8921], [36.7666, -108.1502], [32.7254, -103.1452], [35.1284, -107.8269], [36.442, -77.0917], [34.7251, -76.7528], [35.2707, -77.6053], [36.4203, -81.457], [34.2356, -77.9478], [36.3362, -78.4385], [35.692, -80.5127], [35.6132, -80.5208], [34.8891, -76.9214], [35.2748, -81.5315], [35.2411, -81.3351], [34.7607, -77.418], [34.7482, -79.4864], [35.9114, -79.059], [36.0737, -79.2737], [36.0739, -79.2727], [35.3976, -77.9657], [35.3972, -77.9657], [35.3164, -78.6274], [35.5132, -78.7409], [35.973, -77.8228], [35.9768, -77.8098], [35.9779, -77.9747], [35.8896, -77.5488], [36.1028, -79.8197], [36.1315, -79.7951], [35.5866, -82.5893], [35.5558, -81.0634], [35.1626, -78.9724], [35.019, -78.8954], [35.4727, -80.2689], [36.0324, -75.6721], [35.6981, -77.9478], [35.72, -77.9489], [40.0209, -98.0666], [41.851, -96.7101], [39.7526, -94.216], [36.2369, -90.0404], [38.9633, -92.2899], [31.5893, -89.8747], [32.77, -89.1278], [31.552, -90.1079], [34.9215, -88.515], [32.7275, -89.5478], [33.6156, -88.4191], [38.9413, -91.9435], [47.61341, -122.321036], [33.7761, -89.8251], [45.2244, -112.6295], [48.5557, -113.0178], [30.378, -88.528], [57.7908, -152.4066], [64.8477, -147.7221], [60.1169, -149.4418], [44.335577, -88.633183], [46.996305, -122.807073], [40.883904, -111.8984], [35.068395, -82.368386], [26.05901, -80.347243], [36.560519, -85.166209], [33.907941, -81.535954], [37.149206, -82.467157], [35.131729, -106.642941], [33.874451, -118.15184], [39.731674, -82.628827], [42.92405, -76.776084], [32.74995, -117.10619], [33.600378, -83.83488], [40.638822, -111.833533], [38.340278, -77.073118], [36.12543, -79.906501], [45.496097, -122.609305], [40.64946, -73.891794], [40.060732, -82.964766], [41.458896, -87.063908], [39.553394, -76.100706], [26.146403, -97.913169], [35.592991, -97.639026], [33.738411, -84.421386], [34.417139, -118.558026], [30.23709, -93.356575], [36.610732, -79.406262], [47.920735, -122.229855], [40.636009, -75.436416], [31.32725, -85.837443], [42.2305, -85.5902], [42.62031, -83.24919], [42.284725, -83.838496], [33.206109, -87.504996], [34.8001, -87.676], [34.27301, -86.19966], [31.53432, -87.89021], [33.6636, -117.2985], [39.710231, -105.025065], [21.353172, -157.92693], [33.50946163, -112.2719612], [41.692834, -83.564816], [45.674595, -122.663345], [38.480682, -121.516891], [33.414658, -86.805401], [33.753783, -118.108469], [39.981111, -75.356835], [32.883455, -96.758498], [32.901584, -117.188381], [43.320949, -90.377124], [44.382877, -97.552251], [33.994019, -117.058108], [46.206559, -119.129325], [34.32007, -86.503504], [37.129338, -113.518924], [40.437862, -105.077937], [35.387888, -80.194454], [47.504227, -122.159714], [37.953464, -122.043851], [40.747553, -85.168839], [42.021817, -87.957191], [40.874543, -73.425056], [41.710888, -88.25355], [35.964943, -78.958928], [39.320848, -84.313491], [38.040226, -84.428291], [48.199944, -114.332417], [39.719525, -82.987334], [38.451758, -82.593821], [32.894323, -96.470513], [39.27099, -76.602938], [39.954855, -82.806486], [47.000254, -122.910041], [29.158226, -82.17771], [37.538467, -77.521099], [41.425269, -81.735596], [42.238069, -83.327191], [47.577635, -122.137591], [38.749345, -89.681665], [40.7979, -80.1319], [39.2917, -84.3935], [41.3428, -81.5291], [41.7149, -83.6243], [41.4825, -81.7067], [36.0089, -80.4438], [35.484, -80.878], [35.275, -80.7939], [40.7776, -82.5136], [39.9563, -82.808], [41.4641, -81.5836], [41.4511, -81.8018], [35.7456, -79.1684], [35.1996, -80.9329], [39.9559, -82.88], [40.0663, -83.0926], [41.1522, -81.8641], [41.463, -81.4849], [36.068, -79.8055], [35.1125, -80.9206], [35.7442, -78.7366], [40.8999, -98.3394], [40.7085, -84.3531], [40.2702, -81.6105], [39.1879, -82.9795], [40.99, -80.6332], [41.0744, -81.5167], [40.1116, -83.0899], [40.0267, -82.8659], [41.3775, -82.2246], [41.0303, -81.9081], [35.9174, -75.6063], [35.9633, -78.9736], [36.0077, -78.9223], [35.9804, -78.5401], [35.5179, -78.3118], [40.4069, -80.5485], [40.7437, -84.1291], [40.7507, -78.2164], [40.4772, -79.7881], [41.8017, -80.9471], [40.0707, -80.7585], [38.7395, -82.9687], [41.261, -82.6118], [41.1091, -81.5682], [41.076, -81.5224], [39.7315, -82.6139], [41.4856, -81.7684], [35.9126, -79.0078], [35.9112, -78.8511], [36.0717, -79.2949], [35.8067, -78.7242], [42.0799, -78.4685], [40.6745, -73.4858], [40.089, -79.5575], [40.1241, -83.0901], [40.1084, -83.0193], [41.0864, -81.441], [41.3143, -81.5168], [40.9885, -81.4924], [40.0648, -82.8636], [41.4095, -81.6163], [41.6272, -81.4281], [36.0746, -80.3032], [36.1098, -79.8832], [35.0876, -80.8494], [35.6388, -78.8351], [35.6392, -78.8346], [40.8595, -73.5351], [40.8041, -73.4117], [33.6296, -117.705299], [44.959324, -92.719894], [31.08609, -97.70787], [29.78748, -95.7517], [30.527849, -97.806709], [48.3024, -122.646], [32.78352, -79.93515], [41.15335, -81.35863], [44.08239, -123.02748], [45.33477, -122.76665], [45.495063, -122.827075], [44.05061, -121.33053], [34.698469, -76.77949], [37.369076, -89.644133], [26.115661, -81.754867], [27.462786, -82.605214], [29.655415, -95.529365], [31.2489, -85.423701], [38.965196, -76.793922], [39.654103, -79.970291], [41.063246, -80.709988], [45.523847, -122.806737], [31.256081, -85.388572], [28.019888, -82.747465], [36.045183, -86.662204], [38.218949, -91.161972], [31.736018, -95.606919], [36.276115, -115.145296], [41.448128, -81.645068], [33.891362, -117.207774], [42.959628, -87.910159], [36.061296, -79.962183], [31.457459, -86.967924], [45.491868, -122.575518], [37.124246, -76.531276], [34.528877, -96.226652], [35.50258, -96.89481], [33.672424, -112.252487], [27.413326, -80.394149], [39.003106, -94.586036], [27.839669, -82.728139], [36.514781, -87.303905], [33.531869, -86.806261], [38.366904, -121.962417], [30.675338, -88.143754], [27.313256, -80.399144], [27.893439, -82.505865], [35.609322, -97.530174], [34.173294, -97.261982], [32.850545, -97.081431], [36.852524, -76.023035], [41.031934, -81.429464], [35.503204, -82.989631], [32.609213, -85.482644], [41.022921, -80.760137], [38.691647, -87.499542], [33.378715, -111.909613], [37.467046, -122.224513], [30.545852, -91.964282], [40.32921, -83.073231], [44.956542, -122.983876], [37.645259, -77.583245], [28.33358, -81.481826], [34.891338, -82.404846], [43.817074, -91.239202], [39.833477, -77.222459], [28.330695, -82.658208], [39.608786, -84.161194], [37.079626, -94.477071], [37.996939, -122.108241], [39.84555, -82.608236], [26.364476, -80.122156], [45.546317, -122.391007], [33.758626, -117.981537], [39.732137, -82.616028], [32.296137, -90.228073], [43.666698, -92.98582], [39.16453, -84.512299], [33.979927, -84.08337], [26.650179, -81.974679], [46.143367, -122.930206], [33.729569, -118.02552], [44.890793, -94.368875], [35.658233, -81.964167], [40.917199, -78.213063], [31.073618, -97.707894], [39.302166, -89.283248], [41.663683, -83.588203], [35.503299, -80.610694], [39.291419, -77.852311], [45.44501, -122.579198], [38.700392, -75.400598], [39.49381, -84.328836], [34.204683, -84.763788], [27.758495, -82.737314], [37.493494, -77.555506], [40.795198, -73.933452], [34.576711, -86.975373], [40.865116, -73.826528], [25.978433, -97.51703], [44.522963, -88.064432], [27.462974, -82.61047], [33.041972, -97.024883], [41.986872, -89.578918], [33.93996, -117.980009], [32.820687, -83.712043], [38.929797, -75.431632], [25.715355, -80.335742], [35.57652, -81.21424], [36.100331, -115.072344], [27.29265, -80.3008], [32.638379, -85.481197], [38.21779, -85.756], [38.15164, -85.0683], [46.5993, -112.0433], [30.527008, -90.956052], [32.02563, -93.33977], [35.323381, -97.4866], [36.03231, -95.920959], [36.0868, -95.9228], [45.2571, -122.7026], [45.394334, -122.747032], [45.2019, -123.1671], [43.14607, -123.37927], [44.9901, -122.9869], [45.8506, -122.8298], [44.0531, -123.1197], [44.908523, -123.04414], [45.3473, -122.5965], [46.19063, -123.845075], [40.6562, -73.6438], [42.753, -73.7674], [38.639, -90.2422], [40.0288, -75.6295], [40.59, -75.6305], [40.8773, -96.7332], [40.0059, -76.3529], [40.7201, -73.8087], [35.8113, -81.4313], [40.5972, -80.5288], [39.6909, -75.7585], [40.6342, -73.9499], [38.8194, -91.1414], [40.4945, -81.473], [39.7137, -82.9878], [41.5014, -81.5375], [41.2382, -81.8175], [36.0134, -75.6594], [40.7373, -96.6038], [40.4474, -80.1535], [40.7674, -79.5265], [40.8773, -80.7542], [39.6969, -84.1009], [40.0038, -83.0088], [39.9649, -82.9917], [36.0581, -79.4002], [35.1028, -78.958], [38.8056, -90.3064], [33.994358, -117.9271], [41.540597, -88.161471], [40.761971, -82.591028], [34.004517, -118.25681], [32.554332, -85.923286], [46.815435, -95.841631], [42.998315, -84.145634], [32.292861, -106.785829], [36.18456, -86.297381], [35.742608, -81.300511], [29.791712, -82.026152], [41.925248, -87.652941], [30.20467, -93.873194], [28.186821, -82.349606], [32.904001, -97.189495], [34.189064, -118.94119], [40.2821, -79.55], [35.2502, -91.7172], [33.56683, -117.708355], [42.198869, -83.218424], [33.377626, -111.877853], [42.363449, -87.829935], [32.683953, -114.631235], [30.440685, -91.007519], [33.8503, -84.216499], [41.669739, -86.894874], [36.128266, -115.167601], [36.67759, -93.86891], [33.959933, -86.035018], [40.2555, -76.836], [39.9634, -76.768], [39.3383, -82.9746], [40.2865, -81.5678], [40.4077, -82.3264], [39.1453, -84.4319], [39.1452, -84.4315], [41.1096, -81.5703], [41.0771, -81.4963], [41.0364, -81.6082], [40.7679, -81.522], [40.0593, -82.3981], [39.9951, -83.0074], [40.1178, -83.0104], [40.1542, -82.9987], [39.9148, -82.9669], [40.1097, -83.2788], [40.0318, -83.1405], [40.1547, -83.094], [39.9481, -82.9389], [39.9557, -82.9017], [40.1411, -82.9912], [41.6117, -83.6983], [41.6539, -81.3783], [41.3951, -82.1076], [41.5205, -81.4554], [41.6264, -81.4355], [36.0124, -75.656], [36.0784, -80.3016], [36.013, -78.9321], [36.0305, -78.9284], [35.5732, -77.3751], [35.6036, -77.3992], [35.2774, -81.5394], [34.3394, -78.6862], [36.0843, -79.8332], [36.3285, -79.6462], [36.1086, -79.8278], [34.9684, -80.9935], [35.2253, -80.8437], [35.8595, -78.7064], [35.8034, -78.7835], [35.7843, -78.6895], [35.7196, -78.8445], [41.6972, -73.9063], [43.1218, -77.6186], [40.7011, -73.3779], [40.9343, -72.6719], [40.7805, -73.5599], [42.7457, -73.8096], [42.7025, -73.8149], [35.7035, -81.2959], [35.7172, -81.2312], [41.3551, -83.1318], [40.2398, -76.9075], [40.2614, -76.7752], [40.2313, -76.9532], [41.4861, -75.6938], [41.5023, -75.5809], [39.9688, -76.7725], [40.4254, -79.888], [40.4274, -79.6991], [40.1807, -80.2343], [40.1437, -74.8207], [39.3334, -83.0137], [41.8075, -80.9471], [41.0829, -80.7303], [38.7543, -82.9219], [40.3847, -82.4852], [40.4029, -82.441], [39.194, -84.5992], [41.2499, -82.7049], [41.1397, -81.4397], [41.1589, -81.5104], [39.8018, -84.2193], [40.7957, -81.4247], [40.9686, -81.3477], [40.9014, -81.1299], [40.0, -82.9307], [40.0354, -83.1192], [40.1456, -82.9938], [39.9657, -83.0015], [40.0893, -82.796], [39.9135, -82.7796], [40.0655, -82.863], [39.9732, -82.9733], [39.9792, -82.8436], [41.3742, -83.6289], [41.5383, -83.6342], [40.86, -82.326], [41.3206, -81.6227], [41.4578, -82.1678], [41.4985, -81.5651], [41.4198, -81.5278], [40.8543, -73.9073], [41.2345, -96.133], [40.3351, -80.5961], [39.2278, -84.3941], [39.2533, -84.7945], [41.1541, -81.349], [39.6949, -84.1038], [39.955, -82.8605], [39.8783, -83.0423], [40.0626, -83.0412], [40.2367, -83.3501], [41.2373, -81.8128], [41.4619, -81.4844], [35.2826, -81.556], [35.0249, -79.0536], [35.0569, -78.9101], [36.4823, -80.6145], [36.0754, -79.4891], [36.0806, -79.5104], [36.0639, -79.8337], [35.2243, -80.8889], [35.4367, -80.865], [35.7998, -78.5581], [42.4418, -76.4868], [42.858, -78.8251], [40.8912, -73.8979], [38.7317, -89.9095], [38.5131, -90.4414], [40.4397, -84.0402], [40.5854, -79.7112], [40.0242, -79.5916], [40.3381, -80.0508], [39.3335, -82.1125], [38.7424, -82.9569], [38.7513, -82.9333], [39.6495, -84.1088], [41.4502, -81.8141], [34.7249, -76.6466], [36.1532, -80.3585], [35.9102, -79.0642], [36.0487, -79.835], [36.0926, -79.814], [35.4125, -80.8563], [35.2601, -81.1324], [35.9202, -81.5256], [35.7554, -81.304], [42.6083, -76.1681], [40.6239, -75.4825], [40.2229, -83.5565], [39.5514, -83.4229], [40.3925, -84.3755], [40.8433, -81.2597], [39.9822, -82.8186], [40.1585, -83.0925], [41.5014, -81.5372], [40.999, -81.9968], [41.2366, -81.8197], [41.3684, -81.8031], [41.4643, -81.5626], [36.09, -80.2772], [35.0323, -79.0684], [34.3436, -78.7095], [35.7622, -77.999], [35.6031, -82.6239], [35.6873, -79.823], [36.0862, -79.8885], [35.3056, -80.855], [35.4677, -80.5901], [35.1409, -80.7403], [35.8581, -80.0724], [35.6504, -78.4705], [35.7915, -78.6611], [35.6542, -78.4748], [42.9408, -78.8139], [41.456, -74.0569], [35.924861, -80.591631], [32.532758, -84.968195], [30.791299, -89.8615], [40.941141, -72.98878], [41.238688, -81.812757], [38.102454, -84.483581], [34.181068, -103.347482], [32.953894, -96.803843], [32.781601, -97.290706], [33.65723, -118.001999], [39.260997, -84.339276], [44.569038, -123.279124], [39.000884, -104.607612], [35.487297, -86.443328], [29.672396, -82.33898], [41.4672, -82.0196], [41.3861, -81.6417], [41.4182, -81.9164], [41.4679, -81.901], [41.4169, -82.2084], [41.5016, -81.5394], [34.7605, -79.4692], [35.3717, -83.2057], [36.1177, -80.3165], [35.9202, -80.5874], [36.065, -80.3143], [36.1171, -80.3139], [36.1092, -80.2351], [36.0603, -80.2596], [34.7989, -77.4382], [35.3337, -81.8963], [36.3358, -78.4396], [35.5733, -77.3965], [35.1804, -78.982], [35.0456, -78.9237], [35.0907, -79.0101], [36.0731, -79.2947], [35.9436, -77.7745], [35.5782, -82.5206], [35.5333, -82.854], [35.6244, -82.554], [35.5946, -82.5517], [35.4801, -80.6123], [35.1875, -80.691], [35.1742, -80.7472], [35.3061, -80.7542], [35.4789, -80.6122], [35.7555, -78.7425], [35.7126, -78.6211], [35.517, -78.5602], [35.7652, -78.7839], [35.7444, -78.8725], [42.6489, -74.959], [42.4519, -75.0632], [42.8332, -77.6954], [43.1477, -77.5953], [40.6833, -73.3529], [35.9252, -81.5279], [35.7639, -81.3328], [40.7363, -96.5998], [41.1115, -83.2076], [41.1121, -83.1993], [40.2879, -84.1778], [40.3951, -84.1654], [41.053, -83.6146], [41.0528, -83.6157], [40.4526, -80.607], [40.7813, -84.1881], [40.3325, -83.7612], [41.0058, -76.4342], [40.494, -78.0157], [40.2113, -76.9613], [40.2688, -78.855], [36.86383, -76.21078], [37.60219, -77.52448], [37.2895, -80.0816], [40.9813, -76.0177], [41.5422, -75.9595], [39.9898, -76.6753], [40.0226, -76.1959], [40.3146, -75.9419], [40.3036, -75.8563], [47.812337, -122.207573], [47.700931, -117.395917], [46.241413, -119.106236], [46.273544, -119.1825], [47.09628, -122.35563], [47.44844, -122.2625], [47.609955, -122.32366], [47.68055, -117.43887], [45.62096, -122.552795], [46.2418, -119.1165], [47.747282, -117.404075], [40.3232, -79.8327], [41.79236, -107.21503], [29.72972, -95.42094], [28.557768, -80.819], [29.12553, -82.20828], [26.610924, -81.941465], [28.43411, -82.46231], [25.75096, -80.22774], [30.44938, -84.30701], [27.97208, -82.82919], [27.97294, -81.88419], [26.16632, -80.165], [26.26007, -80.12775], [29.08408, -82.25405], [26.651075, -80.14865], [28.51522, -81.37879], [28.42368, -81.46153], [27.79768, -82.73423], [30.26524, -82.12286], [28.56003, -81.82135], [28.06797, -82.76259], [29.17451, -81.08239], [25.47901, -80.44148], [30.47273, -87.20994], [30.2878, -81.3966], [27.98242, -82.12241], [27.0499, -82.39514], [28.11874, -81.97428], [26.1132, -80.25057], [27.89403, -81.58832], [27.903734, -81.548805], [30.17847, -84.37557], [30.09849, -83.58297], [27.84077, -82.68536], [43.0488, -76.2312], [38.5523, -92.1953], [40.7579, -73.7798], [43.0592, -74.3231], [42.717, -73.81], [34.1414, -77.8925], [34.1919, -77.9352], [35.9139, -81.5234], [40.7842, -96.6542], [35.2609, -80.424], [41.2047, -96.1272], [41.236, -96.1202], [43.5737, -119.074], [40.7602, -84.1478], [40.7297, -84.0702], [40.3399, -76.4183], [39.2535, -84.5898], [39.5431, -83.4267], [40.8128, -82.9523], [40.3831, -82.4858], [40.5448, -84.4078], [39.0609, -83.0187], [40.8802, -81.4349], [41.5472, -83.599], [39.53248, -119.866875], [40.8808, -82.6566], [41.7722, -80.9461], [41.9371, -80.5808], [41.9435, -80.5559], [40.1074, -83.7366], [39.6187, -83.6043], [39.2899, -83.9982], [39.4464, -83.813], [40.7885, -82.737], [40.2759, -81.6039], [39.4501, -82.221], [41.1433, -80.721], [41.1019, -80.7322], [41.1047, -80.6503], [41.0243, -80.6336], [40.2235, -84.4664], [40.0599, -80.601], [38.7442, -82.994], [40.5489, -84.5573], [40.5488, -84.5702], [40.5806, -83.085], [40.5665, -83.1204], [40.9697, -81.6968], [40.0291, -81.5656], [39.3062, -84.4871], [41.2721, -82.823], [40.2734, -81.877], [40.2668, -81.8688], [41.0934, -81.5354], [41.3143, -81.5188], [41.0506, -81.395], [41.1186, -81.4772], [39.8565, -84.3342], [40.0565, -84.2433], [39.9144, -82.0145], [40.8871, -81.4048], [40.7689, -81.384], [40.9015, -81.1551], [40.8182, -81.329], [40.8792, -81.4403], [40.8505, -81.4409], [40.9635, -81.3328], [39.9918, -83.0402], [40.1403, -82.9771], [40.0621, -82.9526], [39.8776, -83.0555], [40.0713, -83.0188], [40.1467, -82.987], [39.9898, -83.0264], [40.0644, -83.0708], [40.0853, -82.4302], [39.9867, -82.9887], [40.0287, -83.1175], [41.3744, -83.6312], [41.3743, -83.6501], [41.6865, -83.5273], [41.7065, -83.5868], [41.5808, -83.8809], [41.6754, -83.7019], [41.6845, -81.2942], [34.9242, -79.7548], [34.6291, -78.6071], [35.411, -78.7372], [34.701, -76.7425], [61.1431, -149.8475], [36.094, -80.2741], [36.1094, -80.1021], [36.2635, -80.3628], [35.9996, -75.6521], [35.7009, -80.8874], [36.0266, -78.9231], [36.0557, -79.1048], [35.5319, -77.3967], [35.1702, -78.9714], [35.0958, -78.9162], [35.2769, -81.5328], [35.2782, -81.5392], [35.1695, -81.4493], [35.212, -78.0666], [35.6167, -80.4479], [35.4386, -79.2181], [34.2, -77.9218], [35.7643, -78.0078], [35.8998, -77.5611], [35.8829, -77.5483], [35.5684, -82.5443], [35.5024, -82.9889], [36.0316, -79.8685], [36.1036, -79.8197], [35.7338, -79.8077], [35.2415, -80.8589], [35.8093, -80.2714], [35.9157, -80.2508], [35.8665, -80.0714], [35.7947, -80.2595], [35.8061, -78.8133], [35.6651, -78.6985], [35.6657, -78.6986], [35.6925, -78.5808], [35.6641, -78.7007], [43.0238, -76.6709], [41.1169, -100.7648], [42.1439, -77.0596], [44.9494, -74.8384], [44.5974, -75.1506], [41.4387, -97.3644], [40.778, -99.7447], [42.4472, -75.05], [40.271, -96.7472], [40.682, -99.0857], [43.0797, -75.3185], [43.4767, -75.3192], [43.0801, -75.3198], [41.9427, -103.8064], [41.3753, -74.694], [41.5004, -74.0238], [38.2647, -93.3702], [35.7703, -78.5826], [35.0223, -78.9217], [35.4313, -80.6056], [35.715, -78.6401], [43.9904, -122.883], [35.618, -106.0296], [35.1131, -78.8797], [36.1864, -80.2751], [35.2514, -81.1899], [35.6937, -105.9493], [36.0362, -79.8001], [45.0088, -122.9963], [43.2107, -77.9396], [35.5148, -78.3294], [45.6837, -122.6035], [45.3948, -122.752], [61.2219, -149.7785], [35.7457, -78.6493], [35.6858, -80.4831], [35.2043, -80.7604], [35.2663, -80.8813], [34.6902, -79.1987], [45.5398, -122.4779], [35.6081, -97.5488], [44.8984, -123.0388], [45.4862, -122.7962], [45.5036, -122.6393], [42.4206, -123.3343], [45.6749, -122.5522], [45.5374, -122.9005], [40.7158, -74.0052], [35.3092, -77.1587], [36.0876, -79.7119], [35.4798, -97.5222], [35.3619, -97.5659], [40.7778, -73.9545], [40.8151, -73.9144], [45.5188, -122.5664], [35.3198, -97.4993], [40.867, -73.8974], [44.0694, -123.1081], [42.0989, -75.914], [44.0447, -123.074], [31.7283, -106.3462], [36.0246, -79.9701], [36.1528, -79.7137], [35.4286, -80.5995], [35.5953, -97.5498], [61.1897, -149.8219], [35.1897, -80.875], [35.2263, -80.8446], [35.0721, -78.9607], [37.6399, -93.1036], [33.9083, -78.0747], [41.536917, -88.199079], [39.04405069, -95.76020747], [39.174177, -96.605751], [31.78314, -85.95631], [33.4498, -86.7887], [44.0457, -122.929], [45.4973, -122.6104], [36.3916, -97.8899], [35.5952, -97.4351], [32.356, -90.0159], [43.2458, -123.352], [45.4173, -122.4578], [31.7602, -106.2706], [35.2553, -78.9663], [44.0499, -123.0933], [45.4861, -122.7741], [45.8503, -119.2902], [34.9844, -97.3715], [40.8656, -73.8624], [35.9049, -79.9574], [35.5953, -82.5322], [40.7186, -74.0011], [31.8691, -106.428], [36.0202, -80.4063], [35.3245, -78.6484], [43.7989, -123.0389], [44.6313, -123.0726], [43.1209, -124.4001], [45.4676, -122.7146], [40.5709, -79.7984], [32.9369, -105.965], [46.8398, -96.861], [47.5739, -95.7469], [38.7686, -90.2646], [34.3569, -77.9001], [45.5096, -122.6833], [35.4937, -97.3704], [40.8267, -73.9506], [31.7646, -106.3214], [38.445567, -122.686138], [36.797995, -98.667424], [33.439998, -84.591295], [29.356014, -98.860138], [37.226528, -79.998258], [38.243847, -104.647565], [26.705904, -80.09238], [39.953548, -83.096183], [40.276057, -80.608682], [43.483957, -83.403676], [35.465114, -84.645143], [34.039629, -84.342126], [37.291709, -121.932052], [27.880433, -97.206724], [34.774727, -86.527127], [44.026852, -123.091118], [32.379644, -97.392453], [36.440393, -94.237698], [29.548897, -95.098831], [33.769285, -79.021159], [33.349539, -111.960372], [33.246503, -111.842263], [37.238759, -80.420482], [32.763488, -97.484089], [33.848832, -87.276631], [33.1479, -86.748868], [32.110139, -81.233775], [39.166359, -86.528341], [40.761698, -73.924818], [35.902884, -78.894624], [34.115262, -118.245895], [40.000772, -86.118947], [36.067106, -79.805449], [30.262139, -97.72084], [40.47629, -86.108367], [33.47958, -112.073467], [39.680736, -86.131817], [41.928577, -87.673296], [33.953658, -118.396897], [34.992873, -81.946915], [30.2259, -95.717098], [39.982757, -83.004459], [36.809842, -119.725666], [37.700388, -122.12586], [36.03254, -115.20941], [39.769636, -105.007611], [39.91264, -86.181823], [31.112767, -99.335903], [33.72173, -116.364594], [40.251008, -111.660831], [25.901018, -97.49092], [35.064776, -79.014361], [45.3272, -118.0786], [44.0534, -123.113], [44.0399, -122.9276], [44.0542, -123.3551], [44.053, -123.1216], [45.9888, -123.9221], [44.9478, -123.0499], [44.9436, -122.9837], [44.9492, -122.9926], [44.629, -123.0781], [44.5238, -122.9072], [42.4364, -123.3071], [42.4216, -123.3344], [42.4347, -123.3017], [42.4248, -123.3299], [42.4574, -123.3231], [42.3784, -122.8962], [35.3758, -96.9115], [35.346, -96.9125], [44.3027, -120.8535], [44.3026, -120.8517], [45.4919, -122.8539], [45.3349, -122.5897], [45.8348, -119.287], [35.3911, -99.4049], [34.0011, -96.3733], [34.1858, -97.1438], [34.175, -97.1417], [36.0595, -95.8859], [35.7497, -95.403], [36.0571, -95.8159], [40.7221, -73.9404], [47.6826, -114.1229], [46.8468, -114.0392], [45.6674, -108.7719], [33.3223, -105.6363], [31.653, -106.2693], [35.6049, -105.2233], [35.0884, -106.6159], [33.3723, -104.5241], [41.991488, -87.660359], [41.406586, -81.981855], [33.643177, -117.924793], [25.708846, -80.283601], [37.53281, -77.42793], [38.922484, -77.416742], [44.046, -122.973], [44.9548, -122.9841], [44.9649, -122.9832], [42.0552, -124.2908], [42.198, -122.7164], [45.6388, -122.6716], [45.3361, -122.5898], [34.5947, -98.3927], [34.624, -98.4661], [35.5654, -97.5161], [35.6096, -97.4609], [40.6801, -73.9401], [45.7546, -108.5756], [35.2429, -106.696], [32.2816, -90.037], [35.2361, -106.6568], [38.7714, -90.2212], [36.0786, -79.5568], [45.0049, -122.7927], [45.2277, -123.1754], [45.4744, -122.8681], [45.8487, -119.2898], [35.462, -97.3881], [35.4638, -97.6552], [31.7835, -106.3952], [37.1813, -93.2444], [35.7211, -81.1892], [32.2695, -90.2615], [36.1502, -80.2772], [32.3565, -90.2289], [30.8462, -89.1497], [34.2156, -78.0177], [34.2445, -77.8798], [35.8205, -79.8217], [44.0552, -121.2623], [42.3329, -122.8648], [45.6854, -122.6606], [45.5176, -122.412], [35.2648, -81.1483], [35.0988, -80.7826], [35.3499, -97.5294], [35.1497, -97.3976], [35.5085, -97.7438], [34.5039, -79.1117], [35.1802, -106.6883], [37.2037, -93.2764], [32.3998, -90.1361], [34.2151, -77.9442], [34.2517, -77.8559], [34.1143, -77.9008], [35.0721, -78.9607], [35.1883, -80.8755], [35.157585, -90.137584], [39.737643, -80.057626], [35.580905, -82.589379], [36.415722, -89.035996], [35.690387, -79.805677], [25.628001, -80.375355], [40.444298, -79.229131], [36.241177, -90.959143], [46.585122, -120.535948], [25.929239, -80.135706], [41.984019, -88.071422], [41.707192, -83.588852], [30.020158, -95.436271], [43.087384, -75.749249], [29.960017, -90.184479], [41.511924, -81.580506], [31.028587, -87.493809], [41.557449, -90.568587], [39.419827, -80.176454], [42.565716, -82.95081], [39.973351, -82.90105], [28.587299, -81.393832], [38.19125, -85.601357], [37.610928, -93.409075], [29.9382, -95.384185], [33.935287, -117.278472], [33.903184, -118.209418], [40.78019, -96.706795], [42.362334, -89.028264], [33.801428, -78.729958], [40.104914, -82.975618], [40.032677, -75.179794], [28.535129, -82.506672], [41.424817, -82.080134], [34.022969, -80.950718], [39.189142, -84.601202], [31.177815, -85.401059], [35.336842, -82.446154], [34.680116, -86.738509], [41.567244, -87.636885], [28.248213, -81.242929], [46.7335, -117.1679], [46.7291, -117.1823], [33.112915, -96.804972], [39.271021, -84.380413], [37.321716, -121.95055], [28.260865, -81.434204], [47.306929, -122.335498], [36.638003, -87.435824], [39.757765, -105.142894], [33.881989, -117.997048], [37.143193, -94.511626], [37.044978, -78.945516], [41.73204, -87.798695], [35.5883, -80.8269], [46.8748, -96.7673], [47.906, -97.0442], [32.4087, -88.7048], [31.8702, -89.7453], [31.8677, -89.7389], [30.4023, -88.9354], [34.7538, -89.4532], [35.3033, -78.6031], [34.2274, -77.8276], [30.188426, -97.766864], [35.666269, -88.828734], [48.792323, -122.490687], [35.318059, -119.027472], [36.843903, -76.131747], [32.753942, -97.354132], [45.544033, -122.395699], [37.522292, -120.882681], [41.137917, -96.028223], [40.086678, -82.955685], [29.569917, -98.329426], [41.374556, -81.825097], [45.443258, -122.801271], [38.502729, -90.444984], [26.376711, -80.076768], [33.320421, -111.962697], [47.386683, -122.199038], [28.891776, -82.48554], [28.003477, -81.727885], [42.5729, -113.73021], [37.092867, -76.392558], [37.490407, -121.947874], [38.818959, -90.876427], [32.83237, -96.994344], [35.929554, -86.899385], [41.30074, -83.01361], [30.387357, -87.683877], [39.797218, -84.292406], [34.104768, -118.074582], [33.97942, -118.43966], [36.95399, -84.104104], [34.579867, -118.120414], [34.8128, -78.9879], [44.0258, -116.9565], [45.3208, -118.0826], [46.1906, -123.8431], [44.565, -123.2791], [44.303, -120.8267], [45.6661, -118.8021], [33.8951, -94.8044], [36.3958, -97.8682], [35.5052, -98.9875], [36.1031, -97.899], [34.6774, -88.56], [36.592872, -79.400154], [41.774997, -91.128666], [42.371782, -83.234246], [42.875109, -77.264079], [41.413348, -85.74629], [32.658053, -83.747347], [37.506212, -77.628513], [33.85195, -117.792061], [32.297366, -106.770263], [36.067274, -80.337409], [40.707222, -84.152016], [35.352153, -80.850899], [41.122325, -85.149883], [28.477611, -82.499896], [35.932791, -85.478749], [39.629948, -84.170295], [36.477687, -80.618429], [45.438331, -122.753693], [40.109382, -88.227196], [41.047082, -80.616165], [29.912355, -90.050605], [38.747013, -90.422085], [39.616256, -104.769338], [26.189916, -98.132372], [32.944842, -87.145165], [33.972408, -81.017333], [61.210646, -149.828611], [41.55449, -88.0886], [39.79229, -88.27126], [41.89839, -88.34058], [41.55705, -87.71241], [41.37128, -88.83617], [46.73123, -117.0173], [40.04244, -86.12612], [37.75218, -87.05756], [40.81364, -85.83582], [39.3091, -85.21355], [37.93907, -86.7602], [39.74591, -84.41012], [39.93054, -86.23109], [37.68708, -87.91404], [41.92147, -88.26399], [38.35364, -90.15092], [38.72854, -90.27702], [38.63185, -90.34574], [41.77596, -87.70337], [41.7753, -87.72304], [42.01862, -88.2029], [38.78879, -90.41359], [42.04051, -87.75046], [41.99869, -87.72032], [41.37015, -89.00887], [42.10537, -87.81236], [41.89054, -88.06375], [39.698204, -86.417717], [32.867697, -80.016899], [34.744434, -87.654076], [32.631817, -116.967815], [33.042164, -97.02015], [38.42454, -121.39042], [34.155251, -118.795355], [40.001598, -81.577673], [28.0081, -81.6126], [45.450898, -122.781772], [33.790759, -118.297102], [42.155275, -77.105769], [39.194654, -75.540143], [35.503304, -80.863252], [41.807345, -87.74353], [36.061587, -79.106002], [34.123532, -118.219654], [29.809362, -95.544864], [37.564128, -97.334451], [39.856857, -84.33137], [38.435185, -82.128048], [32.825755, -96.831748], [32.718233, -103.141616], [45.785165, -108.556025], [34.12515, -84.169997], [39.184851, -84.26578], [47.498814, -122.181304], [40.758172, -73.992082], [34.032231, -81.123982], [40.098314, -83.121536], [44.027602, -123.091786], [39.15623, -122.147033], [45.523399, -122.694857], [25.826726, -80.337455], [44.884049, -93.249047], [35.841044, -81.309507], [37.790621, -81.210696], [34.916937, -82.110447], [30.368572, -90.072377], [27.984087, -82.122293], [40.570794, -122.356235], [36.033885, -79.866809], [27.838798, -82.756481], [42.019989, -97.426998], [26.187487, -97.72104], [39.738572, -84.088757], [30.284648, -87.733472], [36.1467, -115.298194], [37.758993, -77.463814], [37.536655, -77.532483], [41.420051, -81.91263], [21.282031, -157.838685], [36.464714, -81.802145], [35.019586, -81.802228], [34.659494, -83.089561], [26.845405, -80.061401], [33.746721, -116.993253], [40.744331, -88.505675], [38.171974, -85.684776], [43.769943, -87.729945], [36.811604, -76.358952], [47.642507, -117.576487], [40.761214, -73.982924], [33.145959, -86.751397], [40.506781, -98.952163], [40.2755, -85.6709], [40.279, -86.4954], [41.61745, -87.04533], [39.82514, -86.16007], [39.85431, -86.24072], [41.7243, -85.9757], [39.7079, -86.0819], [39.720526, -86.225121], [39.8068, -85.7702], [39.866951, -86.120336], [39.6523, -86.0833], [40.0466, -86.4844], [39.77366, -86.00344], [40.056076, -85.652955], [41.617437, -85.892219], [39.781695, -86.100195], [41.1527, -85.1373], [40.060446, -86.471569], [39.70902, -86.38262], [26.0945, -80.3708], [28.66833, -82.13697], [27.898448, -81.604988], [27.931144, -82.787139], [28.193933, -82.637566], [34.8731, -82.6947], [33.8623, -79.0936], [32.2732, -90.1922], [45.7094, -121.5117], [44.6389, -124.0607], [34.1962, -79.6846], [40.8375, -115.7896], [39.1904, -119.7724], [36.1282, -115.1375], [41.3661, -81.8533], [41.1378, -81.7864], [41.523, -81.651], [41.4067, -92.9147], [42.34662189, -102.9746876], [42.26761, -94.74265], [43.177535, -83.763782], [41.68466, -81.29219], [39.60565, -86.19306], [39.707042, -86.149478], [41.706455, -85.888565], [39.76946, -86.15567], [38.909592, -94.772208], [37.73145, -85.88632], [37.980017, -86.16125], [37.346484, -85.337157], [36.6106, -83.7016], [38.46998, -82.623954], [43.650529, -94.09421], [42.049573, -87.680379], [38.379356, -88.377245], [41.07858, -87.86733], [40.123734, -91.53923], [38.5756, -75.28561], [19.71685, -155.08308], [34.670977, -92.344253], [36.358, -94.2845], [35.17, -92.7224], [37.3269, -80.7298], [37.3294, -79.5108], [47.91295, -122.08859], [46.2062, -119.7675], [47.6603, -117.1971], [47.79576, -122.29298], [46.2123, -119.1626], [46.5737, -120.4888], [47.05936, -122.76401], [47.297153, -122.515274], [46.27822, -119.28177], [47.65919, -117.41991], [47.6505, -122.6934], [41.2632, -110.9571], [30.356364, -97.732207], [30.019625, -95.435279], [29.901736, -95.633968], [36.4196, -86.1801], [36.63053, -87.43294], [35.9732, -83.9845], [36.22085, -86.34162], [36.56277, -87.31346], [41.1815, -84.7411], [39.2852, -84.4452], [41.68384, -81.29136], [39.35327, -84.36943], [39.956268, -82.91589], [39.526479, -84.387736], [40.049773, -84.226855], [41.4742, -84.572], [41.3013, -84.3603], [40.05364, -82.86223], [40.01058131, -82.86764039], [41.49914, -81.69963], [39.2862, -84.4671], [41.3554, -83.1325], [39.955456, -82.809616], [39.44579, -83.82024], [41.4028, -84.1315], [41.43322, -81.88236], [42.3465, -122.879944], [45.50331, -122.43611], [42.434948, -123.31027], [45.259865, -122.698201], [45.004982, -123.023055], [45.673018, -118.771323], [35.6664, -97.493], [35.4072, -97.3982], [36.0824, -83.9266], [36.7361, -97.0666], [34.23, -118.3672], [33.8022, -116.9703], [33.8907, -84.7505], [32.3281, -86.2504], [33.2006, -87.5249], [61.1391, -149.8351], [45.2075, -93.4067], [45.2084, -93.408], [45.0578, -93.1454], [44.9483, -93.253], [38.6563, -121.1263], [38.9224, -121.056], [38.6773, -121.7873], [26.9329, -80.1282], [35.8617, -90.6487], [39.6536, -104.9053], [27.3375, -82.4922], [34.8342, -87.6258], [41.6879, -93.7793], [28.8202, -81.7764], [28.8226, -81.7055], [33.639, -111.9818], [34.0246, -86.0341], [34.0079, -85.9822], [33.9944, -83.734], [38.6793, -121.7876], [32.6572, -85.3581], [30.518, -87.8856], [31.1775, -85.3989], [30.2615, -87.6889], [38.0788, -122.1906], [32.3802, -86.2756], [31.2514, -85.4279], [33.1665, -87.5516], [33.7451, -87.0425], [33.5227, -86.8094], [33.5516, -86.783], [32.7701, -86.8805], [33.4212, -86.7998], [33.5883, -86.7673], [41.6298, -87.8935], [33.5002, -86.8472], [33.8316, -118.0027], [26.1979, -81.7996], [26.8075, -80.105], [26.6528, -80.1128], [38.5823, -121.2844], [43.7831, -91.2256], [28.5736, -81.5156], [28.5522, -81.4886], [47.4, -92.9236], [30.6194, -87.7527], [30.3562, -87.7172], [33.4344, -86.9386], [37.2208, -121.8619], [28.0801, -82.4372], [28.0436, -82.6801], [45.5619, -94.2286], [47.1022, -94.5799], [34.7384, -92.2767], [44.172, -93.261], [44.4503, -95.7651], [44.4508, -95.7694], [43.9827, -92.4616], [44.1664, -93.9504], [33.4432, -112.3492], [45.1155, -93.2422], [32.4644, -84.9237], [31.3206, -85.7105], [30.7182, -88.0831], [32.6695, -86.2546], [33.2443, -117.3232], [33.9966, -117.9054], [33.7827, -117.2187], [42.8425, -85.6242], [32.6168, -85.4045], [33.8467, -86.2711], [42.2513, -84.3832], [42.663, -84.5918], [42.949, -85.6671], [41.9421, -85.6457], [41.6149, -93.8721], [37.982, -75.8557], [45.0621, -83.4795], [43.4075, -84.608], [43.3957, -84.6674], [42.9749, -83.6732], [38.2588, -122.0671], [38.335, -121.97], [38.7335, -77.7717], [38.6102, -121.3857], [38.9256, -123.0529], [30.1547, -92.0469], [30.191, -93.1807], [30.4314, -91.0566], [30.4164, -91.1421], [35.3171, -119.0255], [41.2904, -87.4005], [39.2467, -94.6624], [36.6922, -87.4519], [36.6784, -87.4048], [37.9806, -86.161], [38.0012, -84.5207], [38.414, -82.4628], [38.4175, -82.4566], [37.7963, -121.193], [28.2464, -81.3012], [33.5835, -117.6329], [32.1343, -110.9972], [30.5216, -87.8861], [30.1856, -85.818], [30.1681, -85.7892], [35.094, -92.4631], [34.0295, -117.6289], [33.8995, -83.962], [33.5895, -84.3403], [33.8273, -84.4924], [31.5543, -85.269], [31.2481, -85.4272], [27.4958, -82.6293], [37.4591, -122.1372], [33.1051, -117.0728], [34.1639, -117.3342], [26.9358, -82.3293], [32.809, -83.7188], [32.6777, -117.0982], [33.1346, -117.0576], [37.2749, -121.8524], [30.5254, -87.8842], [44.8535, -93.4299], [26.3885, -80.0766], [32.8106, -83.7228], [35.3397, -119.0498], [34.0353, -84.3431], [32.6164, -85.4061], [32.3508, -86.2632], [26.7132, -80.1017], [28.4779, -81.4733], [27.8904, -82.2413], [26.3542, -80.2039], [37.7597, -122.1873], [28.0148, -82.117], [41.6049, -90.7787], [40.4067, -105.0735], [38.4352, -122.6865], [35.297, -119.0393], [37.3891, -122.0296], [33.8218, -117.5236], [33.9458, -117.415], [33.6309, -117.9127], [33.6249, -83.9771], [19.7239, -155.0906], [33.6164, -117.6797], [39.7612, -121.822], [34.0481, -117.304], [34.0487, -117.4348], [33.6569, -117.7397], [30.4004, -87.6838], [44.8612, -93.538], [45.198, -93.3569], [33.9406, -83.4967], [21.2917, -157.8439], [37.7469, -122.1957], [37.9532, -122.0597], [21.3051, -157.6792], [38.454, -122.6733], [32.7469, -116.9888], [28.28, -82.7042], [25.9432, -80.3075], [33.9708, -83.413], [33.8028, -117.976], [28.5375, -81.7376], [32.8174, -117.1553], [33.8893, -117.3218], [33.4801, -112.1109], [34.0947, -84.0125], [30.6493, -88.1581], [33.8176, -85.7613], [33.3464, -86.7956], [46.4506, -92.7653], [42.2214, -83.659], [41.8123, -87.7069], [32.1045, -110.7728], [31.182, -85.4687], [42.26, -85.5897], [39.1941, -76.614], [38.6127, -90.3226], [26.5193, -81.9431], [32.3813, -86.2077], [33.3492, -86.635], [30.3784, -87.6826], [30.7612, -88.2249], [30.676, -88.1713], [27.3073, -82.4972], [44.9737, -93.2263], [44.9494, -93.0181], [45.1957, -93.5498], [37.2937, -121.8741], [42.2857, -83.1626], [39.0935, -120.9513], [38.6176, -121.3663], [43.0525, -83.6153], [34.1974, -86.1501], [39.5473, -77.9138], [39.1373, -76.6868], [30.1441, -91.9434], [32.3953, -93.8116], [29.6146, -90.7572], [30.2472, -93.0145], [33.3778, -111.9618], [30.2918, -89.7203], [30.2387, -90.9134], [30.4325, -91.0578], [42.4437, -83.2663], [39.042, -96.833], [27.5692, -81.5093], [37.9955, -84.216], [38.4351, -82.1276], [36.7806, -119.7547], [39.9929, -85.9298], [39.6035, -86.1065], [40.1589, -89.4124], [32.631, -85.4984], [31.2929, -85.1131], [42.3952, -88.1844], [26.121346, -80.25927], [26.53535, -80.0908], [28.89924, -82.58773], [25.670113, -80.441173], [28.5654, -81.1695], [25.725409, -80.262949], [30.441, -86.6375], [27.9814, -81.9577], [26.2176, -81.7689], [25.95043, -80.14658], [26.1916, -80.252], [26.189462, -80.096565], [27.49543, -82.59902], [29.025773, -82.160743], [27.00904398, -82.13644458], [27.3147, -80.40208], [26.665273, -81.887188], [37.10461, -80.566393], [39.13784, -77.69275], [37.26034, -77.32601], [47.811794, -117.56696], [47.441234, -122.247856], [47.396979, -122.323599], [47.65662, -117.194079], [46.97539, -123.83795], [47.043492, -122.844642], [47.361645, -122.021649], [47.1941, -120.9343], [46.06502, -118.34718], [47.7073, -117.4104], [47.651923, -122.690769], [45.63713, -122.6327], [45.81552, -122.68353], [48.1748, -117.0426], [29.830811, -95.210049], [36.387, -86.2657], [34.191696, -118.33035], [38.5697, -121.4659], [33.9086, -117.5617], [39.71542, -121.79495], [38.00186, -121.28987], [21.3999, -158.0091], [21.977983, -159.36868], [21.281084, -157.82661], [21.299847, -157.84387], [21.406261, -157.74478], [21.288677, -157.80063], [38.85325, -104.757809], [37.4802, -105.9054], [39.187302, -76.798972], [31.8472, -86.6402], [34.1845, -86.8458], [41.639125, -87.454732], [40.13049, -86.01368], [40.75692, -86.31467], [39.9046, -86.0655], [41.676999, -88.350052], [41.702739, -88.122705], [41.8398, -88.0013], [44.77229, -85.50066], [45.394, -122.7503], [44.03101, -123.09117], [45.4864, -122.7804], [45.15429, -122.87818], [45.50499, -122.62002], [45.53376, -122.47742], [46.105188, -123.20757], [45.1514, -122.8744], [42.3417, -122.86], [44.04612, -122.9621], [44.06999, -123.17901], [45.32388, -118.08737], [44.06923, -123.10304], [45.397068, -122.267389], [45.44838, -122.78272], [42.2484, -121.7909], [45.50494, -122.57775], [35.4485, -97.4056], [34.7401, -97.25876], [36.138117, -96.107899], [43.7519, -87.7502], [42.827175, -88.74287], [37.14147, -80.41525], [37.8121, -79.8353], [36.689, -79.8581], [34.61901, -86.567888], [33.465477, -112.167395], [35.3089, -86.88], [36.305173, -82.340636], [36.4196, -86.7994], [35.79639164, -88.78550382], [36.084038, -86.706195], [36.020949, -86.577807], [35.99691, -86.88603], [36.56041, -87.28699], [36.23406, -86.759], [36.208832, -86.291399], [40.1614, -111.6107], [40.453373, -109.545812], [39.1008, -94.58062], [37.09377, -93.81151], [40.018692, -82.86702], [26.612122, -81.809253], [25.972414, -80.142876], [41.472065, -87.303925], [20.917433, -156.67715], [21.3056, -157.8387], [21.311705, -157.82982], [38.6401, -121.5001], [39.1256, -121.5776], [37.2383, -121.8309], [37.3381, -121.9926], [37.4283, -121.9203], [38.4529, -122.7705], [38.4329, -122.7422], [38.6174, -121.329], [37.9615, -121.9846], [38.1225, -122.2369], [32.8021, -117.0044], [32.7678, -117.1497], [39.1986, -121.059], [39.2632, -121.0186], [35.3185, -119.0899], [32.3095, -110.8921], [35.1856, -111.6622], [33.446, -112.071], [33.4796, -112.0165], [38.368, -121.9626], [39.1467, -121.6444], [34.1414, -109.9538], [38.486451, -122.709192], [32.288688, -110.973868], [33.288797, -111.100553], [31.759209, -106.270151], [40.425824, -84.378042], [32.774061, -96.598713], [36.086286, -79.83231], [40.02816, -76.21918], [41.171657, -79.098067], [39.779677, -86.286614], [41.525473, -74.032679], [39.72357, -90.233183], [40.615645, -80.054814], [41.154074, -84.580499], [47.23308, -123.125694], [33.423003, -111.934935], [47.505245, -122.15803], [39.668326, -86.081992], [39.932378, -105.13366], [29.911281, -90.353418], [38.933599, -121.091311], [34.866458, -82.347498], [33.3785, -112.0292], [32.9443, -112.7325], [33.5814, -112.1242], [33.8379, -118.3674], [33.7635, -118.1154], [32.338, -111.0484], [32.2905, -110.9778], [38.3591, -121.9835], [33.8585, -112.112], [32.2694, -110.9779], [45.01923, -123.94896], [64.83742, -147.75632], [32.071195, -84.225124], [36.628198, -90.826506], [34.245632, -84.48115], [45.56617, -122.894794], [26.6095, -81.8715], [26.92628, -80.09696], [33.4451, -86.8271], [31.229, -85.4319], [33.895067, -84.140857], [39.92687, -86.097242], [35.956254, -86.814713], [30.4089, -91.0156], [29.11628, -82.0259], [32.856981, -83.617427], [39.8844, -86.2096], [41.59645964, -87.26812184], [43.015736, -83.744278], [28.163636, -80.672465], [32.658891, -97.117345], [30.516177, -97.689301], [33.9664, -80.9436], [34.9593, -81.9396], [37.2092, -93.2288], [38.23, -78.3707], [42.7025, -87.8262], [30.6949, -96.3623], [32.4131, -99.4921], [26.1172, -97.1696], [36.1876, -82.7594], [36.0587, -89.3958], [36.556, -87.3209], [36.6386, -82.575], [33.6842, -78.8921], [33.6664, -78.9161], [33.7776, -78.7948], [34.1777, -79.7671], [34.8192, -82.2705], [34.834, -82.4055], [33.9844, -81.2535], [33.9521, -81.0976], [34.139, -80.9148], [34.0776, -80.9441], [35.0375, -82.0756], [34.9089, -82.1027], [32.7909, -80.0397], [36.8121, -97.3376], [42.2069, -121.7232], [45.7112, -121.5001], [40.8591, -84.5956], [31.5703, -91.4372], [40.6135, -80.6413], [40.832, -80.5392], [41.2786, -84.3715], [39.2734, -81.5801], [39.4108, -81.4282], [39.493828, -87.39924], [39.817596, -85.76971], [40.071944, -86.474069], [39.607721, -86.15854], [39.439862, -87.332853], [39.77963, -86.28749], [39.71532, -86.08122], [39.76103, -86.52298], [41.5504, -87.18], [41.557743, -87.355927], [38.30937, -85.84515], [30.387691, -91.25265], [30.18662, -93.21873], [33.789494, -118.31393], [40.6867, -75.23582], [40.68655, -75.25002], [35.1567, -88.5789], [36.865, -81.4341], [34.1713, -82.1533], [40.69829, -90.0056], [40.77259, -89.96999], [41.22952, -89.92781], [38.57829, -89.93575], [42.02349, -87.90987], [41.95448, -88.72292], [41.934246, -88.76067], [41.91013, -87.6489], [41.71599, -88.20538], [41.96093, -87.94138], [41.82914, -97.445], [41.21302, -98.45106], [41.260635, -96.166115], [41.20619, -96.12198], [40.27773, -96.74623], [40.78435, -96.69571], [45.85347, -111.33684], [47.68162, -114.12081], [45.6726, -111.07461], [34.72459, -88.94732], [32.90919, -90.87047], [34.69949, -89.96696], [40.30711, -79.57706], [35.51535, -77.09728], [39.94821, -75.15352], [35.77705, -78.63803], [36.03575, -78.50072], [35.68581, -78.61716], [35.81759, -80.24281], [34.72532, -76.75307], [35.71519, -81.697], [35.76098, -78.74029], [35.74211, -78.77654], [35.77598, -78.76815], [35.7043, -78.7947], [35.76084, -78.73878], [36.08028, -79.48264], [34.13507, -77.894684], [34.21228, -77.89736], [35.59652, -80.87624], [35.66592, -80.47018], [35.66294, -80.46435], [35.68316, -80.48276], [35.9613, -77.83618], [35.61109, -77.37127], [35.58234, -77.37342], [35.26299, -77.64176], [35.57321, -77.37511], [35.58016, -77.37885], [34.79753, -77.41351], [34.78949, -77.40535], [35.57504, -82.51873], [35.36588, -81.95891], [35.59501, -82.55607], [35.40028, -80.60891], [35.07026, -78.96634], [35.71587, -81.33671], [36.06895, -79.82863], [36.00782, -78.92185], [35.99272, -78.90393], [35.26372, -81.20399], [35.2343, -81.17036], [35.30613, -80.75424], [35.16864, -80.87522], [35.78046, -78.67555], [35.79046, -78.67979], [45.71774, -96.42594], [38.90894, -77.03176], [38.91198, -77.03812], [38.88515, -77.0262], [38.90045, -76.99084], [38.78586, -77.0152], [38.81622, -77.04959], [41.05199, -73.82171], [36.01533, -106.06465], [32.94449, -103.34884], [35.18938, -106.65899], [32.43591, -104.24263], [34.4117, -103.20703], [35.0862, -106.6213], [34.19951, -79.26001], [34.77641, -82.31492], [34.18274, -79.37069], [32.78491, -79.78837], [32.7983, -80.10966], [32.27511, -107.76004], [34.19033, -103.33137], [34.557808, -80.554634], [34.72272, -80.77175], [34.93866, -81.97919], [33.98815, -81.24488], [34.12972, -80.87877], [45.52788, -122.41178], [43.53903, -123.2882], [45.45481, -122.57928], [44.073677, -123.07876], [44.09318, -123.09397], [38.39004, -122.81533], [36.60231, -121.84826], [36.97266, -122.02723], [38.50456, -122.46879], [40.4151, -120.64879], [34.11015, -118.14995], [36.98604, -121.96452], [37.44485, -122.16227], [37.85868, -122.12491], [34.27989, -118.88242], [33.98687, -118.18599], [40.87622, -124.08335], [39.13838, -121.58742], [37.78694, -121.21697], [37.8079, -121.21634], [37.73766, -120.93274], [37.75449, -121.1408], [33.82705, -118.38576], [37.81141, -121.29214], [33.84758, -118.14201], [38.66826, -121.38253], [36.62635, -119.68291], [37.5627, -122.28073], [39.87867, -88.94987], [39.84229, -88.95551], [42.37243, -87.88222], [42.03917, -88.0475], [41.77222, -88.03812], [42.2804, -89.24327], [41.91559, -91.42244], [41.59783, -92.59017], [42.03863, -94.02827], [41.26223, -95.88467], [38.87985, -77.11261], [38.963573, -76.96663], [38.93555, -76.94846], [38.84803, -77.11742], [38.84473, -76.88488], [38.7795, -77.08006], [39.3501, -94.91526], [39.178, -95.56932], [37.28108, -98.57979], [38.80487, -77.04404], [47.19992, -122.29445], [47.16518, -122.51035], [47.15245, -122.062096], [37.69063, -97.13458], [38.9361, -76.94753], [39.18725, -96.5597], [37.88005, -95.73916], [38.88412, -77.01953], [38.9164, -76.9949], [38.98798, -76.54448], [38.90361, -76.99835], [38.93477, -77.05844], [38.9597, -77.08574], [38.96239, -77.02829], [37.5836, -97.5497], [38.89688, -77.00636], [30.85107, -91.00589], [32.493217, -93.67787], [30.17976, -93.58719], [32.535366, -92.71627], [30.10918, -92.01087], [39.55554, -86.08887], [32.78582, -93.05735], [39.1109, -84.85117], [29.95333, -91.99912], [38.5578, -86.61376], [39.10004, -84.51284], [32.78054, -91.90177], [32.76543, -91.91178], [32.58283, -93.24778], [30.64725, -91.14816], [39.69713, -86.41983], [29.88037, -90.09815], [41.60819, -86.72807], [39.90572, -86.05568], [39.07783, -84.88978], [41.65677, -84.99993], [41.46865, -87.33575], [41.49609, -87.04442], [41.71331, -86.17849], [41.70856, -86.18072], [37.9639, -87.49252], [41.66274, -86.12605], [39.16551, -86.49415], [34.14662, -117.90876], [38.89581, -121.07883], [37.34277, -120.61451], [34.1088, -118.02254], [34.1371, -118.0517], [33.84491, -117.77713], [38.71392, -121.3671], [32.62363, -116.96683], [37.41691, -121.95364], [33.25491, -117.29945], [34.2627, -119.22532], [34.29743, -118.4367], [38.39646, -121.9518], [37.75431, -121.45761], [37.70614, -121.89217], [37.70645, -121.92903], [37.55491, -121.98301], [37.71108, -120.95813], [34.00026, -118.33022], [34.04812, -118.33745], [47.613917, -117.368981], [45.527316, -122.434465], [34.529428, -82.661368], [39.6032, -86.1593], [41.06059, -86.60334], [39.71269, -86.00894], [40.81012, -85.8326], [43.65112, -116.27994], [43.58903, -116.28485], [43.66247, -116.34225], [43.61795, -116.34549], [41.597916, -87.59381], [40.6247, -89.46517], [41.78542, -88.0741], [40.12404, -88.20091], [42.18557, -88.08768], [41.920525, -88.079285], [42.08001, -87.79828], [41.96653, -87.8359], [41.90518, -87.90851], [41.51817, -87.98243], [42.19442, -88.21093], [33.09438, -96.79701], [35.88392, -77.54897], [35.36167, -83.20172], [29.68469, -98.12482], [31.31166, -94.72118], [36.12448, -77.42447], [35.27744, -82.70267], [32.767822, -96.608215], [32.78935, -96.59658], [36.31179, -80.13932], [31.42337, -100.49722], [36.06647, -79.29941], [36.18879, -81.23866], [30.00017, -97.86117], [35.41865, -78.80215], [35.69552, -81.22644], [30.3348, -95.48109], [30.33437, -95.47758], [35.71588, -81.40822], [36.17852, -76.46216], [36.17437, -76.46272], [35.32473, -80.6594], [35.32473, -80.6594], [35.42636, -83.45035], [35.61352, -82.31947], [34.69841, -76.77965], [36.32583, -75.81964], [36.14273, -78.72036], [35.51247, -77.10077], [35.69512, -81.23557], [36.0387, -80.38655], [34.6761, -77.34691], [34.699165, -77.36806], [35.13889, -78.998886], [35.33783, -81.8988], [32.92073, -96.99421], [35.50111, -80.861], [35.43733, -80.8648], [35.79339, -78.68359], [35.80725, -78.62502], [35.414116, -80.61623], [35.38496, -80.68905], [35.43899, -80.60627], [36.04092, -79.96201], [35.50684, -78.34786], [28.84774, -96.9756], [32.72028, -97.11377], [32.23476, -95.22884], [27.60992, -99.47464], [27.50571, -99.50747], [33.56299, -101.90549], [33.54915, -101.84729], [33.54913, -101.91731], [32.01718, -102.14309], [30.06791, -94.12816], [30.76403, -94.41663], [29.51072, -98.38894], [32.00695, -97.38514], [33.67028, -96.90553], [32.46895, -94.05496], [33.41862, -94.10039], [39.14381, -76.89807], [39.33646, -76.48386], [39.33885, -76.50561], [39.05504, -76.52447], [39.43276, -76.32451], [39.37792, -76.45933], [39.37203, -76.54419], [39.33503, -76.48601], [39.111313, -76.49958], [38.64902, -76.88554], [42.07219, -83.97116], [42.531, -83.14544], [41.90278, -86.01198], [38.6409, -90.2622], [33.729503, -84.563927], [33.132528, -95.632457], [28.079973, -82.738524], [32.81971, -97.1265], [29.3476, -99.1289], [34.81009, -102.40936], [29.17303, -95.41639], [33.0893, -98.58713], [32.53404, -94.9303], [27.91335, -98.57178], [45.65045, -95.39188], [44.73919, -92.89326], [45.17784, -93.8668], [45.00401, -93.1675], [43.66664, -92.9887], [44.88338, -93.30078], [45.18402, -93.10854], [46.84903, -96.76689], [44.06543, -93.2186], [44.08926, -93.2192], [44.85437, -93.42467], [44.74457, -93.28424], [45.860405, -95.31814], [45.86153, -95.42352], [46.80503, -92.06902], [37.32149, -121.97209], [38.74528, -121.26551], [38.12976, -121.28561], [38.73039, -121.27321], [38.78152, -121.28686], [34.6023, -118.1853], [38.59084, -121.41586], [38.57244, -121.33684], [38.59804, -121.48415], [38.60193, -121.42755], [38.57863, -121.47935], [33.75973, -117.86674], [38.47369, -122.89279], [38.462074, -122.71465], [38.49664, -122.74831], [38.43742, -122.72004], [37.60892, -120.97382], [37.65864, -120.99431], [33.98423, -117.37684], [44.8898, -97.1171], [28.1853, -82.4402], [38.447517, -81.91653], [38.38453, -81.8293], [37.7812, -79.9868], [39.4124, -81.4341], [39.41168, -81.43433], [37.3799, -81.1071], [37.252615, -81.269187], [43.1208, -123.4189], [43.9694, -122.9399], [27.9832, -81.9571], [45.51236, -122.61983], [45.52049, -122.6813], [26.3513, -80.1106], [42.43921, -123.32205], [42.20691, -121.72169], [44.0552, -121.30282], [44.06617, -121.30322], [35.64072, -97.72712], [33.76189, -97.1326], [35.415707, -97.40371], [35.4625, -97.63589], [36.06118, -95.9008], [34.19329, -97.14331], [34.18427, -97.1437], [35.46242, -97.38801], [34.92005, -95.74278], [41.97552, -76.54278], [41.31084, -75.79811], [40.1598, -74.91206], [40.94546, -78.96771], [40.554417, -75.602295], [41.10054, -78.8939], [40.384464, -77.88297], [39.92631, -75.30627], [38.795844, -83.53788], [32.27207, -90.26992], [33.43506, -91.03994], [31.55152, -91.37123], [32.3447, -90.06483], [34.14711, -89.63394], [30.41557, -88.80374], [30.42, -89.13594], [30.42182, -89.09173], [38.22314, -91.15639], [36.83563, -94.61503], [34.74981, -89.45215], [34.14475, -89.63511], [37.14471, -92.26297], [40.26509, -94.00983], [38.0719, -91.406], [38.62979, -92.5789], [39.7524, -94.21534], [37.12251, -92.09782], [37.55974, -90.31472], [37.07066, -94.47794], [38.64458, -90.56584], [38.12118, -92.67891], [40.42737, -80.05224], [39.91439, -79.68514], [40.455063, -76.12473], [40.86272, -76.56923], [40.55625, -76.79195], [40.09014, -76.34697], [40.37996, -79.80801], [40.48638, -78.38756], [40.11583, -75.28312], [40.61625, -79.16331], [39.931316, -77.65793], [40.10594, -74.93843], [40.13597, -74.94258], [40.68738, -75.20961], [21.97821, -159.3671], [40.68664, -73.94793], [42.26198, -85.53329], [42.27127, -85.63428], [42.29613, -85.64403], [42.95107, -83.69177], [42.74947, -84.55474], [43.41719, -84.01467], [42.35745, -83.07023], [43.55882, -85.77171], [43.25029, -83.77123], [42.31198, -86.10878], [43.88915, -85.52295], [42.84181, -85.4592], [43.39574, -85.47657], [43.56513, -86.0394], [43.27248, -82.53117], [43.69929, -85.472], [43.6915, -85.48391], [41.94196, -84.8964], [43.21308, -85.75181], [43.01724, -83.5182], [42.68264, -84.64624], [45.81761, -88.06548], [42.24378, -83.59088], [42.072056, -83.97161], [42.64197, -83.29573], [42.67697, -83.28125], [42.92272, -83.63532], [42.56271, -83.18413], [42.56385, -83.16749], [42.66066, -83.43126], [42.50738, -83.761], [42.29613, -85.65089], [38.744891, -104.738974], [37.668905, -122.469987], [34.77146, -86.58745], [33.43448, -86.10098], [33.1983, -87.5423], [33.3341, -86.7839], [33.36995, -86.79923], [31.23914, -85.4626], [34.582682, -87.021866], [32.4101, -85.7091], [34.84808, -92.40624], [32.364367, -86.267415], [32.6304, -85.4013], [27.20826, -81.83525], [27.4333, -80.32602], [24.57179, -81.75687], [27.31172, -80.40491], [26.01074, -80.18039], [26.00973, -80.21762], [27.01088, -82.15062], [26.936, -82.32951], [29.65235, -82.33378], [29.62526, -82.37865], [28.21747, -82.6952], [26.5381, -80.09017], [26.3501, -80.08729], [26.38672, -80.07994], [26.36629, -80.12658], [29.25049, -81.04391], [29.22997, -81.01002], [29.91443, -81.32359], [26.20204, -80.15152], [26.11937, -80.10495], [26.15103, -80.11983], [27.75228, -82.65508], [27.78556, -82.72859], [26.63378, -82.06707], [26.61077, -81.94094], [26.60306, -81.97486], [26.60306, -81.97486], [27.95488, -82.78728], [27.93672, -82.78794], [27.93888, -81.98568], [28.09498, -81.97347], [28.01148, -81.91227], [27.49618, -82.61183], [27.44419, -82.46681], [27.43692, -82.45018], [29.08452, -82.2515], [29.1666, -82.17086], [29.18727, -82.10592], [26.70577, -80.08019], [36.3819, -94.2217], [39.1075, -93.2111], [36.7569, -90.4072], [37.2621, -82.1027], [42.9304, -88.8374], [41.0066, -80.3776], [44.0202, -88.5426], [38.8241, -81.7281], [38.954, -81.7656], [39.6783, -80.8581], [39.6984, -78.1751], [39.6242, -79.9458], [38.2691, -80.8423], [37.7999, -81.1758], [37.8052, -81.1828], [38.7506, -112.1017], [37.2464, -79.9606], [37.2905, -79.9096], [37.0642, -81.7464], [37.0879, -80.6889], [36.6551, -79.8775], [32.7359, -101.953], [29.9092, -96.8704], [27.5154, -97.8569], [31.8052, -95.1519], [33.9076, -102.3277], [25.9484, -97.5041], [26.1804, -97.7169], [34.1625, -82.383], [35.4988, -86.4574], [44.873, -98.525], [44.6624, -103.8555], [44.0074, -97.1164], [44.8898, -97.0715], [43.4221, -103.4626], [35.513, -84.9991], [36.5924, -87.2885], [36.5946, -87.2913], [35.1902, -84.8811], [36.1379, -85.5087], [35.6363, -87.0159], [36.2004, -83.3402], [36.3078, -82.3642], [34.2904, -81.6021], [33.7561, -79.4472], [32.8801, -80.712], [34.7341, -80.089], [33.6708, -79.8359], [34.1927, -79.8077], [34.3596, -80.0618], [39.1111, -82.535], [40.8278, -83.2801], [39.1976, -84.3804], [40.6482, -83.6077], [40.5336, -81.9173], [39.0405, -82.628], [33.8959, -94.8117], [44.4174, -118.9574], [26.4577, -80.119], [27.9962, -82.5833], [28.0688, -82.4631], [28.1447, -82.282], [28.05394, -82.442279], [28.043793, -81.955154], [28.0063, -81.7304], [39.767426, -86.160116], [41.5374, -87.4474], [39.5068, -87.3948], [25.74999, -80.25733], [25.73225, -80.35464], [28.03288, -82.41234], [30.19038, -81.74446], [28.60656, -81.20921], [26.12589, -81.76638], [26.5339, -81.8996], [33.20974, -82.38765], [31.53056, -83.82965], [31.53051, -83.82653], [33.40812, -84.67159], [31.15926, -81.39088], [34.285255, -83.118835], [32.21559, -82.4087], [34.82299, -85.2413], [32.60958, -83.58775], [34.5412, -83.54377], [30.31792, -84.24825], [26.71421, -80.05336], [27.56904, -81.81521], [27.53625, -81.80861], [34.01074, -83.82291], [33.77592, -84.27091], [31.73413, -83.6526], [30.97221, -83.20866], [32.29409, -84.02145], [33.56075, -83.4774], [33.80663, -84.53037], [32.40516, -82.30535], [33.05286, -84.15372], [27.69868, -80.90052], [39.40211, -76.94554], [39.31886, -76.51099], [39.18476, -77.18903], [39.35954, -76.77489], [39.0152, -76.69654], [38.97229, -76.84786], [39.47359, -77.95396], [39.37208, -76.4642], [39.36912, -76.45295], [38.76651, -76.89305], [38.94962, -76.88603], [39.08775, -76.87791], [39.005867, -76.930016], [39.52347, -76.18462], [39.12939, -76.54879], [45.65579, -84.48799], [33.79309, -84.28391], [32.43582, -81.76981], [34.15792, -84.8161], [33.44121, -82.0216], [33.80046, -84.20535], [31.12998, -84.15022], [33.53233, -84.35598], [32.11016, -81.15821], [31.82656, -81.59901], [31.45832, -83.52661], [33.09533, -84.34481], [40.33764, -104.98624], [39.66231, -105.35297], [38.9938, -105.05988], [39.6435, -106.60181], [38.71462, -104.70135], [38.44316, -105.23171], [37.2279, -107.86361], [39.8021, -105.10452], [39.91451, -105.07213], [39.59498, -104.92713], [39.6243, -105.09267], [39.91367, -104.98615], [32.071536, -84.21582], [37.353556, -77.413289], [39.3764, -104.86149], [39.7585, -105.1428], [39.55436, -107.34305], [39.95415, -104.77838], [39.98678, -104.8029], [39.98667, -104.79237], [39.88457, -104.97089], [31.33243, -92.42941], [30.51877, -92.07239], [30.02017, -90.24775], [30.02133, -90.25462], [30.43127, -91.11294], [32.50468, -92.12944], [32.51586, -92.1912], [30.28486, -89.75298], [32.44186, -93.78128], [30.50101, -90.4884], [31.292, -92.47653], [31.27752, -92.46077], [31.29083, -92.47745], [32.49015, -92.08414], [29.59426, -90.74095], [37.5363, -84.65332], [38.37946, -84.5723], [38.05186, -85.5384], [37.74584, -84.84203], [39.03527, -84.53623], [38.40552, -82.6012], [37.01105, -88.41976], [37.45768, -85.8809], [39.8256, -86.1215], [37.65282, -82.27142], [40.0482, -82.8647], [39.3777, -84.5501], [39.2417, -84.7747], [39.135, -84.4993], [37.34662, -85.35075], [38.06922, -84.4739], [40.76658, -86.7756], [40.74555, -86.78087], [39.79567, -85.52775], [40.0014, -85.73392], [40.19279, -85.21135], [40.07065, -85.85561], [38.30714, -86.955], [38.7228, -85.46795], [33.7811, -85.8975], [31.1895, -85.3995], [26.7821, -80.0857], [26.8818, -80.059], [26.7083, -80.1301], [26.5707, -80.0896], [26.5883, -80.1137], [26.7088, -80.2033], [30.3876, -81.7331], [40.2623, -103.8012], [64.84982, -147.69865], [37.80728, -122.41722], [47.6594, -117.4205], [34.09203, -117.29442], [38.02158, -121.35793], [37.96599, -121.25482], [38.66317, -121.74091], [38.67674, -121.74786], [39.12132, -121.61467], [19.653053, -155.97981], [21.28544, -157.83841], [21.34892, -157.93266], [21.398203, -158.01242], [21.3011, -157.84288], [21.2719, -157.82187], [21.67746, -157.951], [20.88765, -156.46486], [21.317905, -157.85207], [19.70705, -155.07555], [21.29461, -157.8243], [21.42282, -157.81154], [19.91651, -155.88222], [19.63956, -155.9907], [21.39113, -158.03459], [28.76207, -81.28402], [27.4915, -81.4852], [26.78348, -80.05339], [26.19319, -80.25811], [28.15587, -81.80215], [26.5371, -80.09012], [26.62045, -80.0575], [26.52705, -80.18622], [29.0294, -82.66812], [30.41447, -81.7491], [28.82581, -81.68589], [39.771407, -86.058197], [39.8267, -86.1454], [39.7229, -86.1399], [39.1411, -84.618], [39.1281, -84.515], [41.987649, -88.678769], [33.9601, -86.0371], [30.6492, -88.1585], [30.7365, -88.1041], [47.64233, -117.424416], [39.49915, -77.56794], [38.0328, -81.1201], [38.0568, -81.1049], [39.2838, -80.2542], [40.6225, -111.8676], [37.2323, -80.0081], [37.3712, -77.5002], [37.6365, -77.4599], [37.6021, -77.4515], [37.5195, -77.3526], [42.9381, -88.8556], [47.238, -122.3663], [47.3216, -122.2221], [43.1107, -89.6429], [27.5448, -99.5049], [31.8889, -102.3521], [32.0985, -98.3369], [33.5777, -101.8639], [33.4317, -101.6636], [32.1588, -94.7837], [26.2501, -98.2549], [32.8595, -97.2385], [29.4618, -98.6217], [36.1858, -82.9345], [35.9335, -83.9981], [36.0794, -86.6453], [36.5585, -82.2117], [32.921, -80.669], [34.1403, -80.9144], [34.0871, -81.1816], [33.7158, -78.8909], [44.0443, -123.0632], [44.2808, -121.1735], [35.6042, -97.5667], [40.3925, -80.5484], [41.6829, -83.6232], [41.1127, -83.2009], [35.1096, -106.7304], [34.6122, -86.5662], [33.8115, -85.7617], [37.2429, -81.2626], [40.387, -111.9168], [35.9029, -84.0209], [35.9742, -86.4919], [34.7475, -82.2613], [35.444, -80.998], [42.4504, -83.2001], [36.5941, -87.2885], [37.7947, -97.3353], [36.3551, -92.3412], [37.7863, -81.1717], [36.1488, -86.805], [34.89943, -92.14857], [33.88344, -91.48334], [34.7788, -91.58005], [35.21635, -94.26941], [36.30862, -94.18767], [34.58495, -112.33614], [34.60939, -112.32121], [34.86356, -111.80168], [33.32004, -111.96715], [33.4569, -112.30638], [32.87919, -111.74846], [33.30779, -111.7549], [33.28917, -111.83869], [33.352825, -111.789024], [32.20764, -110.82443], [34.06919, -106.89295], [32.83974, -104.39745], [32.84044, -104.39753], [32.94424, -103.36208], [32.93704, -105.96382], [34.8862, -82.15203], [33.85952, -79.08743], [33.71739, -78.85469], [45.32084, -118.0826], [45.32334, -118.0866], [42.37833, -122.89607], [44.05969, -121.29209], [36.79692, -98.65626], [36.88533, -94.89342], [36.89002, -94.87767], [36.05963, -95.77911], [34.18504, -97.14378], [35.34469, -96.91244], [41.12582, -75.35998], [39.774662, -76.95984], [40.96819, -75.97672], [40.62578, -75.37049], [33.75627, -88.10354], [30.47079, -87.70045], [34.43963, -88.13933], [34.49295, -85.84812], [34.49564, -85.85016], [31.31874, -86.46069], [31.57548, -85.279045], [34.68802, -86.49885], [31.50485, -87.31843], [33.56197, -86.5222], [32.85423, -85.19112], [34.534393, -86.589874], [31.04951, -85.89932], [32.30562, -85.01124], [34.01969, -86.09097], [33.43699, -86.08764], [32.499485, -86.36413], [30.80155, -88.10155], [30.79694, -88.07202], [30.82275, -88.07013], [34.6315, -86.04739], [32.83349, -86.62822], [33.18934, -87.52625], [33.23869, -87.57492], [33.24097, -87.58116], [33.23717, -87.57722], [33.191666, -86.299446], [33.33539, -86.783], [32.43206, -87.02508], [33.40935, -86.66614], [33.50323, -86.7559], [34.27674, -86.20696], [34.78466, -86.94547], [34.43664, -85.74565], [34.36236, -86.42401], [30.59944, -87.89833], [33.28574, -86.81438], [33.23052, -86.80312], [33.22693, -86.80386], [33.47236, -86.76816], [33.45102, -86.98081], [31.32711, -85.83676], [34.68223, -86.73817], [33.81209, -87.28174], [33.94096, -87.22046], [32.45415, -85.00694], [32.49573, -85.01918], [32.61918, -85.4091], [32.65261, -85.37731], [32.4343, -86.42163], [32.46095, -86.41958], [33.37164, -86.8126], [33.6116, -85.8235], [33.75958, -85.7782], [34.20286, -86.82528], [30.39246, -87.68344], [34.83566, -87.638405], [38.49163, -107.89069], [38.47454, -107.87264], [38.84792, -104.75725], [40.39558, -104.7495], [40.42299, -104.73655], [40.42302, -104.7576], [38.33286, -104.74508], [39.67591, -104.81047], [39.82336, -75.78115], [39.69897, -75.70891], [39.89326, -75.55667], [39.45102, -75.72595], [39.93896, -75.34998], [39.95973, -75.25847], [38.34586, -75.08006], [39.66204, -75.69146], [39.8952, -75.228935], [38.41721, -75.56556], [39.15326, -75.52602], [39.67138, -75.59781], [40.9197, -111.88963], [36.04667, -86.6649], [35.76953, -86.91711], [39.47672, -118.80273], [42.06503, -104.96363], [44.35482, -106.69373], [41.79234, -107.21502], [43.88403, -91.22399], [43.17802, -89.23879], [42.59028, -88.42902], [44.37585, -89.81778], [42.988, -88.23391], [43.77052, -88.44693], [44.9263, -91.38197], [44.91381, -91.38958], [44.88398, -91.42181], [43.83939, -101.52351], [43.93443, -103.57276], [45.37931, -97.48921], [44.4763, -103.81921], [32.95869, -105.74493], [37.5887, -77.5016], [47.0967, -122.3583], [33.1944, -80.6096], [33.42867, -86.7071], [34.00998, -85.98857], [33.98566, -85.86725], [33.9976, -86.00462], [34.00946, -85.98738], [30.67385, -88.22559], [34.55881, -86.96915], [34.78524, -86.95193], [34.620506, -86.55096], [33.11826, -87.55287], [33.21128, -87.56238], [33.19741, -87.53194], [33.21137, -87.55269], [57.80987, -152.36508], [61.58225, -149.46837], [61.18834, -149.9085], [48.510044, -122.33788], [38.35932, -81.99949], [32.51575, -94.7393], [39.71854, -104.98861], [39.63829, -104.89493], [38.601585, -75.64137], [39.96333, -75.59648], [34.47936, -91.55856], [36.866899, -88.360938], [41.547937, -86.896425], [32.38264, -86.19878], [39.02213, -94.64837], [39.02189, -94.66532], [37.64563, -98.71898], [39.87793, -88.95489], [37.64624, -98.72611], [39.93566, -91.35435], [42.34987, -87.87053], [37.27461, -97.37567], [43.14539, -93.36408], [42.01205, -95.35606], [38.83316, -97.62553], [38.41277, -96.16484], [38.42382, -96.21791], [40.63031, -91.31316], [37.97999, -100.84197], [38.0733, -97.92159], [30.29302, -91.91097], [30.4874, -90.87189], [34.37712, -80.0755], [34.69183, -82.8369], [42.09661, -102.89286], [41.12514, -101.71367], [30.87783, -87.78394], [31.55286, -110.30149], [38.62736, -83.79141], [61.57771, -149.44148], [61.195732, -149.77824], [47.10528, -104.7364], [33.16743, -86.25798], [35.32279, -114.03095], [34.62759, -89.96422], [37.73514, -121.42545], [38.48608, -82.66139], [37.07609, -88.68675], [34.94793, -90.01757], [34.25085, -89.01846], [39.49036, -86.06487], [37.81347, -122.24657], [37.32372, -120.48748], [39.85696, -86.39325], [39.71297, -86.37078], [39.07969, -84.88645], [40.75801, -86.32747], [41.49287, -87.47035], [39.516453, -85.743866], [39.89657, -86.21709], [34.93461, -89.99857], [39.82308, -84.94343], [38.6925, -87.49966], [41.46803, -87.03553], [40.56803, -85.67534], [31.705444, -89.13116], [41.58863, -85.84683], [41.59206, -87.33745], [33.25046, -86.81478], [37.04372, -93.30128], [38.5364, -91.00463], [40.4359, -86.12865], [38.77809, -90.57999], [41.70939, -85.97247], [21.34892, -157.93266], [41.68811, -85.97341], [39.00896, -94.46666], [38.48319, -90.44594], [19.702522, -155.09392], [37.78922, -90.42739], [21.44788, -158.18886], [21.49463, -158.02916], [21.49725, -158.02977], [20.71913, -156.44618], [42.61459, -113.673], [45.63317, -89.4025], [45.63625, -89.38045], [21.96089, -159.35275], [33.45189, -111.83924], [19.933056, -155.68417], [19.64717, -155.99937], [21.398203, -158.01242], [42.71334, -114.51805], [44.89519, -116.09553], [43.61893, -116.35805], [26.54315, -80.0904], [43.51447, -96.76066], [32.20644, -110.93316], [40.95584, -90.38378], [41.85118, -87.74315], [34.54829, -112.40436], [41.50591, -87.67017], [44.41757, -103.53874], [40.66913, -89.58293], [26.17935, -80.12], [38.92194, -90.17765], [36.0623, -79.1029], [40.2011, -92.5833], [31.7279, -93.1597], [29.6998, -91.2057], [32.4911, -92.0842], [30.2527, -93.181], [32.4891, -93.7044], [32.5294, -93.6996], [37.5502, -85.7343], [38.4179, -82.2611], [39.9957, -85.8439], [37.6786, -97.1997], [41.6501, -91.5395], [28.9281, -82.0116], [25.6987, -80.4377], [28.2622, -81.6186], [33.615, -85.8273], [31.3154, -85.7116], [64.8369, -147.7568], [38.9927, -80.2303], [39.4426, -79.5373], [39.2881, -80.2448], [38.9319, -79.8676], [38.0815, -81.8348], [45.6338, -89.3824], [48.5093, -122.3387], [47.7028, -117.409], [47.6703, -117.3963], [36.6877, -78.8973], [37.0125, -76.4036], [36.7244, -76.6351], [38.0128, -78.5035], [41.7113, -112.2011], [40.6968, -112.0828], [37.3214, -79.9548], [37.0723, -79.8979], [37.3015, -79.8928], [41.7354, -111.8345], [40.1609, -111.6419], [37.0388, -80.7781], [37.0834, -80.6908], [37.6316, -77.508], [37.3809, -79.1341], [30.1631, -95.4549], [42.6068, -88.4242], [42.6097, -89.3763], [44.4857, -87.9699], [46.653, -120.5303], [47.5435, -122.0157], [47.4666, -120.3351], [46.121, -122.9327], [34.812, -102.4046], [31.4847, -100.4632], [31.4635, -100.4434], [31.8451, -102.3735], [31.8601, -102.3485], [25.906, -97.4833], [26.1796, -97.6811], [41.4913, -112.0156], [37.4014, -77.4228], [46.935, -122.5906], [47.8395, -122.2983], [32.5271, -94.78], [32.3511, -95.3457], [33.8871, -98.4677], [34.0914, -98.5689], [26.1949, -98.2876], [31.0913, -97.734], [31.5504, -97.1248], [32.8471, -97.1793], [32.7091, -97.1481], [30.1219, -94.1644], [30.0397, -94.1149], [30.5191, -97.6519], [30.3407, -95.0705], [29.3987, -98.393], [29.3861, -98.5246], [29.4839, -98.546], [35.1367, -86.5645], [35.4472, -86.7758], [36.7564, -81.8559], [34.3098, -81.5762], [34.8264, -82.5693], [34.8591, -82.2672], [33.9787, -81.1992], [33.9695, -80.9477], [34.9664, -81.8952], [34.9656, -81.8957], [33.8165, -78.6939], [33.7588, -78.9672], [33.6515, -78.9824], [33.6797, -78.898], [32.8041, -79.891], [32.9345, -80.051], [32.9159, -80.1116], [32.9476, -80.1555], [32.7809, -79.9663], [33.0008, -80.0906], [32.9347, -80.0503], [40.9982, -76.6496], [37.3442, -79.9555], [40.9788, -81.7805], [38.4225, -82.4298], [40.8025, -82.976], [41.2423, -81.1777], [39.2305, -81.5408], [34.3981, -103.1919], [36.1959, -115.0303], [33.9946, -79.596], [34.8241, -82.5593], [36.0514, -78.904], [36.0396, -79.849], [32.3798, -88.6816], [39.7196, -91.3924], [45.9224, -88.2514], [42.2302, -83.6478], [32.5105, -92.1584], [40.023, -86.9029], [38.9552, -85.8965], [37.9754, -100.8515], [37.4379, -94.7044], [40.8328, -84.9383], [38.6265, -88.9605], [32.8238, -83.7014], [31.961, -83.7529], [30.2218, -85.8873], [41.852, -90.1864], [42.5007, -94.1657], [43.1274, -95.1548], [32.202, -82.362], [27.245, -80.2712], [26.2736, -81.7465], [30.3135, -81.6815], [38.9574, -104.768], [38.8126, -104.8219], [40.4151, -120.6488], [34.8279, -87.6271], [33.5051, -86.8567], [32.4159, -86.2861], [30.72, -88.1601], [30.3681, -87.6834], [41.1332, -104.8188], [41.1162, -104.8022], [45.7191, -122.6611], [47.0084, -120.5862], [38.994, -80.232], [39.6263, -79.9554], [39.6187, -79.9232], [39.6538, -77.7579], [39.5084, -80.2957], [39.4727, -80.1745], [39.289, -80.2435], [38.4149, -81.7953], [37.7909, -81.2142], [37.7294, -81.1121], [45.637, -89.4108], [48.7343, -122.4706], [47.7493, -122.6551], [47.5333, -122.621], [47.2072, -123.1016], [47.7087, -117.4347], [47.6547, -117.4257], [46.7389, -117.1735], [37.7758, -79.4336], [38.778, -77.1849], [38.7832, -77.1881], [36.6963, -78.9011], [36.7375, -78.9195], [39.3472, -78.7544], [39.2164, -78.1421], [31.7864, -85.9647], [39.281, -80.2728], [37.131, -76.5329], [38.4305, -78.8837], [37.233, -80.0073], [37.2897, -80.0772], [37.3969, -79.9094], [37.265, -80.0217], [37.1606, -80.4255], [37.5067, -77.6085], [37.1798, -77.3645], [38.1275, -78.4423], [37.3512, -79.2289], [37.3698, -79.1971], [29.2108, -99.7806], [29.219, -99.7662], [43.748, -87.9531], [47.0425, -122.8926], [44.4511, -88.0868], [44.8934, -87.8848], [47.2221, -122.5392], [47.1611, -122.3034], [47.1673, -122.1489], [47.2552, -122.4455], [46.5707, -120.4882], [46.255, -119.9047], [46.5986, -120.5144], [47.2892, -122.3164], [47.6276, -122.1546], [46.1404, -122.9355], [46.2569, -119.3064], [46.2299, -119.2257], [44.9635, -92.9817], [43.134, -89.3718], [43.0581, -88.1278], [33.1415, -94.9688], [27.5074, -97.8563], [30.0692, -99.1135], [30.7383, -95.5937], [31.8814, -102.3852], [32.0084, -97.0924], [31.3408, -94.7182], [33.1156, -95.594], [33.5222, -101.8709], [29.3813, -100.9046], [32.0729, -96.4451], [30.6522, -96.3352], [32.5036, -94.7097], [32.3653, -95.3224], [33.857, -98.5216], [33.5911, -102.368], [35.1627, -101.8885], [32.4513, -99.7809], [32.475, -99.7307], [27.762, -98.2297], [27.7542, -98.0591], [28.0891, -97.8225], [27.7205, -97.3988], [31.4951, -97.2192], [31.5485, -97.1251], [31.4755, -96.934], [32.7059, -97.3575], [32.928, -97.0855], [30.4944, -97.7257], [32.7202, -96.8262], [29.7024, -95.6434], [31.7433, -98.9443], [29.5289, -98.564], [35.7025, -85.7803], [35.6286, -87.0282], [36.8789, -87.7364], [36.5597, -87.3169], [36.4148, -89.0552], [34.6801, -86.7385], [36.0072, -84.2563], [32.5132, -94.7498], [32.4093, -99.781], [33.6835, -96.6085], [36.3498, -82.2387], [47.0561, -122.7658], [36.3954, -83.0115], [36.5643, -82.5648], [34.1777, -82.1511], [34.2146, -82.1546], [34.909, -82.1015], [39.959, -76.6949], [40.9996, -80.3489], [39.93, -77.6409], [34.1883, -79.8258], [40.9916, -76.879], [44.5919, -123.2757], [39.1199, -82.9931], [39.8969, -83.8116], [38.4085, -82.4809], [38.4123, -82.3432], [39.9852, -82.7869], [39.1874, -81.5277], [39.0721, -84.3194], [40.6918, -73.5085], [48.555, -109.6898], [38.9941, -119.1636], [35.7234, -81.6586], [35.5325, -82.8627], [38.1481, -92.6205], [39.7067, -91.3892], [37.6711, -92.6522], [40.3345, -94.8742], [48.1186, -96.1915], [39.1781, -89.6756], [43.1767, -85.2761], [42.2924, -85.6822], [42.2231, -85.5895], [42.4863, -83.0058], [42.2333, -83.7401], [38.4163, -75.5666], [39.0827, -76.9464], [30.2323, -92.3631], [31.0557, -93.2419], [31.0558, -93.2449], [32.8029, -91.9026], [30.8657, -93.2857], [29.5517, -90.3488], [30.8438, -90.1593], [32.5185, -92.1487], [30.4946, -92.4351], [30.5138, -91.0292], [30.2349, -90.9115], [30.2103, -90.942], [39.8044, -84.2211], [40.0823, -84.6336], [39.0143, -85.6387], [40.2787, -86.4952], [41.71, -85.9716], [37.8255, -82.8229], [36.8449, -84.8391], [36.6087, -83.7007], [36.613, -83.7039], [37.838, -85.9373], [36.8708, -87.4994], [37.7556, -87.067], [37.7265, -87.1226], [36.9624, -86.4646], [36.9816, -86.486], [37.0581, -100.923], [38.9014, -99.3185], [38.3701, -97.6269], [39.1899, -96.6134], [38.6891, -87.5067], [41.0715, -85.1954], [39.165, -86.5806], [38.8606, -86.5179], [39.6598, -86.1423], [41.3661, -85.0798], [41.2386, -86.2602], [41.2372, -85.8174], [41.4159, -85.7467], [38.0067, -84.5189], [39.9357, -91.3746], [43.1378, -115.6639], [42.5685, -114.4599], [41.3666, -89.1524], [40.1685, -87.6311], [40.8145, -91.1423], [37.7488, -89.0962], [41.4497, -90.5678], [40.1369, -88.2426], [34.2873, -83.8374], [32.6068, -85.4873], [31.5163, -82.8512], [32.5413, -82.9472], [31.5811, -84.0855], [33.7441, -84.6637], [27.5381, -81.8092], [28.0584, -81.7858], [39.9298, -82.79], [39.923849, -82.88054], [41.4304, -81.7279], [40.23188, -83.3426], [38.238117, -122.635976], [36.032127, -115.009466], [41.13483, -81.63933], [40.8291, -80.5396], [43.06014, -83.76465], [37.79266, -85.91312], [34.23496, -79.8062], [47.534267, -122.609604], [41.55877, -85.79255], [41.588192, -87.459403], [41.67616, -86.00259], [40.07467, -86.9068], [35.853419, -79.579346], [41.1587, -87.8864], [31.9637, -83.7656], [30.1823, -85.6512], [35.31809, -80.73765], [38.537, -82.67787], [38.82736, -97.59451], [38.82767, -97.63332], [37.56671, -97.2443], [37.39865, -94.7044], [39.00142, -94.55647], [46.74186, -117.17146], [47.61496, -117.43039], [47.65466, -117.42565], [38.72634, -77.80302], [37.23379, -80.43412], [36.62448, -82.16003], [39.05914, -95.63961], [41.4524, -91.0295], [32.5886, -82.3272], [42.0226, -93.6172], [42.0284, -91.6288], [31.4659, -83.5026], [33.1129, -83.2594], [30.7561, -81.5767], [32.2818, -83.466], [30.7238, -85.1849], [27.3152, -80.4023], [26.1214, -80.1893], [38.57414, -94.8618], [39.12798, -94.8205], [39.55951, -95.12691], [39.36088, -94.77077], [38.91246, -94.66357], [37.709, -97.28933], [37.9996, -97.33353], [37.66292, -97.2268], [42.43915, -123.32094], [30.649596, -97.681238], [41.7642, -124.197], [39.3946, -123.3495], [38.6469, -121.1179], [34.273968, -118.411256], [38.543435, -121.738545], [38.680517, -121.321749], [32.64628, -117.00201], [39.962036, -86.120252], [36.03566, -86.79024], [36.021237, -86.581108], [36.10624, -86.81707], [37.541821, -122.301985], [30.488817, -87.196676], [27.2594, -82.5195], [26.8844, -80.107], [26.6912, -80.074], [27.8941, -82.2707], [28.8184, -81.8876], [28.5376, -81.2088], [28.0084, -81.6812], [40.5144, -107.5561], [39.0901, -108.6043], [39.0925, -108.6029], [39.642, -106.5902], [36.974, -120.0743], [32.88908, -105.95968], [39.995192, -86.128863], [37.63841, -97.29941], [47.65873, -117.41523], [42.73865, -73.67387], [43.12043, -77.61987], [39.94657, -82.91452], [41.15413, -81.34944], [41.15089, -81.508], [39.3152, -82.10475], [41.26272, -80.78385], [41.25176, -80.8553], [40.10448, -83.1605], [39.71417, -82.60387], [41.10253, -81.51114], [41.41402, -82.68693], [27.2393, -80.8295], [34.25386, -89.01857], [40.37864, -105.51603], [38.438133, -122.71971], [25.6781, -80.4173], [26.66236, -80.71498], [26.6735, -80.67], [28.37319, -80.700028], [28.5585981, -81.82117429], [26.6437, -81.9917], [33.719355, -85.817895], [32.647776, -96.857875], [30.48066, -97.83358], [47.680682, -117.439521], [27.85699, -97.63067], [35.0791, -81.703], [37.31131, -78.386765], [38.413982, -82.14578], [39.02051, -80.41875], [37.748628, -81.134415], [37.77674, -81.19436], [37.80303, -81.16685], [37.123146, -76.462715], [37.020786, -76.442218], [40.987926, -80.61215], [45.520612, -123.089019], [27.2699, -82.4551], [38.4884, -107.8616], [46.84827, -100.90973], [40.27916, -96.74649], [37.93597, -91.77825], [37.95446, -91.77743], [36.75713, -90.4084], [36.78542, -90.42937], [36.87512, -89.57877], [36.45097, -77.64732], [36.50038, -80.61899], [35.48942, -81.24547], [35.66197, -80.48427], [35.651497, -80.488945], [34.7607, -77.4178], [39.35192, -84.32127], [40.07675, -87.63377], [32.81928, -86.60985], [32.81686, -86.6063], [33.81897, -85.76091], [30.82281, -88.07335], [32.43183, -87.0203], [34.75166, -86.75023], [33.22693, -86.80386], [33.26094, -86.81217], [30.51797, -87.88557], [33.60772, -85.78711], [33.84884, -87.2813], [32.45388, -85.00613], [30.24935, -87.68607], [30.26133, -87.68903], [64.67352, -147.0805], [46.81831, -95.84365], [46.815853, -95.84237], [44.17294, -93.95463], [45.56756, -94.14539], [35.50876, -78.34095], [36.134049, -79.79087], [35.06869, -106.503616], [36.943041, -76.309698], [40.690328, -73.723623], [35.515199, -98.969529], [39.66856, -75.66584], [36.72948, -88.63103], [33.399574, -86.95105], [26.6673, -80.20303], [32.66235, -96.890538], [37.362282, -81.104446], [44.261424, -88.446788], [42.61914, -83.99166], [27.96353, -82.47393], [21.58797, -158.10289], [21.32894, -158.08698], [32.13589, -81.25298], [33.82403, -84.111], [34.19851, -84.50934], [36.297629, -87.048763], [45.4817, -122.41564], [35.2171, -81.1686], [35.29837, -81.15898], [35.661, -78.8366], [35.45523, -82.52142], [35.34737, -82.43311], [36.29567, -76.23081], [35.5492, -82.8498], [35.47182, -82.88869], [35.59086365, -82.574698], [35.595963, -80.87583], [35.482521, -80.878526], [36.069592, -80.334167], [45.51935, -123.00518], [45.522837, -122.985824], [35.7153, -78.84517], [35.32694, -83.80487], [35.58292, -82.52551], [35.9164, -82.281], [35.67316, -82.58147], [36.51351, -87.31347], [41.1264, -73.7854], [28.45222, -81.40019], [41.154455, -81.862828], [32.4309, -87.0161], [36.0596, -90.5234], [43.39221, -124.23874], [36.066274, -80.254111], [35.747902, -78.829208], [42.770725, -78.811447], [41.1528, -81.8646], [48.422222, -101.33722], [38.61002, -121.367996], [42.86903, -100.55096], [37.74521, -92.11779], [38.70414, -93.25099], [37.09129, -94.47652], [35.39681, -77.96248], [31.24267, -89.80912], [32.76386, -89.14101], [45.36981, -84.9706], [32.62325, -93.25702], [31.11785, -93.27039], [40.8085, -91.14056], [37.48754, -86.26504], [37.46822, -86.29323], [37.7761, -84.32046], [37.74283, -87.11601], [39.40428, -86.43703], [39.40987, -86.42365], [39.83345, -84.8233], [35.07008, -92.45762], [36.26805, -94.13572], [30.8832, -87.78719], [32.92295, -85.96012], [33.16701, -86.2586], [31.32437, -85.8238], [41.8517, -87.69081], [41.936657, -88.079651], [46.67453, -122.978378], [46.856795, -122.858387], [39.763142, -84.636402], [39.76814, -84.6365], [41.6237, -81.44342], [41.63003, -81.48238], [39.777317, -84.058133], [41.28277, -84.327151], [39.819919, -84.198659], [41.52938, -81.52194], [39.63981, -84.26827], [41.163036, -81.477631], [40.001835, -81.57648], [39.933702, -82.963597], [41.7262, -81.25], [41.522182, -81.34068], [41.119642, -80.767626], [39.893864, -82.88114], [36.03616, -114.977158], [41.607167, -80.563211], [41.923502, -80.569174], [41.2628, -80.74087], [42.721499, -84.423362], [39.1483, -80.03623], [36.07431, -79.49048], [36.0731, -79.4925], [36.0959, -79.4069], [30.29302, -91.91097], [38.91108, -120.00351], [36.12022, -79.46455], [37.145145, -94.310005], [34.7757, -82.3181], [34.12407, -81.21588], [38.33286, -104.74508], [33.93101, -118.11394], [40.238182, -83.380638], [33.896222, -118.225092], [33.469828, -117.675737], [39.7448, -121.8407], [30.78684, -86.55981], [34.194981, -118.606286], [38.677972, -121.292781], [38.617938, -121.328536], [27.9091, -81.8434], [36.03255, -86.78485], [37.965688, -121.782904], [34.0404, -118.19067], [36.0759, -90.9542], [33.2671, -93.222], [36.3389, -92.3856], [31.3083, -86.4989], [34.0394, -86.0204], [34.0226, -86.0423], [33.9237, -86.0232], [34.6788, -86.7525], [34.3419, -86.5005], [31.2182, -85.36], [33.3339, -86.9167], [33.8104, -86.8222], [33.61, -86.802], [33.6954, -86.6824], [32.3276, -86.2698], [30.671, -88.2782], [34.162, -86.8366], [46.6808, -123.7389], [38.2764, -80.8509], [48.4173, -119.5102], [38.994, -79.1138], [37.1596, -76.461], [38.6616, -78.4903], [36.9915, -78.2247], [36.7099, -78.1063], [36.9799, -82.5842], [38.0358, -78.438], [38.7056, -77.1434], [37.0433, -112.5251], [37.3635, -81.0607], [35.2398, -102.4285], [34.4966, -85.852], [33.4358, -86.097], [31.3078, -86.4782], [31.1778, -85.4011], [46.3166, -117.9875], [45.8163, -91.9082], [43.662804, -116.687218], [38.45963, -122.7271], [29.230711, -81.010417], [26.783425, -80.101125], [28.0193, -82.75582], [28.35164315, -81.67640061], [28.548595, -81.746704], [36.59683, -87.285747], [34.78737, -84.77234], [34.3183, -86.5033], [33.72072, -85.8177], [40.084668, -74.962377], [32.662293, -96.911879], [32.6487, -96.9251], [27.75726, -97.45831], [31.89746, -98.59003], [32.541683, -97.330671], [47.6085, -117.36821], [47.62695, -122.62844], [47.283719, -122.361187], [29.55813, -95.26113], [32.47455, -99.729614], [37.29947, -93.42432], [38.66643, -121.27149], [37.654926, -104.794468], [37.769007, -122.232718], [34.031764, -117.668221], [34.851041, -114.625864], [34.69211, -82.83902], [48.5096, -122.6126], [37.58041, -77.516435], [37.64131, -77.515969], [37.453295, -77.513593], [37.51074, -77.5953], [35.27386, -81.34791], [36.819012, -76.220432], [39.40854, -77.91327], [37.8101, -81.1843], [45.50078, -122.80627], [35.38239, -81.36724], [35.26031, -81.1331], [36.24013, -75.87573], [35.705268, -80.466423], [35.742518, -79.640918], [35.610166, -82.31876], [42.796614, -78.750139], [39.2444, -76.6763], [36.705824, -81.99639], [36.90302, -82.05954], [36.69621, -82.00928], [47.25059, -122.29375], [38.79893, -77.31919], [38.8534, -77.319], [34.955806, -80.852315], [37.2355, -80.4329], [37.21601, -80.40129], [36.2709, -80.8539], [46.7178, -122.9611], [47.422, -120.3134], [28.8985, -99.0927], [28.8976, -99.094], [31.8906, -102.3492], [30.1791, -96.9162], [32.4013, -98.7908], [35.8415, -98.4128], [41.1462, -84.5806], [41.72091, -87.70754], [41.4184, -84.10391], [34.15908, -79.766843], [39.264741, -80.327336], [32.10956, -81.1573], [36.068216, -79.519728], [36.092844, -79.405853], [34.080532, -81.159874], [34.3677, -81.10037], [35.46066, -93.45974], [36.25169, -94.13624], [33.64273, -93.59357], [38.17563, -83.43531], [37.38691, -82.55002], [36.99309, -86.44231], [42.69323, -114.51795], [46.72825, -117.18313], [41.8359, -75.8651], [37.90423, -85.95262], [46.04863, -116.35211], [34.235249, -118.56189], [34.215504, -118.387207], [27.8937, -82.2699], [33.378738, -111.633871], [33.56708, -112.07334], [36.38735, -86.4517], [38.00031, -88.92064], [37.99654, -89.23577], [38.37706, -88.05833], [40.62373, -93.9263], [42.30086, -93.54898], [38.67479, -86.91264], [38.86051, -86.51795], [38.95677, -85.83644], [20.896585, -156.50362], [19.72389, -155.09058], [36.7932, -76.07999], [38.4214, -82.2573], [36.539487, -87.36545], [42.023884, -87.896075], [32.886268, -80.06794], [39.7204, -84.161], [39.878263, -83.047014], [39.91565, -82.78071], [42.457624, -83.182282], [36.3983, -78.1541], [38.3448, -91.4939], [37.6248, -90.6471], [37.4957, -94.3016], [45.7579, -93.6318], [46.0123, -92.9282], [39.3835, -87.6986], [43.2646, -82.6195], [34.70193, -82.21703], [20.896585, -156.50362], [36.376917, -86.469498], [46.0111, -92.9352], [43.4986, -83.3844], [27.48975, -81.48236], [27.9383, -82.2998], [35.08008, -84.03895], [34.376968, -84.912587], [35.21298, -114.01385], [45.424953, -122.512634], [38.731515, -89.908659], [32.7347, -79.968065], [29.88379, -95.57481], [29.65315, -81.67176], [30.15875, -85.65343], [28.66774, -82.12075], [26.67415, -80.67002], [31.19943, -83.25156], [31.94043, -81.92689], [34.60427, -83.51927], [31.47235, -83.50424], [31.03197, -82.74433], [33.10395, -83.25044], [39.14165, -121.63407], [41.52619, -120.17141], [37.31964, -120.48628], [39.28751, -103.06225], [35.9196, -94.96673], [33.675452, -117.988055], [28.650648, -81.269726], [27.9379, -82.2652], [26.36574, -80.07919], [36.298412, -86.700629], [39.3595, -76.4463], [30.5419, -91.0253], [39.5673, -97.6571], [40.1725, -84.9658], [40.4471, -84.9777], [36.843, -86.8706], [37.8109, -82.8007], [37.7538, -100.0303], [40.0613, -85.6559], [37.9725, -89.0534], [40.1472, -88.9773], [37.996, -89.237], [30.8852, -84.204], [31.3751, -84.9366], [31.7798, -82.3477], [29.3858, -82.4564], [30.0976, -83.5818], [42.7415, -93.202], [42.9602, -91.8143], [33.2111, -82.3858], [32.3772, -82.0622], [28.1852, -82.4343], [25.6856, -80.4213], [40.80317, -124.16638], [39.199773, -84.578987], [34.689339, -118.111461], [44.8591, -93.5358], [41.66741, -85.81966], [41.71021387, -85.97162247], [36.088989, -79.886198], [30.643873, -97.686874], [33.5597, -83.4775], [28.5672, -81.2056], [39.2967, -102.2783], [34.6472, -118.2182], [38.5627, -121.3364], [39.2049, -122.0038], [38.1161, -121.3072], [33.7528, -88.1101], [35.1696, -92.7187], [36.0595, -90.5473], [33.2283, -91.797], [32.6513, -85.3778], [32.6233, -85.4474], [33.6142, -85.7882], [33.6727, -85.8264], [38.5477, -121.359], [26.354145, -80.203965], [37.30367, -78.54664], [35.0614, -80.99283], [34.026035, -81.00465], [38.41592, -82.26003], [37.159084, -76.462849], [37.1164, -76.4644], [39.74141, -84.18182], [41.363369, -81.68543], [40.387006, -111.823512], [33.71739, -78.85469], [33.46021, -94.0898], [38.92896, -79.85892], [40.39343, -80.59301], [37.36147, -81.09734], [43.01444, -89.42728], [46.97539, -123.83795], [46.24102, -119.12095], [36.954, -81.07607], [37.198, -77.37628], [36.18045, -82.81837], [33.95201, -98.52729], [34.849019, -82.333888], [33.4525, -86.98217], [35.22079, -92.82588], [34.20482, -92.00648], [39.58736, -78.219215], [35.52574, -98.70564], [41.464745, -81.768873], [35.493, -83.31414], [34.36625, -84.03679], [47.20256, -122.240265], [29.053015, -81.304651], [32.001818, -102.118753], [40.26671, -75.2552], [40.567314, -105.082954], [33.888294, -118.292015], [47.48726, -117.57562], [40.70433, -74.01305], [43.08544, -88.47356], [40.143166, -75.11838], [38.41656, -81.79454], [34.7465, -81.0405], [35.0138, -81.8067], [32.7853, -79.936], [34.0964, -81.1612], [40.9682, -75.9773], [44.5402, -123.3586], [40.3993, -80.5911], [41.6364, -83.4777], [41.6093, -83.5386], [41.7207, -83.6205], [41.693, -83.6304], [39.7028, -84.1272], [39.5847, -84.3261], [40.8823, -81.5708], [42.1875, -122.6953], [39.9405, -83.8343], [39.9234, -83.7779], [38.2568, -82.4299], [38.413, -82.356], [40.4114, -80.0118], [40.8303, -81.4245], [41.0289, -81.5113], [41.1511, -81.5091], [40.5484, -82.8453], [40.0327, -82.9885], [40.0499, -82.9155], [40.1176, -83.0886], [41.1006, -80.8574], [27.92291, -82.327909], [41.2344, -80.8122], [33.9883, -80.9803], [41.4852, -81.8138], [41.3139, -81.6866], [47.243089, -122.360814], [40.878339, -73.905136], [40.762843, -73.517181], [31.680332, -106.31448], [30.2547, -94.21541], [37.529301, -77.359067], [37.543996, -77.389009], [36.167, -80.13487], [41.537367, -87.461565], [39.774122, -104.809167], [36.0881, -79.081], [36.056934, -79.083646], [35.73421, -79.42704], [41.980358, -87.807338], [39.998379, -82.930226], [27.172157, -80.296254], [28.090775, -80.566479], [28.066766, -82.504497], [38.775125, -77.058438], [38.454687, -121.371623], [29.99884, -95.58159], [29.92304866, -95.601122], [40.0443, -86.0733], [40.042444, -86.126129], [36.127136, -96.361052], [36.04657, -79.92855], [35.04499, -78.92806], [47.497783, -122.206004], [47.653536, -117.433501], [34.89167473, -82.40727998], [29.96709344, -93.99601764], [41.747776, -81.210765], [39.83927, -83.07503], [41.20668, -80.74141], [40.75599, -111.82696], [35.3172, -81.8812], [39.665439, -86.098553], [42.2963, -85.6433], [41.707939, -83.699435], [41.710453, -83.679051], [32.09884, -81.27025], [37.521204, -85.882654], [43.0876, -77.6291], [40.02728, -83.01435], [40.4427, -79.99975], [33.984875, -118.100295], [40.1635, -83.0215], [40.1178, -83.01468], [33.902873, -117.562587], [39.85967, -84.28176], [47.80122, -122.500854], [33.436456, -111.719547], [41.40954, -81.73405], [39.885572, -82.999483], [34.960665, -82.435852], [45.56638, -122.89489], [44.972197, -93.43452], [35.73333, -79.46469], [26.06301, -80.43265], [33.87086, -83.44292], [41.24081, -81.44607], [41.313939, -82.001479], [37.3906, -77.42739], [36.763706, -76.204469], [39.6651, -86.092], [33.877497, -79.756713], [32.79461, -80.02785], [32.863849, -80.050168], [40.96646, -81.34471], [28.937775, -81.943735], [40.064382, -83.070841], [37.308166, -77.293306], [37.183597, -77.486594], [36.82058, -76.2245], [37.263669, -80.003088], [35.121643, -83.3929], [37.985633, -87.563856], [32.328989, -95.266116], [33.82438, -79.07309], [42.345076, -88.277219], [32.75751, -79.97407], [27.5004, -82.5078], [41.63914, -80.15493], [40.100459, -75.029585], [41.1283, -80.6646], [38.590724, -121.26608], [36.10483, -95.85063], [35.02769, -79.05549], [48.963978, -122.440268], [37.05607, -76.39052], [37.049857, -76.392135], [43.14817, -88.00422], [40.97506, -81.49], [39.54501, -77.90913], [33.6645, -79.8342], [41.51491, -87.51836], [37.74504, -88.98055], [27.836991, -82.786683], [27.7805, -82.6795], [26.365524, -80.113057], [37.12903, -79.274854], [39.712779, -86.369734], [33.846453, -117.975602], [41.238284, -81.810774], [41.02975, -81.906878], [41.22694, -81.84135], [33.416131, -111.685712], [34.009897, -85.988704], [37.08687, -76.48373], [41.412638, -81.52734], [39.43051, -84.59744], [39.52674, -84.38663], [39.797253, -84.300359], [37.09279, -81.82188], [39.543, -77.9101], [36.84444, -81.4997], [36.327584, -75.815285], [36.72119, -76.30537], [39.4413, -80.169], [44.222633, -123.204434], [45.486242, -122.778704], [39.433386, -76.327141], [35.9186, -80.58471], [35.30344, -80.93713], [30.431735, -91.057076], [39.100709, -84.511041], [36.0711, -79.3518], [26.586359, -80.14614], [27.937801, -82.25327], [27.980499, -82.319491], [39.127664, -84.519391], [38.55556, -121.33576], [35.05843, -119.40014], [36.0504, -79.83463], [47.65746, -117.35861], [47.67563, -117.428726], [48.848712, -122.571899], [48.84705, -122.59257], [41.419178, -81.696876], [41.41031, -81.536533], [35.976, -78.5469], [36.0176, -78.9113], [39.7818, -94.8028], [42.01866, -87.807019], [37.9279, -89.804825], [39.6242, -79.9249], [26.2699, -98.23128], [43.450161, -83.696422], [35.35289, -80.85043], [26.6913, -80.0745], [38.929974, -122.617256], [34.966903, -81.938658], [39.70273, -84.12597], [41.958637, -87.807571], [41.49296, -87.5107], [32.657295, -79.94153], [37.28638, -85.90138], [41.986675, -88.031339], [27.4133, -80.396426], [34.776, -82.31855], [36.871205, -81.763723], [27.940863, -82.36842], [38.377, -88.0579], [41.6778, -93.0131], [35.932712, -86.877847], [47.96915154, -122.2008804], [44.83546237, -93.28833175], [35.14577, -84.83181], [33.440639, -82.021415], [28.022097, -81.73305], [35.653077, -97.457553], [47.357932, -122.116676], [41.270137, -82.820928], [41.51995, -81.46576], [38.13191, -81.62941], [36.26189, -80.36322], [35.483677, -80.989784], [41.65562, -85.70498], [45.624974, -122.589901], [35.99691, -86.88603], [35.9284, -86.87575], [34.3381, -79.5221], [46.86639, -122.26381], [35.79144833, -78.84572268], [25.76097, -80.35131], [40.00716, -83.04653], [26.255422, -81.801676], [28.52128, -81.58807], [26.65003, -81.97623], [27.444872, -82.5404], [33.759166, -117.957352], [40.336624, -79.948723], [37.933982, -122.324906], [34.449949, -118.625688], [37.60894, -122.06506], [34.647118, -92.4306], [47.29612, -122.24732], [40.780321, -73.559587], [41.3951, -81.4645], [39.8556, -82.899492], [39.88917, -82.88681], [41.45737, -81.95014], [38.4473, -81.91176], [39.779163, -104.951248], [35.68, -81.21966], [35.44604, -80.5974], [31.80763, -106.42161], [35.135308, -81.863018], [37.977563, -87.563972], [42.942841, -83.725989], [41.750477, -88.114456], [28.336246, -81.59365], [28.259844, -81.5895], [27.47279, -82.54622], [38.423, -121.3728], [37.11602, -79.27918], [39.760454, -121.848997], [47.679797, -122.123281], [47.23096, -119.85377], [47.67465, -117.41734], [40.92859, -73.855194], [29.759463, -96.149941], [25.95221, -97.48631], [41.4113, -82.2085], [42.56391, -88.86192], [39.877136, -82.930673], [41.46604, -82.16173], [41.02839, -80.63558], [39.293804, -84.308806], [41.520694, -81.536728], [37.3503, -77.4828], [35.503169, -78.741074], [40.737366, -73.86435], [32.36656, -95.32627], [30.58364, -97.85821], [29.97319, -93.990996], [41.537982, -81.527118], [37.15847, -76.577515], [41.51973, -81.45921], [40.966592, -81.464967], [41.03919, -81.49129], [37.094088, -81.812323], [38.3028, -80.83246], [37.24683, -80.03222], [35.25464, -81.02776], [36.71624, -76.18769], [35.70444, -82.57662], [35.254257, -80.44096], [45.3495, -122.65296], [41.66765, -85.73119], [41.1014, -85.1592], [39.63484, -84.21436], [33.57433, -84.41279], [47.65674, -117.19901], [47.882266, -122.240877], [40.037841, -82.952092], [31.38201, -81.43347], [26.61719, -81.79745], [27.93659, -82.24331], [32.748411, -117.152174], [39.7701, -121.5985], [40.04378, -86.14074], [47.62791, -117.40196], [33.99639, -86.08244], [29.533281, -95.808866], [25.926907, -97.459984], [39.94068, -82.83002], [41.11491, -81.46866], [39.545063, -77.90899], [35.014965, -81.959406], [34.353136, -82.924028], [39.150787, -80.03853], [41.665239, -86.110049], [44.298538, -121.562057], [41.553165, -87.431885], [38.65562, -76.87769], [36.02747, -80.16364], [36.8396, -81.5078], [35.79212, -78.7662], [40.882232, -81.572087], [33.74177, -84.34923], [27.4143, -80.3957], [27.264245, -80.409029], [30.359497, -87.36026], [26.670078, -81.93683], [27.98114, -82.28561], [26.5868, -80.0638], [36.808648, -119.871428], [36.94774, -79.36326], [36.71773, -79.91205], [33.953603, -118.196976], [33.83275, -117.92769], [38.45926, -122.73138], [37.579426, -122.33348], [47.592606, -120.66792], [48.85603, -122.48718], [41.46988, -81.701485], [40.829544, -73.92641], [35.59362, -80.85721], [37.35692, -77.41339], [35.57091, -82.50305], [41.58988, -84.14885], [42.9588, -78.69766], [35.130179, -84.874317], [26.4371, -80.1273], [27.8942, -82.2463], [36.35498, -79.67837], [37.31159, -121.931689], [47.84635, -122.30406], [34.4581, -81.8785], [34.71553, -81.640205], [35.708191, -81.422876], [31.769975, -106.42605], [39.92789, -82.829064], [41.308, -81.43871], [40.240305, -83.387385], [35.690063, -80.511338], [35.66026, -80.50027], [38.253895, -82.431896], [37.20637, -77.383008], [35.28737, -81.26679], [35.63622, -81.30066], [36.09638, -78.29624], [35.51601, -83.08528], [35.09388, -106.70885], [35.0609, -80.81366], [38.389893, -122.81583], [39.666401, -86.095581], [41.596682, -87.2676], [33.688067, -84.48919], [40.61048, -111.93908], [39.926051, -105.091369], [33.9552, -80.99368], [39.7707, -94.803], [36.3544, -78.9825], [39.358046, -79.994855], [45.479492, -122.85817], [41.46971, -87.31688], [41.141383, -81.357564], [40.86159, -81.485], [36.638798, -82.575035], [39.04429, -84.50508], [26.52845, -80.09308], [27.9609, -82.7563], [36.62817, -87.43289], [27.9888, -81.6883], [33.961291, -118.361266], [34.07572861, -118.0217222], [38.678652, -121.207475], [35.0454, -78.929], [47.2893, -122.316], [47.66478, -117.42717], [47.6659, -117.4111], [47.184855, -120.890812], [41.25536, -81.79622], [31.23396, -85.45503], [42.902908, -73.686886], [34.934961, -81.990161], [41.649407, -81.382621], [38.739398, -77.192586], [35.91456, -79.05287], [34.99639, -80.54437], [36.32084, -86.59977], [31.77465, -106.38071], [44.0482, -121.33038], [42.67521, -83.46504], [41.45892, -81.86116], [47.658725, -117.100194], [34.19143, -79.81012], [32.79073, -79.98875], [32.75367, -79.97116], [32.871891, -80.020144], [41.591168, -87.481111], [41.52032, -81.4773], [40.79626, -81.42588], [34.062714, -117.70587], [36.003731, -95.797407], [47.288348, -122.31325], [47.14242, -119.27682], [40.705099, -73.653055], [40.2879, -84.1797], [39.46201, -77.988603], [46.806284, -100.762638], [45.53298, -122.93497], [39.75568, -84.22441], [35.94575, -86.82759], [39.59723846, -84.2314274], [34.99291, -80.5394], [41.551082, -87.245321], [32.7987, -116.93575], [39.34447, -80.02103], [41.49, -87.0474], [43.467121, -85.950091], [40.607753, -75.491017], [39.73223, -82.6184], [38.835583, -77.06057], [36.72805, -76.300865], [39.528273, -84.379776], [33.439519, -117.619417], [34.9152, -82.3905], [27.2435, -80.8256], [36.5401, -87.3638], [27.929974, -82.32285], [40.10492, -83.160988], [38.57669, -121.54801], [37.7542, -121.4581], [40.915903, -80.857259], [30.564647, -81.830332], [40.087983, -82.994718], [35.07998, -84.03821], [40.83315, -81.388394], [37.935665, -122.356641], [35.04543, -78.92524], [37.34696, -76.73854], [37.8121, -79.8352], [36.36554, -82.379953], [40.12561, -86.60944], [41.47160231, -87.36249305], [41.63075, -87.50891], [33.562782, -86.751226], [41.80608295, -88.34903209], [28.0423, -81.7374], [38.4219, -121.4472], [41.09143, -81.71857], [36.26956, -87.05889], [42.176, -76.8362], [31.7286, -98.9819], [31.4676, -100.4471], [27.7304, -97.3926], [41.938156, -88.00263], [32.958758, -96.81812], [34.00946, -85.98738], [39.99, -76.6398], [44.5621, -123.2618], [39.4108, -81.4516], [37.2563, -81.1998], [39.022, -77.4769], [42.9086, -88.8513], [36.5811, -79.3436], [46.1424, -122.9327], [35.18069, -80.88419], [30.23335, -92.03228], [32.87395, -80.02074], [39.994676, -75.754053], [33.678579, -117.885484], [35.077431, -78.954242], [40.626077, -73.736851], [38.81807, -77.27524], [35.913596, -86.829485], [41.964696, -87.988979], [40.12853, -75.16692], [42.058163, -80.08892], [40.184755, -80.220673], [34.11657, -117.77638], [47.661561, -122.293952], [36.073343, -79.957421], [36.13411, -79.85833], [35.09276, -92.46788], [47.62807, -117.36664], [41.610319, -81.52545], [30.08531, -94.09782], [43.603, -116.24393], [34.18915, -84.13778], [40.14776, -82.98822], [41.450603, -81.81483], [34.47521, -110.08659], [32.208168, -109.36715], [34.76165, -112.45306], [36.02824, -94.02281], [33.72371, -92.61648], [33.575867, -92.83339], [32.40461, -85.95558], [34.44879, -85.9013], [32.38272, -86.19608], [33.16743, -86.25798], [32.63777, -85.40018], [33.64338, -85.78515], [33.71349, -85.82], [36.6316, -79.3957], [30.33202, -97.70364], [30.584276, -84.694947], [38.397774, -121.477974], [37.9529, -91.7774], [39.62274, -84.3877], [45.43309, -122.57213], [38.945493, -104.801681], [26.45849, -80.09383], [38.41312, -121.48354], [40.098351, -83.091424], [21.406261, -157.74478], [34.8056, -78.97655], [32.597084, -96.940498], [35.92579, -79.02559], [34.7616, -84.93629], [38.45118, -121.3724], [41.372648, -81.943687], [39.66755, -86.08186], [40.8364, -81.93], [33.602609, -83.847954], [33.698651, -84.091096], [33.681563, -84.400912], [37.6734, -92.6552], [33.94096, -87.22046], [42.987476, -89.53341], [25.626745, -80.416237], [47.148402, -122.291537], [40.123188, -86.012838], [34.432233, -118.590603], [42.912058, -85.691686], [47.039102, -122.900963], [37.420878, -77.635707], [27.884295, -82.787695], [33.533981, -117.776464], [30.343859, -94.181435], [30.447187, -91.188201], [38.478681, -77.994082], [34.105995, -117.806043], [40.026194, -83.090809], [33.760896, -78.958592], [42.862211, -73.784216], [40.281354, -78.863088], [27.161152, -80.27148], [32.78331, -96.816116], [41.35597, -83.134544], [35.24944, -82.20384], [35.41508843, -78.798501], [38.662561, -90.261815], [38.657835, -120.969619], [36.31871, -86.86731], [35.79611, -84.25733], [39.150826, -84.434371], [39.84565, -84.197314], [30.479275, -90.86327], [36.10772, -80.09859], [40.58838, -73.664116], [38.7526, -82.9348], [30.82906283, -82.00577013], [39.9891, -83.049], [36.1796, -95.97515], [41.945388, -87.776806], [40.055192, -83.070068], [31.680665, -106.313785], [31.79873, -106.22814], [39.15393, -84.40291], [30.33849, -97.71895], [21.329453, -157.86147], [34.107496, -117.665223], [41.064863, -81.431497], [37.97747, -87.462], [36.13744, -80.24119], [32.805045, -80.012723], [39.378273, -76.459305], [39.027775, -77.07661], [45.207543, -93.357833], [38.755134, -90.430862], [34.062691, -118.102851], [35.83336, -83.57078], [36.02714, -83.92845], [41.403418, -82.364147], [31.08615, -97.75364], [39.13051, -84.60991], [30.357624, -91.00678], [41.48843, -81.65223], [28.82086, -81.88775], [28.5518, -81.5275], [34.77594, -82.31902], [38.526591, -121.964862], [33.68354, -117.16788], [45.52755, -122.81551], [35.390835, -78.819405], [39.33683, -84.56062], [35.329334, -80.945976], [37.563616, -122.271146], [35.72214, -79.1775], [40.71097, -112.032265], [41.21, -80.7507], [36.0603, -79.1027], [28.82249, -81.98731], [40.1592561, -83.095802], [37.30835, -122.00937], [47.627462, -117.401886], [42.34367, -122.88291], [34.7762, -82.317], [35.29493, -119.05472], [33.23034, -97.16253], [39.627899, -84.225678], [41.439938, -81.730201], [41.244767, -80.843149], [41.13991, -80.72007], [44.04784, -123.1394], [35.764175, -78.82283], [32.785951, -79.935472], [37.155515, -76.555555], [29.863686, -95.607246], [40.69564, -89.62324], [36.5021, -79.7439], [33.85077, -117.85822], [36.1141, -79.8345], [30.256623, -94.198762], [41.5131, -87.2585], [39.7142, -86.3561], [31.26647, -85.44361], [33.78078, -85.89649], [38.36946, -81.66628], [43.54465, -96.75871], [37.13652, -80.36412], [41.00959, -76.42129], [44.04764, -123.1372], [40.73101, -84.07296], [32.575938, -96.671489], [34.084967, -84.542344], [32.47308, -100.400862], [33.986122, -118.224864], [36.781414, -76.189073], [35.026319, -82.032288], [47.628396, -117.369358], [41.522528, -82.859077], [39.0738, -78.96658], [37.103532, -76.512428], [41.4918, -81.6757], [34.82795, -82.39934], [39.940447, -82.996769], [39.954463, -82.860193], [38.42317, -82.42129], [47.851039, -122.218139], [34.01271, -81.017031], [26.69989, -81.85078], [34.093727, -84.277611], [35.02854, -78.92649], [32.862879, -80.017242], [42.26317, -88.98068], [39.215481, -84.516998], [47.1929, -122.292], [42.9442, -83.6627], [32.57692513, -96.30946432], [34.859325, -82.26581], [36.087905, -79.77482], [34.00078, -84.59247], [41.2317, -80.4502], [34.040705, -117.651046], [34.07535, -86.779986], [28.253085, -82.187497], [28.552308, -81.507483], [40.45361, -122.291454], [39.61455, -86.070666], [40.06049, -82.97539], [29.802502, -95.487346], [34.03938, -81.02275], [34.000252, -118.084499], [35.15465, -80.7481], [30.236141, -92.00826], [39.356478, -84.259041], [36.114259, -115.066839], [33.611473, -83.827336], [28.658329, -81.336237], [33.84882, -87.276618], [34.323937, -86.313865], [33.297974, -111.90065], [30.70165, -87.85945], [34.855264, -92.404247], [43.66568, -116.27895], [39.97355, -82.89635], [32.66182, -96.90857], [37.95495, -84.53784], [33.399574, -86.95105], [35.8845, -78.737541], [44.45318, -89.54317], [36.308262, -86.607339], [35.965869, -78.963366]];\n",
              "                var cluster = L.markerClusterGroup({});\n",
              "\n",
              "                for (var i = 0; i &lt; data.length; i++) {\n",
              "                    var row = data[i];\n",
              "                    var marker = callback(row);\n",
              "                    marker.addTo(cluster);\n",
              "                }\n",
              "\n",
              "                cluster.addTo(map_5d30b176456bff02ae226c8a56021120);\n",
              "                return cluster;\n",
              "            })();\n",
              "        \n",
              "&lt;/script&gt;\n",
              "&lt;/html&gt;\" style=\"position:absolute;width:100%;height:100%;left:0;top:0;border:none !important;\" allowfullscreen webkitallowfullscreen mozallowfullscreen></iframe></div></div>"
            ]
          },
          "metadata": {},
          "execution_count": 22
        }
      ]
    },
    {
      "cell_type": "markdown",
      "source": [
        "**I see presence across all the states with Georgia, Indiana and Florida leading the way. Now lets split the entire market into 4 key regions**"
      ],
      "metadata": {
        "id": "BqtF_NccHTQa"
      }
    },
    {
      "cell_type": "code",
      "source": [
        "#split the entire market into 4 key regions\n",
        "def market(x):\n",
        "\n",
        "    if x in ('WA','OR','CA','NV','AZ','NM','CO','WY','MT','ID','AK','HI'):\n",
        "        return \"West\"\n",
        "    elif x in ('ND','MN','IA','SD','KS','NE','MO','WI','MI','IL','IN','OH'):\n",
        "        return \"Mid West\"\n",
        "    elif x in ('NY','NJ','PA','CT','RI','MA','ME','NH','VT'):\n",
        "        return \"North East\"\n",
        "    else:\n",
        "        return \"South\"\n",
        "\n",
        "df['region']=df['province'].apply(market)\n",
        "df.head()"
      ],
      "metadata": {
        "id": "EvZUjuSL0Gg2",
        "colab": {
          "base_uri": "https://localhost:8080/",
          "height": 206
        },
        "outputId": "3bd0aeb9-cf50-408c-ff4e-885cfb3ba199"
      },
      "execution_count": null,
      "outputs": [
        {
          "output_type": "execute_result",
          "data": {
            "text/plain": [
              "                 address            city country  latitude  longitude  \\\n",
              "0       2555 11th Avenue         Greeley      US  40.39629 -104.69699   \n",
              "1  2513 Highway 6 And 50  Grand Junction      US  39.08135 -108.58689   \n",
              "2    1125 Patterson Road  Grand Junction      US  39.09148 -108.55411   \n",
              "3    3455 N Salida Court          Aurora      US  39.76369 -104.77671   \n",
              "4   5225 E Colfax Avenue          Denver      US  39.74044 -104.92636   \n",
              "\n",
              "                     name postalCode province region  \n",
              "0              Carl's Jr.      80631       CO   West  \n",
              "1                Del Taco      81505       CO   West  \n",
              "2              Which Wich      81506       CO   West  \n",
              "3  Chipotle Mexican Grill      80011       CO   West  \n",
              "4               Taco Bell      80220       CO   West  "
            ],
            "text/html": [
              "\n",
              "  <div id=\"df-97469173-e2bb-4ef1-8310-136a950351e4\" class=\"colab-df-container\">\n",
              "    <div>\n",
              "<style scoped>\n",
              "    .dataframe tbody tr th:only-of-type {\n",
              "        vertical-align: middle;\n",
              "    }\n",
              "\n",
              "    .dataframe tbody tr th {\n",
              "        vertical-align: top;\n",
              "    }\n",
              "\n",
              "    .dataframe thead th {\n",
              "        text-align: right;\n",
              "    }\n",
              "</style>\n",
              "<table border=\"1\" class=\"dataframe\">\n",
              "  <thead>\n",
              "    <tr style=\"text-align: right;\">\n",
              "      <th></th>\n",
              "      <th>address</th>\n",
              "      <th>city</th>\n",
              "      <th>country</th>\n",
              "      <th>latitude</th>\n",
              "      <th>longitude</th>\n",
              "      <th>name</th>\n",
              "      <th>postalCode</th>\n",
              "      <th>province</th>\n",
              "      <th>region</th>\n",
              "    </tr>\n",
              "  </thead>\n",
              "  <tbody>\n",
              "    <tr>\n",
              "      <th>0</th>\n",
              "      <td>2555 11th Avenue</td>\n",
              "      <td>Greeley</td>\n",
              "      <td>US</td>\n",
              "      <td>40.39629</td>\n",
              "      <td>-104.69699</td>\n",
              "      <td>Carl's Jr.</td>\n",
              "      <td>80631</td>\n",
              "      <td>CO</td>\n",
              "      <td>West</td>\n",
              "    </tr>\n",
              "    <tr>\n",
              "      <th>1</th>\n",
              "      <td>2513 Highway 6 And 50</td>\n",
              "      <td>Grand Junction</td>\n",
              "      <td>US</td>\n",
              "      <td>39.08135</td>\n",
              "      <td>-108.58689</td>\n",
              "      <td>Del Taco</td>\n",
              "      <td>81505</td>\n",
              "      <td>CO</td>\n",
              "      <td>West</td>\n",
              "    </tr>\n",
              "    <tr>\n",
              "      <th>2</th>\n",
              "      <td>1125 Patterson Road</td>\n",
              "      <td>Grand Junction</td>\n",
              "      <td>US</td>\n",
              "      <td>39.09148</td>\n",
              "      <td>-108.55411</td>\n",
              "      <td>Which Wich</td>\n",
              "      <td>81506</td>\n",
              "      <td>CO</td>\n",
              "      <td>West</td>\n",
              "    </tr>\n",
              "    <tr>\n",
              "      <th>3</th>\n",
              "      <td>3455 N Salida Court</td>\n",
              "      <td>Aurora</td>\n",
              "      <td>US</td>\n",
              "      <td>39.76369</td>\n",
              "      <td>-104.77671</td>\n",
              "      <td>Chipotle Mexican Grill</td>\n",
              "      <td>80011</td>\n",
              "      <td>CO</td>\n",
              "      <td>West</td>\n",
              "    </tr>\n",
              "    <tr>\n",
              "      <th>4</th>\n",
              "      <td>5225 E Colfax Avenue</td>\n",
              "      <td>Denver</td>\n",
              "      <td>US</td>\n",
              "      <td>39.74044</td>\n",
              "      <td>-104.92636</td>\n",
              "      <td>Taco Bell</td>\n",
              "      <td>80220</td>\n",
              "      <td>CO</td>\n",
              "      <td>West</td>\n",
              "    </tr>\n",
              "  </tbody>\n",
              "</table>\n",
              "</div>\n",
              "    <div class=\"colab-df-buttons\">\n",
              "\n",
              "  <div class=\"colab-df-container\">\n",
              "    <button class=\"colab-df-convert\" onclick=\"convertToInteractive('df-97469173-e2bb-4ef1-8310-136a950351e4')\"\n",
              "            title=\"Convert this dataframe to an interactive table.\"\n",
              "            style=\"display:none;\">\n",
              "\n",
              "  <svg xmlns=\"http://www.w3.org/2000/svg\" height=\"24px\" viewBox=\"0 -960 960 960\">\n",
              "    <path d=\"M120-120v-720h720v720H120Zm60-500h600v-160H180v160Zm220 220h160v-160H400v160Zm0 220h160v-160H400v160ZM180-400h160v-160H180v160Zm440 0h160v-160H620v160ZM180-180h160v-160H180v160Zm440 0h160v-160H620v160Z\"/>\n",
              "  </svg>\n",
              "    </button>\n",
              "\n",
              "  <style>\n",
              "    .colab-df-container {\n",
              "      display:flex;\n",
              "      gap: 12px;\n",
              "    }\n",
              "\n",
              "    .colab-df-convert {\n",
              "      background-color: #E8F0FE;\n",
              "      border: none;\n",
              "      border-radius: 50%;\n",
              "      cursor: pointer;\n",
              "      display: none;\n",
              "      fill: #1967D2;\n",
              "      height: 32px;\n",
              "      padding: 0 0 0 0;\n",
              "      width: 32px;\n",
              "    }\n",
              "\n",
              "    .colab-df-convert:hover {\n",
              "      background-color: #E2EBFA;\n",
              "      box-shadow: 0px 1px 2px rgba(60, 64, 67, 0.3), 0px 1px 3px 1px rgba(60, 64, 67, 0.15);\n",
              "      fill: #174EA6;\n",
              "    }\n",
              "\n",
              "    .colab-df-buttons div {\n",
              "      margin-bottom: 4px;\n",
              "    }\n",
              "\n",
              "    [theme=dark] .colab-df-convert {\n",
              "      background-color: #3B4455;\n",
              "      fill: #D2E3FC;\n",
              "    }\n",
              "\n",
              "    [theme=dark] .colab-df-convert:hover {\n",
              "      background-color: #434B5C;\n",
              "      box-shadow: 0px 1px 3px 1px rgba(0, 0, 0, 0.15);\n",
              "      filter: drop-shadow(0px 1px 2px rgba(0, 0, 0, 0.3));\n",
              "      fill: #FFFFFF;\n",
              "    }\n",
              "  </style>\n",
              "\n",
              "    <script>\n",
              "      const buttonEl =\n",
              "        document.querySelector('#df-97469173-e2bb-4ef1-8310-136a950351e4 button.colab-df-convert');\n",
              "      buttonEl.style.display =\n",
              "        google.colab.kernel.accessAllowed ? 'block' : 'none';\n",
              "\n",
              "      async function convertToInteractive(key) {\n",
              "        const element = document.querySelector('#df-97469173-e2bb-4ef1-8310-136a950351e4');\n",
              "        const dataTable =\n",
              "          await google.colab.kernel.invokeFunction('convertToInteractive',\n",
              "                                                    [key], {});\n",
              "        if (!dataTable) return;\n",
              "\n",
              "        const docLinkHtml = 'Like what you see? Visit the ' +\n",
              "          '<a target=\"_blank\" href=https://colab.research.google.com/notebooks/data_table.ipynb>data table notebook</a>'\n",
              "          + ' to learn more about interactive tables.';\n",
              "        element.innerHTML = '';\n",
              "        dataTable['output_type'] = 'display_data';\n",
              "        await google.colab.output.renderOutput(dataTable, element);\n",
              "        const docLink = document.createElement('div');\n",
              "        docLink.innerHTML = docLinkHtml;\n",
              "        element.appendChild(docLink);\n",
              "      }\n",
              "    </script>\n",
              "  </div>\n",
              "\n",
              "\n",
              "<div id=\"df-b18d3591-5ee3-4b9b-8038-2589aee53454\">\n",
              "  <button class=\"colab-df-quickchart\" onclick=\"quickchart('df-b18d3591-5ee3-4b9b-8038-2589aee53454')\"\n",
              "            title=\"Suggest charts\"\n",
              "            style=\"display:none;\">\n",
              "\n",
              "<svg xmlns=\"http://www.w3.org/2000/svg\" height=\"24px\"viewBox=\"0 0 24 24\"\n",
              "     width=\"24px\">\n",
              "    <g>\n",
              "        <path d=\"M19 3H5c-1.1 0-2 .9-2 2v14c0 1.1.9 2 2 2h14c1.1 0 2-.9 2-2V5c0-1.1-.9-2-2-2zM9 17H7v-7h2v7zm4 0h-2V7h2v10zm4 0h-2v-4h2v4z\"/>\n",
              "    </g>\n",
              "</svg>\n",
              "  </button>\n",
              "\n",
              "<style>\n",
              "  .colab-df-quickchart {\n",
              "      --bg-color: #E8F0FE;\n",
              "      --fill-color: #1967D2;\n",
              "      --hover-bg-color: #E2EBFA;\n",
              "      --hover-fill-color: #174EA6;\n",
              "      --disabled-fill-color: #AAA;\n",
              "      --disabled-bg-color: #DDD;\n",
              "  }\n",
              "\n",
              "  [theme=dark] .colab-df-quickchart {\n",
              "      --bg-color: #3B4455;\n",
              "      --fill-color: #D2E3FC;\n",
              "      --hover-bg-color: #434B5C;\n",
              "      --hover-fill-color: #FFFFFF;\n",
              "      --disabled-bg-color: #3B4455;\n",
              "      --disabled-fill-color: #666;\n",
              "  }\n",
              "\n",
              "  .colab-df-quickchart {\n",
              "    background-color: var(--bg-color);\n",
              "    border: none;\n",
              "    border-radius: 50%;\n",
              "    cursor: pointer;\n",
              "    display: none;\n",
              "    fill: var(--fill-color);\n",
              "    height: 32px;\n",
              "    padding: 0;\n",
              "    width: 32px;\n",
              "  }\n",
              "\n",
              "  .colab-df-quickchart:hover {\n",
              "    background-color: var(--hover-bg-color);\n",
              "    box-shadow: 0 1px 2px rgba(60, 64, 67, 0.3), 0 1px 3px 1px rgba(60, 64, 67, 0.15);\n",
              "    fill: var(--button-hover-fill-color);\n",
              "  }\n",
              "\n",
              "  .colab-df-quickchart-complete:disabled,\n",
              "  .colab-df-quickchart-complete:disabled:hover {\n",
              "    background-color: var(--disabled-bg-color);\n",
              "    fill: var(--disabled-fill-color);\n",
              "    box-shadow: none;\n",
              "  }\n",
              "\n",
              "  .colab-df-spinner {\n",
              "    border: 2px solid var(--fill-color);\n",
              "    border-color: transparent;\n",
              "    border-bottom-color: var(--fill-color);\n",
              "    animation:\n",
              "      spin 1s steps(1) infinite;\n",
              "  }\n",
              "\n",
              "  @keyframes spin {\n",
              "    0% {\n",
              "      border-color: transparent;\n",
              "      border-bottom-color: var(--fill-color);\n",
              "      border-left-color: var(--fill-color);\n",
              "    }\n",
              "    20% {\n",
              "      border-color: transparent;\n",
              "      border-left-color: var(--fill-color);\n",
              "      border-top-color: var(--fill-color);\n",
              "    }\n",
              "    30% {\n",
              "      border-color: transparent;\n",
              "      border-left-color: var(--fill-color);\n",
              "      border-top-color: var(--fill-color);\n",
              "      border-right-color: var(--fill-color);\n",
              "    }\n",
              "    40% {\n",
              "      border-color: transparent;\n",
              "      border-right-color: var(--fill-color);\n",
              "      border-top-color: var(--fill-color);\n",
              "    }\n",
              "    60% {\n",
              "      border-color: transparent;\n",
              "      border-right-color: var(--fill-color);\n",
              "    }\n",
              "    80% {\n",
              "      border-color: transparent;\n",
              "      border-right-color: var(--fill-color);\n",
              "      border-bottom-color: var(--fill-color);\n",
              "    }\n",
              "    90% {\n",
              "      border-color: transparent;\n",
              "      border-bottom-color: var(--fill-color);\n",
              "    }\n",
              "  }\n",
              "</style>\n",
              "\n",
              "  <script>\n",
              "    async function quickchart(key) {\n",
              "      const quickchartButtonEl =\n",
              "        document.querySelector('#' + key + ' button');\n",
              "      quickchartButtonEl.disabled = true;  // To prevent multiple clicks.\n",
              "      quickchartButtonEl.classList.add('colab-df-spinner');\n",
              "      try {\n",
              "        const charts = await google.colab.kernel.invokeFunction(\n",
              "            'suggestCharts', [key], {});\n",
              "      } catch (error) {\n",
              "        console.error('Error during call to suggestCharts:', error);\n",
              "      }\n",
              "      quickchartButtonEl.classList.remove('colab-df-spinner');\n",
              "      quickchartButtonEl.classList.add('colab-df-quickchart-complete');\n",
              "    }\n",
              "    (() => {\n",
              "      let quickchartButtonEl =\n",
              "        document.querySelector('#df-b18d3591-5ee3-4b9b-8038-2589aee53454 button');\n",
              "      quickchartButtonEl.style.display =\n",
              "        google.colab.kernel.accessAllowed ? 'block' : 'none';\n",
              "    })();\n",
              "  </script>\n",
              "</div>\n",
              "\n",
              "    </div>\n",
              "  </div>\n"
            ],
            "application/vnd.google.colaboratory.intrinsic+json": {
              "type": "dataframe",
              "variable_name": "df",
              "summary": "{\n  \"name\": \"df\",\n  \"rows\": 10000,\n  \"fields\": [\n    {\n      \"column\": \"address\",\n      \"properties\": {\n        \"dtype\": \"string\",\n        \"num_unique_values\": 9954,\n        \"samples\": [\n          \"2025 Carter Hill Rd\",\n          \"6361 Clark Rd\",\n          \"2502 Willamette St\"\n        ],\n        \"semantic_type\": \"\",\n        \"description\": \"\"\n      }\n    },\n    {\n      \"column\": \"city\",\n      \"properties\": {\n        \"dtype\": \"category\",\n        \"num_unique_values\": 2810,\n        \"samples\": [\n          \"Saint Clair Shores\",\n          \"Yates Center\",\n          \"Bryson City\"\n        ],\n        \"semantic_type\": \"\",\n        \"description\": \"\"\n      }\n    },\n    {\n      \"column\": \"country\",\n      \"properties\": {\n        \"dtype\": \"category\",\n        \"num_unique_values\": 1,\n        \"samples\": [\n          \"US\"\n        ],\n        \"semantic_type\": \"\",\n        \"description\": \"\"\n      }\n    },\n    {\n      \"column\": \"latitude\",\n      \"properties\": {\n        \"dtype\": \"number\",\n        \"std\": 5.566994793954457,\n        \"min\": 19.63956,\n        \"max\": 64.85688,\n        \"num_unique_values\": 9870,\n        \"samples\": [\n          38.413\n        ],\n        \"semantic_type\": \"\",\n        \"description\": \"\"\n      }\n    },\n    {\n      \"column\": \"longitude\",\n      \"properties\": {\n        \"dtype\": \"number\",\n        \"std\": 16.421424442094757,\n        \"min\": -159.46431,\n        \"max\": -71.08218,\n        \"num_unique_values\": 9886,\n        \"samples\": [\n          -97.1738\n        ],\n        \"semantic_type\": \"\",\n        \"description\": \"\"\n      }\n    },\n    {\n      \"column\": \"name\",\n      \"properties\": {\n        \"dtype\": \"category\",\n        \"num_unique_values\": 1545,\n        \"samples\": [\n          \"Panino's Italian Restaurant\"\n        ],\n        \"semantic_type\": \"\",\n        \"description\": \"\"\n      }\n    },\n    {\n      \"column\": \"postalCode\",\n      \"properties\": {\n        \"dtype\": \"string\",\n        \"num_unique_values\": 5310,\n        \"samples\": [\n          \"62832\"\n        ],\n        \"semantic_type\": \"\",\n        \"description\": \"\"\n      }\n    },\n    {\n      \"column\": \"province\",\n      \"properties\": {\n        \"dtype\": \"category\",\n        \"num_unique_values\": 47,\n        \"samples\": [\n          \"WV\"\n        ],\n        \"semantic_type\": \"\",\n        \"description\": \"\"\n      }\n    },\n    {\n      \"column\": \"region\",\n      \"properties\": {\n        \"dtype\": \"category\",\n        \"num_unique_values\": 4,\n        \"samples\": [\n          \"South\"\n        ],\n        \"semantic_type\": \"\",\n        \"description\": \"\"\n      }\n    }\n  ]\n}"
            }
          },
          "metadata": {},
          "execution_count": 23
        }
      ]
    },
    {
      "cell_type": "markdown",
      "source": [
        "# **Interactive Aggregation Visualization 1**"
      ],
      "metadata": {
        "id": "XIijMyklOrt3"
      }
    },
    {
      "cell_type": "code",
      "source": [
        "# Grouping by 'region' and 'province', and calculating the percentage of restaurants\n",
        "d1 = df.groupby(['region', 'province']).agg({'name': 'count'}).reset_index()\n",
        "d1['Total_Region'] = d1.groupby('region')['name'].transform('sum')\n",
        "d1['Perc_Region'] = (d1['name'] / d1['Total_Region']) * 100\n",
        "d1['Perc_Region'] = d1['Perc_Region'].round(1)\n",
        "\n",
        "# Separate DataFrame for each region\n",
        "d11 = d1[d1['region'] == 'West'].sort_values('Perc_Region', ascending=True)\n",
        "d12 = d1[d1['region'] == 'Mid West'].sort_values('Perc_Region', ascending=True)\n",
        "d13 = d1[d1['region'] == 'North East'].sort_values('Perc_Region', ascending=True)\n",
        "d14 = d1[d1['region'] == 'South'].sort_values('Perc_Region', ascending=True)\n",
        "\n",
        "# Bar chart\n",
        "fig = px.bar(d1, x='province', y='Perc_Region', color='region',\n",
        "             title=\"Fast Food Restaurant Presence (%): Percentages are at Regional Level and not Overall\")\n",
        "fig.update_layout(xaxis_title=\"State\", yaxis_title=\"Percentage\")\n",
        "fig.show()"
      ],
      "metadata": {
        "id": "kWKG5b5B9agO",
        "colab": {
          "base_uri": "https://localhost:8080/",
          "height": 542
        },
        "outputId": "7ccf8cdc-eafd-4c59-e01c-54f8a57ae1dc"
      },
      "execution_count": null,
      "outputs": [
        {
          "output_type": "display_data",
          "data": {
            "text/html": [
              "<html>\n",
              "<head><meta charset=\"utf-8\" /></head>\n",
              "<body>\n",
              "    <div>            <script src=\"https://cdnjs.cloudflare.com/ajax/libs/mathjax/2.7.5/MathJax.js?config=TeX-AMS-MML_SVG\"></script><script type=\"text/javascript\">if (window.MathJax && window.MathJax.Hub && window.MathJax.Hub.Config) {window.MathJax.Hub.Config({SVG: {font: \"STIX-Web\"}});}</script>                <script type=\"text/javascript\">window.PlotlyConfig = {MathJaxConfig: 'local'};</script>\n",
              "        <script charset=\"utf-8\" src=\"https://cdn.plot.ly/plotly-2.24.1.min.js\"></script>                <div id=\"279e7a1a-c4cc-4262-8581-8723d908db99\" class=\"plotly-graph-div\" style=\"height:525px; width:100%;\"></div>            <script type=\"text/javascript\">                                    window.PLOTLYENV=window.PLOTLYENV || {};                                    if (document.getElementById(\"279e7a1a-c4cc-4262-8581-8723d908db99\")) {                    Plotly.newPlot(                        \"279e7a1a-c4cc-4262-8581-8723d908db99\",                        [{\"alignmentgroup\":\"True\",\"hovertemplate\":\"region=Mid West\\u003cbr\\u003eprovince=%{x}\\u003cbr\\u003ePerc_Region=%{y}\\u003cextra\\u003e\\u003c\\u002fextra\\u003e\",\"legendgroup\":\"Mid West\",\"marker\":{\"color\":\"#636efa\",\"pattern\":{\"shape\":\"\"}},\"name\":\"Mid West\",\"offsetgroup\":\"Mid West\",\"orientation\":\"v\",\"showlegend\":true,\"textposition\":\"auto\",\"x\":[\"IA\",\"IL\",\"IN\",\"KS\",\"MI\",\"MN\",\"MO\",\"ND\",\"NE\",\"OH\",\"SD\",\"WI\"],\"xaxis\":\"x\",\"y\":[3.9,11.2,19.1,3.4,7.7,3.1,9.0,0.7,2.7,34.0,1.0,4.1],\"yaxis\":\"y\",\"type\":\"bar\"},{\"alignmentgroup\":\"True\",\"hovertemplate\":\"region=North East\\u003cbr\\u003eprovince=%{x}\\u003cbr\\u003ePerc_Region=%{y}\\u003cextra\\u003e\\u003c\\u002fextra\\u003e\",\"legendgroup\":\"North East\",\"marker\":{\"color\":\"#EF553B\",\"pattern\":{\"shape\":\"\"}},\"name\":\"North East\",\"offsetgroup\":\"North East\",\"orientation\":\"v\",\"showlegend\":true,\"textposition\":\"auto\",\"x\":[\"CT\",\"MA\",\"NJ\",\"NY\",\"PA\"],\"xaxis\":\"x\",\"y\":[0.3,0.5,0.5,46.5,52.2],\"yaxis\":\"y\",\"type\":\"bar\"},{\"alignmentgroup\":\"True\",\"hovertemplate\":\"region=South\\u003cbr\\u003eprovince=%{x}\\u003cbr\\u003ePerc_Region=%{y}\\u003cextra\\u003e\\u003c\\u002fextra\\u003e\",\"legendgroup\":\"South\",\"marker\":{\"color\":\"#00cc96\",\"pattern\":{\"shape\":\"\"}},\"name\":\"South\",\"offsetgroup\":\"South\",\"orientation\":\"v\",\"showlegend\":true,\"textposition\":\"auto\",\"x\":[\"AL\",\"AR\",\"DC\",\"DE\",\"FL\",\"GA\",\"KY\",\"LA\",\"MD\",\"MS\",\"NC\",\"OK\",\"SC\",\"TN\",\"TX\",\"UT\",\"VA\",\"WV\"],\"xaxis\":\"x\",\"y\":[13.6,2.7,0.4,0.5,15.8,5.1,3.0,3.4,2.4,2.1,14.2,3.1,6.9,5.2,9.1,1.6,7.4,3.3],\"yaxis\":\"y\",\"type\":\"bar\"},{\"alignmentgroup\":\"True\",\"hovertemplate\":\"region=West\\u003cbr\\u003eprovince=%{x}\\u003cbr\\u003ePerc_Region=%{y}\\u003cextra\\u003e\\u003c\\u002fextra\\u003e\",\"legendgroup\":\"West\",\"marker\":{\"color\":\"#ab63fa\",\"pattern\":{\"shape\":\"\"}},\"name\":\"West\",\"offsetgroup\":\"West\",\"orientation\":\"v\",\"showlegend\":true,\"textposition\":\"auto\",\"x\":[\"AK\",\"AZ\",\"CA\",\"CO\",\"HI\",\"ID\",\"MT\",\"NM\",\"NV\",\"OR\",\"WA\",\"WY\"],\"xaxis\":\"x\",\"y\":[2.9,8.3,32.4,6.9,4.1,2.9,1.5,3.1,4.3,14.9,18.0,0.9],\"yaxis\":\"y\",\"type\":\"bar\"}],                        {\"template\":{\"data\":{\"histogram2dcontour\":[{\"type\":\"histogram2dcontour\",\"colorbar\":{\"outlinewidth\":0,\"ticks\":\"\"},\"colorscale\":[[0.0,\"#0d0887\"],[0.1111111111111111,\"#46039f\"],[0.2222222222222222,\"#7201a8\"],[0.3333333333333333,\"#9c179e\"],[0.4444444444444444,\"#bd3786\"],[0.5555555555555556,\"#d8576b\"],[0.6666666666666666,\"#ed7953\"],[0.7777777777777778,\"#fb9f3a\"],[0.8888888888888888,\"#fdca26\"],[1.0,\"#f0f921\"]]}],\"choropleth\":[{\"type\":\"choropleth\",\"colorbar\":{\"outlinewidth\":0,\"ticks\":\"\"}}],\"histogram2d\":[{\"type\":\"histogram2d\",\"colorbar\":{\"outlinewidth\":0,\"ticks\":\"\"},\"colorscale\":[[0.0,\"#0d0887\"],[0.1111111111111111,\"#46039f\"],[0.2222222222222222,\"#7201a8\"],[0.3333333333333333,\"#9c179e\"],[0.4444444444444444,\"#bd3786\"],[0.5555555555555556,\"#d8576b\"],[0.6666666666666666,\"#ed7953\"],[0.7777777777777778,\"#fb9f3a\"],[0.8888888888888888,\"#fdca26\"],[1.0,\"#f0f921\"]]}],\"heatmap\":[{\"type\":\"heatmap\",\"colorbar\":{\"outlinewidth\":0,\"ticks\":\"\"},\"colorscale\":[[0.0,\"#0d0887\"],[0.1111111111111111,\"#46039f\"],[0.2222222222222222,\"#7201a8\"],[0.3333333333333333,\"#9c179e\"],[0.4444444444444444,\"#bd3786\"],[0.5555555555555556,\"#d8576b\"],[0.6666666666666666,\"#ed7953\"],[0.7777777777777778,\"#fb9f3a\"],[0.8888888888888888,\"#fdca26\"],[1.0,\"#f0f921\"]]}],\"heatmapgl\":[{\"type\":\"heatmapgl\",\"colorbar\":{\"outlinewidth\":0,\"ticks\":\"\"},\"colorscale\":[[0.0,\"#0d0887\"],[0.1111111111111111,\"#46039f\"],[0.2222222222222222,\"#7201a8\"],[0.3333333333333333,\"#9c179e\"],[0.4444444444444444,\"#bd3786\"],[0.5555555555555556,\"#d8576b\"],[0.6666666666666666,\"#ed7953\"],[0.7777777777777778,\"#fb9f3a\"],[0.8888888888888888,\"#fdca26\"],[1.0,\"#f0f921\"]]}],\"contourcarpet\":[{\"type\":\"contourcarpet\",\"colorbar\":{\"outlinewidth\":0,\"ticks\":\"\"}}],\"contour\":[{\"type\":\"contour\",\"colorbar\":{\"outlinewidth\":0,\"ticks\":\"\"},\"colorscale\":[[0.0,\"#0d0887\"],[0.1111111111111111,\"#46039f\"],[0.2222222222222222,\"#7201a8\"],[0.3333333333333333,\"#9c179e\"],[0.4444444444444444,\"#bd3786\"],[0.5555555555555556,\"#d8576b\"],[0.6666666666666666,\"#ed7953\"],[0.7777777777777778,\"#fb9f3a\"],[0.8888888888888888,\"#fdca26\"],[1.0,\"#f0f921\"]]}],\"surface\":[{\"type\":\"surface\",\"colorbar\":{\"outlinewidth\":0,\"ticks\":\"\"},\"colorscale\":[[0.0,\"#0d0887\"],[0.1111111111111111,\"#46039f\"],[0.2222222222222222,\"#7201a8\"],[0.3333333333333333,\"#9c179e\"],[0.4444444444444444,\"#bd3786\"],[0.5555555555555556,\"#d8576b\"],[0.6666666666666666,\"#ed7953\"],[0.7777777777777778,\"#fb9f3a\"],[0.8888888888888888,\"#fdca26\"],[1.0,\"#f0f921\"]]}],\"mesh3d\":[{\"type\":\"mesh3d\",\"colorbar\":{\"outlinewidth\":0,\"ticks\":\"\"}}],\"scatter\":[{\"fillpattern\":{\"fillmode\":\"overlay\",\"size\":10,\"solidity\":0.2},\"type\":\"scatter\"}],\"parcoords\":[{\"type\":\"parcoords\",\"line\":{\"colorbar\":{\"outlinewidth\":0,\"ticks\":\"\"}}}],\"scatterpolargl\":[{\"type\":\"scatterpolargl\",\"marker\":{\"colorbar\":{\"outlinewidth\":0,\"ticks\":\"\"}}}],\"bar\":[{\"error_x\":{\"color\":\"#2a3f5f\"},\"error_y\":{\"color\":\"#2a3f5f\"},\"marker\":{\"line\":{\"color\":\"#E5ECF6\",\"width\":0.5},\"pattern\":{\"fillmode\":\"overlay\",\"size\":10,\"solidity\":0.2}},\"type\":\"bar\"}],\"scattergeo\":[{\"type\":\"scattergeo\",\"marker\":{\"colorbar\":{\"outlinewidth\":0,\"ticks\":\"\"}}}],\"scatterpolar\":[{\"type\":\"scatterpolar\",\"marker\":{\"colorbar\":{\"outlinewidth\":0,\"ticks\":\"\"}}}],\"histogram\":[{\"marker\":{\"pattern\":{\"fillmode\":\"overlay\",\"size\":10,\"solidity\":0.2}},\"type\":\"histogram\"}],\"scattergl\":[{\"type\":\"scattergl\",\"marker\":{\"colorbar\":{\"outlinewidth\":0,\"ticks\":\"\"}}}],\"scatter3d\":[{\"type\":\"scatter3d\",\"line\":{\"colorbar\":{\"outlinewidth\":0,\"ticks\":\"\"}},\"marker\":{\"colorbar\":{\"outlinewidth\":0,\"ticks\":\"\"}}}],\"scattermapbox\":[{\"type\":\"scattermapbox\",\"marker\":{\"colorbar\":{\"outlinewidth\":0,\"ticks\":\"\"}}}],\"scatterternary\":[{\"type\":\"scatterternary\",\"marker\":{\"colorbar\":{\"outlinewidth\":0,\"ticks\":\"\"}}}],\"scattercarpet\":[{\"type\":\"scattercarpet\",\"marker\":{\"colorbar\":{\"outlinewidth\":0,\"ticks\":\"\"}}}],\"carpet\":[{\"aaxis\":{\"endlinecolor\":\"#2a3f5f\",\"gridcolor\":\"white\",\"linecolor\":\"white\",\"minorgridcolor\":\"white\",\"startlinecolor\":\"#2a3f5f\"},\"baxis\":{\"endlinecolor\":\"#2a3f5f\",\"gridcolor\":\"white\",\"linecolor\":\"white\",\"minorgridcolor\":\"white\",\"startlinecolor\":\"#2a3f5f\"},\"type\":\"carpet\"}],\"table\":[{\"cells\":{\"fill\":{\"color\":\"#EBF0F8\"},\"line\":{\"color\":\"white\"}},\"header\":{\"fill\":{\"color\":\"#C8D4E3\"},\"line\":{\"color\":\"white\"}},\"type\":\"table\"}],\"barpolar\":[{\"marker\":{\"line\":{\"color\":\"#E5ECF6\",\"width\":0.5},\"pattern\":{\"fillmode\":\"overlay\",\"size\":10,\"solidity\":0.2}},\"type\":\"barpolar\"}],\"pie\":[{\"automargin\":true,\"type\":\"pie\"}]},\"layout\":{\"autotypenumbers\":\"strict\",\"colorway\":[\"#636efa\",\"#EF553B\",\"#00cc96\",\"#ab63fa\",\"#FFA15A\",\"#19d3f3\",\"#FF6692\",\"#B6E880\",\"#FF97FF\",\"#FECB52\"],\"font\":{\"color\":\"#2a3f5f\"},\"hovermode\":\"closest\",\"hoverlabel\":{\"align\":\"left\"},\"paper_bgcolor\":\"white\",\"plot_bgcolor\":\"#E5ECF6\",\"polar\":{\"bgcolor\":\"#E5ECF6\",\"angularaxis\":{\"gridcolor\":\"white\",\"linecolor\":\"white\",\"ticks\":\"\"},\"radialaxis\":{\"gridcolor\":\"white\",\"linecolor\":\"white\",\"ticks\":\"\"}},\"ternary\":{\"bgcolor\":\"#E5ECF6\",\"aaxis\":{\"gridcolor\":\"white\",\"linecolor\":\"white\",\"ticks\":\"\"},\"baxis\":{\"gridcolor\":\"white\",\"linecolor\":\"white\",\"ticks\":\"\"},\"caxis\":{\"gridcolor\":\"white\",\"linecolor\":\"white\",\"ticks\":\"\"}},\"coloraxis\":{\"colorbar\":{\"outlinewidth\":0,\"ticks\":\"\"}},\"colorscale\":{\"sequential\":[[0.0,\"#0d0887\"],[0.1111111111111111,\"#46039f\"],[0.2222222222222222,\"#7201a8\"],[0.3333333333333333,\"#9c179e\"],[0.4444444444444444,\"#bd3786\"],[0.5555555555555556,\"#d8576b\"],[0.6666666666666666,\"#ed7953\"],[0.7777777777777778,\"#fb9f3a\"],[0.8888888888888888,\"#fdca26\"],[1.0,\"#f0f921\"]],\"sequentialminus\":[[0.0,\"#0d0887\"],[0.1111111111111111,\"#46039f\"],[0.2222222222222222,\"#7201a8\"],[0.3333333333333333,\"#9c179e\"],[0.4444444444444444,\"#bd3786\"],[0.5555555555555556,\"#d8576b\"],[0.6666666666666666,\"#ed7953\"],[0.7777777777777778,\"#fb9f3a\"],[0.8888888888888888,\"#fdca26\"],[1.0,\"#f0f921\"]],\"diverging\":[[0,\"#8e0152\"],[0.1,\"#c51b7d\"],[0.2,\"#de77ae\"],[0.3,\"#f1b6da\"],[0.4,\"#fde0ef\"],[0.5,\"#f7f7f7\"],[0.6,\"#e6f5d0\"],[0.7,\"#b8e186\"],[0.8,\"#7fbc41\"],[0.9,\"#4d9221\"],[1,\"#276419\"]]},\"xaxis\":{\"gridcolor\":\"white\",\"linecolor\":\"white\",\"ticks\":\"\",\"title\":{\"standoff\":15},\"zerolinecolor\":\"white\",\"automargin\":true,\"zerolinewidth\":2},\"yaxis\":{\"gridcolor\":\"white\",\"linecolor\":\"white\",\"ticks\":\"\",\"title\":{\"standoff\":15},\"zerolinecolor\":\"white\",\"automargin\":true,\"zerolinewidth\":2},\"scene\":{\"xaxis\":{\"backgroundcolor\":\"#E5ECF6\",\"gridcolor\":\"white\",\"linecolor\":\"white\",\"showbackground\":true,\"ticks\":\"\",\"zerolinecolor\":\"white\",\"gridwidth\":2},\"yaxis\":{\"backgroundcolor\":\"#E5ECF6\",\"gridcolor\":\"white\",\"linecolor\":\"white\",\"showbackground\":true,\"ticks\":\"\",\"zerolinecolor\":\"white\",\"gridwidth\":2},\"zaxis\":{\"backgroundcolor\":\"#E5ECF6\",\"gridcolor\":\"white\",\"linecolor\":\"white\",\"showbackground\":true,\"ticks\":\"\",\"zerolinecolor\":\"white\",\"gridwidth\":2}},\"shapedefaults\":{\"line\":{\"color\":\"#2a3f5f\"}},\"annotationdefaults\":{\"arrowcolor\":\"#2a3f5f\",\"arrowhead\":0,\"arrowwidth\":1},\"geo\":{\"bgcolor\":\"white\",\"landcolor\":\"#E5ECF6\",\"subunitcolor\":\"white\",\"showland\":true,\"showlakes\":true,\"lakecolor\":\"white\"},\"title\":{\"x\":0.05},\"mapbox\":{\"style\":\"light\"}}},\"xaxis\":{\"anchor\":\"y\",\"domain\":[0.0,1.0],\"title\":{\"text\":\"State\"}},\"yaxis\":{\"anchor\":\"x\",\"domain\":[0.0,1.0],\"title\":{\"text\":\"Percentage\"}},\"legend\":{\"title\":{\"text\":\"region\"},\"tracegroupgap\":0},\"title\":{\"text\":\"Fast Food Restaurant Presence (%): Percentages are at Regional Level and not Overall\"},\"barmode\":\"relative\"},                        {\"responsive\": true}                    ).then(function(){\n",
              "                            \n",
              "var gd = document.getElementById('279e7a1a-c4cc-4262-8581-8723d908db99');\n",
              "var x = new MutationObserver(function (mutations, observer) {{\n",
              "        var display = window.getComputedStyle(gd).display;\n",
              "        if (!display || display === 'none') {{\n",
              "            console.log([gd, 'removed!']);\n",
              "            Plotly.purge(gd);\n",
              "            observer.disconnect();\n",
              "        }}\n",
              "}});\n",
              "\n",
              "// Listen for the removal of the full notebook cells\n",
              "var notebookContainer = gd.closest('#notebook-container');\n",
              "if (notebookContainer) {{\n",
              "    x.observe(notebookContainer, {childList: true});\n",
              "}}\n",
              "\n",
              "// Listen for the clearing of the current output cell\n",
              "var outputEl = gd.closest('.output');\n",
              "if (outputEl) {{\n",
              "    x.observe(outputEl, {childList: true});\n",
              "}}\n",
              "\n",
              "                        })                };                            </script>        </div>\n",
              "</body>\n",
              "</html>"
            ]
          },
          "metadata": {}
        }
      ]
    },
    {
      "cell_type": "markdown",
      "source": [
        "**Observation**\n",
        "- In the West, California accounts for 32.4% of the total number of restaurants, and Washington and Oregon are still a long way off, accounting for about 18% and 14.9% respectively.\n",
        "\n",
        "- Florida (15.8%) and North Carolina (14.2%) are the top two markets in the South, while Pennsylvania (52.2%) and New York (46.5%) lead the Northeast.\n",
        "\n",
        "- In the Midwest, Ohio has the highest at about 34%."
      ],
      "metadata": {
        "id": "hL6MYSo2-LzX"
      }
    },
    {
      "cell_type": "markdown",
      "source": [
        "**Now an overall view as well of fast food restaurants**"
      ],
      "metadata": {
        "id": "YLZqivApJF0Z"
      }
    },
    {
      "cell_type": "code",
      "source": [
        "state_counts = df.groupby(['province']).agg({'name':'count'})\n",
        "state_counts.columns = ['Count of Brands']\n",
        "state_counts.sort_values('Count of Brands',ascending=False,inplace=True)\n",
        "state_counts.reset_index(inplace=True)\n",
        "\n",
        "state_counts['Perc']=100*state_counts['Count of Brands']/state_counts['Count of Brands'].sum()\n",
        "\n",
        "fig=px.bar(state_counts,x=\"province\",y=\"Perc\")\n",
        "fig.update_traces(marker_color='Turquoise')\n",
        "fig.update_layout(xaxis_title=\"State\",yaxis_title=\"Percentage\",title=\"Fast Food Restaurant Presence(%)\")\n",
        "fig.show()"
      ],
      "metadata": {
        "id": "RI90SQneJDEp",
        "colab": {
          "base_uri": "https://localhost:8080/",
          "height": 542
        },
        "outputId": "974b66df-ad60-4485-9234-df09d6f7d2f7"
      },
      "execution_count": null,
      "outputs": [
        {
          "output_type": "display_data",
          "data": {
            "text/html": [
              "<html>\n",
              "<head><meta charset=\"utf-8\" /></head>\n",
              "<body>\n",
              "    <div>            <script src=\"https://cdnjs.cloudflare.com/ajax/libs/mathjax/2.7.5/MathJax.js?config=TeX-AMS-MML_SVG\"></script><script type=\"text/javascript\">if (window.MathJax && window.MathJax.Hub && window.MathJax.Hub.Config) {window.MathJax.Hub.Config({SVG: {font: \"STIX-Web\"}});}</script>                <script type=\"text/javascript\">window.PlotlyConfig = {MathJaxConfig: 'local'};</script>\n",
              "        <script charset=\"utf-8\" src=\"https://cdn.plot.ly/plotly-2.24.1.min.js\"></script>                <div id=\"30edb739-296b-4b20-9728-8693e9f20a0e\" class=\"plotly-graph-div\" style=\"height:525px; width:100%;\"></div>            <script type=\"text/javascript\">                                    window.PLOTLYENV=window.PLOTLYENV || {};                                    if (document.getElementById(\"30edb739-296b-4b20-9728-8693e9f20a0e\")) {                    Plotly.newPlot(                        \"30edb739-296b-4b20-9728-8693e9f20a0e\",                        [{\"alignmentgroup\":\"True\",\"hovertemplate\":\"province=%{x}\\u003cbr\\u003ePerc=%{y}\\u003cextra\\u003e\\u003c\\u002fextra\\u003e\",\"legendgroup\":\"\",\"marker\":{\"color\":\"Turquoise\",\"pattern\":{\"shape\":\"\"}},\"name\":\"\",\"offsetgroup\":\"\",\"orientation\":\"v\",\"showlegend\":false,\"textposition\":\"auto\",\"x\":[\"OH\",\"FL\",\"CA\",\"NC\",\"AL\",\"IN\",\"TX\",\"WA\",\"VA\",\"OR\",\"SC\",\"IL\",\"MO\",\"TN\",\"GA\",\"MI\",\"PA\",\"AZ\",\"NY\",\"LA\",\"CO\",\"WV\",\"OK\",\"KY\",\"AR\",\"MD\",\"WI\",\"IA\",\"MS\",\"NV\",\"KS\",\"HI\",\"MN\",\"UT\",\"NE\",\"NM\",\"ID\",\"AK\",\"MT\",\"SD\",\"DE\",\"WY\",\"ND\",\"DC\",\"NJ\",\"MA\",\"CT\"],\"xaxis\":\"x\",\"y\":[9.22,7.39,7.27,6.63,6.35,5.19,4.26,4.04,3.48,3.34,3.22,3.05,2.44,2.43,2.38,2.1,1.94,1.86,1.73,1.61,1.54,1.54,1.47,1.42,1.24,1.14,1.12,1.07,0.99,0.96,0.92,0.91,0.83,0.74,0.74,0.69,0.65,0.64,0.33,0.27,0.25,0.2,0.18,0.18,0.02,0.02,0.01],\"yaxis\":\"y\",\"type\":\"bar\"}],                        {\"template\":{\"data\":{\"histogram2dcontour\":[{\"type\":\"histogram2dcontour\",\"colorbar\":{\"outlinewidth\":0,\"ticks\":\"\"},\"colorscale\":[[0.0,\"#0d0887\"],[0.1111111111111111,\"#46039f\"],[0.2222222222222222,\"#7201a8\"],[0.3333333333333333,\"#9c179e\"],[0.4444444444444444,\"#bd3786\"],[0.5555555555555556,\"#d8576b\"],[0.6666666666666666,\"#ed7953\"],[0.7777777777777778,\"#fb9f3a\"],[0.8888888888888888,\"#fdca26\"],[1.0,\"#f0f921\"]]}],\"choropleth\":[{\"type\":\"choropleth\",\"colorbar\":{\"outlinewidth\":0,\"ticks\":\"\"}}],\"histogram2d\":[{\"type\":\"histogram2d\",\"colorbar\":{\"outlinewidth\":0,\"ticks\":\"\"},\"colorscale\":[[0.0,\"#0d0887\"],[0.1111111111111111,\"#46039f\"],[0.2222222222222222,\"#7201a8\"],[0.3333333333333333,\"#9c179e\"],[0.4444444444444444,\"#bd3786\"],[0.5555555555555556,\"#d8576b\"],[0.6666666666666666,\"#ed7953\"],[0.7777777777777778,\"#fb9f3a\"],[0.8888888888888888,\"#fdca26\"],[1.0,\"#f0f921\"]]}],\"heatmap\":[{\"type\":\"heatmap\",\"colorbar\":{\"outlinewidth\":0,\"ticks\":\"\"},\"colorscale\":[[0.0,\"#0d0887\"],[0.1111111111111111,\"#46039f\"],[0.2222222222222222,\"#7201a8\"],[0.3333333333333333,\"#9c179e\"],[0.4444444444444444,\"#bd3786\"],[0.5555555555555556,\"#d8576b\"],[0.6666666666666666,\"#ed7953\"],[0.7777777777777778,\"#fb9f3a\"],[0.8888888888888888,\"#fdca26\"],[1.0,\"#f0f921\"]]}],\"heatmapgl\":[{\"type\":\"heatmapgl\",\"colorbar\":{\"outlinewidth\":0,\"ticks\":\"\"},\"colorscale\":[[0.0,\"#0d0887\"],[0.1111111111111111,\"#46039f\"],[0.2222222222222222,\"#7201a8\"],[0.3333333333333333,\"#9c179e\"],[0.4444444444444444,\"#bd3786\"],[0.5555555555555556,\"#d8576b\"],[0.6666666666666666,\"#ed7953\"],[0.7777777777777778,\"#fb9f3a\"],[0.8888888888888888,\"#fdca26\"],[1.0,\"#f0f921\"]]}],\"contourcarpet\":[{\"type\":\"contourcarpet\",\"colorbar\":{\"outlinewidth\":0,\"ticks\":\"\"}}],\"contour\":[{\"type\":\"contour\",\"colorbar\":{\"outlinewidth\":0,\"ticks\":\"\"},\"colorscale\":[[0.0,\"#0d0887\"],[0.1111111111111111,\"#46039f\"],[0.2222222222222222,\"#7201a8\"],[0.3333333333333333,\"#9c179e\"],[0.4444444444444444,\"#bd3786\"],[0.5555555555555556,\"#d8576b\"],[0.6666666666666666,\"#ed7953\"],[0.7777777777777778,\"#fb9f3a\"],[0.8888888888888888,\"#fdca26\"],[1.0,\"#f0f921\"]]}],\"surface\":[{\"type\":\"surface\",\"colorbar\":{\"outlinewidth\":0,\"ticks\":\"\"},\"colorscale\":[[0.0,\"#0d0887\"],[0.1111111111111111,\"#46039f\"],[0.2222222222222222,\"#7201a8\"],[0.3333333333333333,\"#9c179e\"],[0.4444444444444444,\"#bd3786\"],[0.5555555555555556,\"#d8576b\"],[0.6666666666666666,\"#ed7953\"],[0.7777777777777778,\"#fb9f3a\"],[0.8888888888888888,\"#fdca26\"],[1.0,\"#f0f921\"]]}],\"mesh3d\":[{\"type\":\"mesh3d\",\"colorbar\":{\"outlinewidth\":0,\"ticks\":\"\"}}],\"scatter\":[{\"fillpattern\":{\"fillmode\":\"overlay\",\"size\":10,\"solidity\":0.2},\"type\":\"scatter\"}],\"parcoords\":[{\"type\":\"parcoords\",\"line\":{\"colorbar\":{\"outlinewidth\":0,\"ticks\":\"\"}}}],\"scatterpolargl\":[{\"type\":\"scatterpolargl\",\"marker\":{\"colorbar\":{\"outlinewidth\":0,\"ticks\":\"\"}}}],\"bar\":[{\"error_x\":{\"color\":\"#2a3f5f\"},\"error_y\":{\"color\":\"#2a3f5f\"},\"marker\":{\"line\":{\"color\":\"#E5ECF6\",\"width\":0.5},\"pattern\":{\"fillmode\":\"overlay\",\"size\":10,\"solidity\":0.2}},\"type\":\"bar\"}],\"scattergeo\":[{\"type\":\"scattergeo\",\"marker\":{\"colorbar\":{\"outlinewidth\":0,\"ticks\":\"\"}}}],\"scatterpolar\":[{\"type\":\"scatterpolar\",\"marker\":{\"colorbar\":{\"outlinewidth\":0,\"ticks\":\"\"}}}],\"histogram\":[{\"marker\":{\"pattern\":{\"fillmode\":\"overlay\",\"size\":10,\"solidity\":0.2}},\"type\":\"histogram\"}],\"scattergl\":[{\"type\":\"scattergl\",\"marker\":{\"colorbar\":{\"outlinewidth\":0,\"ticks\":\"\"}}}],\"scatter3d\":[{\"type\":\"scatter3d\",\"line\":{\"colorbar\":{\"outlinewidth\":0,\"ticks\":\"\"}},\"marker\":{\"colorbar\":{\"outlinewidth\":0,\"ticks\":\"\"}}}],\"scattermapbox\":[{\"type\":\"scattermapbox\",\"marker\":{\"colorbar\":{\"outlinewidth\":0,\"ticks\":\"\"}}}],\"scatterternary\":[{\"type\":\"scatterternary\",\"marker\":{\"colorbar\":{\"outlinewidth\":0,\"ticks\":\"\"}}}],\"scattercarpet\":[{\"type\":\"scattercarpet\",\"marker\":{\"colorbar\":{\"outlinewidth\":0,\"ticks\":\"\"}}}],\"carpet\":[{\"aaxis\":{\"endlinecolor\":\"#2a3f5f\",\"gridcolor\":\"white\",\"linecolor\":\"white\",\"minorgridcolor\":\"white\",\"startlinecolor\":\"#2a3f5f\"},\"baxis\":{\"endlinecolor\":\"#2a3f5f\",\"gridcolor\":\"white\",\"linecolor\":\"white\",\"minorgridcolor\":\"white\",\"startlinecolor\":\"#2a3f5f\"},\"type\":\"carpet\"}],\"table\":[{\"cells\":{\"fill\":{\"color\":\"#EBF0F8\"},\"line\":{\"color\":\"white\"}},\"header\":{\"fill\":{\"color\":\"#C8D4E3\"},\"line\":{\"color\":\"white\"}},\"type\":\"table\"}],\"barpolar\":[{\"marker\":{\"line\":{\"color\":\"#E5ECF6\",\"width\":0.5},\"pattern\":{\"fillmode\":\"overlay\",\"size\":10,\"solidity\":0.2}},\"type\":\"barpolar\"}],\"pie\":[{\"automargin\":true,\"type\":\"pie\"}]},\"layout\":{\"autotypenumbers\":\"strict\",\"colorway\":[\"#636efa\",\"#EF553B\",\"#00cc96\",\"#ab63fa\",\"#FFA15A\",\"#19d3f3\",\"#FF6692\",\"#B6E880\",\"#FF97FF\",\"#FECB52\"],\"font\":{\"color\":\"#2a3f5f\"},\"hovermode\":\"closest\",\"hoverlabel\":{\"align\":\"left\"},\"paper_bgcolor\":\"white\",\"plot_bgcolor\":\"#E5ECF6\",\"polar\":{\"bgcolor\":\"#E5ECF6\",\"angularaxis\":{\"gridcolor\":\"white\",\"linecolor\":\"white\",\"ticks\":\"\"},\"radialaxis\":{\"gridcolor\":\"white\",\"linecolor\":\"white\",\"ticks\":\"\"}},\"ternary\":{\"bgcolor\":\"#E5ECF6\",\"aaxis\":{\"gridcolor\":\"white\",\"linecolor\":\"white\",\"ticks\":\"\"},\"baxis\":{\"gridcolor\":\"white\",\"linecolor\":\"white\",\"ticks\":\"\"},\"caxis\":{\"gridcolor\":\"white\",\"linecolor\":\"white\",\"ticks\":\"\"}},\"coloraxis\":{\"colorbar\":{\"outlinewidth\":0,\"ticks\":\"\"}},\"colorscale\":{\"sequential\":[[0.0,\"#0d0887\"],[0.1111111111111111,\"#46039f\"],[0.2222222222222222,\"#7201a8\"],[0.3333333333333333,\"#9c179e\"],[0.4444444444444444,\"#bd3786\"],[0.5555555555555556,\"#d8576b\"],[0.6666666666666666,\"#ed7953\"],[0.7777777777777778,\"#fb9f3a\"],[0.8888888888888888,\"#fdca26\"],[1.0,\"#f0f921\"]],\"sequentialminus\":[[0.0,\"#0d0887\"],[0.1111111111111111,\"#46039f\"],[0.2222222222222222,\"#7201a8\"],[0.3333333333333333,\"#9c179e\"],[0.4444444444444444,\"#bd3786\"],[0.5555555555555556,\"#d8576b\"],[0.6666666666666666,\"#ed7953\"],[0.7777777777777778,\"#fb9f3a\"],[0.8888888888888888,\"#fdca26\"],[1.0,\"#f0f921\"]],\"diverging\":[[0,\"#8e0152\"],[0.1,\"#c51b7d\"],[0.2,\"#de77ae\"],[0.3,\"#f1b6da\"],[0.4,\"#fde0ef\"],[0.5,\"#f7f7f7\"],[0.6,\"#e6f5d0\"],[0.7,\"#b8e186\"],[0.8,\"#7fbc41\"],[0.9,\"#4d9221\"],[1,\"#276419\"]]},\"xaxis\":{\"gridcolor\":\"white\",\"linecolor\":\"white\",\"ticks\":\"\",\"title\":{\"standoff\":15},\"zerolinecolor\":\"white\",\"automargin\":true,\"zerolinewidth\":2},\"yaxis\":{\"gridcolor\":\"white\",\"linecolor\":\"white\",\"ticks\":\"\",\"title\":{\"standoff\":15},\"zerolinecolor\":\"white\",\"automargin\":true,\"zerolinewidth\":2},\"scene\":{\"xaxis\":{\"backgroundcolor\":\"#E5ECF6\",\"gridcolor\":\"white\",\"linecolor\":\"white\",\"showbackground\":true,\"ticks\":\"\",\"zerolinecolor\":\"white\",\"gridwidth\":2},\"yaxis\":{\"backgroundcolor\":\"#E5ECF6\",\"gridcolor\":\"white\",\"linecolor\":\"white\",\"showbackground\":true,\"ticks\":\"\",\"zerolinecolor\":\"white\",\"gridwidth\":2},\"zaxis\":{\"backgroundcolor\":\"#E5ECF6\",\"gridcolor\":\"white\",\"linecolor\":\"white\",\"showbackground\":true,\"ticks\":\"\",\"zerolinecolor\":\"white\",\"gridwidth\":2}},\"shapedefaults\":{\"line\":{\"color\":\"#2a3f5f\"}},\"annotationdefaults\":{\"arrowcolor\":\"#2a3f5f\",\"arrowhead\":0,\"arrowwidth\":1},\"geo\":{\"bgcolor\":\"white\",\"landcolor\":\"#E5ECF6\",\"subunitcolor\":\"white\",\"showland\":true,\"showlakes\":true,\"lakecolor\":\"white\"},\"title\":{\"x\":0.05},\"mapbox\":{\"style\":\"light\"}}},\"xaxis\":{\"anchor\":\"y\",\"domain\":[0.0,1.0],\"title\":{\"text\":\"State\"}},\"yaxis\":{\"anchor\":\"x\",\"domain\":[0.0,1.0],\"title\":{\"text\":\"Percentage\"}},\"legend\":{\"tracegroupgap\":0},\"margin\":{\"t\":60},\"barmode\":\"relative\",\"title\":{\"text\":\"Fast Food Restaurant Presence(%)\"}},                        {\"responsive\": true}                    ).then(function(){\n",
              "                            \n",
              "var gd = document.getElementById('30edb739-296b-4b20-9728-8693e9f20a0e');\n",
              "var x = new MutationObserver(function (mutations, observer) {{\n",
              "        var display = window.getComputedStyle(gd).display;\n",
              "        if (!display || display === 'none') {{\n",
              "            console.log([gd, 'removed!']);\n",
              "            Plotly.purge(gd);\n",
              "            observer.disconnect();\n",
              "        }}\n",
              "}});\n",
              "\n",
              "// Listen for the removal of the full notebook cells\n",
              "var notebookContainer = gd.closest('#notebook-container');\n",
              "if (notebookContainer) {{\n",
              "    x.observe(notebookContainer, {childList: true});\n",
              "}}\n",
              "\n",
              "// Listen for the clearing of the current output cell\n",
              "var outputEl = gd.closest('.output');\n",
              "if (outputEl) {{\n",
              "    x.observe(outputEl, {childList: true});\n",
              "}}\n",
              "\n",
              "                        })                };                            </script>        </div>\n",
              "</body>\n",
              "</html>"
            ]
          },
          "metadata": {}
        }
      ]
    },
    {
      "cell_type": "markdown",
      "source": [
        "**Observation**\n",
        "\n",
        "- Ohio (9.2%), Florida (7.3%), California (7.2%), North Carolina (6.6%) and Alabama (6.3%) are top 5 markets in US\n",
        "- Connecticut, Massachusetts, New Jersey, North Dakota rank least"
      ],
      "metadata": {
        "id": "nU14VRWrJeIy"
      }
    },
    {
      "cell_type": "markdown",
      "source": [
        "**3. Analyze Brand Presence by Geographics**"
      ],
      "metadata": {
        "id": "oEbo3s7nA38w"
      }
    },
    {
      "cell_type": "markdown",
      "source": [
        "# **Interactive Aggregation Visualization 2**"
      ],
      "metadata": {
        "id": "GahlTVO2POLw"
      }
    },
    {
      "cell_type": "markdown",
      "source": [
        "**Lets examine market share by Region**"
      ],
      "metadata": {
        "id": "Bl_wxANaK-NC"
      }
    },
    {
      "cell_type": "code",
      "source": [
        "region_counts=df.groupby(['region']).agg({'name':'count'})\n",
        "region_counts.columns=['Count of Brands']\n",
        "\n",
        "region_counts.sort_values('Count of Brands', ascending=False,inplace=True)\n",
        "region_counts['perc']=100*region_counts['Count of Brands']/region_counts['Count of Brands'].sum()\n",
        "region_counts.reset_index(inplace=True)\n",
        "\n",
        "fig=px.pie(region_counts,values='perc',names='region',title='Brand Presence by Region',width=600,height=500,\n",
        "           color_discrete_sequence=px.colors.sequential.RdBu)\n",
        "fig.show()"
      ],
      "metadata": {
        "id": "eqJ_8JdU6rCN",
        "colab": {
          "base_uri": "https://localhost:8080/",
          "height": 517
        },
        "outputId": "7b0c071e-ca32-4a6f-f130-641c55594f71"
      },
      "execution_count": null,
      "outputs": [
        {
          "output_type": "display_data",
          "data": {
            "text/html": [
              "<html>\n",
              "<head><meta charset=\"utf-8\" /></head>\n",
              "<body>\n",
              "    <div>            <script src=\"https://cdnjs.cloudflare.com/ajax/libs/mathjax/2.7.5/MathJax.js?config=TeX-AMS-MML_SVG\"></script><script type=\"text/javascript\">if (window.MathJax && window.MathJax.Hub && window.MathJax.Hub.Config) {window.MathJax.Hub.Config({SVG: {font: \"STIX-Web\"}});}</script>                <script type=\"text/javascript\">window.PlotlyConfig = {MathJaxConfig: 'local'};</script>\n",
              "        <script charset=\"utf-8\" src=\"https://cdn.plot.ly/plotly-2.24.1.min.js\"></script>                <div id=\"9413ad40-b2f2-4ef8-9f19-8cc764575a04\" class=\"plotly-graph-div\" style=\"height:500px; width:600px;\"></div>            <script type=\"text/javascript\">                                    window.PLOTLYENV=window.PLOTLYENV || {};                                    if (document.getElementById(\"9413ad40-b2f2-4ef8-9f19-8cc764575a04\")) {                    Plotly.newPlot(                        \"9413ad40-b2f2-4ef8-9f19-8cc764575a04\",                        [{\"domain\":{\"x\":[0.0,1.0],\"y\":[0.0,1.0]},\"hovertemplate\":\"region=%{label}\\u003cbr\\u003eperc=%{value}\\u003cextra\\u003e\\u003c\\u002fextra\\u003e\",\"labels\":[\"South\",\"Mid West\",\"West\",\"North East\"],\"legendgroup\":\"\",\"name\":\"\",\"showlegend\":true,\"values\":[46.72,27.13,22.43,3.72],\"type\":\"pie\"}],                        {\"template\":{\"data\":{\"histogram2dcontour\":[{\"type\":\"histogram2dcontour\",\"colorbar\":{\"outlinewidth\":0,\"ticks\":\"\"},\"colorscale\":[[0.0,\"#0d0887\"],[0.1111111111111111,\"#46039f\"],[0.2222222222222222,\"#7201a8\"],[0.3333333333333333,\"#9c179e\"],[0.4444444444444444,\"#bd3786\"],[0.5555555555555556,\"#d8576b\"],[0.6666666666666666,\"#ed7953\"],[0.7777777777777778,\"#fb9f3a\"],[0.8888888888888888,\"#fdca26\"],[1.0,\"#f0f921\"]]}],\"choropleth\":[{\"type\":\"choropleth\",\"colorbar\":{\"outlinewidth\":0,\"ticks\":\"\"}}],\"histogram2d\":[{\"type\":\"histogram2d\",\"colorbar\":{\"outlinewidth\":0,\"ticks\":\"\"},\"colorscale\":[[0.0,\"#0d0887\"],[0.1111111111111111,\"#46039f\"],[0.2222222222222222,\"#7201a8\"],[0.3333333333333333,\"#9c179e\"],[0.4444444444444444,\"#bd3786\"],[0.5555555555555556,\"#d8576b\"],[0.6666666666666666,\"#ed7953\"],[0.7777777777777778,\"#fb9f3a\"],[0.8888888888888888,\"#fdca26\"],[1.0,\"#f0f921\"]]}],\"heatmap\":[{\"type\":\"heatmap\",\"colorbar\":{\"outlinewidth\":0,\"ticks\":\"\"},\"colorscale\":[[0.0,\"#0d0887\"],[0.1111111111111111,\"#46039f\"],[0.2222222222222222,\"#7201a8\"],[0.3333333333333333,\"#9c179e\"],[0.4444444444444444,\"#bd3786\"],[0.5555555555555556,\"#d8576b\"],[0.6666666666666666,\"#ed7953\"],[0.7777777777777778,\"#fb9f3a\"],[0.8888888888888888,\"#fdca26\"],[1.0,\"#f0f921\"]]}],\"heatmapgl\":[{\"type\":\"heatmapgl\",\"colorbar\":{\"outlinewidth\":0,\"ticks\":\"\"},\"colorscale\":[[0.0,\"#0d0887\"],[0.1111111111111111,\"#46039f\"],[0.2222222222222222,\"#7201a8\"],[0.3333333333333333,\"#9c179e\"],[0.4444444444444444,\"#bd3786\"],[0.5555555555555556,\"#d8576b\"],[0.6666666666666666,\"#ed7953\"],[0.7777777777777778,\"#fb9f3a\"],[0.8888888888888888,\"#fdca26\"],[1.0,\"#f0f921\"]]}],\"contourcarpet\":[{\"type\":\"contourcarpet\",\"colorbar\":{\"outlinewidth\":0,\"ticks\":\"\"}}],\"contour\":[{\"type\":\"contour\",\"colorbar\":{\"outlinewidth\":0,\"ticks\":\"\"},\"colorscale\":[[0.0,\"#0d0887\"],[0.1111111111111111,\"#46039f\"],[0.2222222222222222,\"#7201a8\"],[0.3333333333333333,\"#9c179e\"],[0.4444444444444444,\"#bd3786\"],[0.5555555555555556,\"#d8576b\"],[0.6666666666666666,\"#ed7953\"],[0.7777777777777778,\"#fb9f3a\"],[0.8888888888888888,\"#fdca26\"],[1.0,\"#f0f921\"]]}],\"surface\":[{\"type\":\"surface\",\"colorbar\":{\"outlinewidth\":0,\"ticks\":\"\"},\"colorscale\":[[0.0,\"#0d0887\"],[0.1111111111111111,\"#46039f\"],[0.2222222222222222,\"#7201a8\"],[0.3333333333333333,\"#9c179e\"],[0.4444444444444444,\"#bd3786\"],[0.5555555555555556,\"#d8576b\"],[0.6666666666666666,\"#ed7953\"],[0.7777777777777778,\"#fb9f3a\"],[0.8888888888888888,\"#fdca26\"],[1.0,\"#f0f921\"]]}],\"mesh3d\":[{\"type\":\"mesh3d\",\"colorbar\":{\"outlinewidth\":0,\"ticks\":\"\"}}],\"scatter\":[{\"fillpattern\":{\"fillmode\":\"overlay\",\"size\":10,\"solidity\":0.2},\"type\":\"scatter\"}],\"parcoords\":[{\"type\":\"parcoords\",\"line\":{\"colorbar\":{\"outlinewidth\":0,\"ticks\":\"\"}}}],\"scatterpolargl\":[{\"type\":\"scatterpolargl\",\"marker\":{\"colorbar\":{\"outlinewidth\":0,\"ticks\":\"\"}}}],\"bar\":[{\"error_x\":{\"color\":\"#2a3f5f\"},\"error_y\":{\"color\":\"#2a3f5f\"},\"marker\":{\"line\":{\"color\":\"#E5ECF6\",\"width\":0.5},\"pattern\":{\"fillmode\":\"overlay\",\"size\":10,\"solidity\":0.2}},\"type\":\"bar\"}],\"scattergeo\":[{\"type\":\"scattergeo\",\"marker\":{\"colorbar\":{\"outlinewidth\":0,\"ticks\":\"\"}}}],\"scatterpolar\":[{\"type\":\"scatterpolar\",\"marker\":{\"colorbar\":{\"outlinewidth\":0,\"ticks\":\"\"}}}],\"histogram\":[{\"marker\":{\"pattern\":{\"fillmode\":\"overlay\",\"size\":10,\"solidity\":0.2}},\"type\":\"histogram\"}],\"scattergl\":[{\"type\":\"scattergl\",\"marker\":{\"colorbar\":{\"outlinewidth\":0,\"ticks\":\"\"}}}],\"scatter3d\":[{\"type\":\"scatter3d\",\"line\":{\"colorbar\":{\"outlinewidth\":0,\"ticks\":\"\"}},\"marker\":{\"colorbar\":{\"outlinewidth\":0,\"ticks\":\"\"}}}],\"scattermapbox\":[{\"type\":\"scattermapbox\",\"marker\":{\"colorbar\":{\"outlinewidth\":0,\"ticks\":\"\"}}}],\"scatterternary\":[{\"type\":\"scatterternary\",\"marker\":{\"colorbar\":{\"outlinewidth\":0,\"ticks\":\"\"}}}],\"scattercarpet\":[{\"type\":\"scattercarpet\",\"marker\":{\"colorbar\":{\"outlinewidth\":0,\"ticks\":\"\"}}}],\"carpet\":[{\"aaxis\":{\"endlinecolor\":\"#2a3f5f\",\"gridcolor\":\"white\",\"linecolor\":\"white\",\"minorgridcolor\":\"white\",\"startlinecolor\":\"#2a3f5f\"},\"baxis\":{\"endlinecolor\":\"#2a3f5f\",\"gridcolor\":\"white\",\"linecolor\":\"white\",\"minorgridcolor\":\"white\",\"startlinecolor\":\"#2a3f5f\"},\"type\":\"carpet\"}],\"table\":[{\"cells\":{\"fill\":{\"color\":\"#EBF0F8\"},\"line\":{\"color\":\"white\"}},\"header\":{\"fill\":{\"color\":\"#C8D4E3\"},\"line\":{\"color\":\"white\"}},\"type\":\"table\"}],\"barpolar\":[{\"marker\":{\"line\":{\"color\":\"#E5ECF6\",\"width\":0.5},\"pattern\":{\"fillmode\":\"overlay\",\"size\":10,\"solidity\":0.2}},\"type\":\"barpolar\"}],\"pie\":[{\"automargin\":true,\"type\":\"pie\"}]},\"layout\":{\"autotypenumbers\":\"strict\",\"colorway\":[\"#636efa\",\"#EF553B\",\"#00cc96\",\"#ab63fa\",\"#FFA15A\",\"#19d3f3\",\"#FF6692\",\"#B6E880\",\"#FF97FF\",\"#FECB52\"],\"font\":{\"color\":\"#2a3f5f\"},\"hovermode\":\"closest\",\"hoverlabel\":{\"align\":\"left\"},\"paper_bgcolor\":\"white\",\"plot_bgcolor\":\"#E5ECF6\",\"polar\":{\"bgcolor\":\"#E5ECF6\",\"angularaxis\":{\"gridcolor\":\"white\",\"linecolor\":\"white\",\"ticks\":\"\"},\"radialaxis\":{\"gridcolor\":\"white\",\"linecolor\":\"white\",\"ticks\":\"\"}},\"ternary\":{\"bgcolor\":\"#E5ECF6\",\"aaxis\":{\"gridcolor\":\"white\",\"linecolor\":\"white\",\"ticks\":\"\"},\"baxis\":{\"gridcolor\":\"white\",\"linecolor\":\"white\",\"ticks\":\"\"},\"caxis\":{\"gridcolor\":\"white\",\"linecolor\":\"white\",\"ticks\":\"\"}},\"coloraxis\":{\"colorbar\":{\"outlinewidth\":0,\"ticks\":\"\"}},\"colorscale\":{\"sequential\":[[0.0,\"#0d0887\"],[0.1111111111111111,\"#46039f\"],[0.2222222222222222,\"#7201a8\"],[0.3333333333333333,\"#9c179e\"],[0.4444444444444444,\"#bd3786\"],[0.5555555555555556,\"#d8576b\"],[0.6666666666666666,\"#ed7953\"],[0.7777777777777778,\"#fb9f3a\"],[0.8888888888888888,\"#fdca26\"],[1.0,\"#f0f921\"]],\"sequentialminus\":[[0.0,\"#0d0887\"],[0.1111111111111111,\"#46039f\"],[0.2222222222222222,\"#7201a8\"],[0.3333333333333333,\"#9c179e\"],[0.4444444444444444,\"#bd3786\"],[0.5555555555555556,\"#d8576b\"],[0.6666666666666666,\"#ed7953\"],[0.7777777777777778,\"#fb9f3a\"],[0.8888888888888888,\"#fdca26\"],[1.0,\"#f0f921\"]],\"diverging\":[[0,\"#8e0152\"],[0.1,\"#c51b7d\"],[0.2,\"#de77ae\"],[0.3,\"#f1b6da\"],[0.4,\"#fde0ef\"],[0.5,\"#f7f7f7\"],[0.6,\"#e6f5d0\"],[0.7,\"#b8e186\"],[0.8,\"#7fbc41\"],[0.9,\"#4d9221\"],[1,\"#276419\"]]},\"xaxis\":{\"gridcolor\":\"white\",\"linecolor\":\"white\",\"ticks\":\"\",\"title\":{\"standoff\":15},\"zerolinecolor\":\"white\",\"automargin\":true,\"zerolinewidth\":2},\"yaxis\":{\"gridcolor\":\"white\",\"linecolor\":\"white\",\"ticks\":\"\",\"title\":{\"standoff\":15},\"zerolinecolor\":\"white\",\"automargin\":true,\"zerolinewidth\":2},\"scene\":{\"xaxis\":{\"backgroundcolor\":\"#E5ECF6\",\"gridcolor\":\"white\",\"linecolor\":\"white\",\"showbackground\":true,\"ticks\":\"\",\"zerolinecolor\":\"white\",\"gridwidth\":2},\"yaxis\":{\"backgroundcolor\":\"#E5ECF6\",\"gridcolor\":\"white\",\"linecolor\":\"white\",\"showbackground\":true,\"ticks\":\"\",\"zerolinecolor\":\"white\",\"gridwidth\":2},\"zaxis\":{\"backgroundcolor\":\"#E5ECF6\",\"gridcolor\":\"white\",\"linecolor\":\"white\",\"showbackground\":true,\"ticks\":\"\",\"zerolinecolor\":\"white\",\"gridwidth\":2}},\"shapedefaults\":{\"line\":{\"color\":\"#2a3f5f\"}},\"annotationdefaults\":{\"arrowcolor\":\"#2a3f5f\",\"arrowhead\":0,\"arrowwidth\":1},\"geo\":{\"bgcolor\":\"white\",\"landcolor\":\"#E5ECF6\",\"subunitcolor\":\"white\",\"showland\":true,\"showlakes\":true,\"lakecolor\":\"white\"},\"title\":{\"x\":0.05},\"mapbox\":{\"style\":\"light\"}}},\"legend\":{\"tracegroupgap\":0},\"title\":{\"text\":\"Brand Presence by Region\"},\"piecolorway\":[\"rgb(103,0,31)\",\"rgb(178,24,43)\",\"rgb(214,96,77)\",\"rgb(244,165,130)\",\"rgb(253,219,199)\",\"rgb(247,247,247)\",\"rgb(209,229,240)\",\"rgb(146,197,222)\",\"rgb(67,147,195)\",\"rgb(33,102,172)\",\"rgb(5,48,97)\"],\"height\":500,\"width\":600},                        {\"responsive\": true}                    ).then(function(){\n",
              "                            \n",
              "var gd = document.getElementById('9413ad40-b2f2-4ef8-9f19-8cc764575a04');\n",
              "var x = new MutationObserver(function (mutations, observer) {{\n",
              "        var display = window.getComputedStyle(gd).display;\n",
              "        if (!display || display === 'none') {{\n",
              "            console.log([gd, 'removed!']);\n",
              "            Plotly.purge(gd);\n",
              "            observer.disconnect();\n",
              "        }}\n",
              "}});\n",
              "\n",
              "// Listen for the removal of the full notebook cells\n",
              "var notebookContainer = gd.closest('#notebook-container');\n",
              "if (notebookContainer) {{\n",
              "    x.observe(notebookContainer, {childList: true});\n",
              "}}\n",
              "\n",
              "// Listen for the clearing of the current output cell\n",
              "var outputEl = gd.closest('.output');\n",
              "if (outputEl) {{\n",
              "    x.observe(outputEl, {childList: true});\n",
              "}}\n",
              "\n",
              "                        })                };                            </script>        </div>\n",
              "</body>\n",
              "</html>"
            ]
          },
          "metadata": {}
        }
      ]
    },
    {
      "cell_type": "markdown",
      "source": [
        "**Observation**\n",
        "\n",
        "- With 46.7% of fast food restaurants located at South takes the top spot while North East contains only 3.72%.\n",
        "\n",
        "- For Brands looking to enter the market or expand their footprint, South and Mid West are favourable."
      ],
      "metadata": {
        "id": "76Ni2FCzBaQq"
      }
    },
    {
      "cell_type": "markdown",
      "source": [
        "# **Interactive Aggregation Visualization 3**"
      ],
      "metadata": {
        "id": "gH7875ibUVlo"
      }
    },
    {
      "cell_type": "markdown",
      "source": [
        "**Let's obtain an idea of top brands in the dataset**"
      ],
      "metadata": {
        "id": "nmZETf9tMRR6"
      }
    },
    {
      "cell_type": "code",
      "source": [
        "df['name']=df.name.str.replace('$','')\n",
        "df['name']=df.name.str.replace(\"'\",'')\n",
        "df['name']=df.name.str.lower()\n",
        "df['name']=df.name.map(lambda x: re.sub(r'\\W+','',x))\n",
        "\n",
        "Brand_1=df.groupby(['name']).agg({'name':'count'})\n",
        "Brand_1.columns=['number']\n",
        "Brand_1=Brand_1.sort_values('number',ascending=False)\n",
        "\n",
        "Brand_1.nlargest(15,'number').index"
      ],
      "metadata": {
        "id": "a8vbZovE6rHW",
        "colab": {
          "base_uri": "https://localhost:8080/"
        },
        "outputId": "f8ec54b5-80ff-469d-cd01-a9c48288318c"
      },
      "execution_count": null,
      "outputs": [
        {
          "output_type": "execute_result",
          "data": {
            "text/plain": [
              "Index(['subway', 'mcdonalds', 'tacobell', 'pizzahut', 'burgerking', 'kfc',\n",
              "       'sonicdrivein', 'wendys', 'dominospizza', 'dairyqueen', 'arbys',\n",
              "       'chickfila', 'jimmyjohns', 'panerabread', 'chipotlemexicangrill'],\n",
              "      dtype='object', name='name')"
            ]
          },
          "metadata": {},
          "execution_count": 27
        }
      ]
    },
    {
      "cell_type": "markdown",
      "source": [
        "**I am going to focus on top 7 brands only. I will filter out them from main dataset to inform my further analysis**"
      ],
      "metadata": {
        "id": "idye3Sx0MzZL"
      }
    },
    {
      "cell_type": "code",
      "source": [
        "Brands = ['mcdonalds', 'burgerking', 'tacobell', 'wendys', 'arbys', 'kfc','subway']\n",
        "\n",
        "# Filter the DataFrame for the specified brands\n",
        "df1 = df[df.name.isin(Brands)]\n",
        "\n",
        "# Group by region and brand, and count the number of stores\n",
        "d1 = df1.groupby(['region', 'name']).agg({'name':'count'})\n",
        "d1.columns = ['Stores']\n",
        "d1.reset_index(inplace=True)\n",
        "\n",
        "# Sort the DataFrame by region and number of stores\n",
        "d1.sort_values(['region', 'Stores'], ascending=[True, False], inplace=True)\n",
        "d1.reset_index(drop=True, inplace=True)\n",
        "\n",
        "# Plot\n",
        "fig = px.scatter(d1, x=\"Stores\", y=\"name\", color=\"region\",\n",
        "                 title=\"Brand Presence by Region-Store Counts\",\n",
        "                 labels={\"Stores\": \"Store Count\"},\n",
        "                 width=800, height=600\n",
        "                )\n",
        "\n",
        "fig.update_layout(\n",
        "    margin=dict(l=20, r=20, t=25, b=20)\n",
        ")\n",
        "fig.show()"
      ],
      "metadata": {
        "id": "atq5sR8x6rK5",
        "colab": {
          "base_uri": "https://localhost:8080/",
          "height": 617
        },
        "outputId": "e47efb51-b294-409b-b515-86092e097940"
      },
      "execution_count": null,
      "outputs": [
        {
          "output_type": "display_data",
          "data": {
            "text/html": [
              "<html>\n",
              "<head><meta charset=\"utf-8\" /></head>\n",
              "<body>\n",
              "    <div>            <script src=\"https://cdnjs.cloudflare.com/ajax/libs/mathjax/2.7.5/MathJax.js?config=TeX-AMS-MML_SVG\"></script><script type=\"text/javascript\">if (window.MathJax && window.MathJax.Hub && window.MathJax.Hub.Config) {window.MathJax.Hub.Config({SVG: {font: \"STIX-Web\"}});}</script>                <script type=\"text/javascript\">window.PlotlyConfig = {MathJaxConfig: 'local'};</script>\n",
              "        <script charset=\"utf-8\" src=\"https://cdn.plot.ly/plotly-2.24.1.min.js\"></script>                <div id=\"4008376a-1cf7-4a1e-9c6f-896ce953f210\" class=\"plotly-graph-div\" style=\"height:600px; width:800px;\"></div>            <script type=\"text/javascript\">                                    window.PLOTLYENV=window.PLOTLYENV || {};                                    if (document.getElementById(\"4008376a-1cf7-4a1e-9c6f-896ce953f210\")) {                    Plotly.newPlot(                        \"4008376a-1cf7-4a1e-9c6f-896ce953f210\",                        [{\"hovertemplate\":\"region=Mid West\\u003cbr\\u003eStore Count=%{x}\\u003cbr\\u003ename=%{y}\\u003cextra\\u003e\\u003c\\u002fextra\\u003e\",\"legendgroup\":\"Mid West\",\"marker\":{\"color\":\"#636efa\",\"symbol\":\"circle\"},\"mode\":\"markers\",\"name\":\"Mid West\",\"orientation\":\"h\",\"showlegend\":true,\"x\":[390,249,151,134,120,97,92],\"xaxis\":\"x\",\"y\":[\"subway\",\"mcdonalds\",\"tacobell\",\"burgerking\",\"kfc\",\"wendys\",\"arbys\"],\"yaxis\":\"y\",\"type\":\"scatter\"},{\"hovertemplate\":\"region=North East\\u003cbr\\u003eStore Count=%{x}\\u003cbr\\u003ename=%{y}\\u003cextra\\u003e\\u003c\\u002fextra\\u003e\",\"legendgroup\":\"North East\",\"marker\":{\"color\":\"#EF553B\",\"symbol\":\"circle\"},\"mode\":\"markers\",\"name\":\"North East\",\"orientation\":\"h\",\"showlegend\":true,\"x\":[61,48,29,25,23,15,13],\"xaxis\":\"x\",\"y\":[\"mcdonalds\",\"subway\",\"burgerking\",\"wendys\",\"tacobell\",\"arbys\",\"kfc\"],\"yaxis\":\"y\",\"type\":\"scatter\"},{\"hovertemplate\":\"region=South\\u003cbr\\u003eStore Count=%{x}\\u003cbr\\u003ename=%{y}\\u003cextra\\u003e\\u003c\\u002fextra\\u003e\",\"legendgroup\":\"South\",\"marker\":{\"color\":\"#00cc96\",\"symbol\":\"circle\"},\"mode\":\"markers\",\"name\":\"South\",\"orientation\":\"h\",\"showlegend\":true,\"x\":[520,413,233,205,198,146,104],\"xaxis\":\"x\",\"y\":[\"subway\",\"mcdonalds\",\"tacobell\",\"kfc\",\"burgerking\",\"wendys\",\"arbys\"],\"yaxis\":\"y\",\"type\":\"scatter\"},{\"hovertemplate\":\"region=West\\u003cbr\\u003eStore Count=%{x}\\u003cbr\\u003ename=%{y}\\u003cextra\\u003e\\u003c\\u002fextra\\u003e\",\"legendgroup\":\"West\",\"marker\":{\"color\":\"#ab63fa\",\"symbol\":\"circle\"},\"mode\":\"markers\",\"name\":\"West\",\"orientation\":\"h\",\"showlegend\":true,\"x\":[252,198,122,95,87,44,38],\"xaxis\":\"x\",\"y\":[\"subway\",\"mcdonalds\",\"tacobell\",\"kfc\",\"burgerking\",\"wendys\",\"arbys\"],\"yaxis\":\"y\",\"type\":\"scatter\"}],                        {\"template\":{\"data\":{\"histogram2dcontour\":[{\"type\":\"histogram2dcontour\",\"colorbar\":{\"outlinewidth\":0,\"ticks\":\"\"},\"colorscale\":[[0.0,\"#0d0887\"],[0.1111111111111111,\"#46039f\"],[0.2222222222222222,\"#7201a8\"],[0.3333333333333333,\"#9c179e\"],[0.4444444444444444,\"#bd3786\"],[0.5555555555555556,\"#d8576b\"],[0.6666666666666666,\"#ed7953\"],[0.7777777777777778,\"#fb9f3a\"],[0.8888888888888888,\"#fdca26\"],[1.0,\"#f0f921\"]]}],\"choropleth\":[{\"type\":\"choropleth\",\"colorbar\":{\"outlinewidth\":0,\"ticks\":\"\"}}],\"histogram2d\":[{\"type\":\"histogram2d\",\"colorbar\":{\"outlinewidth\":0,\"ticks\":\"\"},\"colorscale\":[[0.0,\"#0d0887\"],[0.1111111111111111,\"#46039f\"],[0.2222222222222222,\"#7201a8\"],[0.3333333333333333,\"#9c179e\"],[0.4444444444444444,\"#bd3786\"],[0.5555555555555556,\"#d8576b\"],[0.6666666666666666,\"#ed7953\"],[0.7777777777777778,\"#fb9f3a\"],[0.8888888888888888,\"#fdca26\"],[1.0,\"#f0f921\"]]}],\"heatmap\":[{\"type\":\"heatmap\",\"colorbar\":{\"outlinewidth\":0,\"ticks\":\"\"},\"colorscale\":[[0.0,\"#0d0887\"],[0.1111111111111111,\"#46039f\"],[0.2222222222222222,\"#7201a8\"],[0.3333333333333333,\"#9c179e\"],[0.4444444444444444,\"#bd3786\"],[0.5555555555555556,\"#d8576b\"],[0.6666666666666666,\"#ed7953\"],[0.7777777777777778,\"#fb9f3a\"],[0.8888888888888888,\"#fdca26\"],[1.0,\"#f0f921\"]]}],\"heatmapgl\":[{\"type\":\"heatmapgl\",\"colorbar\":{\"outlinewidth\":0,\"ticks\":\"\"},\"colorscale\":[[0.0,\"#0d0887\"],[0.1111111111111111,\"#46039f\"],[0.2222222222222222,\"#7201a8\"],[0.3333333333333333,\"#9c179e\"],[0.4444444444444444,\"#bd3786\"],[0.5555555555555556,\"#d8576b\"],[0.6666666666666666,\"#ed7953\"],[0.7777777777777778,\"#fb9f3a\"],[0.8888888888888888,\"#fdca26\"],[1.0,\"#f0f921\"]]}],\"contourcarpet\":[{\"type\":\"contourcarpet\",\"colorbar\":{\"outlinewidth\":0,\"ticks\":\"\"}}],\"contour\":[{\"type\":\"contour\",\"colorbar\":{\"outlinewidth\":0,\"ticks\":\"\"},\"colorscale\":[[0.0,\"#0d0887\"],[0.1111111111111111,\"#46039f\"],[0.2222222222222222,\"#7201a8\"],[0.3333333333333333,\"#9c179e\"],[0.4444444444444444,\"#bd3786\"],[0.5555555555555556,\"#d8576b\"],[0.6666666666666666,\"#ed7953\"],[0.7777777777777778,\"#fb9f3a\"],[0.8888888888888888,\"#fdca26\"],[1.0,\"#f0f921\"]]}],\"surface\":[{\"type\":\"surface\",\"colorbar\":{\"outlinewidth\":0,\"ticks\":\"\"},\"colorscale\":[[0.0,\"#0d0887\"],[0.1111111111111111,\"#46039f\"],[0.2222222222222222,\"#7201a8\"],[0.3333333333333333,\"#9c179e\"],[0.4444444444444444,\"#bd3786\"],[0.5555555555555556,\"#d8576b\"],[0.6666666666666666,\"#ed7953\"],[0.7777777777777778,\"#fb9f3a\"],[0.8888888888888888,\"#fdca26\"],[1.0,\"#f0f921\"]]}],\"mesh3d\":[{\"type\":\"mesh3d\",\"colorbar\":{\"outlinewidth\":0,\"ticks\":\"\"}}],\"scatter\":[{\"fillpattern\":{\"fillmode\":\"overlay\",\"size\":10,\"solidity\":0.2},\"type\":\"scatter\"}],\"parcoords\":[{\"type\":\"parcoords\",\"line\":{\"colorbar\":{\"outlinewidth\":0,\"ticks\":\"\"}}}],\"scatterpolargl\":[{\"type\":\"scatterpolargl\",\"marker\":{\"colorbar\":{\"outlinewidth\":0,\"ticks\":\"\"}}}],\"bar\":[{\"error_x\":{\"color\":\"#2a3f5f\"},\"error_y\":{\"color\":\"#2a3f5f\"},\"marker\":{\"line\":{\"color\":\"#E5ECF6\",\"width\":0.5},\"pattern\":{\"fillmode\":\"overlay\",\"size\":10,\"solidity\":0.2}},\"type\":\"bar\"}],\"scattergeo\":[{\"type\":\"scattergeo\",\"marker\":{\"colorbar\":{\"outlinewidth\":0,\"ticks\":\"\"}}}],\"scatterpolar\":[{\"type\":\"scatterpolar\",\"marker\":{\"colorbar\":{\"outlinewidth\":0,\"ticks\":\"\"}}}],\"histogram\":[{\"marker\":{\"pattern\":{\"fillmode\":\"overlay\",\"size\":10,\"solidity\":0.2}},\"type\":\"histogram\"}],\"scattergl\":[{\"type\":\"scattergl\",\"marker\":{\"colorbar\":{\"outlinewidth\":0,\"ticks\":\"\"}}}],\"scatter3d\":[{\"type\":\"scatter3d\",\"line\":{\"colorbar\":{\"outlinewidth\":0,\"ticks\":\"\"}},\"marker\":{\"colorbar\":{\"outlinewidth\":0,\"ticks\":\"\"}}}],\"scattermapbox\":[{\"type\":\"scattermapbox\",\"marker\":{\"colorbar\":{\"outlinewidth\":0,\"ticks\":\"\"}}}],\"scatterternary\":[{\"type\":\"scatterternary\",\"marker\":{\"colorbar\":{\"outlinewidth\":0,\"ticks\":\"\"}}}],\"scattercarpet\":[{\"type\":\"scattercarpet\",\"marker\":{\"colorbar\":{\"outlinewidth\":0,\"ticks\":\"\"}}}],\"carpet\":[{\"aaxis\":{\"endlinecolor\":\"#2a3f5f\",\"gridcolor\":\"white\",\"linecolor\":\"white\",\"minorgridcolor\":\"white\",\"startlinecolor\":\"#2a3f5f\"},\"baxis\":{\"endlinecolor\":\"#2a3f5f\",\"gridcolor\":\"white\",\"linecolor\":\"white\",\"minorgridcolor\":\"white\",\"startlinecolor\":\"#2a3f5f\"},\"type\":\"carpet\"}],\"table\":[{\"cells\":{\"fill\":{\"color\":\"#EBF0F8\"},\"line\":{\"color\":\"white\"}},\"header\":{\"fill\":{\"color\":\"#C8D4E3\"},\"line\":{\"color\":\"white\"}},\"type\":\"table\"}],\"barpolar\":[{\"marker\":{\"line\":{\"color\":\"#E5ECF6\",\"width\":0.5},\"pattern\":{\"fillmode\":\"overlay\",\"size\":10,\"solidity\":0.2}},\"type\":\"barpolar\"}],\"pie\":[{\"automargin\":true,\"type\":\"pie\"}]},\"layout\":{\"autotypenumbers\":\"strict\",\"colorway\":[\"#636efa\",\"#EF553B\",\"#00cc96\",\"#ab63fa\",\"#FFA15A\",\"#19d3f3\",\"#FF6692\",\"#B6E880\",\"#FF97FF\",\"#FECB52\"],\"font\":{\"color\":\"#2a3f5f\"},\"hovermode\":\"closest\",\"hoverlabel\":{\"align\":\"left\"},\"paper_bgcolor\":\"white\",\"plot_bgcolor\":\"#E5ECF6\",\"polar\":{\"bgcolor\":\"#E5ECF6\",\"angularaxis\":{\"gridcolor\":\"white\",\"linecolor\":\"white\",\"ticks\":\"\"},\"radialaxis\":{\"gridcolor\":\"white\",\"linecolor\":\"white\",\"ticks\":\"\"}},\"ternary\":{\"bgcolor\":\"#E5ECF6\",\"aaxis\":{\"gridcolor\":\"white\",\"linecolor\":\"white\",\"ticks\":\"\"},\"baxis\":{\"gridcolor\":\"white\",\"linecolor\":\"white\",\"ticks\":\"\"},\"caxis\":{\"gridcolor\":\"white\",\"linecolor\":\"white\",\"ticks\":\"\"}},\"coloraxis\":{\"colorbar\":{\"outlinewidth\":0,\"ticks\":\"\"}},\"colorscale\":{\"sequential\":[[0.0,\"#0d0887\"],[0.1111111111111111,\"#46039f\"],[0.2222222222222222,\"#7201a8\"],[0.3333333333333333,\"#9c179e\"],[0.4444444444444444,\"#bd3786\"],[0.5555555555555556,\"#d8576b\"],[0.6666666666666666,\"#ed7953\"],[0.7777777777777778,\"#fb9f3a\"],[0.8888888888888888,\"#fdca26\"],[1.0,\"#f0f921\"]],\"sequentialminus\":[[0.0,\"#0d0887\"],[0.1111111111111111,\"#46039f\"],[0.2222222222222222,\"#7201a8\"],[0.3333333333333333,\"#9c179e\"],[0.4444444444444444,\"#bd3786\"],[0.5555555555555556,\"#d8576b\"],[0.6666666666666666,\"#ed7953\"],[0.7777777777777778,\"#fb9f3a\"],[0.8888888888888888,\"#fdca26\"],[1.0,\"#f0f921\"]],\"diverging\":[[0,\"#8e0152\"],[0.1,\"#c51b7d\"],[0.2,\"#de77ae\"],[0.3,\"#f1b6da\"],[0.4,\"#fde0ef\"],[0.5,\"#f7f7f7\"],[0.6,\"#e6f5d0\"],[0.7,\"#b8e186\"],[0.8,\"#7fbc41\"],[0.9,\"#4d9221\"],[1,\"#276419\"]]},\"xaxis\":{\"gridcolor\":\"white\",\"linecolor\":\"white\",\"ticks\":\"\",\"title\":{\"standoff\":15},\"zerolinecolor\":\"white\",\"automargin\":true,\"zerolinewidth\":2},\"yaxis\":{\"gridcolor\":\"white\",\"linecolor\":\"white\",\"ticks\":\"\",\"title\":{\"standoff\":15},\"zerolinecolor\":\"white\",\"automargin\":true,\"zerolinewidth\":2},\"scene\":{\"xaxis\":{\"backgroundcolor\":\"#E5ECF6\",\"gridcolor\":\"white\",\"linecolor\":\"white\",\"showbackground\":true,\"ticks\":\"\",\"zerolinecolor\":\"white\",\"gridwidth\":2},\"yaxis\":{\"backgroundcolor\":\"#E5ECF6\",\"gridcolor\":\"white\",\"linecolor\":\"white\",\"showbackground\":true,\"ticks\":\"\",\"zerolinecolor\":\"white\",\"gridwidth\":2},\"zaxis\":{\"backgroundcolor\":\"#E5ECF6\",\"gridcolor\":\"white\",\"linecolor\":\"white\",\"showbackground\":true,\"ticks\":\"\",\"zerolinecolor\":\"white\",\"gridwidth\":2}},\"shapedefaults\":{\"line\":{\"color\":\"#2a3f5f\"}},\"annotationdefaults\":{\"arrowcolor\":\"#2a3f5f\",\"arrowhead\":0,\"arrowwidth\":1},\"geo\":{\"bgcolor\":\"white\",\"landcolor\":\"#E5ECF6\",\"subunitcolor\":\"white\",\"showland\":true,\"showlakes\":true,\"lakecolor\":\"white\"},\"title\":{\"x\":0.05},\"mapbox\":{\"style\":\"light\"}}},\"xaxis\":{\"anchor\":\"y\",\"domain\":[0.0,1.0],\"title\":{\"text\":\"Store Count\"}},\"yaxis\":{\"anchor\":\"x\",\"domain\":[0.0,1.0],\"title\":{\"text\":\"name\"}},\"legend\":{\"title\":{\"text\":\"region\"},\"tracegroupgap\":0},\"title\":{\"text\":\"Brand Presence by Region-Store Counts\"},\"height\":600,\"width\":800,\"margin\":{\"l\":20,\"r\":20,\"t\":25,\"b\":20}},                        {\"responsive\": true}                    ).then(function(){\n",
              "                            \n",
              "var gd = document.getElementById('4008376a-1cf7-4a1e-9c6f-896ce953f210');\n",
              "var x = new MutationObserver(function (mutations, observer) {{\n",
              "        var display = window.getComputedStyle(gd).display;\n",
              "        if (!display || display === 'none') {{\n",
              "            console.log([gd, 'removed!']);\n",
              "            Plotly.purge(gd);\n",
              "            observer.disconnect();\n",
              "        }}\n",
              "}});\n",
              "\n",
              "// Listen for the removal of the full notebook cells\n",
              "var notebookContainer = gd.closest('#notebook-container');\n",
              "if (notebookContainer) {{\n",
              "    x.observe(notebookContainer, {childList: true});\n",
              "}}\n",
              "\n",
              "// Listen for the clearing of the current output cell\n",
              "var outputEl = gd.closest('.output');\n",
              "if (outputEl) {{\n",
              "    x.observe(outputEl, {childList: true});\n",
              "}}\n",
              "\n",
              "                        })                };                            </script>        </div>\n",
              "</body>\n",
              "</html>"
            ]
          },
          "metadata": {}
        }
      ]
    },
    {
      "cell_type": "markdown",
      "source": [
        "**Observation**\n",
        "\n",
        "Subway, McDonalds, Taco Bell, KFC, Burger King, Wendys and Arbys are the most popular Brands. Clearly all the Brands have big presence in South followed by Mid West."
      ],
      "metadata": {
        "id": "MjXSOrQXODR7"
      }
    },
    {
      "cell_type": "markdown",
      "source": [
        "**Lets obtain Brand Penetration at Region to confirm the above view**"
      ],
      "metadata": {
        "id": "gmfxZ-QqPhQm"
      }
    },
    {
      "cell_type": "code",
      "source": [
        "d2 = d1.copy()\n",
        "\n",
        "d2.set_index(['region', 'name'], inplace=True)\n",
        "\n",
        "# Calculate the percentage of stores for each region\n",
        "d2['Percentage'] = d2.groupby(level=0)['Stores'].transform(lambda x: 100 * x / x.sum())\n",
        "\n",
        "# Reset index to convert the multi-index back to columns\n",
        "d2.reset_index(inplace=True)\n",
        "\n",
        "# Plot\n",
        "fig2 = px.histogram(d2, x=\"region\", y=\"Percentage\", color=\"name\",\n",
        "                    title=\"Brand Presence by Region\",\n",
        "                    width=800, height=500)\n",
        "\n",
        "fig2.show()"
      ],
      "metadata": {
        "id": "d_wDDBK3QDrG",
        "colab": {
          "base_uri": "https://localhost:8080/",
          "height": 517
        },
        "outputId": "0be6c533-8676-4599-a2d4-349d484e71d7"
      },
      "execution_count": null,
      "outputs": [
        {
          "output_type": "display_data",
          "data": {
            "text/html": [
              "<html>\n",
              "<head><meta charset=\"utf-8\" /></head>\n",
              "<body>\n",
              "    <div>            <script src=\"https://cdnjs.cloudflare.com/ajax/libs/mathjax/2.7.5/MathJax.js?config=TeX-AMS-MML_SVG\"></script><script type=\"text/javascript\">if (window.MathJax && window.MathJax.Hub && window.MathJax.Hub.Config) {window.MathJax.Hub.Config({SVG: {font: \"STIX-Web\"}});}</script>                <script type=\"text/javascript\">window.PlotlyConfig = {MathJaxConfig: 'local'};</script>\n",
              "        <script charset=\"utf-8\" src=\"https://cdn.plot.ly/plotly-2.24.1.min.js\"></script>                <div id=\"650cd10c-ed96-411a-8ce2-c52007631ee2\" class=\"plotly-graph-div\" style=\"height:500px; width:800px;\"></div>            <script type=\"text/javascript\">                                    window.PLOTLYENV=window.PLOTLYENV || {};                                    if (document.getElementById(\"650cd10c-ed96-411a-8ce2-c52007631ee2\")) {                    Plotly.newPlot(                        \"650cd10c-ed96-411a-8ce2-c52007631ee2\",                        [{\"alignmentgroup\":\"True\",\"bingroup\":\"x\",\"histfunc\":\"sum\",\"hovertemplate\":\"name=subway\\u003cbr\\u003eregion=%{x}\\u003cbr\\u003esum of Percentage=%{y}\\u003cextra\\u003e\\u003c\\u002fextra\\u003e\",\"legendgroup\":\"subway\",\"marker\":{\"color\":\"#636efa\",\"pattern\":{\"shape\":\"\"}},\"name\":\"subway\",\"offsetgroup\":\"subway\",\"orientation\":\"v\",\"showlegend\":true,\"x\":[\"Mid West\",\"North East\",\"South\",\"West\"],\"xaxis\":\"x\",\"y\":[31.630170316301705,22.429906542056074,28.587135788894997,30.14354066985646],\"yaxis\":\"y\",\"type\":\"histogram\"},{\"alignmentgroup\":\"True\",\"bingroup\":\"x\",\"histfunc\":\"sum\",\"hovertemplate\":\"name=mcdonalds\\u003cbr\\u003eregion=%{x}\\u003cbr\\u003esum of Percentage=%{y}\\u003cextra\\u003e\\u003c\\u002fextra\\u003e\",\"legendgroup\":\"mcdonalds\",\"marker\":{\"color\":\"#EF553B\",\"pattern\":{\"shape\":\"\"}},\"name\":\"mcdonalds\",\"offsetgroup\":\"mcdonalds\",\"orientation\":\"v\",\"showlegend\":true,\"x\":[\"Mid West\",\"North East\",\"South\",\"West\"],\"xaxis\":\"x\",\"y\":[20.194647201946474,28.50467289719626,22.704782847718526,23.68421052631579],\"yaxis\":\"y\",\"type\":\"histogram\"},{\"alignmentgroup\":\"True\",\"bingroup\":\"x\",\"histfunc\":\"sum\",\"hovertemplate\":\"name=tacobell\\u003cbr\\u003eregion=%{x}\\u003cbr\\u003esum of Percentage=%{y}\\u003cextra\\u003e\\u003c\\u002fextra\\u003e\",\"legendgroup\":\"tacobell\",\"marker\":{\"color\":\"#00cc96\",\"pattern\":{\"shape\":\"\"}},\"name\":\"tacobell\",\"offsetgroup\":\"tacobell\",\"orientation\":\"v\",\"showlegend\":true,\"x\":[\"Mid West\",\"North East\",\"South\",\"West\"],\"xaxis\":\"x\",\"y\":[12.246553122465532,10.74766355140187,12.809235843870258,14.5933014354067],\"yaxis\":\"y\",\"type\":\"histogram\"},{\"alignmentgroup\":\"True\",\"bingroup\":\"x\",\"histfunc\":\"sum\",\"hovertemplate\":\"name=burgerking\\u003cbr\\u003eregion=%{x}\\u003cbr\\u003esum of Percentage=%{y}\\u003cextra\\u003e\\u003c\\u002fextra\\u003e\",\"legendgroup\":\"burgerking\",\"marker\":{\"color\":\"#ab63fa\",\"pattern\":{\"shape\":\"\"}},\"name\":\"burgerking\",\"offsetgroup\":\"burgerking\",\"orientation\":\"v\",\"showlegend\":true,\"x\":[\"Mid West\",\"North East\",\"South\",\"West\"],\"xaxis\":\"x\",\"y\":[10.86780210867802,13.551401869158878,10.885101704233096,10.4066985645933],\"yaxis\":\"y\",\"type\":\"histogram\"},{\"alignmentgroup\":\"True\",\"bingroup\":\"x\",\"histfunc\":\"sum\",\"hovertemplate\":\"name=kfc\\u003cbr\\u003eregion=%{x}\\u003cbr\\u003esum of Percentage=%{y}\\u003cextra\\u003e\\u003c\\u002fextra\\u003e\",\"legendgroup\":\"kfc\",\"marker\":{\"color\":\"#FFA15A\",\"pattern\":{\"shape\":\"\"}},\"name\":\"kfc\",\"offsetgroup\":\"kfc\",\"orientation\":\"v\",\"showlegend\":true,\"x\":[\"Mid West\",\"North East\",\"South\",\"West\"],\"xaxis\":\"x\",\"y\":[9.732360097323602,6.074766355140187,11.269928532160527,11.363636363636363],\"yaxis\":\"y\",\"type\":\"histogram\"},{\"alignmentgroup\":\"True\",\"bingroup\":\"x\",\"histfunc\":\"sum\",\"hovertemplate\":\"name=wendys\\u003cbr\\u003eregion=%{x}\\u003cbr\\u003esum of Percentage=%{y}\\u003cextra\\u003e\\u003c\\u002fextra\\u003e\",\"legendgroup\":\"wendys\",\"marker\":{\"color\":\"#19d3f3\",\"pattern\":{\"shape\":\"\"}},\"name\":\"wendys\",\"offsetgroup\":\"wendys\",\"orientation\":\"v\",\"showlegend\":true,\"x\":[\"Mid West\",\"North East\",\"South\",\"West\"],\"xaxis\":\"x\",\"y\":[7.866991078669911,11.682242990654206,8.026388125343596,5.2631578947368425],\"yaxis\":\"y\",\"type\":\"histogram\"},{\"alignmentgroup\":\"True\",\"bingroup\":\"x\",\"histfunc\":\"sum\",\"hovertemplate\":\"name=arbys\\u003cbr\\u003eregion=%{x}\\u003cbr\\u003esum of Percentage=%{y}\\u003cextra\\u003e\\u003c\\u002fextra\\u003e\",\"legendgroup\":\"arbys\",\"marker\":{\"color\":\"#FF6692\",\"pattern\":{\"shape\":\"\"}},\"name\":\"arbys\",\"offsetgroup\":\"arbys\",\"orientation\":\"v\",\"showlegend\":true,\"x\":[\"Mid West\",\"North East\",\"South\",\"West\"],\"xaxis\":\"x\",\"y\":[7.461476074614761,7.009345794392523,5.7174271577789995,4.545454545454546],\"yaxis\":\"y\",\"type\":\"histogram\"}],                        {\"template\":{\"data\":{\"histogram2dcontour\":[{\"type\":\"histogram2dcontour\",\"colorbar\":{\"outlinewidth\":0,\"ticks\":\"\"},\"colorscale\":[[0.0,\"#0d0887\"],[0.1111111111111111,\"#46039f\"],[0.2222222222222222,\"#7201a8\"],[0.3333333333333333,\"#9c179e\"],[0.4444444444444444,\"#bd3786\"],[0.5555555555555556,\"#d8576b\"],[0.6666666666666666,\"#ed7953\"],[0.7777777777777778,\"#fb9f3a\"],[0.8888888888888888,\"#fdca26\"],[1.0,\"#f0f921\"]]}],\"choropleth\":[{\"type\":\"choropleth\",\"colorbar\":{\"outlinewidth\":0,\"ticks\":\"\"}}],\"histogram2d\":[{\"type\":\"histogram2d\",\"colorbar\":{\"outlinewidth\":0,\"ticks\":\"\"},\"colorscale\":[[0.0,\"#0d0887\"],[0.1111111111111111,\"#46039f\"],[0.2222222222222222,\"#7201a8\"],[0.3333333333333333,\"#9c179e\"],[0.4444444444444444,\"#bd3786\"],[0.5555555555555556,\"#d8576b\"],[0.6666666666666666,\"#ed7953\"],[0.7777777777777778,\"#fb9f3a\"],[0.8888888888888888,\"#fdca26\"],[1.0,\"#f0f921\"]]}],\"heatmap\":[{\"type\":\"heatmap\",\"colorbar\":{\"outlinewidth\":0,\"ticks\":\"\"},\"colorscale\":[[0.0,\"#0d0887\"],[0.1111111111111111,\"#46039f\"],[0.2222222222222222,\"#7201a8\"],[0.3333333333333333,\"#9c179e\"],[0.4444444444444444,\"#bd3786\"],[0.5555555555555556,\"#d8576b\"],[0.6666666666666666,\"#ed7953\"],[0.7777777777777778,\"#fb9f3a\"],[0.8888888888888888,\"#fdca26\"],[1.0,\"#f0f921\"]]}],\"heatmapgl\":[{\"type\":\"heatmapgl\",\"colorbar\":{\"outlinewidth\":0,\"ticks\":\"\"},\"colorscale\":[[0.0,\"#0d0887\"],[0.1111111111111111,\"#46039f\"],[0.2222222222222222,\"#7201a8\"],[0.3333333333333333,\"#9c179e\"],[0.4444444444444444,\"#bd3786\"],[0.5555555555555556,\"#d8576b\"],[0.6666666666666666,\"#ed7953\"],[0.7777777777777778,\"#fb9f3a\"],[0.8888888888888888,\"#fdca26\"],[1.0,\"#f0f921\"]]}],\"contourcarpet\":[{\"type\":\"contourcarpet\",\"colorbar\":{\"outlinewidth\":0,\"ticks\":\"\"}}],\"contour\":[{\"type\":\"contour\",\"colorbar\":{\"outlinewidth\":0,\"ticks\":\"\"},\"colorscale\":[[0.0,\"#0d0887\"],[0.1111111111111111,\"#46039f\"],[0.2222222222222222,\"#7201a8\"],[0.3333333333333333,\"#9c179e\"],[0.4444444444444444,\"#bd3786\"],[0.5555555555555556,\"#d8576b\"],[0.6666666666666666,\"#ed7953\"],[0.7777777777777778,\"#fb9f3a\"],[0.8888888888888888,\"#fdca26\"],[1.0,\"#f0f921\"]]}],\"surface\":[{\"type\":\"surface\",\"colorbar\":{\"outlinewidth\":0,\"ticks\":\"\"},\"colorscale\":[[0.0,\"#0d0887\"],[0.1111111111111111,\"#46039f\"],[0.2222222222222222,\"#7201a8\"],[0.3333333333333333,\"#9c179e\"],[0.4444444444444444,\"#bd3786\"],[0.5555555555555556,\"#d8576b\"],[0.6666666666666666,\"#ed7953\"],[0.7777777777777778,\"#fb9f3a\"],[0.8888888888888888,\"#fdca26\"],[1.0,\"#f0f921\"]]}],\"mesh3d\":[{\"type\":\"mesh3d\",\"colorbar\":{\"outlinewidth\":0,\"ticks\":\"\"}}],\"scatter\":[{\"fillpattern\":{\"fillmode\":\"overlay\",\"size\":10,\"solidity\":0.2},\"type\":\"scatter\"}],\"parcoords\":[{\"type\":\"parcoords\",\"line\":{\"colorbar\":{\"outlinewidth\":0,\"ticks\":\"\"}}}],\"scatterpolargl\":[{\"type\":\"scatterpolargl\",\"marker\":{\"colorbar\":{\"outlinewidth\":0,\"ticks\":\"\"}}}],\"bar\":[{\"error_x\":{\"color\":\"#2a3f5f\"},\"error_y\":{\"color\":\"#2a3f5f\"},\"marker\":{\"line\":{\"color\":\"#E5ECF6\",\"width\":0.5},\"pattern\":{\"fillmode\":\"overlay\",\"size\":10,\"solidity\":0.2}},\"type\":\"bar\"}],\"scattergeo\":[{\"type\":\"scattergeo\",\"marker\":{\"colorbar\":{\"outlinewidth\":0,\"ticks\":\"\"}}}],\"scatterpolar\":[{\"type\":\"scatterpolar\",\"marker\":{\"colorbar\":{\"outlinewidth\":0,\"ticks\":\"\"}}}],\"histogram\":[{\"marker\":{\"pattern\":{\"fillmode\":\"overlay\",\"size\":10,\"solidity\":0.2}},\"type\":\"histogram\"}],\"scattergl\":[{\"type\":\"scattergl\",\"marker\":{\"colorbar\":{\"outlinewidth\":0,\"ticks\":\"\"}}}],\"scatter3d\":[{\"type\":\"scatter3d\",\"line\":{\"colorbar\":{\"outlinewidth\":0,\"ticks\":\"\"}},\"marker\":{\"colorbar\":{\"outlinewidth\":0,\"ticks\":\"\"}}}],\"scattermapbox\":[{\"type\":\"scattermapbox\",\"marker\":{\"colorbar\":{\"outlinewidth\":0,\"ticks\":\"\"}}}],\"scatterternary\":[{\"type\":\"scatterternary\",\"marker\":{\"colorbar\":{\"outlinewidth\":0,\"ticks\":\"\"}}}],\"scattercarpet\":[{\"type\":\"scattercarpet\",\"marker\":{\"colorbar\":{\"outlinewidth\":0,\"ticks\":\"\"}}}],\"carpet\":[{\"aaxis\":{\"endlinecolor\":\"#2a3f5f\",\"gridcolor\":\"white\",\"linecolor\":\"white\",\"minorgridcolor\":\"white\",\"startlinecolor\":\"#2a3f5f\"},\"baxis\":{\"endlinecolor\":\"#2a3f5f\",\"gridcolor\":\"white\",\"linecolor\":\"white\",\"minorgridcolor\":\"white\",\"startlinecolor\":\"#2a3f5f\"},\"type\":\"carpet\"}],\"table\":[{\"cells\":{\"fill\":{\"color\":\"#EBF0F8\"},\"line\":{\"color\":\"white\"}},\"header\":{\"fill\":{\"color\":\"#C8D4E3\"},\"line\":{\"color\":\"white\"}},\"type\":\"table\"}],\"barpolar\":[{\"marker\":{\"line\":{\"color\":\"#E5ECF6\",\"width\":0.5},\"pattern\":{\"fillmode\":\"overlay\",\"size\":10,\"solidity\":0.2}},\"type\":\"barpolar\"}],\"pie\":[{\"automargin\":true,\"type\":\"pie\"}]},\"layout\":{\"autotypenumbers\":\"strict\",\"colorway\":[\"#636efa\",\"#EF553B\",\"#00cc96\",\"#ab63fa\",\"#FFA15A\",\"#19d3f3\",\"#FF6692\",\"#B6E880\",\"#FF97FF\",\"#FECB52\"],\"font\":{\"color\":\"#2a3f5f\"},\"hovermode\":\"closest\",\"hoverlabel\":{\"align\":\"left\"},\"paper_bgcolor\":\"white\",\"plot_bgcolor\":\"#E5ECF6\",\"polar\":{\"bgcolor\":\"#E5ECF6\",\"angularaxis\":{\"gridcolor\":\"white\",\"linecolor\":\"white\",\"ticks\":\"\"},\"radialaxis\":{\"gridcolor\":\"white\",\"linecolor\":\"white\",\"ticks\":\"\"}},\"ternary\":{\"bgcolor\":\"#E5ECF6\",\"aaxis\":{\"gridcolor\":\"white\",\"linecolor\":\"white\",\"ticks\":\"\"},\"baxis\":{\"gridcolor\":\"white\",\"linecolor\":\"white\",\"ticks\":\"\"},\"caxis\":{\"gridcolor\":\"white\",\"linecolor\":\"white\",\"ticks\":\"\"}},\"coloraxis\":{\"colorbar\":{\"outlinewidth\":0,\"ticks\":\"\"}},\"colorscale\":{\"sequential\":[[0.0,\"#0d0887\"],[0.1111111111111111,\"#46039f\"],[0.2222222222222222,\"#7201a8\"],[0.3333333333333333,\"#9c179e\"],[0.4444444444444444,\"#bd3786\"],[0.5555555555555556,\"#d8576b\"],[0.6666666666666666,\"#ed7953\"],[0.7777777777777778,\"#fb9f3a\"],[0.8888888888888888,\"#fdca26\"],[1.0,\"#f0f921\"]],\"sequentialminus\":[[0.0,\"#0d0887\"],[0.1111111111111111,\"#46039f\"],[0.2222222222222222,\"#7201a8\"],[0.3333333333333333,\"#9c179e\"],[0.4444444444444444,\"#bd3786\"],[0.5555555555555556,\"#d8576b\"],[0.6666666666666666,\"#ed7953\"],[0.7777777777777778,\"#fb9f3a\"],[0.8888888888888888,\"#fdca26\"],[1.0,\"#f0f921\"]],\"diverging\":[[0,\"#8e0152\"],[0.1,\"#c51b7d\"],[0.2,\"#de77ae\"],[0.3,\"#f1b6da\"],[0.4,\"#fde0ef\"],[0.5,\"#f7f7f7\"],[0.6,\"#e6f5d0\"],[0.7,\"#b8e186\"],[0.8,\"#7fbc41\"],[0.9,\"#4d9221\"],[1,\"#276419\"]]},\"xaxis\":{\"gridcolor\":\"white\",\"linecolor\":\"white\",\"ticks\":\"\",\"title\":{\"standoff\":15},\"zerolinecolor\":\"white\",\"automargin\":true,\"zerolinewidth\":2},\"yaxis\":{\"gridcolor\":\"white\",\"linecolor\":\"white\",\"ticks\":\"\",\"title\":{\"standoff\":15},\"zerolinecolor\":\"white\",\"automargin\":true,\"zerolinewidth\":2},\"scene\":{\"xaxis\":{\"backgroundcolor\":\"#E5ECF6\",\"gridcolor\":\"white\",\"linecolor\":\"white\",\"showbackground\":true,\"ticks\":\"\",\"zerolinecolor\":\"white\",\"gridwidth\":2},\"yaxis\":{\"backgroundcolor\":\"#E5ECF6\",\"gridcolor\":\"white\",\"linecolor\":\"white\",\"showbackground\":true,\"ticks\":\"\",\"zerolinecolor\":\"white\",\"gridwidth\":2},\"zaxis\":{\"backgroundcolor\":\"#E5ECF6\",\"gridcolor\":\"white\",\"linecolor\":\"white\",\"showbackground\":true,\"ticks\":\"\",\"zerolinecolor\":\"white\",\"gridwidth\":2}},\"shapedefaults\":{\"line\":{\"color\":\"#2a3f5f\"}},\"annotationdefaults\":{\"arrowcolor\":\"#2a3f5f\",\"arrowhead\":0,\"arrowwidth\":1},\"geo\":{\"bgcolor\":\"white\",\"landcolor\":\"#E5ECF6\",\"subunitcolor\":\"white\",\"showland\":true,\"showlakes\":true,\"lakecolor\":\"white\"},\"title\":{\"x\":0.05},\"mapbox\":{\"style\":\"light\"}}},\"xaxis\":{\"anchor\":\"y\",\"domain\":[0.0,1.0],\"title\":{\"text\":\"region\"}},\"yaxis\":{\"anchor\":\"x\",\"domain\":[0.0,1.0],\"title\":{\"text\":\"sum of Percentage\"}},\"legend\":{\"title\":{\"text\":\"name\"},\"tracegroupgap\":0},\"title\":{\"text\":\"Brand Presence by Region\"},\"barmode\":\"relative\",\"height\":500,\"width\":800},                        {\"responsive\": true}                    ).then(function(){\n",
              "                            \n",
              "var gd = document.getElementById('650cd10c-ed96-411a-8ce2-c52007631ee2');\n",
              "var x = new MutationObserver(function (mutations, observer) {{\n",
              "        var display = window.getComputedStyle(gd).display;\n",
              "        if (!display || display === 'none') {{\n",
              "            console.log([gd, 'removed!']);\n",
              "            Plotly.purge(gd);\n",
              "            observer.disconnect();\n",
              "        }}\n",
              "}});\n",
              "\n",
              "// Listen for the removal of the full notebook cells\n",
              "var notebookContainer = gd.closest('#notebook-container');\n",
              "if (notebookContainer) {{\n",
              "    x.observe(notebookContainer, {childList: true});\n",
              "}}\n",
              "\n",
              "// Listen for the clearing of the current output cell\n",
              "var outputEl = gd.closest('.output');\n",
              "if (outputEl) {{\n",
              "    x.observe(outputEl, {childList: true});\n",
              "}}\n",
              "\n",
              "                        })                };                            </script>        </div>\n",
              "</body>\n",
              "</html>"
            ]
          },
          "metadata": {}
        }
      ]
    },
    {
      "cell_type": "markdown",
      "source": [
        "**Observation**\n",
        "\n",
        "- Subway market penetration is above 28% in Mid West, South and West regions with highest of 31.6% in Mid West\n",
        "- Burger King has higher penetration in North East after McDonalds and Subway.\n",
        "- Taco Bell has concentrated more in West\n",
        "- Arbys has least presence in West"
      ],
      "metadata": {
        "id": "TFVTXEAmQ59k"
      }
    },
    {
      "cell_type": "markdown",
      "source": [
        "# **Interactive Aggregation Visualization 4**"
      ],
      "metadata": {
        "id": "gELmt066V5wP"
      }
    },
    {
      "cell_type": "markdown",
      "source": [
        "**Lets now obtain further granular insights of Brand Penetration by State level**"
      ],
      "metadata": {
        "id": "ffsuP6QWTlt8"
      }
    },
    {
      "cell_type": "code",
      "source": [
        "d3 = df1.groupby(['province','name']).agg({'name':'count'})\n",
        "d3.columns=['Stores']\n",
        "d3['Percentage']=d3['Stores'].groupby(level=0).transform(lambda x:100*x/x.sum())\n",
        "d3.reset_index(inplace=True)\n",
        "\n",
        "fig4=px.histogram(d3,x=\"province\",y=\"Percentage\",color=\"name\",\n",
        "                 title=\"Brand Penetration by State\")\n",
        "fig4.show()"
      ],
      "metadata": {
        "id": "zeRzjVAcPi96",
        "colab": {
          "base_uri": "https://localhost:8080/",
          "height": 542
        },
        "outputId": "23710f2d-3982-4606-f852-707ed090fb8f"
      },
      "execution_count": null,
      "outputs": [
        {
          "output_type": "display_data",
          "data": {
            "text/html": [
              "<html>\n",
              "<head><meta charset=\"utf-8\" /></head>\n",
              "<body>\n",
              "    <div>            <script src=\"https://cdnjs.cloudflare.com/ajax/libs/mathjax/2.7.5/MathJax.js?config=TeX-AMS-MML_SVG\"></script><script type=\"text/javascript\">if (window.MathJax && window.MathJax.Hub && window.MathJax.Hub.Config) {window.MathJax.Hub.Config({SVG: {font: \"STIX-Web\"}});}</script>                <script type=\"text/javascript\">window.PlotlyConfig = {MathJaxConfig: 'local'};</script>\n",
              "        <script charset=\"utf-8\" src=\"https://cdn.plot.ly/plotly-2.24.1.min.js\"></script>                <div id=\"a096a002-517a-4206-afcc-6b4d7b0c13e5\" class=\"plotly-graph-div\" style=\"height:525px; width:100%;\"></div>            <script type=\"text/javascript\">                                    window.PLOTLYENV=window.PLOTLYENV || {};                                    if (document.getElementById(\"a096a002-517a-4206-afcc-6b4d7b0c13e5\")) {                    Plotly.newPlot(                        \"a096a002-517a-4206-afcc-6b4d7b0c13e5\",                        [{\"alignmentgroup\":\"True\",\"bingroup\":\"x\",\"histfunc\":\"sum\",\"hovertemplate\":\"name=arbys\\u003cbr\\u003eprovince=%{x}\\u003cbr\\u003esum of Percentage=%{y}\\u003cextra\\u003e\\u003c\\u002fextra\\u003e\",\"legendgroup\":\"arbys\",\"marker\":{\"color\":\"#636efa\",\"pattern\":{\"shape\":\"\"}},\"name\":\"arbys\",\"offsetgroup\":\"arbys\",\"orientation\":\"v\",\"showlegend\":true,\"x\":[\"AK\",\"AL\",\"AR\",\"AZ\",\"CA\",\"CO\",\"DE\",\"FL\",\"GA\",\"IA\",\"IL\",\"IN\",\"KS\",\"KY\",\"LA\",\"MD\",\"MI\",\"MN\",\"MO\",\"MS\",\"MT\",\"NC\",\"ND\",\"NE\",\"NM\",\"NV\",\"NY\",\"OH\",\"OK\",\"OR\",\"PA\",\"SC\",\"SD\",\"TN\",\"TX\",\"UT\",\"WA\",\"WI\",\"WV\",\"WY\"],\"xaxis\":\"x\",\"y\":[3.3333333333333335,3.7267080745341614,9.836065573770492,7.0588235294117645,2.464788732394366,9.375,16.666666666666668,3.5483870967741935,9.836065573770492,10.909090909090908,5.780346820809249,5.164319248826291,13.20754716981132,12.345679012345679,2.1739130434782608,6.349206349206349,6.122448979591836,6.0606060606060606,10.714285714285714,10.638297872340425,6.666666666666667,2.843601895734597,14.285714285714286,7.317073170731708,8.333333333333334,4.0,5.825242718446602,7.854984894259819,17.741935483870968,2.608695652173913,8.108108108108109,6.315789473684211,33.333333333333336,8.910891089108912,3.3707865168539324,11.11111111111111,6.0,3.389830508474576,5.970149253731344,42.857142857142854],\"yaxis\":\"y\",\"type\":\"histogram\"},{\"alignmentgroup\":\"True\",\"bingroup\":\"x\",\"histfunc\":\"sum\",\"hovertemplate\":\"name=burgerking\\u003cbr\\u003eprovince=%{x}\\u003cbr\\u003esum of Percentage=%{y}\\u003cextra\\u003e\\u003c\\u002fextra\\u003e\",\"legendgroup\":\"burgerking\",\"marker\":{\"color\":\"#EF553B\",\"pattern\":{\"shape\":\"\"}},\"name\":\"burgerking\",\"offsetgroup\":\"burgerking\",\"orientation\":\"v\",\"showlegend\":true,\"x\":[\"AK\",\"AL\",\"AR\",\"AZ\",\"CA\",\"CO\",\"DE\",\"FL\",\"GA\",\"HI\",\"IA\",\"ID\",\"IL\",\"IN\",\"KS\",\"KY\",\"LA\",\"MD\",\"MI\",\"MN\",\"MO\",\"MS\",\"MT\",\"NC\",\"NE\",\"NM\",\"NV\",\"NY\",\"OH\",\"OK\",\"OR\",\"PA\",\"SC\",\"SD\",\"TN\",\"TX\",\"UT\",\"VA\",\"WA\",\"WI\",\"WV\"],\"xaxis\":\"x\",\"y\":[3.3333333333333335,12.422360248447205,9.836065573770492,12.941176470588236,11.971830985915492,10.9375,16.666666666666668,10.96774193548387,9.836065573770492,4.0,3.6363636363636362,24.0,14.45086705202312,10.328638497652582,9.433962264150944,9.876543209876543,17.391304347826086,12.698412698412698,17.687074829931973,15.151515151515152,9.821428571428571,14.893617021276595,6.666666666666667,5.687203791469194,17.073170731707318,13.88888888888889,14.0,14.563106796116505,6.042296072507553,4.838709677419355,8.695652173913043,12.612612612612613,9.473684210526315,22.22222222222222,15.841584158415841,12.359550561797754,13.88888888888889,10.526315789473685,4.0,15.254237288135593,8.955223880597014],\"yaxis\":\"y\",\"type\":\"histogram\"},{\"alignmentgroup\":\"True\",\"bingroup\":\"x\",\"histfunc\":\"sum\",\"hovertemplate\":\"name=kfc\\u003cbr\\u003eprovince=%{x}\\u003cbr\\u003esum of Percentage=%{y}\\u003cextra\\u003e\\u003c\\u002fextra\\u003e\",\"legendgroup\":\"kfc\",\"marker\":{\"color\":\"#00cc96\",\"pattern\":{\"shape\":\"\"}},\"name\":\"kfc\",\"offsetgroup\":\"kfc\",\"orientation\":\"v\",\"showlegend\":true,\"x\":[\"AK\",\"AL\",\"AR\",\"AZ\",\"CA\",\"CO\",\"DE\",\"FL\",\"GA\",\"HI\",\"IA\",\"ID\",\"IL\",\"IN\",\"KS\",\"LA\",\"MD\",\"MI\",\"MN\",\"MO\",\"MS\",\"NC\",\"NE\",\"NM\",\"NV\",\"NY\",\"OH\",\"OK\",\"OR\",\"PA\",\"SC\",\"SD\",\"TN\",\"TX\",\"UT\",\"VA\",\"WA\",\"WI\",\"WV\"],\"xaxis\":\"x\",\"y\":[10.0,17.391304347826086,11.475409836065573,10.588235294117647,13.028169014084508,7.8125,8.333333333333334,14.838709677419354,7.377049180327869,4.0,9.090909090909092,12.0,8.092485549132949,14.084507042253522,9.433962264150944,3.260869565217391,3.1746031746031744,7.482993197278912,6.0606060606060606,4.464285714285714,8.51063829787234,20.379146919431278,14.634146341463415,8.333333333333334,6.0,4.854368932038835,10.574018126888218,8.064516129032258,12.173913043478262,7.207207207207207,9.473684210526315,11.11111111111111,12.871287128712872,5.617977528089888,2.7777777777777777,11.403508771929825,17.0,10.169491525423728,16.417910447761194],\"yaxis\":\"y\",\"type\":\"histogram\"},{\"alignmentgroup\":\"True\",\"bingroup\":\"x\",\"histfunc\":\"sum\",\"hovertemplate\":\"name=mcdonalds\\u003cbr\\u003eprovince=%{x}\\u003cbr\\u003esum of Percentage=%{y}\\u003cextra\\u003e\\u003c\\u002fextra\\u003e\",\"legendgroup\":\"mcdonalds\",\"marker\":{\"color\":\"#ab63fa\",\"pattern\":{\"shape\":\"\"}},\"name\":\"mcdonalds\",\"offsetgroup\":\"mcdonalds\",\"orientation\":\"v\",\"showlegend\":true,\"x\":[\"AK\",\"AL\",\"AR\",\"AZ\",\"CA\",\"CO\",\"DC\",\"DE\",\"FL\",\"GA\",\"HI\",\"IA\",\"ID\",\"IL\",\"IN\",\"KS\",\"KY\",\"LA\",\"MD\",\"MI\",\"MN\",\"MO\",\"MS\",\"MT\",\"NC\",\"ND\",\"NE\",\"NM\",\"NV\",\"NY\",\"OH\",\"OK\",\"OR\",\"PA\",\"SC\",\"TN\",\"TX\",\"UT\",\"VA\",\"WA\",\"WI\",\"WV\",\"WY\"],\"xaxis\":\"x\",\"y\":[13.333333333333334,21.73913043478261,18.0327868852459,37.64705882352941,25.35211267605634,21.875,50.0,16.666666666666668,20.64516129032258,32.78688524590164,48.0,27.272727272727273,8.0,24.277456647398843,13.615023474178404,26.41509433962264,30.864197530864196,23.91304347826087,28.571428571428573,28.571428571428573,27.272727272727273,22.321428571428573,25.53191489361702,26.666666666666668,16.113744075829384,14.285714285714286,12.195121951219512,16.666666666666668,22.0,32.03883495145631,15.105740181268882,20.967741935483872,20.0,25.225225225225227,16.842105263157894,18.81188118811881,30.337078651685392,19.444444444444443,26.31578947368421,17.0,28.8135593220339,11.940298507462687,14.285714285714286],\"yaxis\":\"y\",\"type\":\"histogram\"},{\"alignmentgroup\":\"True\",\"bingroup\":\"x\",\"histfunc\":\"sum\",\"hovertemplate\":\"name=subway\\u003cbr\\u003eprovince=%{x}\\u003cbr\\u003esum of Percentage=%{y}\\u003cextra\\u003e\\u003c\\u002fextra\\u003e\",\"legendgroup\":\"subway\",\"marker\":{\"color\":\"#FFA15A\",\"pattern\":{\"shape\":\"\"}},\"name\":\"subway\",\"offsetgroup\":\"subway\",\"orientation\":\"v\",\"showlegend\":true,\"x\":[\"AK\",\"AL\",\"AR\",\"AZ\",\"CA\",\"CO\",\"DC\",\"DE\",\"FL\",\"GA\",\"HI\",\"IA\",\"ID\",\"IL\",\"IN\",\"KS\",\"KY\",\"LA\",\"MD\",\"MI\",\"MN\",\"MO\",\"MS\",\"MT\",\"NC\",\"ND\",\"NE\",\"NM\",\"NV\",\"NY\",\"OH\",\"OK\",\"OR\",\"PA\",\"SC\",\"SD\",\"TN\",\"TX\",\"UT\",\"VA\",\"WA\",\"WI\",\"WV\",\"WY\"],\"xaxis\":\"x\",\"y\":[50.0,34.161490683229815,21.311475409836067,16.470588235294116,26.760563380281692,17.1875,50.0,16.666666666666668,25.483870967741936,17.21311475409836,36.0,25.454545454545453,24.0,22.54335260115607,37.08920187793427,24.528301886792452,22.22222222222222,30.434782608695652,30.158730158730158,18.367346938775512,27.272727272727273,25.892857142857142,19.148936170212767,33.333333333333336,37.44075829383886,42.857142857142854,31.70731707317073,19.444444444444443,34.0,21.359223300970875,43.202416918429,17.741935483870968,44.34782608695652,23.423423423423422,38.94736842105263,33.333333333333336,27.722772277227723,27.528089887640448,13.88888888888889,33.333333333333336,39.0,30.508474576271187,38.80597014925373,28.571428571428573],\"yaxis\":\"y\",\"type\":\"histogram\"},{\"alignmentgroup\":\"True\",\"bingroup\":\"x\",\"histfunc\":\"sum\",\"hovertemplate\":\"name=tacobell\\u003cbr\\u003eprovince=%{x}\\u003cbr\\u003esum of Percentage=%{y}\\u003cextra\\u003e\\u003c\\u002fextra\\u003e\",\"legendgroup\":\"tacobell\",\"marker\":{\"color\":\"#19d3f3\",\"pattern\":{\"shape\":\"\"}},\"name\":\"tacobell\",\"offsetgroup\":\"tacobell\",\"orientation\":\"v\",\"showlegend\":true,\"x\":[\"AK\",\"AL\",\"AR\",\"AZ\",\"CA\",\"CO\",\"DE\",\"FL\",\"GA\",\"HI\",\"IA\",\"ID\",\"IL\",\"IN\",\"KS\",\"KY\",\"LA\",\"MD\",\"MI\",\"MN\",\"MO\",\"MS\",\"MT\",\"NC\",\"NE\",\"NM\",\"NV\",\"NY\",\"OH\",\"OK\",\"OR\",\"PA\",\"SC\",\"TN\",\"TX\",\"UT\",\"VA\",\"WA\",\"WI\",\"WV\",\"WY\"],\"xaxis\":\"x\",\"y\":[16.666666666666668,6.832298136645963,19.672131147540984,10.588235294117647,16.549295774647888,18.75,16.666666666666668,13.225806451612904,12.295081967213115,8.0,10.909090909090908,28.0,13.294797687861271,12.67605633802817,9.433962264150944,13.580246913580247,16.304347826086957,9.523809523809524,12.92517006802721,15.151515151515152,19.642857142857142,12.76595744680851,13.333333333333334,10.42654028436019,12.195121951219512,25.0,12.0,10.679611650485437,9.667673716012084,25.806451612903224,9.565217391304348,10.81081081081081,13.68421052631579,12.871287128712872,13.48314606741573,19.444444444444443,8.771929824561404,11.0,11.864406779661017,13.432835820895523,14.285714285714286],\"yaxis\":\"y\",\"type\":\"histogram\"},{\"alignmentgroup\":\"True\",\"bingroup\":\"x\",\"histfunc\":\"sum\",\"hovertemplate\":\"name=wendys\\u003cbr\\u003eprovince=%{x}\\u003cbr\\u003esum of Percentage=%{y}\\u003cextra\\u003e\\u003c\\u002fextra\\u003e\",\"legendgroup\":\"wendys\",\"marker\":{\"color\":\"#FF6692\",\"pattern\":{\"shape\":\"\"}},\"name\":\"wendys\",\"offsetgroup\":\"wendys\",\"orientation\":\"v\",\"showlegend\":true,\"x\":[\"AK\",\"AL\",\"AR\",\"AZ\",\"CA\",\"CO\",\"DE\",\"FL\",\"GA\",\"IA\",\"ID\",\"IL\",\"IN\",\"KS\",\"KY\",\"LA\",\"MD\",\"MI\",\"MN\",\"MO\",\"MS\",\"MT\",\"NC\",\"ND\",\"NE\",\"NM\",\"NV\",\"NY\",\"OH\",\"OK\",\"OR\",\"PA\",\"SC\",\"TN\",\"TX\",\"UT\",\"VA\",\"WA\",\"WV\"],\"xaxis\":\"x\",\"y\":[3.3333333333333335,3.7267080745341614,9.836065573770492,4.705882352941177,3.8732394366197185,14.0625,8.333333333333334,11.290322580645162,10.655737704918034,12.727272727272727,4.0,11.560693641618498,7.042253521126761,7.547169811320755,11.11111111111111,6.521739130434782,9.523809523809524,8.843537414965986,3.0303030303030303,7.142857142857143,8.51063829787234,13.333333333333334,7.109004739336493,28.571428571428573,4.878048780487805,8.333333333333334,8.0,10.679611650485437,7.552870090634441,4.838709677419355,2.608695652173913,12.612612612612613,5.2631578947368425,2.9702970297029703,7.303370786516854,19.444444444444443,9.649122807017545,6.0,4.477611940298507],\"yaxis\":\"y\",\"type\":\"histogram\"}],                        {\"template\":{\"data\":{\"histogram2dcontour\":[{\"type\":\"histogram2dcontour\",\"colorbar\":{\"outlinewidth\":0,\"ticks\":\"\"},\"colorscale\":[[0.0,\"#0d0887\"],[0.1111111111111111,\"#46039f\"],[0.2222222222222222,\"#7201a8\"],[0.3333333333333333,\"#9c179e\"],[0.4444444444444444,\"#bd3786\"],[0.5555555555555556,\"#d8576b\"],[0.6666666666666666,\"#ed7953\"],[0.7777777777777778,\"#fb9f3a\"],[0.8888888888888888,\"#fdca26\"],[1.0,\"#f0f921\"]]}],\"choropleth\":[{\"type\":\"choropleth\",\"colorbar\":{\"outlinewidth\":0,\"ticks\":\"\"}}],\"histogram2d\":[{\"type\":\"histogram2d\",\"colorbar\":{\"outlinewidth\":0,\"ticks\":\"\"},\"colorscale\":[[0.0,\"#0d0887\"],[0.1111111111111111,\"#46039f\"],[0.2222222222222222,\"#7201a8\"],[0.3333333333333333,\"#9c179e\"],[0.4444444444444444,\"#bd3786\"],[0.5555555555555556,\"#d8576b\"],[0.6666666666666666,\"#ed7953\"],[0.7777777777777778,\"#fb9f3a\"],[0.8888888888888888,\"#fdca26\"],[1.0,\"#f0f921\"]]}],\"heatmap\":[{\"type\":\"heatmap\",\"colorbar\":{\"outlinewidth\":0,\"ticks\":\"\"},\"colorscale\":[[0.0,\"#0d0887\"],[0.1111111111111111,\"#46039f\"],[0.2222222222222222,\"#7201a8\"],[0.3333333333333333,\"#9c179e\"],[0.4444444444444444,\"#bd3786\"],[0.5555555555555556,\"#d8576b\"],[0.6666666666666666,\"#ed7953\"],[0.7777777777777778,\"#fb9f3a\"],[0.8888888888888888,\"#fdca26\"],[1.0,\"#f0f921\"]]}],\"heatmapgl\":[{\"type\":\"heatmapgl\",\"colorbar\":{\"outlinewidth\":0,\"ticks\":\"\"},\"colorscale\":[[0.0,\"#0d0887\"],[0.1111111111111111,\"#46039f\"],[0.2222222222222222,\"#7201a8\"],[0.3333333333333333,\"#9c179e\"],[0.4444444444444444,\"#bd3786\"],[0.5555555555555556,\"#d8576b\"],[0.6666666666666666,\"#ed7953\"],[0.7777777777777778,\"#fb9f3a\"],[0.8888888888888888,\"#fdca26\"],[1.0,\"#f0f921\"]]}],\"contourcarpet\":[{\"type\":\"contourcarpet\",\"colorbar\":{\"outlinewidth\":0,\"ticks\":\"\"}}],\"contour\":[{\"type\":\"contour\",\"colorbar\":{\"outlinewidth\":0,\"ticks\":\"\"},\"colorscale\":[[0.0,\"#0d0887\"],[0.1111111111111111,\"#46039f\"],[0.2222222222222222,\"#7201a8\"],[0.3333333333333333,\"#9c179e\"],[0.4444444444444444,\"#bd3786\"],[0.5555555555555556,\"#d8576b\"],[0.6666666666666666,\"#ed7953\"],[0.7777777777777778,\"#fb9f3a\"],[0.8888888888888888,\"#fdca26\"],[1.0,\"#f0f921\"]]}],\"surface\":[{\"type\":\"surface\",\"colorbar\":{\"outlinewidth\":0,\"ticks\":\"\"},\"colorscale\":[[0.0,\"#0d0887\"],[0.1111111111111111,\"#46039f\"],[0.2222222222222222,\"#7201a8\"],[0.3333333333333333,\"#9c179e\"],[0.4444444444444444,\"#bd3786\"],[0.5555555555555556,\"#d8576b\"],[0.6666666666666666,\"#ed7953\"],[0.7777777777777778,\"#fb9f3a\"],[0.8888888888888888,\"#fdca26\"],[1.0,\"#f0f921\"]]}],\"mesh3d\":[{\"type\":\"mesh3d\",\"colorbar\":{\"outlinewidth\":0,\"ticks\":\"\"}}],\"scatter\":[{\"fillpattern\":{\"fillmode\":\"overlay\",\"size\":10,\"solidity\":0.2},\"type\":\"scatter\"}],\"parcoords\":[{\"type\":\"parcoords\",\"line\":{\"colorbar\":{\"outlinewidth\":0,\"ticks\":\"\"}}}],\"scatterpolargl\":[{\"type\":\"scatterpolargl\",\"marker\":{\"colorbar\":{\"outlinewidth\":0,\"ticks\":\"\"}}}],\"bar\":[{\"error_x\":{\"color\":\"#2a3f5f\"},\"error_y\":{\"color\":\"#2a3f5f\"},\"marker\":{\"line\":{\"color\":\"#E5ECF6\",\"width\":0.5},\"pattern\":{\"fillmode\":\"overlay\",\"size\":10,\"solidity\":0.2}},\"type\":\"bar\"}],\"scattergeo\":[{\"type\":\"scattergeo\",\"marker\":{\"colorbar\":{\"outlinewidth\":0,\"ticks\":\"\"}}}],\"scatterpolar\":[{\"type\":\"scatterpolar\",\"marker\":{\"colorbar\":{\"outlinewidth\":0,\"ticks\":\"\"}}}],\"histogram\":[{\"marker\":{\"pattern\":{\"fillmode\":\"overlay\",\"size\":10,\"solidity\":0.2}},\"type\":\"histogram\"}],\"scattergl\":[{\"type\":\"scattergl\",\"marker\":{\"colorbar\":{\"outlinewidth\":0,\"ticks\":\"\"}}}],\"scatter3d\":[{\"type\":\"scatter3d\",\"line\":{\"colorbar\":{\"outlinewidth\":0,\"ticks\":\"\"}},\"marker\":{\"colorbar\":{\"outlinewidth\":0,\"ticks\":\"\"}}}],\"scattermapbox\":[{\"type\":\"scattermapbox\",\"marker\":{\"colorbar\":{\"outlinewidth\":0,\"ticks\":\"\"}}}],\"scatterternary\":[{\"type\":\"scatterternary\",\"marker\":{\"colorbar\":{\"outlinewidth\":0,\"ticks\":\"\"}}}],\"scattercarpet\":[{\"type\":\"scattercarpet\",\"marker\":{\"colorbar\":{\"outlinewidth\":0,\"ticks\":\"\"}}}],\"carpet\":[{\"aaxis\":{\"endlinecolor\":\"#2a3f5f\",\"gridcolor\":\"white\",\"linecolor\":\"white\",\"minorgridcolor\":\"white\",\"startlinecolor\":\"#2a3f5f\"},\"baxis\":{\"endlinecolor\":\"#2a3f5f\",\"gridcolor\":\"white\",\"linecolor\":\"white\",\"minorgridcolor\":\"white\",\"startlinecolor\":\"#2a3f5f\"},\"type\":\"carpet\"}],\"table\":[{\"cells\":{\"fill\":{\"color\":\"#EBF0F8\"},\"line\":{\"color\":\"white\"}},\"header\":{\"fill\":{\"color\":\"#C8D4E3\"},\"line\":{\"color\":\"white\"}},\"type\":\"table\"}],\"barpolar\":[{\"marker\":{\"line\":{\"color\":\"#E5ECF6\",\"width\":0.5},\"pattern\":{\"fillmode\":\"overlay\",\"size\":10,\"solidity\":0.2}},\"type\":\"barpolar\"}],\"pie\":[{\"automargin\":true,\"type\":\"pie\"}]},\"layout\":{\"autotypenumbers\":\"strict\",\"colorway\":[\"#636efa\",\"#EF553B\",\"#00cc96\",\"#ab63fa\",\"#FFA15A\",\"#19d3f3\",\"#FF6692\",\"#B6E880\",\"#FF97FF\",\"#FECB52\"],\"font\":{\"color\":\"#2a3f5f\"},\"hovermode\":\"closest\",\"hoverlabel\":{\"align\":\"left\"},\"paper_bgcolor\":\"white\",\"plot_bgcolor\":\"#E5ECF6\",\"polar\":{\"bgcolor\":\"#E5ECF6\",\"angularaxis\":{\"gridcolor\":\"white\",\"linecolor\":\"white\",\"ticks\":\"\"},\"radialaxis\":{\"gridcolor\":\"white\",\"linecolor\":\"white\",\"ticks\":\"\"}},\"ternary\":{\"bgcolor\":\"#E5ECF6\",\"aaxis\":{\"gridcolor\":\"white\",\"linecolor\":\"white\",\"ticks\":\"\"},\"baxis\":{\"gridcolor\":\"white\",\"linecolor\":\"white\",\"ticks\":\"\"},\"caxis\":{\"gridcolor\":\"white\",\"linecolor\":\"white\",\"ticks\":\"\"}},\"coloraxis\":{\"colorbar\":{\"outlinewidth\":0,\"ticks\":\"\"}},\"colorscale\":{\"sequential\":[[0.0,\"#0d0887\"],[0.1111111111111111,\"#46039f\"],[0.2222222222222222,\"#7201a8\"],[0.3333333333333333,\"#9c179e\"],[0.4444444444444444,\"#bd3786\"],[0.5555555555555556,\"#d8576b\"],[0.6666666666666666,\"#ed7953\"],[0.7777777777777778,\"#fb9f3a\"],[0.8888888888888888,\"#fdca26\"],[1.0,\"#f0f921\"]],\"sequentialminus\":[[0.0,\"#0d0887\"],[0.1111111111111111,\"#46039f\"],[0.2222222222222222,\"#7201a8\"],[0.3333333333333333,\"#9c179e\"],[0.4444444444444444,\"#bd3786\"],[0.5555555555555556,\"#d8576b\"],[0.6666666666666666,\"#ed7953\"],[0.7777777777777778,\"#fb9f3a\"],[0.8888888888888888,\"#fdca26\"],[1.0,\"#f0f921\"]],\"diverging\":[[0,\"#8e0152\"],[0.1,\"#c51b7d\"],[0.2,\"#de77ae\"],[0.3,\"#f1b6da\"],[0.4,\"#fde0ef\"],[0.5,\"#f7f7f7\"],[0.6,\"#e6f5d0\"],[0.7,\"#b8e186\"],[0.8,\"#7fbc41\"],[0.9,\"#4d9221\"],[1,\"#276419\"]]},\"xaxis\":{\"gridcolor\":\"white\",\"linecolor\":\"white\",\"ticks\":\"\",\"title\":{\"standoff\":15},\"zerolinecolor\":\"white\",\"automargin\":true,\"zerolinewidth\":2},\"yaxis\":{\"gridcolor\":\"white\",\"linecolor\":\"white\",\"ticks\":\"\",\"title\":{\"standoff\":15},\"zerolinecolor\":\"white\",\"automargin\":true,\"zerolinewidth\":2},\"scene\":{\"xaxis\":{\"backgroundcolor\":\"#E5ECF6\",\"gridcolor\":\"white\",\"linecolor\":\"white\",\"showbackground\":true,\"ticks\":\"\",\"zerolinecolor\":\"white\",\"gridwidth\":2},\"yaxis\":{\"backgroundcolor\":\"#E5ECF6\",\"gridcolor\":\"white\",\"linecolor\":\"white\",\"showbackground\":true,\"ticks\":\"\",\"zerolinecolor\":\"white\",\"gridwidth\":2},\"zaxis\":{\"backgroundcolor\":\"#E5ECF6\",\"gridcolor\":\"white\",\"linecolor\":\"white\",\"showbackground\":true,\"ticks\":\"\",\"zerolinecolor\":\"white\",\"gridwidth\":2}},\"shapedefaults\":{\"line\":{\"color\":\"#2a3f5f\"}},\"annotationdefaults\":{\"arrowcolor\":\"#2a3f5f\",\"arrowhead\":0,\"arrowwidth\":1},\"geo\":{\"bgcolor\":\"white\",\"landcolor\":\"#E5ECF6\",\"subunitcolor\":\"white\",\"showland\":true,\"showlakes\":true,\"lakecolor\":\"white\"},\"title\":{\"x\":0.05},\"mapbox\":{\"style\":\"light\"}}},\"xaxis\":{\"anchor\":\"y\",\"domain\":[0.0,1.0],\"title\":{\"text\":\"province\"}},\"yaxis\":{\"anchor\":\"x\",\"domain\":[0.0,1.0],\"title\":{\"text\":\"sum of Percentage\"}},\"legend\":{\"title\":{\"text\":\"name\"},\"tracegroupgap\":0},\"title\":{\"text\":\"Brand Penetration by State\"},\"barmode\":\"relative\"},                        {\"responsive\": true}                    ).then(function(){\n",
              "                            \n",
              "var gd = document.getElementById('a096a002-517a-4206-afcc-6b4d7b0c13e5');\n",
              "var x = new MutationObserver(function (mutations, observer) {{\n",
              "        var display = window.getComputedStyle(gd).display;\n",
              "        if (!display || display === 'none') {{\n",
              "            console.log([gd, 'removed!']);\n",
              "            Plotly.purge(gd);\n",
              "            observer.disconnect();\n",
              "        }}\n",
              "}});\n",
              "\n",
              "// Listen for the removal of the full notebook cells\n",
              "var notebookContainer = gd.closest('#notebook-container');\n",
              "if (notebookContainer) {{\n",
              "    x.observe(notebookContainer, {childList: true});\n",
              "}}\n",
              "\n",
              "// Listen for the clearing of the current output cell\n",
              "var outputEl = gd.closest('.output');\n",
              "if (outputEl) {{\n",
              "    x.observe(outputEl, {childList: true});\n",
              "}}\n",
              "\n",
              "                        })                };                            </script>        </div>\n",
              "</body>\n",
              "</html>"
            ]
          },
          "metadata": {}
        }
      ]
    },
    {
      "cell_type": "markdown",
      "source": [
        "**Observation**\n",
        "\n",
        "- Analyzing by state I learn the top markets for each brand. I observe that they are present in most of the markets.\n",
        "- In Washington, D.C. only 2 brands are present\n",
        "- For McDonalds, Washington, D.C., Hawaii and Arizona are key markets.\n",
        "- Wendys is present in all states except Wincosin, South Dakota, Wyoming and Hawaii\n",
        "- For Arbys, Wyoming and South Dakota are the key ones.\n",
        "- KFC is absent in 4 states. They are - Kentucky, Montana, North Dakota and Wyoming"
      ],
      "metadata": {
        "id": "O67NT9CuTslx"
      }
    },
    {
      "cell_type": "markdown",
      "source": [
        "# **Conclusion**"
      ],
      "metadata": {
        "id": "ViL0JSggXV1I"
      }
    },
    {
      "cell_type": "markdown",
      "source": [
        "**Market Landscape**\n",
        "\n",
        "Most of the fast food restaurants are located in South and Mid West. Further in each of the four regions few states have higher market share than others by large margin. Apart from having large urban centers, favourable business environment may also be factor for ex: lower taxes, state grants in establishing new stores, less stringent labor laws etc\n",
        "\n",
        "At National level, Ohio, Florida, California, North Carolina and Alabama are top states attracting most of the businesses\n",
        "\n",
        "**Brand Presence**\n",
        "\n",
        "Top Brands have presence in almost all geographies with Subway having more stores than others by a considerable margin. This tells us that key growth strategy for Brands has been \"Market Development\" i.e offer products/services in newer markets as a way to grow revenues\n",
        "Subway share is above 28% in all regions followed by McDonald's at 20-28%.\n",
        "Given the ubiquitous presence of brands, there is intense stiff competition in market. This creates added pressure on Brands to differentiate their product offerings which opens up opportunities for Brands to leverage their strengths while others face headwinds if they don't adapt in time. In market characterized by high volume-low margin transactions mere survival may not be best long term strategy"
      ],
      "metadata": {
        "id": "A7EafxTDXuR4"
      }
    },
    {
      "cell_type": "code",
      "source": [],
      "metadata": {
        "id": "xe7MUks4XwcZ"
      },
      "execution_count": null,
      "outputs": []
    }
  ],
  "metadata": {
    "accelerator": "TPU",
    "colab": {
      "gpuType": "V28",
      "provenance": []
    },
    "kernelspec": {
      "display_name": "Python 3",
      "name": "python3"
    },
    "language_info": {
      "name": "python"
    }
  },
  "nbformat": 4,
  "nbformat_minor": 0
}